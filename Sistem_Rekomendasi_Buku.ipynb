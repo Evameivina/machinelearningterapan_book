{
  "nbformat": 4,
  "nbformat_minor": 0,
  "metadata": {
    "colab": {
      "provenance": []
    },
    "kernelspec": {
      "name": "python3",
      "display_name": "Python 3"
    },
    "language_info": {
      "name": "python"
    }
  },
  "cells": [
    {
      "cell_type": "markdown",
      "source": [
        "# **Dataset goodbooks-10k dari Kaggle**"
      ],
      "metadata": {
        "id": "tTOZ1fqMfHpa"
      }
    },
    {
      "cell_type": "markdown",
      "source": [
        "## **Persiapan dan Import Library**\n",
        "\n",
        "Library dasar yang dipakai untuk manipulasi data (pandas, numpy), visualisasi (seaborn, matplotlib), dan pengolahan teks (TF-IDF, cosine similarity).\n",
        "\n"
      ],
      "metadata": {
        "id": "IbbzbNxteman"
      }
    },
    {
      "cell_type": "code",
      "execution_count": 201,
      "metadata": {
        "colab": {
          "base_uri": "https://localhost:8080/"
        },
        "id": "wmYIAkV9FHnN",
        "outputId": "93217800-132e-4a61-a27c-50623afa032e"
      },
      "outputs": [
        {
          "output_type": "stream",
          "name": "stdout",
          "text": [
            "Requirement already satisfied: kaggle in /usr/local/lib/python3.11/dist-packages (1.7.4.5)\n",
            "Requirement already satisfied: bleach in /usr/local/lib/python3.11/dist-packages (from kaggle) (6.2.0)\n",
            "Requirement already satisfied: certifi>=14.05.14 in /usr/local/lib/python3.11/dist-packages (from kaggle) (2025.4.26)\n",
            "Requirement already satisfied: charset-normalizer in /usr/local/lib/python3.11/dist-packages (from kaggle) (3.4.2)\n",
            "Requirement already satisfied: idna in /usr/local/lib/python3.11/dist-packages (from kaggle) (3.10)\n",
            "Requirement already satisfied: protobuf in /usr/local/lib/python3.11/dist-packages (from kaggle) (5.29.4)\n",
            "Requirement already satisfied: python-dateutil>=2.5.3 in /usr/local/lib/python3.11/dist-packages (from kaggle) (2.9.0.post0)\n",
            "Requirement already satisfied: python-slugify in /usr/local/lib/python3.11/dist-packages (from kaggle) (8.0.4)\n",
            "Requirement already satisfied: requests in /usr/local/lib/python3.11/dist-packages (from kaggle) (2.32.3)\n",
            "Requirement already satisfied: setuptools>=21.0.0 in /usr/local/lib/python3.11/dist-packages (from kaggle) (75.2.0)\n",
            "Requirement already satisfied: six>=1.10 in /usr/local/lib/python3.11/dist-packages (from kaggle) (1.17.0)\n",
            "Requirement already satisfied: text-unidecode in /usr/local/lib/python3.11/dist-packages (from kaggle) (1.3)\n",
            "Requirement already satisfied: tqdm in /usr/local/lib/python3.11/dist-packages (from kaggle) (4.67.1)\n",
            "Requirement already satisfied: urllib3>=1.15.1 in /usr/local/lib/python3.11/dist-packages (from kaggle) (2.4.0)\n",
            "Requirement already satisfied: webencodings in /usr/local/lib/python3.11/dist-packages (from kaggle) (0.5.1)\n"
          ]
        }
      ],
      "source": [
        "# Install Kaggle API untuk mengunduh dataset dari Kaggle\n",
        "!pip install kaggle"
      ]
    },
    {
      "cell_type": "code",
      "source": [
        "# === Import Library yang Dibutuhkan ===\n",
        "\n",
        "# General-purpose libraries\n",
        "import os\n",
        "import numpy as np\n",
        "import pandas as pd\n",
        "\n",
        "# Visualisasi\n",
        "import matplotlib.pyplot as plt\n",
        "import seaborn as sns\n",
        "\n",
        "# Machine Learning & Preprocessing\n",
        "from sklearn.preprocessing import LabelEncoder\n",
        "from sklearn.model_selection import train_test_split\n",
        "from sklearn.metrics import confusion_matrix, classification_report, roc_curve, auc\n",
        "from sklearn.feature_extraction.text import TfidfVectorizer\n",
        "from sklearn.metrics.pairwise import cosine_similarity\n",
        "\n",
        "# TensorFlow / Deep Learning\n",
        "import tensorflow as tf\n",
        "from tensorflow import keras\n",
        "from keras import layers"
      ],
      "metadata": {
        "id": "dwwvlfJsFOyx"
      },
      "execution_count": 349,
      "outputs": []
    },
    {
      "cell_type": "markdown",
      "source": [
        "### Setup Kaggle API\n",
        "\n",
        "Memasukkan kredensial Kaggle secara langsung di environment agar bisa akses dataset Kaggle."
      ],
      "metadata": {
        "id": "OWRp6yX0e5T4"
      }
    },
    {
      "cell_type": "code",
      "source": [
        "# Set environment variables untuk Kaggle API\n",
        "os.environ['KAGGLE_USERNAME'] = \"evameivinadwiana\"\n",
        "os.environ['KAGGLE_KEY'] = \"efbafcb258eb3a5f3033f21f925e06ef\""
      ],
      "metadata": {
        "id": "_JTPpsc3FpKS"
      },
      "execution_count": 203,
      "outputs": []
    },
    {
      "cell_type": "markdown",
      "source": [
        "### Download dan Ekstrak Dataset"
      ],
      "metadata": {
        "id": "oO2bH_K7fDmD"
      }
    },
    {
      "cell_type": "code",
      "source": [
        "# Download dataset goodbooks-10k dari Kaggle\n",
        "!kaggle datasets download zygmunt/goodbooks-10k\n",
        "\n",
        "# Extract file ZIP ke folder ./goodbooks10k (overwrite jika sudah ada)\n",
        "!unzip -o goodbooks-10k.zip -d ./goodbooks10k"
      ],
      "metadata": {
        "colab": {
          "base_uri": "https://localhost:8080/"
        },
        "id": "sMakuxfWFt_m",
        "outputId": "9e294e71-573f-4cca-e8fc-8bf49a2c6b24"
      },
      "execution_count": 204,
      "outputs": [
        {
          "output_type": "stream",
          "name": "stdout",
          "text": [
            "Dataset URL: https://www.kaggle.com/datasets/zygmunt/goodbooks-10k\n",
            "License(s): CC-BY-SA-4.0\n",
            "goodbooks-10k.zip: Skipping, found more recently modified local copy (use --force to force download)\n",
            "Archive:  goodbooks-10k.zip\n",
            "  inflating: ./goodbooks10k/book_tags.csv  \n",
            "  inflating: ./goodbooks10k/books.csv  \n",
            "  inflating: ./goodbooks10k/ratings.csv  \n",
            "  inflating: ./goodbooks10k/sample_book.xml  \n",
            "  inflating: ./goodbooks10k/tags.csv  \n",
            "  inflating: ./goodbooks10k/to_read.csv  \n"
          ]
        }
      ]
    },
    {
      "cell_type": "markdown",
      "source": [
        "# **Data Understanding**\n",
        "\n",
        "Ini tahap awal untuk memahami data secara keseluruhan, jenis data, ukuran dataset, dan struktur kolom."
      ],
      "metadata": {
        "id": "-hayUUeuF1F6"
      }
    },
    {
      "cell_type": "markdown",
      "source": [
        "### Load Dataset"
      ],
      "metadata": {
        "id": "rnRGx65Cfj5b"
      }
    },
    {
      "cell_type": "code",
      "source": [
        "# Load dataset goodbooks-10k\n",
        "books = pd.read_csv('./goodbooks10k/books.csv')\n",
        "book_tags = pd.read_csv('./goodbooks10k/book_tags.csv')\n",
        "ratings = pd.read_csv('./goodbooks10k/ratings.csv')\n",
        "tags = pd.read_csv('./goodbooks10k/tags.csv')\n",
        "to_read = pd.read_csv('./goodbooks10k/to_read.csv')"
      ],
      "metadata": {
        "id": "nu1xpefWFvAB"
      },
      "execution_count": 314,
      "outputs": []
    },
    {
      "cell_type": "markdown",
      "source": [
        "#### Mengecek Kolom dan Ukuran Dataset\n",
        "\n",
        "Memeriksa jumlah entri di setiap dataset untuk mengetahui skala dan cakupan data. Juga memastikan kolom yang akan dipakai sudah benar."
      ],
      "metadata": {
        "id": "Tspo0DSUfsIQ"
      }
    },
    {
      "cell_type": "code",
      "source": [
        "# Tampilkan kolom dari book_tags untuk memastikan nama kolom yang benar\n",
        "print(book_tags.columns)\n",
        "\n",
        "# Informasi ringkas jumlah data di setiap dataset\n",
        "print('Jumlah buku:', len(books))\n",
        "print('Jumlah tag buku:', len(book_tags['goodreads_book_id'].unique())) # Assuming 'goodreads_book_id' is the correct column name based on common Kaggle datasets. Adjust if necessary.\n",
        "print('Jumlah penilaian pengguna:', len(ratings))\n",
        "print('Jumlah pengguna yang memberikan rating:', len(ratings.user_id.unique()))\n",
        "print('Jumlah tag yang tersedia:', len(tags))\n",
        "print('Jumlah daftar buku yang akan dibaca:', len(to_read))"
      ],
      "metadata": {
        "colab": {
          "base_uri": "https://localhost:8080/"
        },
        "id": "rOCP9X35fp7l",
        "outputId": "68aaadf1-c4a6-4023-a8b0-4260f2f93e2c"
      },
      "execution_count": 316,
      "outputs": [
        {
          "output_type": "stream",
          "name": "stdout",
          "text": [
            "Index(['goodreads_book_id', 'tag_id', 'count'], dtype='object')\n",
            "Jumlah buku: 10000\n",
            "Jumlah tag buku: 10000\n",
            "Jumlah penilaian pengguna: 981756\n",
            "Jumlah pengguna yang memberikan rating: 53424\n",
            "Jumlah tag yang tersedia: 34252\n",
            "Jumlah daftar buku yang akan dibaca: 912705\n"
          ]
        }
      ]
    },
    {
      "cell_type": "markdown",
      "source": [
        "#### Preview Contoh Data\n",
        "\n",
        "Melihat sekilas bentuk data, jenis kolom, dan nilai data pada dataset utama."
      ],
      "metadata": {
        "id": "eJe1bE5jf8p6"
      }
    },
    {
      "cell_type": "code",
      "source": [
        "# Menampilkan beberapa baris awal dari dataset books dan ratings\n",
        "print('\\nContoh data buku:')\n",
        "print(books.head())\n",
        "\n",
        "print('\\nContoh data rating:')\n",
        "print(ratings.head())"
      ],
      "metadata": {
        "colab": {
          "base_uri": "https://localhost:8080/"
        },
        "id": "r3hKxtbPGPVT",
        "outputId": "08d34f55-8f3c-4d45-91ff-057dd9c654c7"
      },
      "execution_count": 206,
      "outputs": [
        {
          "output_type": "stream",
          "name": "stdout",
          "text": [
            "\n",
            "Contoh data buku:\n",
            "   id  book_id  best_book_id  work_id  books_count       isbn        isbn13  \\\n",
            "0   1  2767052       2767052  2792775          272  439023483  9.780439e+12   \n",
            "1   2        3             3  4640799          491  439554934  9.780440e+12   \n",
            "2   3    41865         41865  3212258          226  316015849  9.780316e+12   \n",
            "3   4     2657          2657  3275794          487   61120081  9.780061e+12   \n",
            "4   5     4671          4671   245494         1356  743273567  9.780743e+12   \n",
            "\n",
            "                       authors  original_publication_year  \\\n",
            "0              Suzanne Collins                     2008.0   \n",
            "1  J.K. Rowling, Mary GrandPré                     1997.0   \n",
            "2              Stephenie Meyer                     2005.0   \n",
            "3                   Harper Lee                     1960.0   \n",
            "4          F. Scott Fitzgerald                     1925.0   \n",
            "\n",
            "                             original_title  ... ratings_count  \\\n",
            "0                          The Hunger Games  ...       4780653   \n",
            "1  Harry Potter and the Philosopher's Stone  ...       4602479   \n",
            "2                                  Twilight  ...       3866839   \n",
            "3                     To Kill a Mockingbird  ...       3198671   \n",
            "4                          The Great Gatsby  ...       2683664   \n",
            "\n",
            "  work_ratings_count  work_text_reviews_count  ratings_1  ratings_2  \\\n",
            "0            4942365                   155254      66715     127936   \n",
            "1            4800065                    75867      75504     101676   \n",
            "2            3916824                    95009     456191     436802   \n",
            "3            3340896                    72586      60427     117415   \n",
            "4            2773745                    51992      86236     197621   \n",
            "\n",
            "   ratings_3  ratings_4  ratings_5  \\\n",
            "0     560092    1481305    2706317   \n",
            "1     455024    1156318    3011543   \n",
            "2     793319     875073    1355439   \n",
            "3     446835    1001952    1714267   \n",
            "4     606158     936012     947718   \n",
            "\n",
            "                                           image_url  \\\n",
            "0  https://images.gr-assets.com/books/1447303603m...   \n",
            "1  https://images.gr-assets.com/books/1474154022m...   \n",
            "2  https://images.gr-assets.com/books/1361039443m...   \n",
            "3  https://images.gr-assets.com/books/1361975680m...   \n",
            "4  https://images.gr-assets.com/books/1490528560m...   \n",
            "\n",
            "                                     small_image_url  \n",
            "0  https://images.gr-assets.com/books/1447303603s...  \n",
            "1  https://images.gr-assets.com/books/1474154022s...  \n",
            "2  https://images.gr-assets.com/books/1361039443s...  \n",
            "3  https://images.gr-assets.com/books/1361975680s...  \n",
            "4  https://images.gr-assets.com/books/1490528560s...  \n",
            "\n",
            "[5 rows x 23 columns]\n",
            "\n",
            "Contoh data rating:\n",
            "   book_id  user_id  rating\n",
            "0        1      314       5\n",
            "1        1      439       3\n",
            "2        1      588       5\n",
            "3        1     1169       4\n",
            "4        1     1185       4\n"
          ]
        }
      ]
    },
    {
      "cell_type": "markdown",
      "source": [
        "### Informasi Detail dan Statistik Deskriptif\n",
        "\n",
        "*info()* untuk mengetahui tipe data dan jumlah data null (jika ada).*describe()* memberikan ringkasan statistik seperti mean, std, min, max untuk kolom numerik. Ini membantu kita memahami distribusi dan karakteristik data."
      ],
      "metadata": {
        "id": "7qZhEAClgSl2"
      }
    },
    {
      "cell_type": "code",
      "source": [
        "print(\"===== BOOKS =====\")\n",
        "books.info()\n",
        "print(\"\\nDeskripsi Statistik:\")\n",
        "print(books.describe())\n",
        "print(\"\\nContoh Data:\")\n",
        "print(books.head())"
      ],
      "metadata": {
        "colab": {
          "base_uri": "https://localhost:8080/"
        },
        "id": "SDC4D-jAGjdx",
        "outputId": "f9f522e8-f827-4f4e-b949-1cc16733ab31"
      },
      "execution_count": 207,
      "outputs": [
        {
          "output_type": "stream",
          "name": "stdout",
          "text": [
            "===== BOOKS =====\n",
            "<class 'pandas.core.frame.DataFrame'>\n",
            "RangeIndex: 10000 entries, 0 to 9999\n",
            "Data columns (total 23 columns):\n",
            " #   Column                     Non-Null Count  Dtype  \n",
            "---  ------                     --------------  -----  \n",
            " 0   id                         10000 non-null  int64  \n",
            " 1   book_id                    10000 non-null  int64  \n",
            " 2   best_book_id               10000 non-null  int64  \n",
            " 3   work_id                    10000 non-null  int64  \n",
            " 4   books_count                10000 non-null  int64  \n",
            " 5   isbn                       9300 non-null   object \n",
            " 6   isbn13                     9415 non-null   float64\n",
            " 7   authors                    10000 non-null  object \n",
            " 8   original_publication_year  9979 non-null   float64\n",
            " 9   original_title             9415 non-null   object \n",
            " 10  title                      10000 non-null  object \n",
            " 11  language_code              8916 non-null   object \n",
            " 12  average_rating             10000 non-null  float64\n",
            " 13  ratings_count              10000 non-null  int64  \n",
            " 14  work_ratings_count         10000 non-null  int64  \n",
            " 15  work_text_reviews_count    10000 non-null  int64  \n",
            " 16  ratings_1                  10000 non-null  int64  \n",
            " 17  ratings_2                  10000 non-null  int64  \n",
            " 18  ratings_3                  10000 non-null  int64  \n",
            " 19  ratings_4                  10000 non-null  int64  \n",
            " 20  ratings_5                  10000 non-null  int64  \n",
            " 21  image_url                  10000 non-null  object \n",
            " 22  small_image_url            10000 non-null  object \n",
            "dtypes: float64(3), int64(13), object(7)\n",
            "memory usage: 1.8+ MB\n",
            "\n",
            "Deskripsi Statistik:\n",
            "                id       book_id  best_book_id       work_id   books_count  \\\n",
            "count  10000.00000  1.000000e+04  1.000000e+04  1.000000e+04  10000.000000   \n",
            "mean    5000.50000  5.264697e+06  5.471214e+06  8.646183e+06     75.712700   \n",
            "std     2886.89568  7.575462e+06  7.827330e+06  1.175106e+07    170.470728   \n",
            "min        1.00000  1.000000e+00  1.000000e+00  8.700000e+01      1.000000   \n",
            "25%     2500.75000  4.627575e+04  4.791175e+04  1.008841e+06     23.000000   \n",
            "50%     5000.50000  3.949655e+05  4.251235e+05  2.719524e+06     40.000000   \n",
            "75%     7500.25000  9.382225e+06  9.636112e+06  1.451775e+07     67.000000   \n",
            "max    10000.00000  3.328864e+07  3.553423e+07  5.639960e+07   3455.000000   \n",
            "\n",
            "             isbn13  original_publication_year  average_rating  ratings_count  \\\n",
            "count  9.415000e+03                9979.000000    10000.000000   1.000000e+04   \n",
            "mean   9.755044e+12                1981.987674        4.002191   5.400124e+04   \n",
            "std    4.428619e+11                 152.576665        0.254427   1.573700e+05   \n",
            "min    1.951703e+08               -1750.000000        2.470000   2.716000e+03   \n",
            "25%    9.780316e+12                1990.000000        3.850000   1.356875e+04   \n",
            "50%    9.780452e+12                2004.000000        4.020000   2.115550e+04   \n",
            "75%    9.780831e+12                2011.000000        4.180000   4.105350e+04   \n",
            "max    9.790008e+12                2017.000000        4.820000   4.780653e+06   \n",
            "\n",
            "       work_ratings_count  work_text_reviews_count      ratings_1  \\\n",
            "count        1.000000e+04             10000.000000   10000.000000   \n",
            "mean         5.968732e+04              2919.955300    1345.040600   \n",
            "std          1.678038e+05              6124.378132    6635.626263   \n",
            "min          5.510000e+03                 3.000000      11.000000   \n",
            "25%          1.543875e+04               694.000000     196.000000   \n",
            "50%          2.383250e+04              1402.000000     391.000000   \n",
            "75%          4.591500e+04              2744.250000     885.000000   \n",
            "max          4.942365e+06            155254.000000  456191.000000   \n",
            "\n",
            "           ratings_2      ratings_3     ratings_4     ratings_5  \n",
            "count   10000.000000   10000.000000  1.000000e+04  1.000000e+04  \n",
            "mean     3110.885000   11475.893800  1.996570e+04  2.378981e+04  \n",
            "std      9717.123578   28546.449183  5.144736e+04  7.976889e+04  \n",
            "min        30.000000     323.000000  7.500000e+02  7.540000e+02  \n",
            "25%       656.000000    3112.000000  5.405750e+03  5.334000e+03  \n",
            "50%      1163.000000    4894.000000  8.269500e+03  8.836000e+03  \n",
            "75%      2353.250000    9287.000000  1.602350e+04  1.730450e+04  \n",
            "max    436802.000000  793319.000000  1.481305e+06  3.011543e+06  \n",
            "\n",
            "Contoh Data:\n",
            "   id  book_id  best_book_id  work_id  books_count       isbn        isbn13  \\\n",
            "0   1  2767052       2767052  2792775          272  439023483  9.780439e+12   \n",
            "1   2        3             3  4640799          491  439554934  9.780440e+12   \n",
            "2   3    41865         41865  3212258          226  316015849  9.780316e+12   \n",
            "3   4     2657          2657  3275794          487   61120081  9.780061e+12   \n",
            "4   5     4671          4671   245494         1356  743273567  9.780743e+12   \n",
            "\n",
            "                       authors  original_publication_year  \\\n",
            "0              Suzanne Collins                     2008.0   \n",
            "1  J.K. Rowling, Mary GrandPré                     1997.0   \n",
            "2              Stephenie Meyer                     2005.0   \n",
            "3                   Harper Lee                     1960.0   \n",
            "4          F. Scott Fitzgerald                     1925.0   \n",
            "\n",
            "                             original_title  ... ratings_count  \\\n",
            "0                          The Hunger Games  ...       4780653   \n",
            "1  Harry Potter and the Philosopher's Stone  ...       4602479   \n",
            "2                                  Twilight  ...       3866839   \n",
            "3                     To Kill a Mockingbird  ...       3198671   \n",
            "4                          The Great Gatsby  ...       2683664   \n",
            "\n",
            "  work_ratings_count  work_text_reviews_count  ratings_1  ratings_2  \\\n",
            "0            4942365                   155254      66715     127936   \n",
            "1            4800065                    75867      75504     101676   \n",
            "2            3916824                    95009     456191     436802   \n",
            "3            3340896                    72586      60427     117415   \n",
            "4            2773745                    51992      86236     197621   \n",
            "\n",
            "   ratings_3  ratings_4  ratings_5  \\\n",
            "0     560092    1481305    2706317   \n",
            "1     455024    1156318    3011543   \n",
            "2     793319     875073    1355439   \n",
            "3     446835    1001952    1714267   \n",
            "4     606158     936012     947718   \n",
            "\n",
            "                                           image_url  \\\n",
            "0  https://images.gr-assets.com/books/1447303603m...   \n",
            "1  https://images.gr-assets.com/books/1474154022m...   \n",
            "2  https://images.gr-assets.com/books/1361039443m...   \n",
            "3  https://images.gr-assets.com/books/1361975680m...   \n",
            "4  https://images.gr-assets.com/books/1490528560m...   \n",
            "\n",
            "                                     small_image_url  \n",
            "0  https://images.gr-assets.com/books/1447303603s...  \n",
            "1  https://images.gr-assets.com/books/1474154022s...  \n",
            "2  https://images.gr-assets.com/books/1361039443s...  \n",
            "3  https://images.gr-assets.com/books/1361975680s...  \n",
            "4  https://images.gr-assets.com/books/1490528560s...  \n",
            "\n",
            "[5 rows x 23 columns]\n"
          ]
        }
      ]
    },
    {
      "cell_type": "code",
      "source": [
        "print(\"\\n===== BOOK_TAGS =====\")\n",
        "book_tags.info()\n",
        "print(\"\\nDeskripsi Statistik:\")\n",
        "print(book_tags.describe())\n",
        "print(\"\\nContoh Data:\")\n",
        "print(book_tags.head())"
      ],
      "metadata": {
        "colab": {
          "base_uri": "https://localhost:8080/"
        },
        "id": "sbPqM7qZG2Cf",
        "outputId": "18720161-b94f-4c4e-f276-ab39c7773596"
      },
      "execution_count": 208,
      "outputs": [
        {
          "output_type": "stream",
          "name": "stdout",
          "text": [
            "\n",
            "===== BOOK_TAGS =====\n",
            "<class 'pandas.core.frame.DataFrame'>\n",
            "RangeIndex: 999912 entries, 0 to 999911\n",
            "Data columns (total 3 columns):\n",
            " #   Column             Non-Null Count   Dtype\n",
            "---  ------             --------------   -----\n",
            " 0   goodreads_book_id  999912 non-null  int64\n",
            " 1   tag_id             999912 non-null  int64\n",
            " 2   count              999912 non-null  int64\n",
            "dtypes: int64(3)\n",
            "memory usage: 22.9 MB\n",
            "\n",
            "Deskripsi Statistik:\n",
            "       goodreads_book_id         tag_id          count\n",
            "count       9.999120e+05  999912.000000  999912.000000\n",
            "mean        5.263442e+06   16324.527073     208.869633\n",
            "std         7.574057e+06    9647.846196    3501.265173\n",
            "min         1.000000e+00       0.000000      -1.000000\n",
            "25%         4.622700e+04    8067.000000       7.000000\n",
            "50%         3.948410e+05   15808.000000      15.000000\n",
            "75%         9.378297e+06   24997.000000      40.000000\n",
            "max         3.328864e+07   34251.000000  596234.000000\n",
            "\n",
            "Contoh Data:\n",
            "   goodreads_book_id  tag_id   count\n",
            "0                  1   30574  167697\n",
            "1                  1   11305   37174\n",
            "2                  1   11557   34173\n",
            "3                  1    8717   12986\n",
            "4                  1   33114   12716\n"
          ]
        }
      ]
    },
    {
      "cell_type": "code",
      "source": [
        "print(\"\\n===== RATINGS =====\")\n",
        "ratings.info()\n",
        "print(\"\\nDeskripsi Statistik:\")\n",
        "print(ratings.describe())\n",
        "print(\"\\nContoh Data:\")\n",
        "print(ratings.head())"
      ],
      "metadata": {
        "colab": {
          "base_uri": "https://localhost:8080/"
        },
        "id": "iXF15t-WG5eb",
        "outputId": "97159c2d-5bce-4c2c-9745-ac7cb3339d16"
      },
      "execution_count": 209,
      "outputs": [
        {
          "output_type": "stream",
          "name": "stdout",
          "text": [
            "\n",
            "===== RATINGS =====\n",
            "<class 'pandas.core.frame.DataFrame'>\n",
            "RangeIndex: 981756 entries, 0 to 981755\n",
            "Data columns (total 3 columns):\n",
            " #   Column   Non-Null Count   Dtype\n",
            "---  ------   --------------   -----\n",
            " 0   book_id  981756 non-null  int64\n",
            " 1   user_id  981756 non-null  int64\n",
            " 2   rating   981756 non-null  int64\n",
            "dtypes: int64(3)\n",
            "memory usage: 22.5 MB\n",
            "\n",
            "Deskripsi Statistik:\n",
            "             book_id        user_id         rating\n",
            "count  981756.000000  981756.000000  981756.000000\n",
            "mean     4943.275636   25616.759933       3.856534\n",
            "std      2873.207415   15228.338826       0.983941\n",
            "min         1.000000       1.000000       1.000000\n",
            "25%      2457.000000   12372.000000       3.000000\n",
            "50%      4921.000000   25077.000000       4.000000\n",
            "75%      7414.000000   38572.000000       5.000000\n",
            "max     10000.000000   53424.000000       5.000000\n",
            "\n",
            "Contoh Data:\n",
            "   book_id  user_id  rating\n",
            "0        1      314       5\n",
            "1        1      439       3\n",
            "2        1      588       5\n",
            "3        1     1169       4\n",
            "4        1     1185       4\n"
          ]
        }
      ]
    },
    {
      "cell_type": "code",
      "source": [
        "print(\"\\n===== TAGS =====\")\n",
        "tags.info()\n",
        "print(\"\\nDeskripsi Statistik:\")\n",
        "print(tags.describe())\n",
        "print(\"\\nContoh Data:\")\n",
        "print(tags.head())"
      ],
      "metadata": {
        "colab": {
          "base_uri": "https://localhost:8080/"
        },
        "id": "o2nKcN0OG7Op",
        "outputId": "e245bf8a-80ae-4c2e-c2a5-7e371573c109"
      },
      "execution_count": 210,
      "outputs": [
        {
          "output_type": "stream",
          "name": "stdout",
          "text": [
            "\n",
            "===== TAGS =====\n",
            "<class 'pandas.core.frame.DataFrame'>\n",
            "RangeIndex: 34252 entries, 0 to 34251\n",
            "Data columns (total 2 columns):\n",
            " #   Column    Non-Null Count  Dtype \n",
            "---  ------    --------------  ----- \n",
            " 0   tag_id    34252 non-null  int64 \n",
            " 1   tag_name  34252 non-null  object\n",
            "dtypes: int64(1), object(1)\n",
            "memory usage: 535.3+ KB\n",
            "\n",
            "Deskripsi Statistik:\n",
            "             tag_id\n",
            "count  34252.000000\n",
            "mean   17125.500000\n",
            "std     9887.845047\n",
            "min        0.000000\n",
            "25%     8562.750000\n",
            "50%    17125.500000\n",
            "75%    25688.250000\n",
            "max    34251.000000\n",
            "\n",
            "Contoh Data:\n",
            "   tag_id tag_name\n",
            "0       0        -\n",
            "1       1     --1-\n",
            "2       2    --10-\n",
            "3       3    --12-\n",
            "4       4   --122-\n"
          ]
        }
      ]
    },
    {
      "cell_type": "code",
      "source": [
        "print(\"\\n===== TO_READ =====\")\n",
        "to_read.info()\n",
        "print(\"\\nDeskripsi Statistik:\")\n",
        "print(to_read.describe())\n",
        "print(\"\\nContoh Data:\")\n",
        "print(to_read.head())"
      ],
      "metadata": {
        "colab": {
          "base_uri": "https://localhost:8080/"
        },
        "id": "MtjYsy5cG9LR",
        "outputId": "a4e932ea-da82-4588-bc51-6b04db246c76"
      },
      "execution_count": 211,
      "outputs": [
        {
          "output_type": "stream",
          "name": "stdout",
          "text": [
            "\n",
            "===== TO_READ =====\n",
            "<class 'pandas.core.frame.DataFrame'>\n",
            "RangeIndex: 912705 entries, 0 to 912704\n",
            "Data columns (total 2 columns):\n",
            " #   Column   Non-Null Count   Dtype\n",
            "---  ------   --------------   -----\n",
            " 0   user_id  912705 non-null  int64\n",
            " 1   book_id  912705 non-null  int64\n",
            "dtypes: int64(2)\n",
            "memory usage: 13.9 MB\n",
            "\n",
            "Deskripsi Statistik:\n",
            "             user_id        book_id\n",
            "count  912705.000000  912705.000000\n",
            "mean    27668.980115    2454.739538\n",
            "std     14775.096388    2626.359921\n",
            "min         1.000000       1.000000\n",
            "25%     15507.000000     360.000000\n",
            "50%     27799.000000    1381.000000\n",
            "75%     40220.000000    3843.000000\n",
            "max     53424.000000   10000.000000\n",
            "\n",
            "Contoh Data:\n",
            "   user_id  book_id\n",
            "0        1      112\n",
            "1        1      235\n",
            "2        1      533\n",
            "3        1     1198\n",
            "4        1     1874\n"
          ]
        }
      ]
    },
    {
      "cell_type": "markdown",
      "source": [
        "### Data Summary Tambahan\n",
        "\n",
        "Mengetahui jumlah unik item seperti buku yang diberi rating, penulis, dan jenis tag membantu kita dalam analisis lebih lanjut.\n"
      ],
      "metadata": {
        "id": "amhQQPQMguSf"
      }
    },
    {
      "cell_type": "code",
      "source": [
        "# Ringkasan tambahan untuk insight jumlah unik dan contoh data\n",
        "print('Jumlah buku yang mendapatkan rating: ', len(ratings.book_id.unique()))\n",
        "print('Jumlah penulis unik: ', books.authors.nunique())\n",
        "print('Contoh penulis: ', books.authors.unique()[:10])"
      ],
      "metadata": {
        "colab": {
          "base_uri": "https://localhost:8080/"
        },
        "id": "UQtyiobgHAIB",
        "outputId": "8f83b4fb-e722-44bd-b221-df1088bfb6d9"
      },
      "execution_count": 212,
      "outputs": [
        {
          "output_type": "stream",
          "name": "stdout",
          "text": [
            "Jumlah buku yang mendapatkan rating:  10000\n",
            "Jumlah penulis unik:  4664\n",
            "Contoh penulis:  ['Suzanne Collins' 'J.K. Rowling, Mary GrandPré' 'Stephenie Meyer'\n",
            " 'Harper Lee' 'F. Scott Fitzgerald' 'John Green' 'J.R.R. Tolkien'\n",
            " 'J.D. Salinger' 'Dan Brown' 'Jane Austen']\n"
          ]
        }
      ]
    },
    {
      "cell_type": "code",
      "source": [
        "print(\"Informasi variabel tags (jenis kategori buku):\")\n",
        "tags.info()\n",
        "\n",
        "print(\"\\nContoh data tag:\")\n",
        "print(tags.head())\n",
        "\n",
        "print(\"\\nJumlah tag unik yang tersedia:\", tags['tag_name'].nunique())"
      ],
      "metadata": {
        "colab": {
          "base_uri": "https://localhost:8080/"
        },
        "id": "obS8oKcrHQva",
        "outputId": "68069674-308f-4745-cab3-c9cf7869141e"
      },
      "execution_count": 213,
      "outputs": [
        {
          "output_type": "stream",
          "name": "stdout",
          "text": [
            "Informasi variabel tags (jenis kategori buku):\n",
            "<class 'pandas.core.frame.DataFrame'>\n",
            "RangeIndex: 34252 entries, 0 to 34251\n",
            "Data columns (total 2 columns):\n",
            " #   Column    Non-Null Count  Dtype \n",
            "---  ------    --------------  ----- \n",
            " 0   tag_id    34252 non-null  int64 \n",
            " 1   tag_name  34252 non-null  object\n",
            "dtypes: int64(1), object(1)\n",
            "memory usage: 535.3+ KB\n",
            "\n",
            "Contoh data tag:\n",
            "   tag_id tag_name\n",
            "0       0        -\n",
            "1       1     --1-\n",
            "2       2    --10-\n",
            "3       3    --12-\n",
            "4       4   --122-\n",
            "\n",
            "Jumlah tag unik yang tersedia: 34252\n"
          ]
        }
      ]
    },
    {
      "cell_type": "code",
      "source": [
        "print('Banyak tipe tag (kategori buku):', tags['tag_name'].nunique())\n",
        "print('Tipe tag buku (kategori):')\n",
        "print(tags['tag_name'].unique()[:50])"
      ],
      "metadata": {
        "colab": {
          "base_uri": "https://localhost:8080/"
        },
        "id": "ci6S09sFHkH8",
        "outputId": "be641be0-9371-4123-9ff6-0cc9336d538d"
      },
      "execution_count": 214,
      "outputs": [
        {
          "output_type": "stream",
          "name": "stdout",
          "text": [
            "Banyak tipe tag (kategori buku): 34252\n",
            "Tipe tag buku (kategori):\n",
            "['-' '--1-' '--10-' '--12-' '--122-' '--166-' '--17-' '--19-' '--2-'\n",
            " '--258-' '--3-' '--33-' '--4-' '--5-' '--51-' '--6-' '--62-' '--8-'\n",
            " '--99-' '--available-at-raspberrys--' '-2001--' '-calif--' '-d-c--'\n",
            " '-dean' '-england-' '-fiction' '-fictional' '-fictitious' '-football-'\n",
            " '-george' '-gr-' '-history' '-imaginary' '-italy-' '-la--' '-los'\n",
            " '-mass--' '-murder-' '-n-y--' '-non-poetry-' '-performing' '-post'\n",
            " '-psychology-' '-read' '-single' '-specific' '-television' '0'\n",
            " '0-0-0-0cant-find' '0-0-bingo']\n"
          ]
        }
      ]
    },
    {
      "cell_type": "markdown",
      "source": [
        "## **Univariate Exploratory Data Analysis**\n",
        "\n",
        "Tahap ini berfokus pada analisis satu variabel (univariate) untuk memahami distribusinya."
      ],
      "metadata": {
        "id": "-MGqVz5Cg26V"
      }
    },
    {
      "cell_type": "markdown",
      "source": [
        "#### Cek Ukuran Dataset Ratings dan Books"
      ],
      "metadata": {
        "id": "MBYGMEyuhMTV"
      }
    },
    {
      "cell_type": "code",
      "source": [
        "# Ukuran dataset ratings dan books\n",
        "print(ratings.shape)\n",
        "print(books.shape)"
      ],
      "metadata": {
        "colab": {
          "base_uri": "https://localhost:8080/"
        },
        "id": "xXUWlGyAHuZR",
        "outputId": "9d3e1086-f298-4177-a8ef-f28b97943ae1"
      },
      "execution_count": 317,
      "outputs": [
        {
          "output_type": "stream",
          "name": "stdout",
          "text": [
            "(981756, 3)\n",
            "(10000, 23)\n"
          ]
        }
      ]
    },
    {
      "cell_type": "markdown",
      "source": [
        "#### Preview Data Awal\n"
      ],
      "metadata": {
        "id": "mrvigL4DhQBE"
      }
    },
    {
      "cell_type": "code",
      "source": [
        "# Preview beberapa baris pertama\n",
        "ratings.head()\n",
        "books.head()"
      ],
      "metadata": {
        "colab": {
          "base_uri": "https://localhost:8080/",
          "height": 377
        },
        "id": "U5j2fj1KJGm3",
        "outputId": "b5f28f22-cb2c-4b3d-ddc6-7035343964ac"
      },
      "execution_count": 318,
      "outputs": [
        {
          "output_type": "execute_result",
          "data": {
            "text/plain": [
              "   id  book_id  best_book_id  work_id  books_count       isbn        isbn13  \\\n",
              "0   1  2767052       2767052  2792775          272  439023483  9.780439e+12   \n",
              "1   2        3             3  4640799          491  439554934  9.780440e+12   \n",
              "2   3    41865         41865  3212258          226  316015849  9.780316e+12   \n",
              "3   4     2657          2657  3275794          487   61120081  9.780061e+12   \n",
              "4   5     4671          4671   245494         1356  743273567  9.780743e+12   \n",
              "\n",
              "                       authors  original_publication_year  \\\n",
              "0              Suzanne Collins                     2008.0   \n",
              "1  J.K. Rowling, Mary GrandPré                     1997.0   \n",
              "2              Stephenie Meyer                     2005.0   \n",
              "3                   Harper Lee                     1960.0   \n",
              "4          F. Scott Fitzgerald                     1925.0   \n",
              "\n",
              "                             original_title  ... ratings_count  \\\n",
              "0                          The Hunger Games  ...       4780653   \n",
              "1  Harry Potter and the Philosopher's Stone  ...       4602479   \n",
              "2                                  Twilight  ...       3866839   \n",
              "3                     To Kill a Mockingbird  ...       3198671   \n",
              "4                          The Great Gatsby  ...       2683664   \n",
              "\n",
              "  work_ratings_count  work_text_reviews_count  ratings_1  ratings_2  \\\n",
              "0            4942365                   155254      66715     127936   \n",
              "1            4800065                    75867      75504     101676   \n",
              "2            3916824                    95009     456191     436802   \n",
              "3            3340896                    72586      60427     117415   \n",
              "4            2773745                    51992      86236     197621   \n",
              "\n",
              "   ratings_3  ratings_4  ratings_5  \\\n",
              "0     560092    1481305    2706317   \n",
              "1     455024    1156318    3011543   \n",
              "2     793319     875073    1355439   \n",
              "3     446835    1001952    1714267   \n",
              "4     606158     936012     947718   \n",
              "\n",
              "                                           image_url  \\\n",
              "0  https://images.gr-assets.com/books/1447303603m...   \n",
              "1  https://images.gr-assets.com/books/1474154022m...   \n",
              "2  https://images.gr-assets.com/books/1361039443m...   \n",
              "3  https://images.gr-assets.com/books/1361975680m...   \n",
              "4  https://images.gr-assets.com/books/1490528560m...   \n",
              "\n",
              "                                     small_image_url  \n",
              "0  https://images.gr-assets.com/books/1447303603s...  \n",
              "1  https://images.gr-assets.com/books/1474154022s...  \n",
              "2  https://images.gr-assets.com/books/1361039443s...  \n",
              "3  https://images.gr-assets.com/books/1361975680s...  \n",
              "4  https://images.gr-assets.com/books/1490528560s...  \n",
              "\n",
              "[5 rows x 23 columns]"
            ],
            "text/html": [
              "\n",
              "  <div id=\"df-c6a1b65a-2baa-406d-b40d-c679c37d6dee\" class=\"colab-df-container\">\n",
              "    <div>\n",
              "<style scoped>\n",
              "    .dataframe tbody tr th:only-of-type {\n",
              "        vertical-align: middle;\n",
              "    }\n",
              "\n",
              "    .dataframe tbody tr th {\n",
              "        vertical-align: top;\n",
              "    }\n",
              "\n",
              "    .dataframe thead th {\n",
              "        text-align: right;\n",
              "    }\n",
              "</style>\n",
              "<table border=\"1\" class=\"dataframe\">\n",
              "  <thead>\n",
              "    <tr style=\"text-align: right;\">\n",
              "      <th></th>\n",
              "      <th>id</th>\n",
              "      <th>book_id</th>\n",
              "      <th>best_book_id</th>\n",
              "      <th>work_id</th>\n",
              "      <th>books_count</th>\n",
              "      <th>isbn</th>\n",
              "      <th>isbn13</th>\n",
              "      <th>authors</th>\n",
              "      <th>original_publication_year</th>\n",
              "      <th>original_title</th>\n",
              "      <th>...</th>\n",
              "      <th>ratings_count</th>\n",
              "      <th>work_ratings_count</th>\n",
              "      <th>work_text_reviews_count</th>\n",
              "      <th>ratings_1</th>\n",
              "      <th>ratings_2</th>\n",
              "      <th>ratings_3</th>\n",
              "      <th>ratings_4</th>\n",
              "      <th>ratings_5</th>\n",
              "      <th>image_url</th>\n",
              "      <th>small_image_url</th>\n",
              "    </tr>\n",
              "  </thead>\n",
              "  <tbody>\n",
              "    <tr>\n",
              "      <th>0</th>\n",
              "      <td>1</td>\n",
              "      <td>2767052</td>\n",
              "      <td>2767052</td>\n",
              "      <td>2792775</td>\n",
              "      <td>272</td>\n",
              "      <td>439023483</td>\n",
              "      <td>9.780439e+12</td>\n",
              "      <td>Suzanne Collins</td>\n",
              "      <td>2008.0</td>\n",
              "      <td>The Hunger Games</td>\n",
              "      <td>...</td>\n",
              "      <td>4780653</td>\n",
              "      <td>4942365</td>\n",
              "      <td>155254</td>\n",
              "      <td>66715</td>\n",
              "      <td>127936</td>\n",
              "      <td>560092</td>\n",
              "      <td>1481305</td>\n",
              "      <td>2706317</td>\n",
              "      <td>https://images.gr-assets.com/books/1447303603m...</td>\n",
              "      <td>https://images.gr-assets.com/books/1447303603s...</td>\n",
              "    </tr>\n",
              "    <tr>\n",
              "      <th>1</th>\n",
              "      <td>2</td>\n",
              "      <td>3</td>\n",
              "      <td>3</td>\n",
              "      <td>4640799</td>\n",
              "      <td>491</td>\n",
              "      <td>439554934</td>\n",
              "      <td>9.780440e+12</td>\n",
              "      <td>J.K. Rowling, Mary GrandPré</td>\n",
              "      <td>1997.0</td>\n",
              "      <td>Harry Potter and the Philosopher's Stone</td>\n",
              "      <td>...</td>\n",
              "      <td>4602479</td>\n",
              "      <td>4800065</td>\n",
              "      <td>75867</td>\n",
              "      <td>75504</td>\n",
              "      <td>101676</td>\n",
              "      <td>455024</td>\n",
              "      <td>1156318</td>\n",
              "      <td>3011543</td>\n",
              "      <td>https://images.gr-assets.com/books/1474154022m...</td>\n",
              "      <td>https://images.gr-assets.com/books/1474154022s...</td>\n",
              "    </tr>\n",
              "    <tr>\n",
              "      <th>2</th>\n",
              "      <td>3</td>\n",
              "      <td>41865</td>\n",
              "      <td>41865</td>\n",
              "      <td>3212258</td>\n",
              "      <td>226</td>\n",
              "      <td>316015849</td>\n",
              "      <td>9.780316e+12</td>\n",
              "      <td>Stephenie Meyer</td>\n",
              "      <td>2005.0</td>\n",
              "      <td>Twilight</td>\n",
              "      <td>...</td>\n",
              "      <td>3866839</td>\n",
              "      <td>3916824</td>\n",
              "      <td>95009</td>\n",
              "      <td>456191</td>\n",
              "      <td>436802</td>\n",
              "      <td>793319</td>\n",
              "      <td>875073</td>\n",
              "      <td>1355439</td>\n",
              "      <td>https://images.gr-assets.com/books/1361039443m...</td>\n",
              "      <td>https://images.gr-assets.com/books/1361039443s...</td>\n",
              "    </tr>\n",
              "    <tr>\n",
              "      <th>3</th>\n",
              "      <td>4</td>\n",
              "      <td>2657</td>\n",
              "      <td>2657</td>\n",
              "      <td>3275794</td>\n",
              "      <td>487</td>\n",
              "      <td>61120081</td>\n",
              "      <td>9.780061e+12</td>\n",
              "      <td>Harper Lee</td>\n",
              "      <td>1960.0</td>\n",
              "      <td>To Kill a Mockingbird</td>\n",
              "      <td>...</td>\n",
              "      <td>3198671</td>\n",
              "      <td>3340896</td>\n",
              "      <td>72586</td>\n",
              "      <td>60427</td>\n",
              "      <td>117415</td>\n",
              "      <td>446835</td>\n",
              "      <td>1001952</td>\n",
              "      <td>1714267</td>\n",
              "      <td>https://images.gr-assets.com/books/1361975680m...</td>\n",
              "      <td>https://images.gr-assets.com/books/1361975680s...</td>\n",
              "    </tr>\n",
              "    <tr>\n",
              "      <th>4</th>\n",
              "      <td>5</td>\n",
              "      <td>4671</td>\n",
              "      <td>4671</td>\n",
              "      <td>245494</td>\n",
              "      <td>1356</td>\n",
              "      <td>743273567</td>\n",
              "      <td>9.780743e+12</td>\n",
              "      <td>F. Scott Fitzgerald</td>\n",
              "      <td>1925.0</td>\n",
              "      <td>The Great Gatsby</td>\n",
              "      <td>...</td>\n",
              "      <td>2683664</td>\n",
              "      <td>2773745</td>\n",
              "      <td>51992</td>\n",
              "      <td>86236</td>\n",
              "      <td>197621</td>\n",
              "      <td>606158</td>\n",
              "      <td>936012</td>\n",
              "      <td>947718</td>\n",
              "      <td>https://images.gr-assets.com/books/1490528560m...</td>\n",
              "      <td>https://images.gr-assets.com/books/1490528560s...</td>\n",
              "    </tr>\n",
              "  </tbody>\n",
              "</table>\n",
              "<p>5 rows × 23 columns</p>\n",
              "</div>\n",
              "    <div class=\"colab-df-buttons\">\n",
              "\n",
              "  <div class=\"colab-df-container\">\n",
              "    <button class=\"colab-df-convert\" onclick=\"convertToInteractive('df-c6a1b65a-2baa-406d-b40d-c679c37d6dee')\"\n",
              "            title=\"Convert this dataframe to an interactive table.\"\n",
              "            style=\"display:none;\">\n",
              "\n",
              "  <svg xmlns=\"http://www.w3.org/2000/svg\" height=\"24px\" viewBox=\"0 -960 960 960\">\n",
              "    <path d=\"M120-120v-720h720v720H120Zm60-500h600v-160H180v160Zm220 220h160v-160H400v160Zm0 220h160v-160H400v160ZM180-400h160v-160H180v160Zm440 0h160v-160H620v160ZM180-180h160v-160H180v160Zm440 0h160v-160H620v160Z\"/>\n",
              "  </svg>\n",
              "    </button>\n",
              "\n",
              "  <style>\n",
              "    .colab-df-container {\n",
              "      display:flex;\n",
              "      gap: 12px;\n",
              "    }\n",
              "\n",
              "    .colab-df-convert {\n",
              "      background-color: #E8F0FE;\n",
              "      border: none;\n",
              "      border-radius: 50%;\n",
              "      cursor: pointer;\n",
              "      display: none;\n",
              "      fill: #1967D2;\n",
              "      height: 32px;\n",
              "      padding: 0 0 0 0;\n",
              "      width: 32px;\n",
              "    }\n",
              "\n",
              "    .colab-df-convert:hover {\n",
              "      background-color: #E2EBFA;\n",
              "      box-shadow: 0px 1px 2px rgba(60, 64, 67, 0.3), 0px 1px 3px 1px rgba(60, 64, 67, 0.15);\n",
              "      fill: #174EA6;\n",
              "    }\n",
              "\n",
              "    .colab-df-buttons div {\n",
              "      margin-bottom: 4px;\n",
              "    }\n",
              "\n",
              "    [theme=dark] .colab-df-convert {\n",
              "      background-color: #3B4455;\n",
              "      fill: #D2E3FC;\n",
              "    }\n",
              "\n",
              "    [theme=dark] .colab-df-convert:hover {\n",
              "      background-color: #434B5C;\n",
              "      box-shadow: 0px 1px 3px 1px rgba(0, 0, 0, 0.15);\n",
              "      filter: drop-shadow(0px 1px 2px rgba(0, 0, 0, 0.3));\n",
              "      fill: #FFFFFF;\n",
              "    }\n",
              "  </style>\n",
              "\n",
              "    <script>\n",
              "      const buttonEl =\n",
              "        document.querySelector('#df-c6a1b65a-2baa-406d-b40d-c679c37d6dee button.colab-df-convert');\n",
              "      buttonEl.style.display =\n",
              "        google.colab.kernel.accessAllowed ? 'block' : 'none';\n",
              "\n",
              "      async function convertToInteractive(key) {\n",
              "        const element = document.querySelector('#df-c6a1b65a-2baa-406d-b40d-c679c37d6dee');\n",
              "        const dataTable =\n",
              "          await google.colab.kernel.invokeFunction('convertToInteractive',\n",
              "                                                    [key], {});\n",
              "        if (!dataTable) return;\n",
              "\n",
              "        const docLinkHtml = 'Like what you see? Visit the ' +\n",
              "          '<a target=\"_blank\" href=https://colab.research.google.com/notebooks/data_table.ipynb>data table notebook</a>'\n",
              "          + ' to learn more about interactive tables.';\n",
              "        element.innerHTML = '';\n",
              "        dataTable['output_type'] = 'display_data';\n",
              "        await google.colab.output.renderOutput(dataTable, element);\n",
              "        const docLink = document.createElement('div');\n",
              "        docLink.innerHTML = docLinkHtml;\n",
              "        element.appendChild(docLink);\n",
              "      }\n",
              "    </script>\n",
              "  </div>\n",
              "\n",
              "\n",
              "    <div id=\"df-725c7354-8a77-4d88-8f7e-2eb7cfb3b050\">\n",
              "      <button class=\"colab-df-quickchart\" onclick=\"quickchart('df-725c7354-8a77-4d88-8f7e-2eb7cfb3b050')\"\n",
              "                title=\"Suggest charts\"\n",
              "                style=\"display:none;\">\n",
              "\n",
              "<svg xmlns=\"http://www.w3.org/2000/svg\" height=\"24px\"viewBox=\"0 0 24 24\"\n",
              "     width=\"24px\">\n",
              "    <g>\n",
              "        <path d=\"M19 3H5c-1.1 0-2 .9-2 2v14c0 1.1.9 2 2 2h14c1.1 0 2-.9 2-2V5c0-1.1-.9-2-2-2zM9 17H7v-7h2v7zm4 0h-2V7h2v10zm4 0h-2v-4h2v4z\"/>\n",
              "    </g>\n",
              "</svg>\n",
              "      </button>\n",
              "\n",
              "<style>\n",
              "  .colab-df-quickchart {\n",
              "      --bg-color: #E8F0FE;\n",
              "      --fill-color: #1967D2;\n",
              "      --hover-bg-color: #E2EBFA;\n",
              "      --hover-fill-color: #174EA6;\n",
              "      --disabled-fill-color: #AAA;\n",
              "      --disabled-bg-color: #DDD;\n",
              "  }\n",
              "\n",
              "  [theme=dark] .colab-df-quickchart {\n",
              "      --bg-color: #3B4455;\n",
              "      --fill-color: #D2E3FC;\n",
              "      --hover-bg-color: #434B5C;\n",
              "      --hover-fill-color: #FFFFFF;\n",
              "      --disabled-bg-color: #3B4455;\n",
              "      --disabled-fill-color: #666;\n",
              "  }\n",
              "\n",
              "  .colab-df-quickchart {\n",
              "    background-color: var(--bg-color);\n",
              "    border: none;\n",
              "    border-radius: 50%;\n",
              "    cursor: pointer;\n",
              "    display: none;\n",
              "    fill: var(--fill-color);\n",
              "    height: 32px;\n",
              "    padding: 0;\n",
              "    width: 32px;\n",
              "  }\n",
              "\n",
              "  .colab-df-quickchart:hover {\n",
              "    background-color: var(--hover-bg-color);\n",
              "    box-shadow: 0 1px 2px rgba(60, 64, 67, 0.3), 0 1px 3px 1px rgba(60, 64, 67, 0.15);\n",
              "    fill: var(--button-hover-fill-color);\n",
              "  }\n",
              "\n",
              "  .colab-df-quickchart-complete:disabled,\n",
              "  .colab-df-quickchart-complete:disabled:hover {\n",
              "    background-color: var(--disabled-bg-color);\n",
              "    fill: var(--disabled-fill-color);\n",
              "    box-shadow: none;\n",
              "  }\n",
              "\n",
              "  .colab-df-spinner {\n",
              "    border: 2px solid var(--fill-color);\n",
              "    border-color: transparent;\n",
              "    border-bottom-color: var(--fill-color);\n",
              "    animation:\n",
              "      spin 1s steps(1) infinite;\n",
              "  }\n",
              "\n",
              "  @keyframes spin {\n",
              "    0% {\n",
              "      border-color: transparent;\n",
              "      border-bottom-color: var(--fill-color);\n",
              "      border-left-color: var(--fill-color);\n",
              "    }\n",
              "    20% {\n",
              "      border-color: transparent;\n",
              "      border-left-color: var(--fill-color);\n",
              "      border-top-color: var(--fill-color);\n",
              "    }\n",
              "    30% {\n",
              "      border-color: transparent;\n",
              "      border-left-color: var(--fill-color);\n",
              "      border-top-color: var(--fill-color);\n",
              "      border-right-color: var(--fill-color);\n",
              "    }\n",
              "    40% {\n",
              "      border-color: transparent;\n",
              "      border-right-color: var(--fill-color);\n",
              "      border-top-color: var(--fill-color);\n",
              "    }\n",
              "    60% {\n",
              "      border-color: transparent;\n",
              "      border-right-color: var(--fill-color);\n",
              "    }\n",
              "    80% {\n",
              "      border-color: transparent;\n",
              "      border-right-color: var(--fill-color);\n",
              "      border-bottom-color: var(--fill-color);\n",
              "    }\n",
              "    90% {\n",
              "      border-color: transparent;\n",
              "      border-bottom-color: var(--fill-color);\n",
              "    }\n",
              "  }\n",
              "</style>\n",
              "\n",
              "      <script>\n",
              "        async function quickchart(key) {\n",
              "          const quickchartButtonEl =\n",
              "            document.querySelector('#' + key + ' button');\n",
              "          quickchartButtonEl.disabled = true;  // To prevent multiple clicks.\n",
              "          quickchartButtonEl.classList.add('colab-df-spinner');\n",
              "          try {\n",
              "            const charts = await google.colab.kernel.invokeFunction(\n",
              "                'suggestCharts', [key], {});\n",
              "          } catch (error) {\n",
              "            console.error('Error during call to suggestCharts:', error);\n",
              "          }\n",
              "          quickchartButtonEl.classList.remove('colab-df-spinner');\n",
              "          quickchartButtonEl.classList.add('colab-df-quickchart-complete');\n",
              "        }\n",
              "        (() => {\n",
              "          let quickchartButtonEl =\n",
              "            document.querySelector('#df-725c7354-8a77-4d88-8f7e-2eb7cfb3b050 button');\n",
              "          quickchartButtonEl.style.display =\n",
              "            google.colab.kernel.accessAllowed ? 'block' : 'none';\n",
              "        })();\n",
              "      </script>\n",
              "    </div>\n",
              "\n",
              "    </div>\n",
              "  </div>\n"
            ],
            "application/vnd.google.colaboratory.intrinsic+json": {
              "type": "dataframe",
              "variable_name": "books"
            }
          },
          "metadata": {},
          "execution_count": 318
        }
      ]
    },
    {
      "cell_type": "markdown",
      "source": [
        "#### Statistik Deskriptif Ratings dan Books\n",
        "\n",
        "Statistik deskriptif dan summary ini membantu memahami sebaran rating, jumlah pengguna aktif, dan buku yang dinilai."
      ],
      "metadata": {
        "id": "2qEaOtJGhT2D"
      }
    },
    {
      "cell_type": "code",
      "source": [
        "ratings.describe()\n",
        "books.describe()"
      ],
      "metadata": {
        "colab": {
          "base_uri": "https://localhost:8080/",
          "height": 320
        },
        "id": "LjELf1hpIZXo",
        "outputId": "e01a26ba-476e-4200-f6fb-eb863ece576e"
      },
      "execution_count": 319,
      "outputs": [
        {
          "output_type": "execute_result",
          "data": {
            "text/plain": [
              "                id       book_id  best_book_id       work_id   books_count  \\\n",
              "count  10000.00000  1.000000e+04  1.000000e+04  1.000000e+04  10000.000000   \n",
              "mean    5000.50000  5.264697e+06  5.471214e+06  8.646183e+06     75.712700   \n",
              "std     2886.89568  7.575462e+06  7.827330e+06  1.175106e+07    170.470728   \n",
              "min        1.00000  1.000000e+00  1.000000e+00  8.700000e+01      1.000000   \n",
              "25%     2500.75000  4.627575e+04  4.791175e+04  1.008841e+06     23.000000   \n",
              "50%     5000.50000  3.949655e+05  4.251235e+05  2.719524e+06     40.000000   \n",
              "75%     7500.25000  9.382225e+06  9.636112e+06  1.451775e+07     67.000000   \n",
              "max    10000.00000  3.328864e+07  3.553423e+07  5.639960e+07   3455.000000   \n",
              "\n",
              "             isbn13  original_publication_year  average_rating  ratings_count  \\\n",
              "count  9.415000e+03                9979.000000    10000.000000   1.000000e+04   \n",
              "mean   9.755044e+12                1981.987674        4.002191   5.400124e+04   \n",
              "std    4.428619e+11                 152.576665        0.254427   1.573700e+05   \n",
              "min    1.951703e+08               -1750.000000        2.470000   2.716000e+03   \n",
              "25%    9.780316e+12                1990.000000        3.850000   1.356875e+04   \n",
              "50%    9.780452e+12                2004.000000        4.020000   2.115550e+04   \n",
              "75%    9.780831e+12                2011.000000        4.180000   4.105350e+04   \n",
              "max    9.790008e+12                2017.000000        4.820000   4.780653e+06   \n",
              "\n",
              "       work_ratings_count  work_text_reviews_count      ratings_1  \\\n",
              "count        1.000000e+04             10000.000000   10000.000000   \n",
              "mean         5.968732e+04              2919.955300    1345.040600   \n",
              "std          1.678038e+05              6124.378132    6635.626263   \n",
              "min          5.510000e+03                 3.000000      11.000000   \n",
              "25%          1.543875e+04               694.000000     196.000000   \n",
              "50%          2.383250e+04              1402.000000     391.000000   \n",
              "75%          4.591500e+04              2744.250000     885.000000   \n",
              "max          4.942365e+06            155254.000000  456191.000000   \n",
              "\n",
              "           ratings_2      ratings_3     ratings_4     ratings_5  \n",
              "count   10000.000000   10000.000000  1.000000e+04  1.000000e+04  \n",
              "mean     3110.885000   11475.893800  1.996570e+04  2.378981e+04  \n",
              "std      9717.123578   28546.449183  5.144736e+04  7.976889e+04  \n",
              "min        30.000000     323.000000  7.500000e+02  7.540000e+02  \n",
              "25%       656.000000    3112.000000  5.405750e+03  5.334000e+03  \n",
              "50%      1163.000000    4894.000000  8.269500e+03  8.836000e+03  \n",
              "75%      2353.250000    9287.000000  1.602350e+04  1.730450e+04  \n",
              "max    436802.000000  793319.000000  1.481305e+06  3.011543e+06  "
            ],
            "text/html": [
              "\n",
              "  <div id=\"df-5908ed6a-e457-4e2a-bab3-25088083d501\" class=\"colab-df-container\">\n",
              "    <div>\n",
              "<style scoped>\n",
              "    .dataframe tbody tr th:only-of-type {\n",
              "        vertical-align: middle;\n",
              "    }\n",
              "\n",
              "    .dataframe tbody tr th {\n",
              "        vertical-align: top;\n",
              "    }\n",
              "\n",
              "    .dataframe thead th {\n",
              "        text-align: right;\n",
              "    }\n",
              "</style>\n",
              "<table border=\"1\" class=\"dataframe\">\n",
              "  <thead>\n",
              "    <tr style=\"text-align: right;\">\n",
              "      <th></th>\n",
              "      <th>id</th>\n",
              "      <th>book_id</th>\n",
              "      <th>best_book_id</th>\n",
              "      <th>work_id</th>\n",
              "      <th>books_count</th>\n",
              "      <th>isbn13</th>\n",
              "      <th>original_publication_year</th>\n",
              "      <th>average_rating</th>\n",
              "      <th>ratings_count</th>\n",
              "      <th>work_ratings_count</th>\n",
              "      <th>work_text_reviews_count</th>\n",
              "      <th>ratings_1</th>\n",
              "      <th>ratings_2</th>\n",
              "      <th>ratings_3</th>\n",
              "      <th>ratings_4</th>\n",
              "      <th>ratings_5</th>\n",
              "    </tr>\n",
              "  </thead>\n",
              "  <tbody>\n",
              "    <tr>\n",
              "      <th>count</th>\n",
              "      <td>10000.00000</td>\n",
              "      <td>1.000000e+04</td>\n",
              "      <td>1.000000e+04</td>\n",
              "      <td>1.000000e+04</td>\n",
              "      <td>10000.000000</td>\n",
              "      <td>9.415000e+03</td>\n",
              "      <td>9979.000000</td>\n",
              "      <td>10000.000000</td>\n",
              "      <td>1.000000e+04</td>\n",
              "      <td>1.000000e+04</td>\n",
              "      <td>10000.000000</td>\n",
              "      <td>10000.000000</td>\n",
              "      <td>10000.000000</td>\n",
              "      <td>10000.000000</td>\n",
              "      <td>1.000000e+04</td>\n",
              "      <td>1.000000e+04</td>\n",
              "    </tr>\n",
              "    <tr>\n",
              "      <th>mean</th>\n",
              "      <td>5000.50000</td>\n",
              "      <td>5.264697e+06</td>\n",
              "      <td>5.471214e+06</td>\n",
              "      <td>8.646183e+06</td>\n",
              "      <td>75.712700</td>\n",
              "      <td>9.755044e+12</td>\n",
              "      <td>1981.987674</td>\n",
              "      <td>4.002191</td>\n",
              "      <td>5.400124e+04</td>\n",
              "      <td>5.968732e+04</td>\n",
              "      <td>2919.955300</td>\n",
              "      <td>1345.040600</td>\n",
              "      <td>3110.885000</td>\n",
              "      <td>11475.893800</td>\n",
              "      <td>1.996570e+04</td>\n",
              "      <td>2.378981e+04</td>\n",
              "    </tr>\n",
              "    <tr>\n",
              "      <th>std</th>\n",
              "      <td>2886.89568</td>\n",
              "      <td>7.575462e+06</td>\n",
              "      <td>7.827330e+06</td>\n",
              "      <td>1.175106e+07</td>\n",
              "      <td>170.470728</td>\n",
              "      <td>4.428619e+11</td>\n",
              "      <td>152.576665</td>\n",
              "      <td>0.254427</td>\n",
              "      <td>1.573700e+05</td>\n",
              "      <td>1.678038e+05</td>\n",
              "      <td>6124.378132</td>\n",
              "      <td>6635.626263</td>\n",
              "      <td>9717.123578</td>\n",
              "      <td>28546.449183</td>\n",
              "      <td>5.144736e+04</td>\n",
              "      <td>7.976889e+04</td>\n",
              "    </tr>\n",
              "    <tr>\n",
              "      <th>min</th>\n",
              "      <td>1.00000</td>\n",
              "      <td>1.000000e+00</td>\n",
              "      <td>1.000000e+00</td>\n",
              "      <td>8.700000e+01</td>\n",
              "      <td>1.000000</td>\n",
              "      <td>1.951703e+08</td>\n",
              "      <td>-1750.000000</td>\n",
              "      <td>2.470000</td>\n",
              "      <td>2.716000e+03</td>\n",
              "      <td>5.510000e+03</td>\n",
              "      <td>3.000000</td>\n",
              "      <td>11.000000</td>\n",
              "      <td>30.000000</td>\n",
              "      <td>323.000000</td>\n",
              "      <td>7.500000e+02</td>\n",
              "      <td>7.540000e+02</td>\n",
              "    </tr>\n",
              "    <tr>\n",
              "      <th>25%</th>\n",
              "      <td>2500.75000</td>\n",
              "      <td>4.627575e+04</td>\n",
              "      <td>4.791175e+04</td>\n",
              "      <td>1.008841e+06</td>\n",
              "      <td>23.000000</td>\n",
              "      <td>9.780316e+12</td>\n",
              "      <td>1990.000000</td>\n",
              "      <td>3.850000</td>\n",
              "      <td>1.356875e+04</td>\n",
              "      <td>1.543875e+04</td>\n",
              "      <td>694.000000</td>\n",
              "      <td>196.000000</td>\n",
              "      <td>656.000000</td>\n",
              "      <td>3112.000000</td>\n",
              "      <td>5.405750e+03</td>\n",
              "      <td>5.334000e+03</td>\n",
              "    </tr>\n",
              "    <tr>\n",
              "      <th>50%</th>\n",
              "      <td>5000.50000</td>\n",
              "      <td>3.949655e+05</td>\n",
              "      <td>4.251235e+05</td>\n",
              "      <td>2.719524e+06</td>\n",
              "      <td>40.000000</td>\n",
              "      <td>9.780452e+12</td>\n",
              "      <td>2004.000000</td>\n",
              "      <td>4.020000</td>\n",
              "      <td>2.115550e+04</td>\n",
              "      <td>2.383250e+04</td>\n",
              "      <td>1402.000000</td>\n",
              "      <td>391.000000</td>\n",
              "      <td>1163.000000</td>\n",
              "      <td>4894.000000</td>\n",
              "      <td>8.269500e+03</td>\n",
              "      <td>8.836000e+03</td>\n",
              "    </tr>\n",
              "    <tr>\n",
              "      <th>75%</th>\n",
              "      <td>7500.25000</td>\n",
              "      <td>9.382225e+06</td>\n",
              "      <td>9.636112e+06</td>\n",
              "      <td>1.451775e+07</td>\n",
              "      <td>67.000000</td>\n",
              "      <td>9.780831e+12</td>\n",
              "      <td>2011.000000</td>\n",
              "      <td>4.180000</td>\n",
              "      <td>4.105350e+04</td>\n",
              "      <td>4.591500e+04</td>\n",
              "      <td>2744.250000</td>\n",
              "      <td>885.000000</td>\n",
              "      <td>2353.250000</td>\n",
              "      <td>9287.000000</td>\n",
              "      <td>1.602350e+04</td>\n",
              "      <td>1.730450e+04</td>\n",
              "    </tr>\n",
              "    <tr>\n",
              "      <th>max</th>\n",
              "      <td>10000.00000</td>\n",
              "      <td>3.328864e+07</td>\n",
              "      <td>3.553423e+07</td>\n",
              "      <td>5.639960e+07</td>\n",
              "      <td>3455.000000</td>\n",
              "      <td>9.790008e+12</td>\n",
              "      <td>2017.000000</td>\n",
              "      <td>4.820000</td>\n",
              "      <td>4.780653e+06</td>\n",
              "      <td>4.942365e+06</td>\n",
              "      <td>155254.000000</td>\n",
              "      <td>456191.000000</td>\n",
              "      <td>436802.000000</td>\n",
              "      <td>793319.000000</td>\n",
              "      <td>1.481305e+06</td>\n",
              "      <td>3.011543e+06</td>\n",
              "    </tr>\n",
              "  </tbody>\n",
              "</table>\n",
              "</div>\n",
              "    <div class=\"colab-df-buttons\">\n",
              "\n",
              "  <div class=\"colab-df-container\">\n",
              "    <button class=\"colab-df-convert\" onclick=\"convertToInteractive('df-5908ed6a-e457-4e2a-bab3-25088083d501')\"\n",
              "            title=\"Convert this dataframe to an interactive table.\"\n",
              "            style=\"display:none;\">\n",
              "\n",
              "  <svg xmlns=\"http://www.w3.org/2000/svg\" height=\"24px\" viewBox=\"0 -960 960 960\">\n",
              "    <path d=\"M120-120v-720h720v720H120Zm60-500h600v-160H180v160Zm220 220h160v-160H400v160Zm0 220h160v-160H400v160ZM180-400h160v-160H180v160Zm440 0h160v-160H620v160ZM180-180h160v-160H180v160Zm440 0h160v-160H620v160Z\"/>\n",
              "  </svg>\n",
              "    </button>\n",
              "\n",
              "  <style>\n",
              "    .colab-df-container {\n",
              "      display:flex;\n",
              "      gap: 12px;\n",
              "    }\n",
              "\n",
              "    .colab-df-convert {\n",
              "      background-color: #E8F0FE;\n",
              "      border: none;\n",
              "      border-radius: 50%;\n",
              "      cursor: pointer;\n",
              "      display: none;\n",
              "      fill: #1967D2;\n",
              "      height: 32px;\n",
              "      padding: 0 0 0 0;\n",
              "      width: 32px;\n",
              "    }\n",
              "\n",
              "    .colab-df-convert:hover {\n",
              "      background-color: #E2EBFA;\n",
              "      box-shadow: 0px 1px 2px rgba(60, 64, 67, 0.3), 0px 1px 3px 1px rgba(60, 64, 67, 0.15);\n",
              "      fill: #174EA6;\n",
              "    }\n",
              "\n",
              "    .colab-df-buttons div {\n",
              "      margin-bottom: 4px;\n",
              "    }\n",
              "\n",
              "    [theme=dark] .colab-df-convert {\n",
              "      background-color: #3B4455;\n",
              "      fill: #D2E3FC;\n",
              "    }\n",
              "\n",
              "    [theme=dark] .colab-df-convert:hover {\n",
              "      background-color: #434B5C;\n",
              "      box-shadow: 0px 1px 3px 1px rgba(0, 0, 0, 0.15);\n",
              "      filter: drop-shadow(0px 1px 2px rgba(0, 0, 0, 0.3));\n",
              "      fill: #FFFFFF;\n",
              "    }\n",
              "  </style>\n",
              "\n",
              "    <script>\n",
              "      const buttonEl =\n",
              "        document.querySelector('#df-5908ed6a-e457-4e2a-bab3-25088083d501 button.colab-df-convert');\n",
              "      buttonEl.style.display =\n",
              "        google.colab.kernel.accessAllowed ? 'block' : 'none';\n",
              "\n",
              "      async function convertToInteractive(key) {\n",
              "        const element = document.querySelector('#df-5908ed6a-e457-4e2a-bab3-25088083d501');\n",
              "        const dataTable =\n",
              "          await google.colab.kernel.invokeFunction('convertToInteractive',\n",
              "                                                    [key], {});\n",
              "        if (!dataTable) return;\n",
              "\n",
              "        const docLinkHtml = 'Like what you see? Visit the ' +\n",
              "          '<a target=\"_blank\" href=https://colab.research.google.com/notebooks/data_table.ipynb>data table notebook</a>'\n",
              "          + ' to learn more about interactive tables.';\n",
              "        element.innerHTML = '';\n",
              "        dataTable['output_type'] = 'display_data';\n",
              "        await google.colab.output.renderOutput(dataTable, element);\n",
              "        const docLink = document.createElement('div');\n",
              "        docLink.innerHTML = docLinkHtml;\n",
              "        element.appendChild(docLink);\n",
              "      }\n",
              "    </script>\n",
              "  </div>\n",
              "\n",
              "\n",
              "    <div id=\"df-cf7e2ca2-fd2c-4c55-8efe-d10f46c0f2f4\">\n",
              "      <button class=\"colab-df-quickchart\" onclick=\"quickchart('df-cf7e2ca2-fd2c-4c55-8efe-d10f46c0f2f4')\"\n",
              "                title=\"Suggest charts\"\n",
              "                style=\"display:none;\">\n",
              "\n",
              "<svg xmlns=\"http://www.w3.org/2000/svg\" height=\"24px\"viewBox=\"0 0 24 24\"\n",
              "     width=\"24px\">\n",
              "    <g>\n",
              "        <path d=\"M19 3H5c-1.1 0-2 .9-2 2v14c0 1.1.9 2 2 2h14c1.1 0 2-.9 2-2V5c0-1.1-.9-2-2-2zM9 17H7v-7h2v7zm4 0h-2V7h2v10zm4 0h-2v-4h2v4z\"/>\n",
              "    </g>\n",
              "</svg>\n",
              "      </button>\n",
              "\n",
              "<style>\n",
              "  .colab-df-quickchart {\n",
              "      --bg-color: #E8F0FE;\n",
              "      --fill-color: #1967D2;\n",
              "      --hover-bg-color: #E2EBFA;\n",
              "      --hover-fill-color: #174EA6;\n",
              "      --disabled-fill-color: #AAA;\n",
              "      --disabled-bg-color: #DDD;\n",
              "  }\n",
              "\n",
              "  [theme=dark] .colab-df-quickchart {\n",
              "      --bg-color: #3B4455;\n",
              "      --fill-color: #D2E3FC;\n",
              "      --hover-bg-color: #434B5C;\n",
              "      --hover-fill-color: #FFFFFF;\n",
              "      --disabled-bg-color: #3B4455;\n",
              "      --disabled-fill-color: #666;\n",
              "  }\n",
              "\n",
              "  .colab-df-quickchart {\n",
              "    background-color: var(--bg-color);\n",
              "    border: none;\n",
              "    border-radius: 50%;\n",
              "    cursor: pointer;\n",
              "    display: none;\n",
              "    fill: var(--fill-color);\n",
              "    height: 32px;\n",
              "    padding: 0;\n",
              "    width: 32px;\n",
              "  }\n",
              "\n",
              "  .colab-df-quickchart:hover {\n",
              "    background-color: var(--hover-bg-color);\n",
              "    box-shadow: 0 1px 2px rgba(60, 64, 67, 0.3), 0 1px 3px 1px rgba(60, 64, 67, 0.15);\n",
              "    fill: var(--button-hover-fill-color);\n",
              "  }\n",
              "\n",
              "  .colab-df-quickchart-complete:disabled,\n",
              "  .colab-df-quickchart-complete:disabled:hover {\n",
              "    background-color: var(--disabled-bg-color);\n",
              "    fill: var(--disabled-fill-color);\n",
              "    box-shadow: none;\n",
              "  }\n",
              "\n",
              "  .colab-df-spinner {\n",
              "    border: 2px solid var(--fill-color);\n",
              "    border-color: transparent;\n",
              "    border-bottom-color: var(--fill-color);\n",
              "    animation:\n",
              "      spin 1s steps(1) infinite;\n",
              "  }\n",
              "\n",
              "  @keyframes spin {\n",
              "    0% {\n",
              "      border-color: transparent;\n",
              "      border-bottom-color: var(--fill-color);\n",
              "      border-left-color: var(--fill-color);\n",
              "    }\n",
              "    20% {\n",
              "      border-color: transparent;\n",
              "      border-left-color: var(--fill-color);\n",
              "      border-top-color: var(--fill-color);\n",
              "    }\n",
              "    30% {\n",
              "      border-color: transparent;\n",
              "      border-left-color: var(--fill-color);\n",
              "      border-top-color: var(--fill-color);\n",
              "      border-right-color: var(--fill-color);\n",
              "    }\n",
              "    40% {\n",
              "      border-color: transparent;\n",
              "      border-right-color: var(--fill-color);\n",
              "      border-top-color: var(--fill-color);\n",
              "    }\n",
              "    60% {\n",
              "      border-color: transparent;\n",
              "      border-right-color: var(--fill-color);\n",
              "    }\n",
              "    80% {\n",
              "      border-color: transparent;\n",
              "      border-right-color: var(--fill-color);\n",
              "      border-bottom-color: var(--fill-color);\n",
              "    }\n",
              "    90% {\n",
              "      border-color: transparent;\n",
              "      border-bottom-color: var(--fill-color);\n",
              "    }\n",
              "  }\n",
              "</style>\n",
              "\n",
              "      <script>\n",
              "        async function quickchart(key) {\n",
              "          const quickchartButtonEl =\n",
              "            document.querySelector('#' + key + ' button');\n",
              "          quickchartButtonEl.disabled = true;  // To prevent multiple clicks.\n",
              "          quickchartButtonEl.classList.add('colab-df-spinner');\n",
              "          try {\n",
              "            const charts = await google.colab.kernel.invokeFunction(\n",
              "                'suggestCharts', [key], {});\n",
              "          } catch (error) {\n",
              "            console.error('Error during call to suggestCharts:', error);\n",
              "          }\n",
              "          quickchartButtonEl.classList.remove('colab-df-spinner');\n",
              "          quickchartButtonEl.classList.add('colab-df-quickchart-complete');\n",
              "        }\n",
              "        (() => {\n",
              "          let quickchartButtonEl =\n",
              "            document.querySelector('#df-cf7e2ca2-fd2c-4c55-8efe-d10f46c0f2f4 button');\n",
              "          quickchartButtonEl.style.display =\n",
              "            google.colab.kernel.accessAllowed ? 'block' : 'none';\n",
              "        })();\n",
              "      </script>\n",
              "    </div>\n",
              "\n",
              "    </div>\n",
              "  </div>\n"
            ],
            "application/vnd.google.colaboratory.intrinsic+json": {
              "type": "dataframe",
              "summary": "{\n  \"name\": \"books\",\n  \"rows\": 8,\n  \"fields\": [\n    {\n      \"column\": \"id\",\n      \"properties\": {\n        \"dtype\": \"number\",\n        \"std\": 3603.743586536124,\n        \"min\": 1.0,\n        \"max\": 10000.0,\n        \"num_unique_values\": 6,\n        \"samples\": [\n          10000.0,\n          5000.5,\n          7500.25\n        ],\n        \"semantic_type\": \"\",\n        \"description\": \"\"\n      }\n    },\n    {\n      \"column\": \"book_id\",\n      \"properties\": {\n        \"dtype\": \"number\",\n        \"std\": 11275451.142535165,\n        \"min\": 1.0,\n        \"max\": 33288638.0,\n        \"num_unique_values\": 8,\n        \"samples\": [\n          5264696.5132,\n          394965.5,\n          10000.0\n        ],\n        \"semantic_type\": \"\",\n        \"description\": \"\"\n      }\n    },\n    {\n      \"column\": \"best_book_id\",\n      \"properties\": {\n        \"dtype\": \"number\",\n        \"std\": 12026782.142354654,\n        \"min\": 1.0,\n        \"max\": 35534230.0,\n        \"num_unique_values\": 8,\n        \"samples\": [\n          5471213.5801,\n          425123.5,\n          10000.0\n        ],\n        \"semantic_type\": \"\",\n        \"description\": \"\"\n      }\n    },\n    {\n      \"column\": \"work_id\",\n      \"properties\": {\n        \"dtype\": \"number\",\n        \"std\": 18835953.648133516,\n        \"min\": 87.0,\n        \"max\": 56399597.0,\n        \"num_unique_values\": 8,\n        \"samples\": [\n          8646183.4246,\n          2719524.5,\n          10000.0\n        ],\n        \"semantic_type\": \"\",\n        \"description\": \"\"\n      }\n    },\n    {\n      \"column\": \"books_count\",\n      \"properties\": {\n        \"dtype\": \"number\",\n        \"std\": 3546.875373075507,\n        \"min\": 1.0,\n        \"max\": 10000.0,\n        \"num_unique_values\": 8,\n        \"samples\": [\n          75.7127,\n          40.0,\n          10000.0\n        ],\n        \"semantic_type\": \"\",\n        \"description\": \"\"\n      }\n    },\n    {\n      \"column\": \"isbn13\",\n      \"properties\": {\n        \"dtype\": \"number\",\n        \"std\": 4985697081571.246,\n        \"min\": 9415.0,\n        \"max\": 9790007672390.0,\n        \"num_unique_values\": 8,\n        \"samples\": [\n          9755044298883.463,\n          9780451528640.0,\n          9415.0\n        ],\n        \"semantic_type\": \"\",\n        \"description\": \"\"\n      }\n    },\n    {\n      \"column\": \"original_publication_year\",\n      \"properties\": {\n        \"dtype\": \"number\",\n        \"std\": 3389.677603082203,\n        \"min\": -1750.0,\n        \"max\": 9979.0,\n        \"num_unique_values\": 8,\n        \"samples\": [\n          1981.987674115643,\n          2004.0,\n          9979.0\n        ],\n        \"semantic_type\": \"\",\n        \"description\": \"\"\n      }\n    },\n    {\n      \"column\": \"average_rating\",\n      \"properties\": {\n        \"dtype\": \"number\",\n        \"std\": 3534.342386288619,\n        \"min\": 0.25442748053872877,\n        \"max\": 10000.0,\n        \"num_unique_values\": 8,\n        \"samples\": [\n          4.002191000000001,\n          4.02,\n          10000.0\n        ],\n        \"semantic_type\": \"\",\n        \"description\": \"\"\n      }\n    },\n    {\n      \"column\": \"ratings_count\",\n      \"properties\": {\n        \"dtype\": \"number\",\n        \"std\": 1675806.4649757585,\n        \"min\": 2716.0,\n        \"max\": 4780653.0,\n        \"num_unique_values\": 8,\n        \"samples\": [\n          54001.2351,\n          21155.5,\n          10000.0\n        ],\n        \"semantic_type\": \"\",\n        \"description\": \"\"\n      }\n    },\n    {\n      \"column\": \"work_ratings_count\",\n      \"properties\": {\n        \"dtype\": \"number\",\n        \"std\": 1731613.4962199288,\n        \"min\": 5510.0,\n        \"max\": 4942365.0,\n        \"num_unique_values\": 8,\n        \"samples\": [\n          59687.3216,\n          23832.5,\n          10000.0\n        ],\n        \"semantic_type\": \"\",\n        \"description\": \"\"\n      }\n    },\n    {\n      \"column\": \"work_text_reviews_count\",\n      \"properties\": {\n        \"dtype\": \"number\",\n        \"std\": 53783.10071178584,\n        \"min\": 3.0,\n        \"max\": 155254.0,\n        \"num_unique_values\": 8,\n        \"samples\": [\n          2919.9553,\n          1402.0,\n          10000.0\n        ],\n        \"semantic_type\": \"\",\n        \"description\": \"\"\n      }\n    },\n    {\n      \"column\": \"ratings_1\",\n      \"properties\": {\n        \"dtype\": \"number\",\n        \"std\": 160346.10936995537,\n        \"min\": 11.0,\n        \"max\": 456191.0,\n        \"num_unique_values\": 8,\n        \"samples\": [\n          1345.0406,\n          391.0,\n          10000.0\n        ],\n        \"semantic_type\": \"\",\n        \"description\": \"\"\n      }\n    },\n    {\n      \"column\": \"ratings_2\",\n      \"properties\": {\n        \"dtype\": \"number\",\n        \"std\": 153117.53812883256,\n        \"min\": 30.0,\n        \"max\": 436802.0,\n        \"num_unique_values\": 8,\n        \"samples\": [\n          3110.885,\n          1163.0,\n          10000.0\n        ],\n        \"semantic_type\": \"\",\n        \"description\": \"\"\n      }\n    },\n    {\n      \"column\": \"ratings_3\",\n      \"properties\": {\n        \"dtype\": \"number\",\n        \"std\": 277196.597802739,\n        \"min\": 323.0,\n        \"max\": 793319.0,\n        \"num_unique_values\": 8,\n        \"samples\": [\n          11475.8938,\n          4894.0,\n          10000.0\n        ],\n        \"semantic_type\": \"\",\n        \"description\": \"\"\n      }\n    },\n    {\n      \"column\": \"ratings_4\",\n      \"properties\": {\n        \"dtype\": \"number\",\n        \"std\": 518306.6282207819,\n        \"min\": 750.0,\n        \"max\": 1481305.0,\n        \"num_unique_values\": 8,\n        \"samples\": [\n          19965.6966,\n          8269.5,\n          10000.0\n        ],\n        \"semantic_type\": \"\",\n        \"description\": \"\"\n      }\n    },\n    {\n      \"column\": \"ratings_5\",\n      \"properties\": {\n        \"dtype\": \"number\",\n        \"std\": 1057675.0155383227,\n        \"min\": 754.0,\n        \"max\": 3011543.0,\n        \"num_unique_values\": 8,\n        \"samples\": [\n          23789.8056,\n          8836.0,\n          10000.0\n        ],\n        \"semantic_type\": \"\",\n        \"description\": \"\"\n      }\n    }\n  ]\n}"
            }
          },
          "metadata": {},
          "execution_count": 319
        }
      ]
    },
    {
      "cell_type": "markdown",
      "source": [
        "#### Summary User dan Buku di Ratings"
      ],
      "metadata": {
        "id": "u49oqOUshZI_"
      }
    },
    {
      "cell_type": "code",
      "source": [
        "print('Jumlah user_id (pengguna): ', len(ratings.user_id.unique()))\n",
        "print('Jumlah book_id (buku): ', len(ratings.book_id.unique()))\n",
        "print('Jumlah data rating: ', len(ratings))"
      ],
      "metadata": {
        "colab": {
          "base_uri": "https://localhost:8080/"
        },
        "id": "XfmsuB0xJMwA",
        "outputId": "917e46ae-e725-436a-e365-e30924143c2d"
      },
      "execution_count": 219,
      "outputs": [
        {
          "output_type": "stream",
          "name": "stdout",
          "text": [
            "Jumlah user_id (pengguna):  53424\n",
            "Jumlah book_id (buku):  10000\n",
            "Jumlah data rating:  981756\n"
          ]
        }
      ]
    },
    {
      "cell_type": "markdown",
      "source": [
        "## **Data Preprocessing**\n",
        "\n",
        "Menampilkan ukuran (baris dan kolom) dari dataset *books, to_read, *dan* ratings.* Ini adalah langkah awal untuk memahami data."
      ],
      "metadata": {
        "id": "46drHp3GJb5v"
      }
    },
    {
      "cell_type": "code",
      "source": [
        "# Menampilkan ukuran dataset utama\n",
        "print(\"books shape:\", books.shape)\n",
        "print(\"to_read shape:\", to_read.shape)\n",
        "print(\"ratings shape:\", ratings.shape)"
      ],
      "metadata": {
        "colab": {
          "base_uri": "https://localhost:8080/"
        },
        "id": "MXN4LNJWQ5FP",
        "outputId": "3f34b058-c8eb-4279-e87c-12f53f0b8b70"
      },
      "execution_count": 320,
      "outputs": [
        {
          "output_type": "stream",
          "name": "stdout",
          "text": [
            "books shape: (10000, 23)\n",
            "to_read shape: (912705, 2)\n",
            "ratings shape: (981756, 3)\n"
          ]
        }
      ]
    },
    {
      "cell_type": "markdown",
      "source": [
        "Menggabungkan semua book_id unik dari beberapa dataset berbeda, lalu mengurutkan dan menghilangkan duplikat supaya tahu jumlah buku unik keseluruhan di semua data.\n"
      ],
      "metadata": {
        "id": "JH_gB3X-j3PE"
      }
    },
    {
      "cell_type": "code",
      "source": [
        "# Menggabungkan seluruh book_id pada kategori Buku\n",
        "books_all = np.concatenate((\n",
        "    books.book_id.unique(),\n",
        "    ratings.book_id.unique(),\n",
        "    book_tags.goodreads_book_id.unique(),\n",
        "    to_read.book_id.unique()\n",
        "))\n",
        "\n",
        "# Mengurutkan dan menghapus duplikat\n",
        "books_all = np.sort(np.unique(books_all))\n",
        "print('Jumlah seluruh buku unik berdasarkan book_id:', len(books_all))"
      ],
      "metadata": {
        "id": "Eg1AtWWOJpnx",
        "colab": {
          "base_uri": "https://localhost:8080/"
        },
        "outputId": "23bca9e8-3118-4318-ff78-5d776551dd30"
      },
      "execution_count": 321,
      "outputs": [
        {
          "output_type": "stream",
          "name": "stdout",
          "text": [
            "Jumlah seluruh buku unik berdasarkan book_id: 19188\n"
          ]
        }
      ]
    },
    {
      "cell_type": "markdown",
      "source": [
        "Menggabungkan semua *user_id* unik dari data rating (karena *users* tidak ada), lalu mengurutkan dan menghilangkan duplikat untuk mengetahui jumlah pengguna unik."
      ],
      "metadata": {
        "id": "W1Jq0E2Kj-23"
      }
    },
    {
      "cell_type": "code",
      "source": [
        "# Menggabungkan seluruh user_id pada kategori Pengguna\n",
        "user_all = np.concatenate((\n",
        "    ratings.user_id.unique(),\n",
        "))\n",
        "\n",
        "# Menghapus duplikat dan mengurutkan\n",
        "user_all = np.sort(np.unique(user_all))\n",
        "print('Jumlah seluruh pengguna unik berdasarkan user_id:', len(user_all))"
      ],
      "metadata": {
        "colab": {
          "base_uri": "https://localhost:8080/"
        },
        "id": "VvGfLRTYLHEF",
        "outputId": "07f2a602-94c2-49cf-b328-7fa8c7e363bd"
      },
      "execution_count": 222,
      "outputs": [
        {
          "output_type": "stream",
          "name": "stdout",
          "text": [
            "Jumlah seluruh pengguna unik berdasarkan user_id: 53424\n"
          ]
        }
      ]
    },
    {
      "cell_type": "markdown",
      "source": [
        "Menyesuaikan tipe data *book_id* menjadi integer di semua dataset supaya bisa digabung (merge) tanpa error tipe data."
      ],
      "metadata": {
        "id": "bDjSCliBkRNW"
      }
    },
    {
      "cell_type": "code",
      "source": [
        "# Ubah tipe data book_id menjadi integer agar konsisten dan siap digabungkan\n",
        "books['book_id'] = books['book_id'].astype(int)\n",
        "book_tags_renamed = book_tags.rename(columns={'goodreads_book_id': 'book_id'})\n",
        "book_tags_renamed['book_id'] = book_tags_renamed['book_id'].astype(int)\n",
        "to_read['book_id'] = to_read['book_id'].astype(int)\n",
        "ratings['book_id'] = ratings['book_id'].astype(int)"
      ],
      "metadata": {
        "id": "PLefKdTiNW5M"
      },
      "execution_count": 324,
      "outputs": []
    },
    {
      "cell_type": "markdown",
      "source": [
        "Menggabungkan data rating dengan data buku agar setiap rating punya informasi buku terkait."
      ],
      "metadata": {
        "id": "1uY1Ktt3kgGV"
      }
    },
    {
      "cell_type": "code",
      "source": [
        "# Gabungkan data ratings dengan metadata buku berdasarkan book_id\n",
        "books_ratings = pd.merge(ratings, books, on='book_id', how='left')\n",
        "print(f\"books_ratings shape: {books_ratings.shape}\")"
      ],
      "metadata": {
        "colab": {
          "base_uri": "https://localhost:8080/"
        },
        "id": "UzXurWs4kbqZ",
        "outputId": "26f63ecf-5319-45ca-b63e-e9bf6114b21b"
      },
      "execution_count": 325,
      "outputs": [
        {
          "output_type": "stream",
          "name": "stdout",
          "text": [
            "books_ratings shape: (981756, 25)\n"
          ]
        }
      ]
    },
    {
      "cell_type": "markdown",
      "source": [
        "Menggabungkan tag buku ke data rating+book agar data lengkap dengan tag yang melekat pada buku."
      ],
      "metadata": {
        "id": "5uLeSYQGkkbI"
      }
    },
    {
      "cell_type": "code",
      "source": [
        "book_tags_small = book_tags_renamed[['book_id', 'tag_id']]\n",
        "\n",
        "# Gabungkan data books_ratings dengan tag buku\n",
        "books_ratings_with_tags = pd.merge(books_ratings, book_tags_small, on='book_id', how='left')\n",
        "print(f\"books_ratings_with_tags shape: {books_ratings_with_tags.shape}\")"
      ],
      "metadata": {
        "colab": {
          "base_uri": "https://localhost:8080/"
        },
        "id": "0UVzatGEkb1k",
        "outputId": "13a2c319-f33c-4812-b1f8-2f6544d0b425"
      },
      "execution_count": 326,
      "outputs": [
        {
          "output_type": "stream",
          "name": "stdout",
          "text": [
            "books_ratings_with_tags shape: (8872155, 26)\n"
          ]
        }
      ]
    },
    {
      "cell_type": "markdown",
      "source": [
        "Memastikan jumlah buku unik yang ada di semua dataset sudah benar dan lengkap."
      ],
      "metadata": {
        "id": "nH5sEsldkpfq"
      }
    },
    {
      "cell_type": "code",
      "source": [
        "to_read_small = to_read[['user_id', 'book_id']]\n",
        "\n",
        "# Gabungkan dan cari jumlah buku unik dari semua dataset untuk validasi data\n",
        "unique_books_all = np.unique(np.concatenate([\n",
        "    books['book_id'].unique(),\n",
        "    book_tags_renamed['book_id'].unique(),\n",
        "    to_read['book_id'].unique(),\n",
        "    ratings['book_id'].unique()\n",
        "]))\n",
        "print(f\"Jumlah buku unik dari semua dataset: {len(unique_books_all)}\")"
      ],
      "metadata": {
        "colab": {
          "base_uri": "https://localhost:8080/"
        },
        "id": "GnP0me-tknHi",
        "outputId": "6bd272ac-62cb-47e1-c73b-a7f1f72326ec"
      },
      "execution_count": 327,
      "outputs": [
        {
          "output_type": "stream",
          "name": "stdout",
          "text": [
            "Jumlah buku unik dari semua dataset: 19188\n"
          ]
        }
      ]
    },
    {
      "cell_type": "markdown",
      "source": [
        "Menghitung berapa banyak tag berbeda yang dimiliki setiap buku. Ini berguna untuk fitur analisis lebih lanjut."
      ],
      "metadata": {
        "id": "k1k8rfm9kuNJ"
      }
    },
    {
      "cell_type": "code",
      "source": [
        "# Hitung jumlah tag unik per buku\n",
        "tag_count_per_book = book_tags_renamed.groupby('book_id')['tag_id'].nunique().reset_index()\n",
        "tag_count_per_book.rename(columns={'tag_id': 'tag_count'}, inplace=True)\n",
        "print(tag_count_per_book.head())"
      ],
      "metadata": {
        "colab": {
          "base_uri": "https://localhost:8080/"
        },
        "id": "keeIHY1mP4Yz",
        "outputId": "6c714acb-73cc-4a69-a756-2cfc0319f629"
      },
      "execution_count": 328,
      "outputs": [
        {
          "output_type": "stream",
          "name": "stdout",
          "text": [
            "   book_id  tag_count\n",
            "0        1        100\n",
            "1        2        100\n",
            "2        3         99\n",
            "3        5        100\n",
            "4        6        100\n"
          ]
        }
      ]
    },
    {
      "cell_type": "markdown",
      "source": [
        "Menggabungkan jumlah tag ke dataset rating + buku."
      ],
      "metadata": {
        "id": "h_6DMStkk0Ox"
      }
    },
    {
      "cell_type": "code",
      "source": [
        "# Gabungkan data rating buku dengan jumlah tag tiap buku\n",
        "books_ratings_with_tagcount = pd.merge(books_ratings, tag_count_per_book, on='book_id', how='left')\n",
        "print(books_ratings_with_tagcount.shape)\n",
        "print(books_ratings_with_tagcount.head())"
      ],
      "metadata": {
        "colab": {
          "base_uri": "https://localhost:8080/"
        },
        "id": "Lwat0aI9kxl-",
        "outputId": "5afd379d-04da-41d4-a714-15f39af34905"
      },
      "execution_count": 329,
      "outputs": [
        {
          "output_type": "stream",
          "name": "stdout",
          "text": [
            "(981756, 26)\n",
            "   book_id  user_id  rating    id  best_book_id     work_id  books_count  \\\n",
            "0        1      314       5  27.0           1.0  41335427.0        275.0   \n",
            "1        1      439       3  27.0           1.0  41335427.0        275.0   \n",
            "2        1      588       5  27.0           1.0  41335427.0        275.0   \n",
            "3        1     1169       4  27.0           1.0  41335427.0        275.0   \n",
            "4        1     1185       4  27.0           1.0  41335427.0        275.0   \n",
            "\n",
            "        isbn        isbn13                      authors  ...  \\\n",
            "0  439785960  9.780440e+12  J.K. Rowling, Mary GrandPré  ...   \n",
            "1  439785960  9.780440e+12  J.K. Rowling, Mary GrandPré  ...   \n",
            "2  439785960  9.780440e+12  J.K. Rowling, Mary GrandPré  ...   \n",
            "3  439785960  9.780440e+12  J.K. Rowling, Mary GrandPré  ...   \n",
            "4  439785960  9.780440e+12  J.K. Rowling, Mary GrandPré  ...   \n",
            "\n",
            "   work_ratings_count work_text_reviews_count ratings_1 ratings_2  ratings_3  \\\n",
            "0           1785676.0                 27520.0    7308.0   21516.0   136333.0   \n",
            "1           1785676.0                 27520.0    7308.0   21516.0   136333.0   \n",
            "2           1785676.0                 27520.0    7308.0   21516.0   136333.0   \n",
            "3           1785676.0                 27520.0    7308.0   21516.0   136333.0   \n",
            "4           1785676.0                 27520.0    7308.0   21516.0   136333.0   \n",
            "\n",
            "   ratings_4  ratings_5                                          image_url  \\\n",
            "0   459028.0  1161491.0  https://images.gr-assets.com/books/1361039191m...   \n",
            "1   459028.0  1161491.0  https://images.gr-assets.com/books/1361039191m...   \n",
            "2   459028.0  1161491.0  https://images.gr-assets.com/books/1361039191m...   \n",
            "3   459028.0  1161491.0  https://images.gr-assets.com/books/1361039191m...   \n",
            "4   459028.0  1161491.0  https://images.gr-assets.com/books/1361039191m...   \n",
            "\n",
            "                                     small_image_url  tag_count  \n",
            "0  https://images.gr-assets.com/books/1361039191s...      100.0  \n",
            "1  https://images.gr-assets.com/books/1361039191s...      100.0  \n",
            "2  https://images.gr-assets.com/books/1361039191s...      100.0  \n",
            "3  https://images.gr-assets.com/books/1361039191s...      100.0  \n",
            "4  https://images.gr-assets.com/books/1361039191s...      100.0  \n",
            "\n",
            "[5 rows x 26 columns]\n"
          ]
        }
      ]
    },
    {
      "cell_type": "markdown",
      "source": [
        "Menghitung berapa banyak user yang menandai buku sebagai \"ingin dibaca\" untuk setiap buku."
      ],
      "metadata": {
        "id": "mdmVODtsk6nt"
      }
    },
    {
      "cell_type": "code",
      "source": [
        "# Hitung jumlah user yang ingin membaca tiap buku (to_read_count)\n",
        "to_read_count = to_read.groupby('book_id')['user_id'].nunique().reset_index()\n",
        "to_read_count.rename(columns={'user_id': 'to_read_count'}, inplace=True)\n",
        "print(to_read_count.head())"
      ],
      "metadata": {
        "colab": {
          "base_uri": "https://localhost:8080/"
        },
        "id": "R9JimpPeQ4QO",
        "outputId": "6c27d094-cac0-43ef-e722-b205be0a6cba"
      },
      "execution_count": 330,
      "outputs": [
        {
          "output_type": "stream",
          "name": "stdout",
          "text": [
            "   book_id  to_read_count\n",
            "0        1            973\n",
            "1        2            400\n",
            "2        3            287\n",
            "3        4           1478\n",
            "4        5           1293\n"
          ]
        }
      ]
    },
    {
      "cell_type": "markdown",
      "source": [
        "Menggabungkan semua fitur dalam satu dataset lengkap dan mengisi nilai kosong supaya data siap dipakai.\n"
      ],
      "metadata": {
        "id": "26C2BmlJlDEJ"
      }
    },
    {
      "cell_type": "code",
      "source": [
        "# Gabungkan semua data fitur (rating, tag_count, to_read_count) dalam satu dataframe\n",
        "books_ratings_full = pd.merge(books_ratings_with_tagcount, to_read_count, on='book_id', how='left')\n",
        "\n",
        "# Isi nilai kosong (NaN) pada to_read_count dengan 0 dan ubah tipe jadi integer\n",
        "books_ratings_full['to_read_count'] = books_ratings_full['to_read_count'].fillna(0).astype(int)\n",
        "\n",
        "print(books_ratings_full[['book_id', 'tag_count', 'to_read_count']].head())\n",
        "print(f'Total rows after merge: {books_ratings_full.shape[0]}')"
      ],
      "metadata": {
        "colab": {
          "base_uri": "https://localhost:8080/"
        },
        "id": "xwfi5jnUk_Ga",
        "outputId": "152ba4c6-8713-4196-cf58-81d85a0a2aba"
      },
      "execution_count": 331,
      "outputs": [
        {
          "output_type": "stream",
          "name": "stdout",
          "text": [
            "   book_id  tag_count  to_read_count\n",
            "0        1      100.0            973\n",
            "1        1      100.0            973\n",
            "2        1      100.0            973\n",
            "3        1      100.0            973\n",
            "4        1      100.0            973\n",
            "Total rows after merge: 981756\n"
          ]
        }
      ]
    },
    {
      "cell_type": "markdown",
      "source": [
        "Pengecekan dan pembersihan nilai kosong agar tidak ada masalah saat analisis selanjutnya.\n"
      ],
      "metadata": {
        "id": "OsIaSU0vlSHP"
      }
    },
    {
      "cell_type": "code",
      "source": [
        "# Cek nilai kosong (missing values) pada kolom penting\n",
        "books_ratings_full.isnull().sum()\n",
        "\n",
        "cols_needed = ['book_id', 'rating', 'user_id', 'tag_count', 'to_read_count']\n",
        "books_subset = books_ratings_full[cols_needed]\n",
        "print(books_subset.isnull().sum())"
      ],
      "metadata": {
        "colab": {
          "base_uri": "https://localhost:8080/"
        },
        "id": "K6nsyjoCS4Av",
        "outputId": "39f5c616-207e-4c8d-a88b-d13ecc95817d"
      },
      "execution_count": 334,
      "outputs": [
        {
          "output_type": "stream",
          "name": "stdout",
          "text": [
            "book_id          0\n",
            "rating           0\n",
            "user_id          0\n",
            "tag_count        0\n",
            "to_read_count    0\n",
            "dtype: int64\n"
          ]
        }
      ]
    },
    {
      "cell_type": "markdown",
      "source": [
        "Membuat ringkasan statistik rating tiap buku sekaligus menyimpan fitur tambahan (tag dan to_read). Ini memudahkan analisis lebih lanjut."
      ],
      "metadata": {
        "id": "OZHEGNnelnnU"
      }
    },
    {
      "cell_type": "code",
      "source": [
        "# Mengelompokkan data berdasarkan book_id untuk mendapatkan ringkasan rating dan fitur\n",
        "books_grouped = books_ratings_full.groupby('book_id').agg({\n",
        "    'rating': ['sum', 'mean', 'count'],\n",
        "    'tag_count': 'first',\n",
        "    'to_read_count': 'first'\n",
        "}).reset_index()\n",
        "\n",
        "# Rename columns\n",
        "books_grouped.columns = ['book_id', 'rating_sum', 'rating_mean', 'rating_count', 'tag_count', 'to_read_count']\n",
        "\n",
        "print(books_grouped.head())"
      ],
      "metadata": {
        "colab": {
          "base_uri": "https://localhost:8080/"
        },
        "id": "J6Gc2IRjUm1a",
        "outputId": "2ebdec1b-c781-4516-c9b6-ba5515d9075d"
      },
      "execution_count": 231,
      "outputs": [
        {
          "output_type": "stream",
          "name": "stdout",
          "text": [
            "   book_id  rating_sum  rating_mean  rating_count  tag_count  to_read_count\n",
            "0        1         424         4.24           100        100            973\n",
            "1        2         421         4.21           100        100            400\n",
            "2        3         309         3.09           100         99            287\n",
            "3        4         446         4.46           100          0           1478\n",
            "4        5         389         3.89           100        100           1293\n"
          ]
        }
      ]
    },
    {
      "cell_type": "markdown",
      "source": [
        "Melakukan validasi data rating, memastikan hanya data dengan metadata buku lengkap yang dipakai agar tidak ada data rusak."
      ],
      "metadata": {
        "id": "gzdK8uYql3Nt"
      }
    },
    {
      "cell_type": "code",
      "source": [
        "# Mengecek book_id yang ada di ratings tapi tidak ada di books (metadata buku)\n",
        "missing_books = books_ratings[~books_ratings['book_id'].isin(books['book_id'])]\n",
        "print(missing_books['book_id'].value_counts())\n",
        "\n",
        "missing_count = ratings[~ratings['book_id'].isin(books['book_id'])]['book_id'].nunique()\n",
        "print(f\"Jumlah book_id yang tidak ditemukan di metadata books: {missing_count}\")\n",
        "\n",
        "# Filter ratings hanya yang ada metadata bukunya\n",
        "rating_filtered = ratings[ratings['book_id'].isin(books['book_id'])]\n",
        "books_ratings_full = pd.merge(rating_filtered, books, on='book_id', how='left')"
      ],
      "metadata": {
        "colab": {
          "base_uri": "https://localhost:8080/"
        },
        "id": "CVvH8IyJVXjz",
        "outputId": "04f4e3cb-bed9-4fb9-a644-e41697efdb41"
      },
      "execution_count": 337,
      "outputs": [
        {
          "output_type": "stream",
          "name": "stdout",
          "text": [
            "book_id\n",
            "9977    100\n",
            "9976    100\n",
            "9966    100\n",
            "9964    100\n",
            "53      100\n",
            "       ... \n",
            "9315     36\n",
            "1935     34\n",
            "9486     24\n",
            "9345     11\n",
            "7803      8\n",
            "Name: count, Length: 9188, dtype: int64\n",
            "Jumlah book_id yang tidak ditemukan di metadata books: 9188\n"
          ]
        }
      ]
    },
    {
      "cell_type": "markdown",
      "source": [
        "Membuat grafik distribusi rating untuk mengetahui sebaran rating dalam dataset."
      ],
      "metadata": {
        "id": "NcZVwyXQmCC3"
      }
    },
    {
      "cell_type": "code",
      "source": [
        "# Visualisasi distribusi rating buku\n",
        "sns.histplot(ratings['rating'], bins=5, kde=True)\n",
        "plt.title('Distribusi Rating Buku')\n",
        "plt.xlabel('Rating')\n",
        "plt.ylabel('Jumlah')\n",
        "plt.show()"
      ],
      "metadata": {
        "colab": {
          "base_uri": "https://localhost:8080/",
          "height": 472
        },
        "id": "YjKEAN1StauV",
        "outputId": "81005ee1-20c6-45a2-8382-29efc625f4af"
      },
      "execution_count": 338,
      "outputs": [
        {
          "output_type": "display_data",
          "data": {
            "text/plain": [
              "<Figure size 640x480 with 1 Axes>"
            ],
            "image/png": "[encoded data removed]"
          },
          "metadata": {}
        }
      ]
    },
    {
      "cell_type": "code",
      "source": [
        "# Visualisasi distribusi jumlah rating per user\n",
        "user_rating_counts = ratings['user_id'].value_counts()\n",
        "sns.histplot(user_rating_counts, bins=100)\n",
        "plt.title('Distribusi Rating per Pengguna')\n",
        "plt.xlim(0, 100)  # Fokus pada pengguna dengan rating sampai 100 kali\n",
        "plt.show()"
      ],
      "metadata": {
        "colab": {
          "base_uri": "https://localhost:8080/",
          "height": 472
        },
        "id": "W3eRisoxtfki",
        "outputId": "d9b81ca7-7344-436d-8a49-a7fa0a860414"
      },
      "execution_count": 339,
      "outputs": [
        {
          "output_type": "display_data",
          "data": {
            "text/plain": [
              "<Figure size 640x480 with 1 Axes>"
            ],
            "image/png": "[encoded data removed]"
          },
          "metadata": {}
        }
      ]
    },
    {
      "cell_type": "code",
      "source": [
        "# Mengatasi missing value pada dataset books\n",
        "books.fillna({'language_code': books['language_code'].mode()[0]}, inplace=True)"
      ],
      "metadata": {
        "id": "OTwEdeWDuOzQ"
      },
      "execution_count": 341,
      "outputs": []
    },
    {
      "cell_type": "markdown",
      "source": [
        "# Data Preparation"
      ],
      "metadata": {
        "id": "zFZg-wP2xPaN"
      }
    },
    {
      "cell_type": "markdown",
      "source": [
        "Membaca dataset dari file CSV ke dalam DataFrame bernama *books.*"
      ],
      "metadata": {
        "id": "tFjp3QEPmsV0"
      }
    },
    {
      "cell_type": "code",
      "source": [
        "books = pd.read_csv('./goodbooks10k/books.csv')"
      ],
      "metadata": {
        "id": "JtWAahVwukS6"
      },
      "execution_count": 244,
      "outputs": []
    },
    {
      "cell_type": "markdown",
      "source": [
        "Mengecek nama kolom dan beberapa data teratas untuk memahami struktur data."
      ],
      "metadata": {
        "id": "SR1fl6M2mv22"
      }
    },
    {
      "cell_type": "code",
      "source": [
        "print(books.columns)\n",
        "print(books.head())"
      ],
      "metadata": {
        "colab": {
          "base_uri": "https://localhost:8080/"
        },
        "id": "C3yOs8mY2TmP",
        "outputId": "00cfa09d-e154-4f23-e5f1-841b35f2270d"
      },
      "execution_count": 245,
      "outputs": [
        {
          "output_type": "stream",
          "name": "stdout",
          "text": [
            "Index(['id', 'book_id', 'best_book_id', 'work_id', 'books_count', 'isbn',\n",
            "       'isbn13', 'authors', 'original_publication_year', 'original_title',\n",
            "       'title', 'language_code', 'average_rating', 'ratings_count',\n",
            "       'work_ratings_count', 'work_text_reviews_count', 'ratings_1',\n",
            "       'ratings_2', 'ratings_3', 'ratings_4', 'ratings_5', 'image_url',\n",
            "       'small_image_url'],\n",
            "      dtype='object')\n",
            "   id  book_id  best_book_id  work_id  books_count       isbn        isbn13  \\\n",
            "0   1  2767052       2767052  2792775          272  439023483  9.780439e+12   \n",
            "1   2        3             3  4640799          491  439554934  9.780440e+12   \n",
            "2   3    41865         41865  3212258          226  316015849  9.780316e+12   \n",
            "3   4     2657          2657  3275794          487   61120081  9.780061e+12   \n",
            "4   5     4671          4671   245494         1356  743273567  9.780743e+12   \n",
            "\n",
            "                       authors  original_publication_year  \\\n",
            "0              Suzanne Collins                     2008.0   \n",
            "1  J.K. Rowling, Mary GrandPré                     1997.0   \n",
            "2              Stephenie Meyer                     2005.0   \n",
            "3                   Harper Lee                     1960.0   \n",
            "4          F. Scott Fitzgerald                     1925.0   \n",
            "\n",
            "                             original_title  ... ratings_count  \\\n",
            "0                          The Hunger Games  ...       4780653   \n",
            "1  Harry Potter and the Philosopher's Stone  ...       4602479   \n",
            "2                                  Twilight  ...       3866839   \n",
            "3                     To Kill a Mockingbird  ...       3198671   \n",
            "4                          The Great Gatsby  ...       2683664   \n",
            "\n",
            "  work_ratings_count  work_text_reviews_count  ratings_1  ratings_2  \\\n",
            "0            4942365                   155254      66715     127936   \n",
            "1            4800065                    75867      75504     101676   \n",
            "2            3916824                    95009     456191     436802   \n",
            "3            3340896                    72586      60427     117415   \n",
            "4            2773745                    51992      86236     197621   \n",
            "\n",
            "   ratings_3  ratings_4  ratings_5  \\\n",
            "0     560092    1481305    2706317   \n",
            "1     455024    1156318    3011543   \n",
            "2     793319     875073    1355439   \n",
            "3     446835    1001952    1714267   \n",
            "4     606158     936012     947718   \n",
            "\n",
            "                                           image_url  \\\n",
            "0  https://images.gr-assets.com/books/1447303603m...   \n",
            "1  https://images.gr-assets.com/books/1474154022m...   \n",
            "2  https://images.gr-assets.com/books/1361039443m...   \n",
            "3  https://images.gr-assets.com/books/1361975680m...   \n",
            "4  https://images.gr-assets.com/books/1490528560m...   \n",
            "\n",
            "                                     small_image_url  \n",
            "0  https://images.gr-assets.com/books/1447303603s...  \n",
            "1  https://images.gr-assets.com/books/1474154022s...  \n",
            "2  https://images.gr-assets.com/books/1361039443s...  \n",
            "3  https://images.gr-assets.com/books/1361975680s...  \n",
            "4  https://images.gr-assets.com/books/1490528560s...  \n",
            "\n",
            "[5 rows x 23 columns]\n"
          ]
        }
      ]
    },
    {
      "cell_type": "markdown",
      "source": [
        "Menyaring kolom-kolom penting saja dari dataset, lalu membuat salinan ke book_new agar data asli tidak berubah."
      ],
      "metadata": {
        "id": "xZZ10UhEm1Ny"
      }
    },
    {
      "cell_type": "code",
      "source": [
        "book_new = books[['book_id', 'title', 'authors', 'original_publication_year', 'average_rating', 'ratings_count']].copy()"
      ],
      "metadata": {
        "id": "ohkhm4MKm3Ia"
      },
      "execution_count": 342,
      "outputs": []
    },
    {
      "cell_type": "markdown",
      "source": [
        "Mengganti nama kolom menjadi lebih ringkas dan mudah digunakan."
      ],
      "metadata": {
        "id": "0rbQrQ12m7WA"
      }
    },
    {
      "cell_type": "code",
      "source": [
        "book_new.columns = ['id', 'title', 'author', 'year', 'avg_rating', 'num_ratings']"
      ],
      "metadata": {
        "id": "QK5Qz6MF2Tps"
      },
      "execution_count": 343,
      "outputs": []
    },
    {
      "cell_type": "markdown",
      "source": [
        "Menampilkan 10 data awal dan 5 data acak untuk melihat distribusi dan isi data."
      ],
      "metadata": {
        "id": "qqlAS86mm___"
      }
    },
    {
      "cell_type": "code",
      "source": [
        "print(book_new.head(10))\n",
        "print(book_new.sample(5))"
      ],
      "metadata": {
        "colab": {
          "base_uri": "https://localhost:8080/"
        },
        "id": "yE46OvQs3ALz",
        "outputId": "ca8b3495-6917-41cb-efca-cb425a4ec4fc"
      },
      "execution_count": 344,
      "outputs": [
        {
          "output_type": "stream",
          "name": "stdout",
          "text": [
            "         id                                              title  \\\n",
            "0   2767052            The Hunger Games (The Hunger Games, #1)   \n",
            "1         3  Harry Potter and the Sorcerer's Stone (Harry P...   \n",
            "2     41865                            Twilight (Twilight, #1)   \n",
            "3      2657                              To Kill a Mockingbird   \n",
            "4      4671                                   The Great Gatsby   \n",
            "5  11870085                             The Fault in Our Stars   \n",
            "6      5907                                         The Hobbit   \n",
            "7      5107                             The Catcher in the Rye   \n",
            "8       960              Angels & Demons  (Robert Langdon, #1)   \n",
            "9      1885                                Pride and Prejudice   \n",
            "\n",
            "                        author    year  avg_rating  num_ratings  \n",
            "0              Suzanne Collins  2008.0        4.34      4780653  \n",
            "1  J.K. Rowling, Mary GrandPré  1997.0        4.44      4602479  \n",
            "2              Stephenie Meyer  2005.0        3.57      3866839  \n",
            "3                   Harper Lee  1960.0        4.25      3198671  \n",
            "4          F. Scott Fitzgerald  1925.0        3.89      2683664  \n",
            "5                   John Green  2012.0        4.26      2346404  \n",
            "6               J.R.R. Tolkien  1937.0        4.25      2071616  \n",
            "7                J.D. Salinger  1951.0        3.79      2044241  \n",
            "8                    Dan Brown  2000.0        3.85      2001311  \n",
            "9                  Jane Austen  1813.0        4.24      2035490  \n",
            "            id                                              title  \\\n",
            "5444    199782  Queen of Babble in the Big City (Queen of Babb...   \n",
            "3523     27000            Lost in a Good Book (Thursday Next, #2)   \n",
            "9877  13426114  The Honest Truth About Dishonesty: How We Lie ...   \n",
            "7595     11919              Haunted (Women of the Otherworld, #5)   \n",
            "2408    858513                                      Chrysanthemum   \n",
            "\n",
            "                author    year  avg_rating  num_ratings  \n",
            "5444         Meg Cabot  2007.0        3.77        24000  \n",
            "3523     Jasper Fforde  2002.0        4.14        37873  \n",
            "9877        Dan Ariely  2012.0        3.91         8423  \n",
            "7595  Kelley Armstrong  2005.0        4.08        19974  \n",
            "2408      Kevin Henkes  1991.0        4.31        43520  \n"
          ]
        }
      ]
    },
    {
      "cell_type": "markdown",
      "source": [
        "Mengecek nilai kosong (missing values) di setiap kolom\n"
      ],
      "metadata": {
        "id": "J81gEfSlnL00"
      }
    },
    {
      "cell_type": "code",
      "source": [
        "print(book_new.isnull().sum())"
      ],
      "metadata": {
        "colab": {
          "base_uri": "https://localhost:8080/"
        },
        "id": "my_AGDJ-3n9Z",
        "outputId": "b291a3e8-3c4a-4b0d-8665-b3d75960ce88"
      },
      "execution_count": 346,
      "outputs": [
        {
          "output_type": "stream",
          "name": "stdout",
          "text": [
            "id              0\n",
            "title           0\n",
            "author          0\n",
            "year           21\n",
            "avg_rating      0\n",
            "num_ratings     0\n",
            "dtype: int64\n"
          ]
        }
      ]
    },
    {
      "cell_type": "markdown",
      "source": [
        "Menangani nilai kosong pada kolom year dengan mengisinya menggunakan nilai median. Ini adalah pendekatan umum untuk data numerik yang kemungkinan skewed."
      ],
      "metadata": {
        "id": "ZKVog3b3nNvD"
      }
    },
    {
      "cell_type": "code",
      "source": [
        "median_year = book_new['year'].median()\n",
        "book_new['year'] = book_new['year'].fillna(median_year)"
      ],
      "metadata": {
        "id": "X1N343dcnJkz"
      },
      "execution_count": 347,
      "outputs": []
    },
    {
      "cell_type": "markdown",
      "source": [
        "Mengecek ulang apakah masih ada nilai kosong setelah pengisian."
      ],
      "metadata": {
        "id": "7M-HfXtQnR_k"
      }
    },
    {
      "cell_type": "code",
      "source": [
        "print(book_new.isnull().sum())"
      ],
      "metadata": {
        "colab": {
          "base_uri": "https://localhost:8080/"
        },
        "id": "ExO6CQYrnPzk",
        "outputId": "b6aa4190-6b4a-462f-ae22-3776becf7824"
      },
      "execution_count": 348,
      "outputs": [
        {
          "output_type": "stream",
          "name": "stdout",
          "text": [
            "id             0\n",
            "title          0\n",
            "author         0\n",
            "year           0\n",
            "avg_rating     0\n",
            "num_ratings    0\n",
            "dtype: int64\n"
          ]
        }
      ]
    },
    {
      "cell_type": "markdown",
      "source": [
        "# Model Development dengan Content Based Filtering"
      ],
      "metadata": {
        "id": "r1XuYtTgx8a7"
      }
    },
    {
      "cell_type": "markdown",
      "source": [
        "Menyiapkan dataset book_new dan menampilkan 5 sampel acak dari data untuk eksplorasi awal."
      ],
      "metadata": {
        "id": "XNeT98EvoHX7"
      }
    },
    {
      "cell_type": "code",
      "source": [
        "data = book_new\n",
        "data.sample(5)"
      ],
      "metadata": {
        "colab": {
          "base_uri": "https://localhost:8080/",
          "height": 345
        },
        "id": "2JZlEO3n2S5r",
        "outputId": "066914b5-bc69-486a-adc9-7072ff52e017"
      },
      "execution_count": 250,
      "outputs": [
        {
          "output_type": "execute_result",
          "data": {
            "text/plain": [
              "           id                                              title  \\\n",
              "4663  2251306  Brain Rules: 12 Principles for Surviving and T...   \n",
              "4738  5989573  Scott Pilgrim, Volume 5: Scott Pilgrim Vs. the...   \n",
              "981     40024             The Alienist (Dr. Laszlo Kreizler, #1)   \n",
              "1070   234184                Stone of Tears (Sword of Truth, #2)   \n",
              "9283  4800764                       Sweet Persuasion (Sweet, #2)   \n",
              "\n",
              "                  author    year  avg_rating  num_ratings  \n",
              "4663         John Medina  2008.0        4.00        19172  \n",
              "4738  Bryan Lee O'Malley  2009.0        4.33        24936  \n",
              "981           Caleb Carr  1994.0        4.05        96981  \n",
              "1070      Terry Goodkind  1995.0        4.10        83235  \n",
              "9283          Maya Banks  2009.0        4.09        16437  "
            ],
            "text/html": [
              "\n",
              "  <div id=\"df-b04cd168-f557-46db-8370-b7a7ada38641\" class=\"colab-df-container\">\n",
              "    <div>\n",
              "<style scoped>\n",
              "    .dataframe tbody tr th:only-of-type {\n",
              "        vertical-align: middle;\n",
              "    }\n",
              "\n",
              "    .dataframe tbody tr th {\n",
              "        vertical-align: top;\n",
              "    }\n",
              "\n",
              "    .dataframe thead th {\n",
              "        text-align: right;\n",
              "    }\n",
              "</style>\n",
              "<table border=\"1\" class=\"dataframe\">\n",
              "  <thead>\n",
              "    <tr style=\"text-align: right;\">\n",
              "      <th></th>\n",
              "      <th>id</th>\n",
              "      <th>title</th>\n",
              "      <th>author</th>\n",
              "      <th>year</th>\n",
              "      <th>avg_rating</th>\n",
              "      <th>num_ratings</th>\n",
              "    </tr>\n",
              "  </thead>\n",
              "  <tbody>\n",
              "    <tr>\n",
              "      <th>4663</th>\n",
              "      <td>2251306</td>\n",
              "      <td>Brain Rules: 12 Principles for Surviving and T...</td>\n",
              "      <td>John Medina</td>\n",
              "      <td>2008.0</td>\n",
              "      <td>4.00</td>\n",
              "      <td>19172</td>\n",
              "    </tr>\n",
              "    <tr>\n",
              "      <th>4738</th>\n",
              "      <td>5989573</td>\n",
              "      <td>Scott Pilgrim, Volume 5: Scott Pilgrim Vs. the...</td>\n",
              "      <td>Bryan Lee O'Malley</td>\n",
              "      <td>2009.0</td>\n",
              "      <td>4.33</td>\n",
              "      <td>24936</td>\n",
              "    </tr>\n",
              "    <tr>\n",
              "      <th>981</th>\n",
              "      <td>40024</td>\n",
              "      <td>The Alienist (Dr. Laszlo Kreizler, #1)</td>\n",
              "      <td>Caleb Carr</td>\n",
              "      <td>1994.0</td>\n",
              "      <td>4.05</td>\n",
              "      <td>96981</td>\n",
              "    </tr>\n",
              "    <tr>\n",
              "      <th>1070</th>\n",
              "      <td>234184</td>\n",
              "      <td>Stone of Tears (Sword of Truth, #2)</td>\n",
              "      <td>Terry Goodkind</td>\n",
              "      <td>1995.0</td>\n",
              "      <td>4.10</td>\n",
              "      <td>83235</td>\n",
              "    </tr>\n",
              "    <tr>\n",
              "      <th>9283</th>\n",
              "      <td>4800764</td>\n",
              "      <td>Sweet Persuasion (Sweet, #2)</td>\n",
              "      <td>Maya Banks</td>\n",
              "      <td>2009.0</td>\n",
              "      <td>4.09</td>\n",
              "      <td>16437</td>\n",
              "    </tr>\n",
              "  </tbody>\n",
              "</table>\n",
              "</div>\n",
              "    <div class=\"colab-df-buttons\">\n",
              "\n",
              "  <div class=\"colab-df-container\">\n",
              "    <button class=\"colab-df-convert\" onclick=\"convertToInteractive('df-b04cd168-f557-46db-8370-b7a7ada38641')\"\n",
              "            title=\"Convert this dataframe to an interactive table.\"\n",
              "            style=\"display:none;\">\n",
              "\n",
              "  <svg xmlns=\"http://www.w3.org/2000/svg\" height=\"24px\" viewBox=\"0 -960 960 960\">\n",
              "    <path d=\"M120-120v-720h720v720H120Zm60-500h600v-160H180v160Zm220 220h160v-160H400v160Zm0 220h160v-160H400v160ZM180-400h160v-160H180v160Zm440 0h160v-160H620v160ZM180-180h160v-160H180v160Zm440 0h160v-160H620v160Z\"/>\n",
              "  </svg>\n",
              "    </button>\n",
              "\n",
              "  <style>\n",
              "    .colab-df-container {\n",
              "      display:flex;\n",
              "      gap: 12px;\n",
              "    }\n",
              "\n",
              "    .colab-df-convert {\n",
              "      background-color: #E8F0FE;\n",
              "      border: none;\n",
              "      border-radius: 50%;\n",
              "      cursor: pointer;\n",
              "      display: none;\n",
              "      fill: #1967D2;\n",
              "      height: 32px;\n",
              "      padding: 0 0 0 0;\n",
              "      width: 32px;\n",
              "    }\n",
              "\n",
              "    .colab-df-convert:hover {\n",
              "      background-color: #E2EBFA;\n",
              "      box-shadow: 0px 1px 2px rgba(60, 64, 67, 0.3), 0px 1px 3px 1px rgba(60, 64, 67, 0.15);\n",
              "      fill: #174EA6;\n",
              "    }\n",
              "\n",
              "    .colab-df-buttons div {\n",
              "      margin-bottom: 4px;\n",
              "    }\n",
              "\n",
              "    [theme=dark] .colab-df-convert {\n",
              "      background-color: #3B4455;\n",
              "      fill: #D2E3FC;\n",
              "    }\n",
              "\n",
              "    [theme=dark] .colab-df-convert:hover {\n",
              "      background-color: #434B5C;\n",
              "      box-shadow: 0px 1px 3px 1px rgba(0, 0, 0, 0.15);\n",
              "      filter: drop-shadow(0px 1px 2px rgba(0, 0, 0, 0.3));\n",
              "      fill: #FFFFFF;\n",
              "    }\n",
              "  </style>\n",
              "\n",
              "    <script>\n",
              "      const buttonEl =\n",
              "        document.querySelector('#df-b04cd168-f557-46db-8370-b7a7ada38641 button.colab-df-convert');\n",
              "      buttonEl.style.display =\n",
              "        google.colab.kernel.accessAllowed ? 'block' : 'none';\n",
              "\n",
              "      async function convertToInteractive(key) {\n",
              "        const element = document.querySelector('#df-b04cd168-f557-46db-8370-b7a7ada38641');\n",
              "        const dataTable =\n",
              "          await google.colab.kernel.invokeFunction('convertToInteractive',\n",
              "                                                    [key], {});\n",
              "        if (!dataTable) return;\n",
              "\n",
              "        const docLinkHtml = 'Like what you see? Visit the ' +\n",
              "          '<a target=\"_blank\" href=https://colab.research.google.com/notebooks/data_table.ipynb>data table notebook</a>'\n",
              "          + ' to learn more about interactive tables.';\n",
              "        element.innerHTML = '';\n",
              "        dataTable['output_type'] = 'display_data';\n",
              "        await google.colab.output.renderOutput(dataTable, element);\n",
              "        const docLink = document.createElement('div');\n",
              "        docLink.innerHTML = docLinkHtml;\n",
              "        element.appendChild(docLink);\n",
              "      }\n",
              "    </script>\n",
              "  </div>\n",
              "\n",
              "\n",
              "    <div id=\"df-df0d3d58-130c-4711-87d9-9812bff72c49\">\n",
              "      <button class=\"colab-df-quickchart\" onclick=\"quickchart('df-df0d3d58-130c-4711-87d9-9812bff72c49')\"\n",
              "                title=\"Suggest charts\"\n",
              "                style=\"display:none;\">\n",
              "\n",
              "<svg xmlns=\"http://www.w3.org/2000/svg\" height=\"24px\"viewBox=\"0 0 24 24\"\n",
              "     width=\"24px\">\n",
              "    <g>\n",
              "        <path d=\"M19 3H5c-1.1 0-2 .9-2 2v14c0 1.1.9 2 2 2h14c1.1 0 2-.9 2-2V5c0-1.1-.9-2-2-2zM9 17H7v-7h2v7zm4 0h-2V7h2v10zm4 0h-2v-4h2v4z\"/>\n",
              "    </g>\n",
              "</svg>\n",
              "      </button>\n",
              "\n",
              "<style>\n",
              "  .colab-df-quickchart {\n",
              "      --bg-color: #E8F0FE;\n",
              "      --fill-color: #1967D2;\n",
              "      --hover-bg-color: #E2EBFA;\n",
              "      --hover-fill-color: #174EA6;\n",
              "      --disabled-fill-color: #AAA;\n",
              "      --disabled-bg-color: #DDD;\n",
              "  }\n",
              "\n",
              "  [theme=dark] .colab-df-quickchart {\n",
              "      --bg-color: #3B4455;\n",
              "      --fill-color: #D2E3FC;\n",
              "      --hover-bg-color: #434B5C;\n",
              "      --hover-fill-color: #FFFFFF;\n",
              "      --disabled-bg-color: #3B4455;\n",
              "      --disabled-fill-color: #666;\n",
              "  }\n",
              "\n",
              "  .colab-df-quickchart {\n",
              "    background-color: var(--bg-color);\n",
              "    border: none;\n",
              "    border-radius: 50%;\n",
              "    cursor: pointer;\n",
              "    display: none;\n",
              "    fill: var(--fill-color);\n",
              "    height: 32px;\n",
              "    padding: 0;\n",
              "    width: 32px;\n",
              "  }\n",
              "\n",
              "  .colab-df-quickchart:hover {\n",
              "    background-color: var(--hover-bg-color);\n",
              "    box-shadow: 0 1px 2px rgba(60, 64, 67, 0.3), 0 1px 3px 1px rgba(60, 64, 67, 0.15);\n",
              "    fill: var(--button-hover-fill-color);\n",
              "  }\n",
              "\n",
              "  .colab-df-quickchart-complete:disabled,\n",
              "  .colab-df-quickchart-complete:disabled:hover {\n",
              "    background-color: var(--disabled-bg-color);\n",
              "    fill: var(--disabled-fill-color);\n",
              "    box-shadow: none;\n",
              "  }\n",
              "\n",
              "  .colab-df-spinner {\n",
              "    border: 2px solid var(--fill-color);\n",
              "    border-color: transparent;\n",
              "    border-bottom-color: var(--fill-color);\n",
              "    animation:\n",
              "      spin 1s steps(1) infinite;\n",
              "  }\n",
              "\n",
              "  @keyframes spin {\n",
              "    0% {\n",
              "      border-color: transparent;\n",
              "      border-bottom-color: var(--fill-color);\n",
              "      border-left-color: var(--fill-color);\n",
              "    }\n",
              "    20% {\n",
              "      border-color: transparent;\n",
              "      border-left-color: var(--fill-color);\n",
              "      border-top-color: var(--fill-color);\n",
              "    }\n",
              "    30% {\n",
              "      border-color: transparent;\n",
              "      border-left-color: var(--fill-color);\n",
              "      border-top-color: var(--fill-color);\n",
              "      border-right-color: var(--fill-color);\n",
              "    }\n",
              "    40% {\n",
              "      border-color: transparent;\n",
              "      border-right-color: var(--fill-color);\n",
              "      border-top-color: var(--fill-color);\n",
              "    }\n",
              "    60% {\n",
              "      border-color: transparent;\n",
              "      border-right-color: var(--fill-color);\n",
              "    }\n",
              "    80% {\n",
              "      border-color: transparent;\n",
              "      border-right-color: var(--fill-color);\n",
              "      border-bottom-color: var(--fill-color);\n",
              "    }\n",
              "    90% {\n",
              "      border-color: transparent;\n",
              "      border-bottom-color: var(--fill-color);\n",
              "    }\n",
              "  }\n",
              "</style>\n",
              "\n",
              "      <script>\n",
              "        async function quickchart(key) {\n",
              "          const quickchartButtonEl =\n",
              "            document.querySelector('#' + key + ' button');\n",
              "          quickchartButtonEl.disabled = true;  // To prevent multiple clicks.\n",
              "          quickchartButtonEl.classList.add('colab-df-spinner');\n",
              "          try {\n",
              "            const charts = await google.colab.kernel.invokeFunction(\n",
              "                'suggestCharts', [key], {});\n",
              "          } catch (error) {\n",
              "            console.error('Error during call to suggestCharts:', error);\n",
              "          }\n",
              "          quickchartButtonEl.classList.remove('colab-df-spinner');\n",
              "          quickchartButtonEl.classList.add('colab-df-quickchart-complete');\n",
              "        }\n",
              "        (() => {\n",
              "          let quickchartButtonEl =\n",
              "            document.querySelector('#df-df0d3d58-130c-4711-87d9-9812bff72c49 button');\n",
              "          quickchartButtonEl.style.display =\n",
              "            google.colab.kernel.accessAllowed ? 'block' : 'none';\n",
              "        })();\n",
              "      </script>\n",
              "    </div>\n",
              "\n",
              "    </div>\n",
              "  </div>\n"
            ],
            "application/vnd.google.colaboratory.intrinsic+json": {
              "type": "dataframe",
              "summary": "{\n  \"name\": \"data\",\n  \"rows\": 5,\n  \"fields\": [\n    {\n      \"column\": \"id\",\n      \"properties\": {\n        \"dtype\": \"number\",\n        \"std\": 2673236,\n        \"min\": 40024,\n        \"max\": 5989573,\n        \"num_unique_values\": 5,\n        \"samples\": [\n          5989573,\n          4800764,\n          40024\n        ],\n        \"semantic_type\": \"\",\n        \"description\": \"\"\n      }\n    },\n    {\n      \"column\": \"title\",\n      \"properties\": {\n        \"dtype\": \"string\",\n        \"num_unique_values\": 5,\n        \"samples\": [\n          \"Scott Pilgrim, Volume 5: Scott Pilgrim Vs. the Universe\",\n          \"Sweet Persuasion (Sweet, #2)\",\n          \"The Alienist (Dr. Laszlo Kreizler, #1)\"\n        ],\n        \"semantic_type\": \"\",\n        \"description\": \"\"\n      }\n    },\n    {\n      \"column\": \"author\",\n      \"properties\": {\n        \"dtype\": \"string\",\n        \"num_unique_values\": 5,\n        \"samples\": [\n          \"Bryan Lee O'Malley\",\n          \"Maya Banks\",\n          \"Caleb Carr\"\n        ],\n        \"semantic_type\": \"\",\n        \"description\": \"\"\n      }\n    },\n    {\n      \"column\": \"year\",\n      \"properties\": {\n        \"dtype\": \"number\",\n        \"std\": 7.7781745930520225,\n        \"min\": 1994.0,\n        \"max\": 2009.0,\n        \"num_unique_values\": 4,\n        \"samples\": [\n          2009.0,\n          1995.0,\n          2008.0\n        ],\n        \"semantic_type\": \"\",\n        \"description\": \"\"\n      }\n    },\n    {\n      \"column\": \"avg_rating\",\n      \"properties\": {\n        \"dtype\": \"number\",\n        \"std\": 0.12700393694685225,\n        \"min\": 4.0,\n        \"max\": 4.33,\n        \"num_unique_values\": 5,\n        \"samples\": [\n          4.33,\n          4.09,\n          4.05\n        ],\n        \"semantic_type\": \"\",\n        \"description\": \"\"\n      }\n    },\n    {\n      \"column\": \"num_ratings\",\n      \"properties\": {\n        \"dtype\": \"number\",\n        \"std\": 38729,\n        \"min\": 16437,\n        \"max\": 96981,\n        \"num_unique_values\": 5,\n        \"samples\": [\n          24936,\n          16437,\n          96981\n        ],\n        \"semantic_type\": \"\",\n        \"description\": \"\"\n      }\n    }\n  ]\n}"
            }
          },
          "metadata": {},
          "execution_count": 250
        }
      ]
    },
    {
      "cell_type": "markdown",
      "source": [
        "* Membuat instance *TfidfVectorizer* untuk mengubah teks menjadi vektor numerik.\n",
        "\n",
        "* *stop_words='english'* digunakan agar kata-kata umum dalam bahasa Inggris diabaikan (misalnya: \"the\", \"and\", dll).\n",
        "\n",
        "* Melakukan **fit** dan **transform** pada kolom 'combined' yang merupakan gabungan dari judul dan nama penulis untuk menangkap konteks konten buku.\n",
        "\n",
        "* Mengubah hasil TF-IDF menjadi DataFrame agar bisa divisualisasikan dan difilter.\n",
        "\n",
        "* Memfilter hanya kolom dengan nilai TF-IDF lebih dari nol di setidaknya satu baris untuk mengurangi kolom yang tidak relevan.\n",
        "\n",
        "\n",
        "\n",
        "\n",
        "\n"
      ],
      "metadata": {
        "id": "NNgqwaGpoNaw"
      }
    },
    {
      "cell_type": "code",
      "source": [
        "# Buat TF-IDF Vectorizer dengan stop words bahasa Inggris\n",
        "tfidf = TfidfVectorizer(stop_words='english')\n",
        "\n",
        "# Fit dan transform data 'combined' (judul + author)\n",
        "tfidf_matrix = tfidf.fit_transform(data['combined'])\n",
        "\n",
        "# Buat DataFrame dari tfidf_matrix untuk visualisasi (optional)\n",
        "tfidf_df = pd.DataFrame.sparse.from_spmatrix(\n",
        "    tfidf_matrix,\n",
        "    index=data['title'],\n",
        "    columns=tfidf.get_feature_names_out()\n",
        ")\n",
        "\n",
        "# Filter kolom yang ada nilai TF-IDF > 0 minimal di satu baris (kata yang relevan)\n",
        "tfidf_nonzero = tfidf_df.loc[:, (tfidf_df > 0).any()]\n",
        "\n",
        "print(tfidf_nonzero.head())"
      ],
      "metadata": {
        "colab": {
          "base_uri": "https://localhost:8080/"
        },
        "id": "3lY0r6Dm_F8W",
        "outputId": "90cf8122-e247-4546-a254-e5060a1562b0"
      },
      "execution_count": 252,
      "outputs": [
        {
          "output_type": "stream",
          "name": "stdout",
          "text": [
            "                                                    000  01  02  03  04  05  \\\n",
            "title                                                                         \n",
            "The Hunger Games (The Hunger Games, #1)               0   0   0   0   0   0   \n",
            "Harry Potter and the Sorcerer's Stone (Harry Po...    0   0   0   0   0   0   \n",
            "Twilight (Twilight, #1)                               0   0   0   0   0   0   \n",
            "To Kill a Mockingbird                                 0   0   0   0   0   0   \n",
            "The Great Gatsby                                      0   0   0   0   0   0   \n",
            "\n",
            "                                                    06  07  08  09  ...  桜坂洋  \\\n",
            "title                                                               ...        \n",
            "The Hunger Games (The Hunger Games, #1)              0   0   0   0  ...    0   \n",
            "Harry Potter and the Sorcerer's Stone (Harry Po...   0   0   0   0  ...    0   \n",
            "Twilight (Twilight, #1)                              0   0   0   0  ...    0   \n",
            "To Kill a Mockingbird                                0   0   0   0  ...    0   \n",
            "The Great Gatsby                                     0   0   0   0  ...    0   \n",
            "\n",
            "                                                    樋口  武内  田中メカ  直子  石田  \\\n",
            "title                                                                      \n",
            "The Hunger Games (The Hunger Games, #1)              0   0     0   0   0   \n",
            "Harry Potter and the Sorcerer's Stone (Harry Po...   0   0     0   0   0   \n",
            "Twilight (Twilight, #1)                              0   0     0   0   0   \n",
            "To Kill a Mockingbird                                0   0     0   0   0   \n",
            "The Great Gatsby                                     0   0     0   0   0   \n",
            "\n",
            "                                                    神尾葉子  美少女戦士セーラームーン新装版  義博  \\\n",
            "title                                                                           \n",
            "The Hunger Games (The Hunger Games, #1)                0                0   0   \n",
            "Harry Potter and the Sorcerer's Stone (Harry Po...     0                0   0   \n",
            "Twilight (Twilight, #1)                                0                0   0   \n",
            "To Kill a Mockingbird                                  0                0   0   \n",
            "The Great Gatsby                                       0                0   0   \n",
            "\n",
            "                                                    신경숙  \n",
            "title                                                    \n",
            "The Hunger Games (The Hunger Games, #1)               0  \n",
            "Harry Potter and the Sorcerer's Stone (Harry Po...    0  \n",
            "Twilight (Twilight, #1)                               0  \n",
            "To Kill a Mockingbird                                 0  \n",
            "The Great Gatsby                                      0  \n",
            "\n",
            "[5 rows x 14240 columns]\n"
          ]
        }
      ]
    },
    {
      "cell_type": "markdown",
      "source": [
        "* Mengukur seberapa mirip antar buku berdasarkan vektor TF-IDF dengan metode cosine similarity.\n",
        "\n",
        "* Mengubah hasil cosine similarity menjadi DataFrame agar bisa dicari berdasarkan judul.\n"
      ],
      "metadata": {
        "id": "uKVeYPF-ovko"
      }
    },
    {
      "cell_type": "code",
      "source": [
        "# Hitung cosine similarity matrix dari tfidf_matrix\n",
        "cosine_sim = cosine_similarity(tfidf_matrix, tfidf_matrix)\n",
        "\n",
        "# Ubah menjadi DataFrame dengan index dan kolom berupa judul buku\n",
        "cosine_sim_df = pd.DataFrame(cosine_sim, index=data['title'], columns=data['title'])\n",
        "\n",
        "print(cosine_sim_df.sample(5).sample(5, axis=1))  # lihat sample similarity"
      ],
      "metadata": {
        "colab": {
          "base_uri": "https://localhost:8080/"
        },
        "id": "W7o04gn8BSaO",
        "outputId": "89c4ffe4-a2b3-47c6-8e83-3bae61c7e3b3"
      },
      "execution_count": 253,
      "outputs": [
        {
          "output_type": "stream",
          "name": "stdout",
          "text": [
            "title                                  The Perfect Husband (Quincy & Rainie, #1)  \\\n",
            "title                                                                              \n",
            "Strange Angels (Strange Angels, #1)                                          0.0   \n",
            "Someone to Love (Someone to Love, #1)                                        0.0   \n",
            "War Horse (War Horse, #1)                                                    0.0   \n",
            "The Love Dare                                                                0.0   \n",
            "Wonderful Tonight                                                            0.0   \n",
            "\n",
            "title                                  Elixir (Covenant, #3.5)  \\\n",
            "title                                                            \n",
            "Strange Angels (Strange Angels, #1)                        0.0   \n",
            "Someone to Love (Someone to Love, #1)                      0.0   \n",
            "War Horse (War Horse, #1)                                  0.0   \n",
            "The Love Dare                                              0.0   \n",
            "Wonderful Tonight                                          0.0   \n",
            "\n",
            "title                                  M.C. Escher: The Graphic Work  \\\n",
            "title                                                                  \n",
            "Strange Angels (Strange Angels, #1)                              0.0   \n",
            "Someone to Love (Someone to Love, #1)                            0.0   \n",
            "War Horse (War Horse, #1)                                        0.0   \n",
            "The Love Dare                                                    0.0   \n",
            "Wonderful Tonight                                                0.0   \n",
            "\n",
            "title                                  Mitosis (The Reckoners, #1.5)  \\\n",
            "title                                                                  \n",
            "Strange Angels (Strange Angels, #1)                              0.0   \n",
            "Someone to Love (Someone to Love, #1)                            0.0   \n",
            "War Horse (War Horse, #1)                                        0.0   \n",
            "The Love Dare                                                    0.0   \n",
            "Wonderful Tonight                                                0.0   \n",
            "\n",
            "title                                  Jonathan Livingston Seagull  \n",
            "title                                                               \n",
            "Strange Angels (Strange Angels, #1)                            0.0  \n",
            "Someone to Love (Someone to Love, #1)                          0.0  \n",
            "War Horse (War Horse, #1)                                      0.0  \n",
            "The Love Dare                                                  0.0  \n",
            "Wonderful Tonight                                              0.0  \n"
          ]
        }
      ]
    },
    {
      "cell_type": "markdown",
      "source": [
        "Fungsi ini menerima title dan mengembalikan daftar buku paling mirip berdasarkan konten (judul + penulis) menggunakan nilai cosine similarity tertinggi."
      ],
      "metadata": {
        "id": "YReWEiAzo5iR"
      }
    },
    {
      "cell_type": "code",
      "source": [
        "def recommend_books(title, cosine_sim=cosine_sim_df, data=data, top_n=10):\n",
        "    # Cek apakah buku ada di dataset\n",
        "    if title not in cosine_sim.index:\n",
        "        return f\"Buku '{title}' tidak ditemukan dalam data.\"\n",
        "\n",
        "    # Ambil skor similarity buku tersebut dengan buku lain\n",
        "    sim_scores = cosine_sim[title]\n",
        "\n",
        "    # Urutkan skor similarity secara menurun, kecuali dirinya sendiri (nilai max = 1)\n",
        "    sim_scores = sim_scores.drop(title).sort_values(ascending=False)\n",
        "\n",
        "    # Ambil top n buku yang paling mirip\n",
        "    top_books = sim_scores.head(top_n).index\n",
        "\n",
        "    # Ambil data buku tersebut\n",
        "    recommended = data[data['title'].isin(top_books)][['title', 'author', 'year', 'avg_rating']]\n",
        "\n",
        "    return recommended.reset_index(drop=True)"
      ],
      "metadata": {
        "id": "9IesiCDQBVwi"
      },
      "execution_count": 254,
      "outputs": []
    },
    {
      "cell_type": "code",
      "source": [
        "print(data['title'].head(20))"
      ],
      "metadata": {
        "colab": {
          "base_uri": "https://localhost:8080/"
        },
        "id": "EwQAsLNDCacA",
        "outputId": "6413adff-20ce-4c29-9fde-78a96735d0b3"
      },
      "execution_count": 255,
      "outputs": [
        {
          "output_type": "stream",
          "name": "stdout",
          "text": [
            "0               The Hunger Games (The Hunger Games, #1)\n",
            "1     Harry Potter and the Sorcerer's Stone (Harry P...\n",
            "2                               Twilight (Twilight, #1)\n",
            "3                                 To Kill a Mockingbird\n",
            "4                                      The Great Gatsby\n",
            "5                                The Fault in Our Stars\n",
            "6                                            The Hobbit\n",
            "7                                The Catcher in the Rye\n",
            "8                 Angels & Demons  (Robert Langdon, #1)\n",
            "9                                   Pride and Prejudice\n",
            "10                                      The Kite Runner\n",
            "11                            Divergent (Divergent, #1)\n",
            "12                                                 1984\n",
            "13                                          Animal Farm\n",
            "14                            The Diary of a Young Girl\n",
            "15     The Girl with the Dragon Tattoo (Millennium, #1)\n",
            "16                 Catching Fire (The Hunger Games, #2)\n",
            "17    Harry Potter and the Prisoner of Azkaban (Harr...\n",
            "18    The Fellowship of the Ring (The Lord of the Ri...\n",
            "19                    Mockingjay (The Hunger Games, #3)\n",
            "Name: title, dtype: object\n"
          ]
        }
      ]
    },
    {
      "cell_type": "markdown",
      "source": [
        "Menampilkan 10 buku paling mirip dengan The Hunger Games berdasarkan konten."
      ],
      "metadata": {
        "id": "j5L2AId9pBFg"
      }
    },
    {
      "cell_type": "code",
      "source": [
        "print(recommend_books('The Hunger Games (The Hunger Games, #1)'))"
      ],
      "metadata": {
        "colab": {
          "base_uri": "https://localhost:8080/"
        },
        "id": "jGFwvNCsBZke",
        "outputId": "d27f8b1f-5e2b-4914-9cd6-ae4b6645223f"
      },
      "execution_count": 256,
      "outputs": [
        {
          "output_type": "stream",
          "name": "stdout",
          "text": [
            "                                               title            author  \\\n",
            "0               Catching Fire (The Hunger Games, #2)   Suzanne Collins   \n",
            "1                  Mockingjay (The Hunger Games, #3)   Suzanne Collins   \n",
            "2  The Hunger Games Trilogy Boxset (The Hunger Ga...   Suzanne Collins   \n",
            "3  The Hunger Games: Official Illustrated Movie C...         Kate Egan   \n",
            "4                     The Hunger Games Tribute Guide       Emily Seife   \n",
            "5                                  Hunger (Gone, #2)    Michael  Grant   \n",
            "6   A Hunger Like No Other (Immortals After Dark #2)      Kresley Cole   \n",
            "7                    Nemesis Games (The Expanse, #5)  James S.A. Corey   \n",
            "8                  The Quillan Games (Pendragon, #7)      D.J. MacHale   \n",
            "9  The World of the Hunger Games (Hunger Games Tr...         Kate Egan   \n",
            "\n",
            "     year  avg_rating  \n",
            "0  2009.0        4.30  \n",
            "1  2010.0        4.03  \n",
            "2  2010.0        4.49  \n",
            "3  2012.0        4.51  \n",
            "4  2012.0        4.40  \n",
            "5  2009.0        4.02  \n",
            "6  2006.0        4.21  \n",
            "7  2015.0        4.37  \n",
            "8  2005.0        4.19  \n",
            "9  2012.0        4.48  \n"
          ]
        }
      ]
    },
    {
      "cell_type": "markdown",
      "source": [
        "#### Fungsi Generalisasi"
      ],
      "metadata": {
        "id": "qG7b-4NgpEL3"
      }
    },
    {
      "cell_type": "markdown",
      "source": [
        "* data: diasumsikan sebagai DataFrame utama yang berisi kolom title, author, avg_rating, dan year.\n",
        "\n",
        "* cosine_sim_df: diasumsikan sebagai DataFrame berisi similarity scores antar buku (judul sebagai index & columns)."
      ],
      "metadata": {
        "id": "_iM26soxpfgj"
      }
    },
    {
      "cell_type": "code",
      "source": [
        "def get_recommendations(method, value, top_n=5):\n",
        "    if method == 'title':\n",
        "        book_title = value\n",
        "        if book_title not in data['title'].values:\n",
        "            print(f\"Buku '{book_title}' tidak ditemukan dalam data.\")\n",
        "            return\n",
        "\n",
        "        if book_title not in cosine_sim_df.index:\n",
        "            print(f\"Buku '{book_title}' tidak ditemukan di cosine_sim_df index.\")\n",
        "            return\n",
        "\n",
        "        sim_scores = cosine_sim_df.loc[book_title]\n",
        "        closest_titles = sim_scores.nlargest(top_n + 1).index.drop(book_title)\n",
        "        recommendations = data[data['title'].isin(closest_titles)].head(top_n).reset_index(drop=True)\n",
        "\n",
        "        print(\"Rekomendasi Berdasarkan Judul Buku:\")\n",
        "        for i, row in recommendations.iterrows():\n",
        "            print(f\"{i+1}. {row['title']} - {row['author']}\")\n",
        "        print()  # Memberi jarak antar output\n",
        "\n",
        "    elif method == 'author':\n",
        "        author_books = data[data['author'].str.contains(value, case=False, na=False)]\n",
        "        if author_books.empty:\n",
        "            print(f\"Tidak ditemukan buku oleh penulis '{value}'.\")\n",
        "            return\n",
        "\n",
        "        top_books = author_books.sort_values(by='avg_rating', ascending=False).head(top_n).reset_index(drop=True)\n",
        "        print(f\"Rekomendasi Buku oleh Penulis '{value}':\")\n",
        "        for i, row in top_books.iterrows():\n",
        "            print(f\"{i+1}. {row['title']} - {row['author']} (Rating: {row['avg_rating']})\")\n",
        "        print()  # Memberi jarak antar output\n",
        "\n",
        "    elif method == 'year':\n",
        "        year_books = data[data['year'] == value]\n",
        "        if year_books.empty:\n",
        "            print(f\"Tidak ada buku ditemukan dari tahun {value}.\")\n",
        "            return\n",
        "\n",
        "        top_books = year_books.sort_values(by='avg_rating', ascending=False).head(top_n).reset_index(drop=True)\n",
        "        print(f\"Rekomendasi Buku dari Tahun {value}:\")\n",
        "        for i, row in top_books.iterrows():\n",
        "            print(f\"{i+1}. {row['title']} - {row['author']} (Rating: {row['avg_rating']})\")\n",
        "        print()  # Memberi jarak antar output\n",
        "\n",
        "    else:\n",
        "        print(\"Metode tidak dikenal. Gunakan 'title', 'author', atau 'year'.\")"
      ],
      "metadata": {
        "id": "U8aFZYp-B9tG"
      },
      "execution_count": 257,
      "outputs": []
    },
    {
      "cell_type": "code",
      "source": [
        "# Rekomendasi berdasarkan judul\n",
        "get_recommendations(method='title', value='The Hunger Games (The Hunger Games, #1)', top_n=5)\n",
        "\n",
        "# Rekomendasi berdasarkan penulis\n",
        "get_recommendations(method='author', value='Suzanne Collins', top_n=5)\n",
        "\n",
        "# Rekomendasi berdasarkan tahun\n",
        "get_recommendations(method='year', value=2008, top_n=5)"
      ],
      "metadata": {
        "colab": {
          "base_uri": "https://localhost:8080/"
        },
        "id": "hxiG8zgWDV9X",
        "outputId": "4c80fce9-ac3d-44bb-9284-47503b96490c"
      },
      "execution_count": 258,
      "outputs": [
        {
          "output_type": "stream",
          "name": "stdout",
          "text": [
            "Rekomendasi Berdasarkan Judul Buku:\n",
            "1. Catching Fire (The Hunger Games, #2) - Suzanne Collins\n",
            "2. Mockingjay (The Hunger Games, #3) - Suzanne Collins\n",
            "3. The Hunger Games Trilogy Boxset (The Hunger Games, #1-3) - Suzanne Collins\n",
            "4. The Hunger Games Tribute Guide - Emily Seife\n",
            "5. The World of the Hunger Games (Hunger Games Trilogy) - Kate Egan\n",
            "\n",
            "Rekomendasi Buku oleh Penulis 'Suzanne Collins':\n",
            "1. The Hunger Games Trilogy Boxset (The Hunger Games, #1-3) - Suzanne Collins (Rating: 4.49)\n",
            "2. The Hunger Games (The Hunger Games, #1) - Suzanne Collins (Rating: 4.34)\n",
            "3. Catching Fire (The Hunger Games, #2) - Suzanne Collins (Rating: 4.3)\n",
            "4. Gregor and the Code of Claw (Underland Chronicles, #5) - Suzanne Collins (Rating: 4.25)\n",
            "5. Gregor and the Marks of Secret (Underland Chronicles, #4) - Suzanne Collins (Rating: 4.21)\n",
            "\n",
            "Rekomendasi Buku dari Tahun 2008:\n",
            "1. Acheron (Dark-Hunter #14) - Sherrilyn Kenyon (Rating: 4.59)\n",
            "2. Percy Jackson and the Olympians (Percy Jackson and the Olympians, #1-3) - Rick Riordan (Rating: 4.58)\n",
            "3. NARUTO -ナルト- 巻ノ四十三 - Masashi Kishimoto (Rating: 4.57)\n",
            "4. Father Mine (Black Dagger Brotherhood, #6.5) - J.R. Ward (Rating: 4.51)\n",
            "5. Fireproof - Eric Wilson (Rating: 4.47)\n",
            "\n"
          ]
        }
      ]
    },
    {
      "cell_type": "markdown",
      "source": [
        "# Training"
      ],
      "metadata": {
        "id": "H0Swg3vHJxQP"
      }
    },
    {
      "cell_type": "markdown",
      "source": [
        "**1. Preprocessing Data**\n",
        "\n",
        "* Mengubah user ID dan book ID ke bentuk numerik dengan LabelEncoder.\n",
        "\n",
        "* Membuat target biner: rating 4 ke atas dianggap suka (1), di bawahnya tidak suka (0).\n",
        "\n",
        "* Membagi data menjadi data latih dan data validasi dengan proporsi 80:20 dan stratifikasi label agar seimbang.\n",
        "\n",
        "**2. Membangun Model Neural Network**\n",
        "\n",
        "* Model menggunakan embedding layer untuk merepresentasikan user dan buku sebagai vektor berdimensi rendah (embedding).\n",
        "\n",
        "* Menghitung interaksi (dot product) antara embedding user dan buku untuk memperkirakan preferensi.\n",
        "\n",
        "* Menambahkan bias khusus user dan buku untuk meningkatkan akurasi prediksi.\n",
        "\n",
        "* Menggunakan fungsi aktivasi sigmoid untuk menghasilkan output probabilitas suka atau tidak.\n",
        "\n",
        "**3. Kompilasi dan Pelatihan Model**\n",
        "\n",
        "* Model dikompilasi dengan loss function binary crossentropy karena targetnya berupa kelas biner.\n",
        "\n",
        "* Optimizer Adam dengan learning rate kecil digunakan untuk training.\n",
        "\n",
        "* Monitoring metrik seperti akurasi, AUC, dan RMSE selama pelatihan.\n",
        "\n",
        "* Callback seperti early stopping dan reduce learning rate on plateau dipakai untuk menghindari overfitting dan meningkatkan performa.\n",
        "\n",
        "**4. Evaluasi Model**\n",
        "\n",
        "* Menggunakan data validasi untuk mengevaluasi hasil prediksi model.\n",
        "\n",
        "* Menghasilkan confusion matrix dan classification report untuk melihat performa klasifikasi.\n",
        "\n",
        "* Memvisualisasikan ROC curve untuk mengukur kemampuan model dalam membedakan kelas.\n",
        "\n"
      ],
      "metadata": {
        "id": "ro2n6s-DqIjP"
      }
    },
    {
      "cell_type": "code",
      "source": [
        "# === PREPROCESSING ===\n",
        "\n",
        "# Label encoding untuk user dan book ID\n",
        "user_enc = LabelEncoder()\n",
        "book_enc = LabelEncoder()\n",
        "\n",
        "ratings['user'] = user_enc.fit_transform(ratings['user_id'].values)\n",
        "ratings['book'] = book_enc.fit_transform(ratings['book_id'].values)\n",
        "ratings['rating'] = ratings['rating'].values.astype(np.float32)\n",
        "\n",
        "# Membuat label biner: rating >= 4 dianggap suka (1), lainnya tidak suka (0)\n",
        "x = ratings[['user', 'book']].values\n",
        "y = ratings['rating'].apply(lambda r: 1 if r >= 4 else 0).values\n",
        "\n",
        "# Split data menjadi training dan validation set dengan stratifikasi agar seimbang\n",
        "x_train, x_val, y_train, y_val = train_test_split(\n",
        "    x, y, test_size=0.2, random_state=42, stratify=y\n",
        ")\n",
        "\n",
        "# === MODEL DEFINITION ===\n",
        "\n",
        "class RecommenderNet(tf.keras.Model):\n",
        "    def __init__(self, num_users, num_books, embedding_size, **kwargs):\n",
        "        super(RecommenderNet, self).__init__(**kwargs)\n",
        "\n",
        "        # Embedding untuk user\n",
        "        self.user_embedding = layers.Embedding(\n",
        "            input_dim=num_users,\n",
        "            output_dim=embedding_size,\n",
        "            embeddings_initializer='he_normal',\n",
        "            embeddings_regularizer=keras.regularizers.l2(1e-6)\n",
        "        )\n",
        "        self.user_bias = layers.Embedding(num_users, 1)\n",
        "\n",
        "        # Embedding untuk book\n",
        "        self.book_embedding = layers.Embedding(\n",
        "            input_dim=num_books,\n",
        "            output_dim=embedding_size,\n",
        "            embeddings_initializer='he_normal',\n",
        "            embeddings_regularizer=keras.regularizers.l2(1e-6)\n",
        "        )\n",
        "        self.book_bias = layers.Embedding(num_books, 1)\n",
        "\n",
        "        # Dropout untuk regularisasi\n",
        "        self.dropout = layers.Dropout(0.3)\n",
        "\n",
        "    def call(self, inputs, training=False):\n",
        "        user_vector = self.user_embedding(inputs[:, 0])\n",
        "        user_bias = self.user_bias(inputs[:, 0])\n",
        "        book_vector = self.book_embedding(inputs[:, 1])\n",
        "        book_bias = self.book_bias(inputs[:, 1])\n",
        "\n",
        "        # Perhitungan skor interaksi dengan dot product dan bias\n",
        "        dot_user_book = tf.reduce_sum(user_vector * book_vector, axis=1, keepdims=True)\n",
        "        x = dot_user_book + user_bias + book_bias\n",
        "\n",
        "        x = self.dropout(x, training=training)\n",
        "        return tf.nn.sigmoid(x)\n",
        "\n",
        "# Jumlah user dan buku unik\n",
        "num_users = ratings['user'].nunique()\n",
        "num_books = ratings['book'].nunique()\n",
        "\n",
        "# Inisialisasi model\n",
        "model = RecommenderNet(num_users, num_books, embedding_size=64)\n",
        "\n",
        "# Kompilasi model\n",
        "model.compile(\n",
        "    loss=tf.keras.losses.BinaryCrossentropy(),\n",
        "    optimizer=keras.optimizers.Adam(learning_rate=0.00005),\n",
        "    metrics=[\n",
        "        tf.keras.metrics.BinaryAccuracy(name='accuracy'),\n",
        "        tf.keras.metrics.AUC(name='auc'),\n",
        "        tf.keras.metrics.RootMeanSquaredError(name='rmse')\n",
        "    ]\n",
        ")\n",
        "\n",
        "# Callback untuk early stopping\n",
        "early_stopping = tf.keras.callbacks.EarlyStopping(\n",
        "    monitor='val_auc',\n",
        "    patience=5,\n",
        "    restore_best_weights=True\n",
        ")\n",
        "\n",
        "# Callback untuk mengurangi learning rate saat performa stagnan\n",
        "reduce_lr = tf.keras.callbacks.ReduceLROnPlateau(\n",
        "    monitor='val_auc',\n",
        "    factor=0.5,\n",
        "    patience=3,\n",
        "    min_lr=1e-6,\n",
        "    verbose=1,\n",
        "    mode='max'\n",
        ")\n",
        "\n",
        "# === TRAINING ===\n",
        "\n",
        "history = model.fit(\n",
        "    x=x_train,\n",
        "    y=y_train,\n",
        "    batch_size=256,\n",
        "    epochs=40,\n",
        "    validation_data=(x_val, y_val),\n",
        "    callbacks=[early_stopping, reduce_lr]\n",
        ")\n",
        "\n",
        "# === EVALUATION ===\n",
        "\n",
        "# Prediksi probabilitas\n",
        "y_val_pred_prob = model.predict(x_val).flatten()\n",
        "\n",
        "# Konversi ke label biner dengan threshold default 0.5\n",
        "threshold = 0.5\n",
        "y_val_pred = (y_val_pred_prob >= threshold).astype(int)\n",
        "\n",
        "# Tampilkan confusion matrix dan classification report\n",
        "print(\"Confusion Matrix:\")\n",
        "print(confusion_matrix(y_val, y_val_pred))\n",
        "\n",
        "print(\"\\nClassification Report:\")\n",
        "print(classification_report(y_val, y_val_pred))\n",
        "\n",
        "# Plot ROC Curve\n",
        "fpr, tpr, _ = roc_curve(y_val, y_val_pred_prob)\n",
        "roc_auc = auc(fpr, tpr)\n",
        "\n",
        "plt.figure(figsize=(8, 6))\n",
        "plt.plot(fpr, tpr, color='darkorange', lw=2, label=f'ROC curve (AUC = {roc_auc:.4f})')\n",
        "plt.plot([0, 1], [0, 1], color='navy', lw=2, linestyle='--')\n",
        "plt.xlim([0.0, 1.0])\n",
        "plt.ylim([0.0, 1.05])\n",
        "plt.xlabel('False Positive Rate')\n",
        "plt.ylabel('True Positive Rate')\n",
        "plt.title('Receiver Operating Characteristic (ROC)')\n",
        "plt.legend(loc=\"lower right\")\n",
        "plt.show()"
      ],
      "metadata": {
        "colab": {
          "base_uri": "https://localhost:8080/",
          "height": 1000
        },
        "id": "0oo-bza53Otq",
        "outputId": "06503024-9f63-467b-dc75-80cd3c687c87"
      },
      "execution_count": 270,
      "outputs": [
        {
          "output_type": "stream",
          "name": "stdout",
          "text": [
            "Epoch 1/40\n",
            "\u001b[1m3068/3068\u001b[0m \u001b[32m━━━━━━━━━━━━━━━━━━━━\u001b[0m\u001b[37m\u001b[0m \u001b[1m222s\u001b[0m 71ms/step - accuracy: 0.4591 - auc: 0.5056 - loss: 0.6931 - rmse: 0.4999 - val_accuracy: 0.5555 - val_auc: 0.5443 - val_loss: 0.6904 - val_rmse: 0.4985 - learning_rate: 5.0000e-05\n",
            "Epoch 2/40\n",
            "\u001b[1m3068/3068\u001b[0m \u001b[32m━━━━━━━━━━━━━━━━━━━━\u001b[0m\u001b[37m\u001b[0m \u001b[1m177s\u001b[0m 58ms/step - accuracy: 0.5059 - auc: 0.5538 - loss: 0.6892 - rmse: 0.4979 - val_accuracy: 0.6061 - val_auc: 0.5892 - val_loss: 0.6871 - val_rmse: 0.4969 - learning_rate: 5.0000e-05\n",
            "Epoch 3/40\n",
            "\u001b[1m3068/3068\u001b[0m \u001b[32m━━━━━━━━━━━━━━━━━━━━\u001b[0m\u001b[37m\u001b[0m \u001b[1m207s\u001b[0m 59ms/step - accuracy: 0.5442 - auc: 0.5937 - loss: 0.6855 - rmse: 0.4961 - val_accuracy: 0.6450 - val_auc: 0.6277 - val_loss: 0.6838 - val_rmse: 0.4952 - learning_rate: 5.0000e-05\n",
            "Epoch 4/40\n",
            "\u001b[1m3068/3068\u001b[0m \u001b[32m━━━━━━━━━━━━━━━━━━━━\u001b[0m\u001b[37m\u001b[0m \u001b[1m179s\u001b[0m 58ms/step - accuracy: 0.5711 - auc: 0.6257 - loss: 0.6818 - rmse: 0.4942 - val_accuracy: 0.6697 - val_auc: 0.6587 - val_loss: 0.6805 - val_rmse: 0.4935 - learning_rate: 5.0000e-05\n",
            "Epoch 5/40\n",
            "\u001b[1m3068/3068\u001b[0m \u001b[32m━━━━━━━━━━━━━━━━━━━━\u001b[0m\u001b[37m\u001b[0m \u001b[1m184s\u001b[0m 60ms/step - accuracy: 0.5908 - auc: 0.6518 - loss: 0.6778 - rmse: 0.4921 - val_accuracy: 0.6863 - val_auc: 0.6838 - val_loss: 0.6771 - val_rmse: 0.4917 - learning_rate: 5.0000e-05\n",
            "Epoch 6/40\n",
            "\u001b[1m3068/3068\u001b[0m \u001b[32m━━━━━━━━━━━━━━━━━━━━\u001b[0m\u001b[37m\u001b[0m \u001b[1m182s\u001b[0m 59ms/step - accuracy: 0.6013 - auc: 0.6689 - loss: 0.6739 - rmse: 0.4900 - val_accuracy: 0.6965 - val_auc: 0.7028 - val_loss: 0.6734 - val_rmse: 0.4897 - learning_rate: 5.0000e-05\n",
            "Epoch 7/40\n",
            "\u001b[1m3068/3068\u001b[0m \u001b[32m━━━━━━━━━━━━━━━━━━━━\u001b[0m\u001b[37m\u001b[0m \u001b[1m197s\u001b[0m 58ms/step - accuracy: 0.6092 - auc: 0.6844 - loss: 0.6694 - rmse: 0.4877 - val_accuracy: 0.7027 - val_auc: 0.7169 - val_loss: 0.6695 - val_rmse: 0.4876 - learning_rate: 5.0000e-05\n",
            "Epoch 8/40\n",
            "\u001b[1m3068/3068\u001b[0m \u001b[32m━━━━━━━━━━━━━━━━━━━━\u001b[0m\u001b[37m\u001b[0m \u001b[1m187s\u001b[0m 61ms/step - accuracy: 0.6143 - auc: 0.6944 - loss: 0.6649 - rmse: 0.4852 - val_accuracy: 0.7069 - val_auc: 0.7277 - val_loss: 0.6654 - val_rmse: 0.4853 - learning_rate: 5.0000e-05\n",
            "Epoch 9/40\n",
            "\u001b[1m3068/3068\u001b[0m \u001b[32m━━━━━━━━━━━━━━━━━━━━\u001b[0m\u001b[37m\u001b[0m \u001b[1m198s\u001b[0m 60ms/step - accuracy: 0.6185 - auc: 0.7033 - loss: 0.6599 - rmse: 0.4825 - val_accuracy: 0.7101 - val_auc: 0.7357 - val_loss: 0.6609 - val_rmse: 0.4829 - learning_rate: 5.0000e-05\n",
            "Epoch 10/40\n",
            "\u001b[1m3068/3068\u001b[0m \u001b[32m━━━━━━━━━━━━━━━━━━━━\u001b[0m\u001b[37m\u001b[0m \u001b[1m201s\u001b[0m 59ms/step - accuracy: 0.6210 - auc: 0.7100 - loss: 0.6547 - rmse: 0.4797 - val_accuracy: 0.7131 - val_auc: 0.7417 - val_loss: 0.6563 - val_rmse: 0.4803 - learning_rate: 5.0000e-05\n",
            "Epoch 11/40\n",
            "\u001b[1m3068/3068\u001b[0m \u001b[32m━━━━━━━━━━━━━━━━━━━━\u001b[0m\u001b[37m\u001b[0m \u001b[1m184s\u001b[0m 60ms/step - accuracy: 0.6247 - auc: 0.7168 - loss: 0.6492 - rmse: 0.4767 - val_accuracy: 0.7159 - val_auc: 0.7461 - val_loss: 0.6516 - val_rmse: 0.4776 - learning_rate: 5.0000e-05\n",
            "Epoch 12/40\n",
            "\u001b[1m3068/3068\u001b[0m \u001b[32m━━━━━━━━━━━━━━━━━━━━\u001b[0m\u001b[37m\u001b[0m \u001b[1m204s\u001b[0m 60ms/step - accuracy: 0.6273 - auc: 0.7207 - loss: 0.6439 - rmse: 0.4738 - val_accuracy: 0.7178 - val_auc: 0.7497 - val_loss: 0.6467 - val_rmse: 0.4748 - learning_rate: 5.0000e-05\n",
            "Epoch 13/40\n",
            "\u001b[1m3068/3068\u001b[0m \u001b[32m━━━━━━━━━━━━━━━━━━━━\u001b[0m\u001b[37m\u001b[0m \u001b[1m179s\u001b[0m 58ms/step - accuracy: 0.6304 - auc: 0.7266 - loss: 0.6381 - rmse: 0.4706 - val_accuracy: 0.7195 - val_auc: 0.7524 - val_loss: 0.6418 - val_rmse: 0.4720 - learning_rate: 5.0000e-05\n",
            "Epoch 14/40\n",
            "\u001b[1m3068/3068\u001b[0m \u001b[32m━━━━━━━━━━━━━━━━━━━━\u001b[0m\u001b[37m\u001b[0m \u001b[1m209s\u001b[0m 60ms/step - accuracy: 0.6332 - auc: 0.7314 - loss: 0.6325 - rmse: 0.4675 - val_accuracy: 0.7209 - val_auc: 0.7546 - val_loss: 0.6370 - val_rmse: 0.4692 - learning_rate: 5.0000e-05\n",
            "Epoch 15/40\n",
            "\u001b[1m3068/3068\u001b[0m \u001b[32m━━━━━━━━━━━━━━━━━━━━\u001b[0m\u001b[37m\u001b[0m \u001b[1m178s\u001b[0m 58ms/step - accuracy: 0.6359 - auc: 0.7346 - loss: 0.6274 - rmse: 0.4646 - val_accuracy: 0.7225 - val_auc: 0.7564 - val_loss: 0.6323 - val_rmse: 0.4664 - learning_rate: 5.0000e-05\n",
            "Epoch 16/40\n",
            "\u001b[1m3068/3068\u001b[0m \u001b[32m━━━━━━━━━━━━━━━━━━━━\u001b[0m\u001b[37m\u001b[0m \u001b[1m179s\u001b[0m 58ms/step - accuracy: 0.6368 - auc: 0.7371 - loss: 0.6222 - rmse: 0.4617 - val_accuracy: 0.7234 - val_auc: 0.7580 - val_loss: 0.6277 - val_rmse: 0.4637 - learning_rate: 5.0000e-05\n",
            "Epoch 17/40\n",
            "\u001b[1m3068/3068\u001b[0m \u001b[32m━━━━━━━━━━━━━━━━━━━━\u001b[0m\u001b[37m\u001b[0m \u001b[1m214s\u001b[0m 62ms/step - accuracy: 0.6387 - auc: 0.7401 - loss: 0.6172 - rmse: 0.4589 - val_accuracy: 0.7245 - val_auc: 0.7594 - val_loss: 0.6233 - val_rmse: 0.4611 - learning_rate: 5.0000e-05\n",
            "Epoch 18/40\n",
            "\u001b[1m3068/3068\u001b[0m \u001b[32m━━━━━━━━━━━━━━━━━━━━\u001b[0m\u001b[37m\u001b[0m \u001b[1m183s\u001b[0m 60ms/step - accuracy: 0.6402 - auc: 0.7428 - loss: 0.6121 - rmse: 0.4561 - val_accuracy: 0.7254 - val_auc: 0.7606 - val_loss: 0.6191 - val_rmse: 0.4586 - learning_rate: 5.0000e-05\n",
            "Epoch 19/40\n",
            "\u001b[1m3068/3068\u001b[0m \u001b[32m━━━━━━━━━━━━━━━━━━━━\u001b[0m\u001b[37m\u001b[0m \u001b[1m185s\u001b[0m 60ms/step - accuracy: 0.6419 - auc: 0.7454 - loss: 0.6077 - rmse: 0.4537 - val_accuracy: 0.7261 - val_auc: 0.7617 - val_loss: 0.6152 - val_rmse: 0.4562 - learning_rate: 5.0000e-05\n",
            "Epoch 20/40\n",
            "\u001b[1m3068/3068\u001b[0m \u001b[32m━━━━━━━━━━━━━━━━━━━━\u001b[0m\u001b[37m\u001b[0m \u001b[1m200s\u001b[0m 60ms/step - accuracy: 0.6447 - auc: 0.7495 - loss: 0.6028 - rmse: 0.4509 - val_accuracy: 0.7270 - val_auc: 0.7628 - val_loss: 0.6115 - val_rmse: 0.4540 - learning_rate: 5.0000e-05\n",
            "Epoch 21/40\n",
            "\u001b[1m3068/3068\u001b[0m \u001b[32m━━━━━━━━━━━━━━━━━━━━\u001b[0m\u001b[37m\u001b[0m \u001b[1m193s\u001b[0m 63ms/step - accuracy: 0.6464 - auc: 0.7526 - loss: 0.5989 - rmse: 0.4487 - val_accuracy: 0.7275 - val_auc: 0.7637 - val_loss: 0.6081 - val_rmse: 0.4519 - learning_rate: 5.0000e-05\n",
            "Epoch 22/40\n",
            "\u001b[1m3068/3068\u001b[0m \u001b[32m━━━━━━━━━━━━━━━━━━━━\u001b[0m\u001b[37m\u001b[0m \u001b[1m190s\u001b[0m 62ms/step - accuracy: 0.6465 - auc: 0.7541 - loss: 0.5954 - rmse: 0.4466 - val_accuracy: 0.7280 - val_auc: 0.7647 - val_loss: 0.6049 - val_rmse: 0.4499 - learning_rate: 5.0000e-05\n",
            "Epoch 23/40\n",
            "\u001b[1m3068/3068\u001b[0m \u001b[32m━━━━━━━━━━━━━━━━━━━━\u001b[0m\u001b[37m\u001b[0m \u001b[1m181s\u001b[0m 59ms/step - accuracy: 0.6510 - auc: 0.7586 - loss: 0.5910 - rmse: 0.4442 - val_accuracy: 0.7286 - val_auc: 0.7657 - val_loss: 0.6020 - val_rmse: 0.4480 - learning_rate: 5.0000e-05\n",
            "Epoch 24/40\n",
            "\u001b[1m3068/3068\u001b[0m \u001b[32m━━━━━━━━━━━━━━━━━━━━\u001b[0m\u001b[37m\u001b[0m \u001b[1m206s\u001b[0m 60ms/step - accuracy: 0.6499 - auc: 0.7587 - loss: 0.5886 - rmse: 0.4427 - val_accuracy: 0.7294 - val_auc: 0.7666 - val_loss: 0.5993 - val_rmse: 0.4463 - learning_rate: 5.0000e-05\n",
            "Epoch 25/40\n",
            "\u001b[1m3068/3068\u001b[0m \u001b[32m━━━━━━━━━━━━━━━━━━━━\u001b[0m\u001b[37m\u001b[0m \u001b[1m194s\u001b[0m 63ms/step - accuracy: 0.6518 - auc: 0.7620 - loss: 0.5851 - rmse: 0.4407 - val_accuracy: 0.7298 - val_auc: 0.7675 - val_loss: 0.5969 - val_rmse: 0.4446 - learning_rate: 5.0000e-05\n",
            "Epoch 26/40\n",
            "\u001b[1m3068/3068\u001b[0m \u001b[32m━━━━━━━━━━━━━━━━━━━━\u001b[0m\u001b[37m\u001b[0m \u001b[1m186s\u001b[0m 60ms/step - accuracy: 0.6545 - auc: 0.7654 - loss: 0.5816 - rmse: 0.4386 - val_accuracy: 0.7304 - val_auc: 0.7682 - val_loss: 0.5946 - val_rmse: 0.4431 - learning_rate: 5.0000e-05\n",
            "Epoch 27/40\n",
            "\u001b[1m3068/3068\u001b[0m \u001b[32m━━━━━━━━━━━━━━━━━━━━\u001b[0m\u001b[37m\u001b[0m \u001b[1m197s\u001b[0m 59ms/step - accuracy: 0.6553 - auc: 0.7676 - loss: 0.5788 - rmse: 0.4369 - val_accuracy: 0.7311 - val_auc: 0.7690 - val_loss: 0.5926 - val_rmse: 0.4417 - learning_rate: 5.0000e-05\n",
            "Epoch 28/40\n",
            "\u001b[1m3068/3068\u001b[0m \u001b[32m━━━━━━━━━━━━━━━━━━━━\u001b[0m\u001b[37m\u001b[0m \u001b[1m205s\u001b[0m 60ms/step - accuracy: 0.6566 - auc: 0.7692 - loss: 0.5769 - rmse: 0.4356 - val_accuracy: 0.7313 - val_auc: 0.7698 - val_loss: 0.5907 - val_rmse: 0.4404 - learning_rate: 5.0000e-05\n",
            "Epoch 29/40\n",
            "\u001b[1m3068/3068\u001b[0m \u001b[32m━━━━━━━━━━━━━━━━━━━━\u001b[0m\u001b[37m\u001b[0m \u001b[1m199s\u001b[0m 59ms/step - accuracy: 0.6575 - auc: 0.7712 - loss: 0.5742 - rmse: 0.4340 - val_accuracy: 0.7318 - val_auc: 0.7706 - val_loss: 0.5891 - val_rmse: 0.4392 - learning_rate: 5.0000e-05\n",
            "Epoch 30/40\n",
            "\u001b[1m3068/3068\u001b[0m \u001b[32m━━━━━━━━━━━━━━━━━━━━\u001b[0m\u001b[37m\u001b[0m \u001b[1m189s\u001b[0m 62ms/step - accuracy: 0.6595 - auc: 0.7748 - loss: 0.5715 - rmse: 0.4324 - val_accuracy: 0.7321 - val_auc: 0.7713 - val_loss: 0.5875 - val_rmse: 0.4381 - learning_rate: 5.0000e-05\n",
            "Epoch 31/40\n",
            "\u001b[1m3068/3068\u001b[0m \u001b[32m━━━━━━━━━━━━━━━━━━━━\u001b[0m\u001b[37m\u001b[0m \u001b[1m184s\u001b[0m 60ms/step - accuracy: 0.6605 - auc: 0.7770 - loss: 0.5689 - rmse: 0.4307 - val_accuracy: 0.7328 - val_auc: 0.7720 - val_loss: 0.5862 - val_rmse: 0.4370 - learning_rate: 5.0000e-05\n",
            "Epoch 32/40\n",
            "\u001b[1m3068/3068\u001b[0m \u001b[32m━━━━━━━━━━━━━━━━━━━━\u001b[0m\u001b[37m\u001b[0m \u001b[1m192s\u001b[0m 62ms/step - accuracy: 0.6627 - auc: 0.7796 - loss: 0.5666 - rmse: 0.4293 - val_accuracy: 0.7331 - val_auc: 0.7727 - val_loss: 0.5849 - val_rmse: 0.4360 - learning_rate: 5.0000e-05\n",
            "Epoch 33/40\n",
            "\u001b[1m3068/3068\u001b[0m \u001b[32m━━━━━━━━━━━━━━━━━━━━\u001b[0m\u001b[37m\u001b[0m \u001b[1m186s\u001b[0m 61ms/step - accuracy: 0.6645 - auc: 0.7824 - loss: 0.5642 - rmse: 0.4278 - val_accuracy: 0.7336 - val_auc: 0.7734 - val_loss: 0.5838 - val_rmse: 0.4351 - learning_rate: 5.0000e-05\n",
            "Epoch 34/40\n",
            "\u001b[1m3068/3068\u001b[0m \u001b[32m━━━━━━━━━━━━━━━━━━━━\u001b[0m\u001b[37m\u001b[0m \u001b[1m207s\u001b[0m 62ms/step - accuracy: 0.6668 - auc: 0.7849 - loss: 0.5625 - rmse: 0.4266 - val_accuracy: 0.7336 - val_auc: 0.7740 - val_loss: 0.5828 - val_rmse: 0.4342 - learning_rate: 5.0000e-05\n",
            "Epoch 35/40\n",
            "\u001b[1m3068/3068\u001b[0m \u001b[32m━━━━━━━━━━━━━━━━━━━━\u001b[0m\u001b[37m\u001b[0m \u001b[1m190s\u001b[0m 62ms/step - accuracy: 0.6672 - auc: 0.7865 - loss: 0.5607 - rmse: 0.4254 - val_accuracy: 0.7340 - val_auc: 0.7747 - val_loss: 0.5818 - val_rmse: 0.4334 - learning_rate: 5.0000e-05\n",
            "Epoch 36/40\n",
            "\u001b[1m3068/3068\u001b[0m \u001b[32m━━━━━━━━━━━━━━━━━━━━\u001b[0m\u001b[37m\u001b[0m \u001b[1m199s\u001b[0m 61ms/step - accuracy: 0.6677 - auc: 0.7884 - loss: 0.5590 - rmse: 0.4243 - val_accuracy: 0.7344 - val_auc: 0.7753 - val_loss: 0.5810 - val_rmse: 0.4327 - learning_rate: 5.0000e-05\n",
            "Epoch 37/40\n",
            "\u001b[1m3068/3068\u001b[0m \u001b[32m━━━━━━━━━━━━━━━━━━━━\u001b[0m\u001b[37m\u001b[0m \u001b[1m209s\u001b[0m 63ms/step - accuracy: 0.6701 - auc: 0.7915 - loss: 0.5568 - rmse: 0.4229 - val_accuracy: 0.7344 - val_auc: 0.7758 - val_loss: 0.5803 - val_rmse: 0.4319 - learning_rate: 5.0000e-05\n",
            "Epoch 38/40\n",
            "\u001b[1m3068/3068\u001b[0m \u001b[32m━━━━━━━━━━━━━━━━━━━━\u001b[0m\u001b[37m\u001b[0m \u001b[1m197s\u001b[0m 61ms/step - accuracy: 0.6716 - auc: 0.7942 - loss: 0.5550 - rmse: 0.4216 - val_accuracy: 0.7346 - val_auc: 0.7764 - val_loss: 0.5797 - val_rmse: 0.4313 - learning_rate: 5.0000e-05\n",
            "Epoch 39/40\n",
            "\u001b[1m3068/3068\u001b[0m \u001b[32m━━━━━━━━━━━━━━━━━━━━\u001b[0m\u001b[37m\u001b[0m \u001b[1m180s\u001b[0m 59ms/step - accuracy: 0.6721 - auc: 0.7950 - loss: 0.5542 - rmse: 0.4209 - val_accuracy: 0.7347 - val_auc: 0.7769 - val_loss: 0.5791 - val_rmse: 0.4307 - learning_rate: 5.0000e-05\n",
            "Epoch 40/40\n",
            "\u001b[1m3068/3068\u001b[0m \u001b[32m━━━━━━━━━━━━━━━━━━━━\u001b[0m\u001b[37m\u001b[0m \u001b[1m188s\u001b[0m 61ms/step - accuracy: 0.6738 - auc: 0.7982 - loss: 0.5520 - rmse: 0.4195 - val_accuracy: 0.7351 - val_auc: 0.7774 - val_loss: 0.5786 - val_rmse: 0.4301 - learning_rate: 5.0000e-05\n",
            "\u001b[1m6136/6136\u001b[0m \u001b[32m━━━━━━━━━━━━━━━━━━━━\u001b[0m\u001b[37m\u001b[0m \u001b[1m8s\u001b[0m 1ms/step\n",
            "Confusion Matrix:\n",
            "[[ 28188  38098]\n",
            " [ 13925 116141]]\n",
            "\n",
            "Classification Report:\n",
            "              precision    recall  f1-score   support\n",
            "\n",
            "           0       0.67      0.43      0.52     66286\n",
            "           1       0.75      0.89      0.82    130066\n",
            "\n",
            "    accuracy                           0.74    196352\n",
            "   macro avg       0.71      0.66      0.67    196352\n",
            "weighted avg       0.72      0.74      0.72    196352\n",
            "\n"
          ]
        },
        {
          "output_type": "display_data",
          "data": {
            "text/plain": [
              "<Figure size 800x600 with 1 Axes>"
            ],
            "image/png": "[encoded data removed]"
          },
          "metadata": {}
        }
      ]
    },
    {
      "cell_type": "markdown",
      "source": [
        "#### Menyimpan Model dan Encoder"
      ],
      "metadata": {
        "id": "XCJYObhnralP"
      }
    },
    {
      "cell_type": "markdown",
      "source": [
        "* Model TensorFlow disimpan ke file recommender_model.h5 supaya bisa digunakan ulang tanpa training ulang.\n",
        "\n",
        "* Encoder user dan book yang dipakai untuk mengubah ID asli menjadi indeks numerik juga disimpan menggunakan pickle.\n",
        "\n",
        "* Penting untuk menyimpan encoder supaya saat rekomendasi bisa mengonversi ID user atau buku secara konsisten."
      ],
      "metadata": {
        "id": "UcJ7M-sUreQv"
      }
    },
    {
      "cell_type": "code",
      "source": [
        "# Simpan model\n",
        "model.save(\"recommender_model.h5\")\n",
        "\n",
        "# Simpan encoder\n",
        "import pickle\n",
        "\n",
        "with open(\"user_encoder.pkl\", \"wb\") as f:\n",
        "    pickle.dump(user_enc, f)\n",
        "with open(\"book_encoder.pkl\", \"wb\") as f:\n",
        "    pickle.dump(book_enc, f)"
      ],
      "metadata": {
        "colab": {
          "base_uri": "https://localhost:8080/"
        },
        "id": "u9uQtRrwXl69",
        "outputId": "efdfa085-4ead-401d-d190-03910d41d700"
      },
      "execution_count": 274,
      "outputs": [
        {
          "output_type": "stream",
          "name": "stderr",
          "text": [
            "WARNING:absl:You are saving your model as an HDF5 file via `model.save()` or `keras.saving.save_model(model)`. This file format is considered legacy. We recommend using instead the native Keras format, e.g. `model.save('my_model.keras')` or `keras.saving.save_model(model, 'my_model.keras')`. \n"
          ]
        }
      ]
    },
    {
      "cell_type": "markdown",
      "source": [
        "#### Fungsi Rekomendasi dengan Judul dan Penulis Buku"
      ],
      "metadata": {
        "id": "yhBcWbrCrjOE"
      }
    },
    {
      "cell_type": "markdown",
      "source": [
        "Fungsi ini merekomendasikan buku untuk user berdasarkan user_id input. Fungsi mengecek keberadaan user dalam data, lalu memprediksi skor kecocokan semua buku dengan user tersebut menggunakan model yang sudah dilatih. Fungsi mengembalikan dan menampilkan daftar buku terbaik (top N) berdasarkan skor prediksi, lengkap dengan judul dan penulisnya."
      ],
      "metadata": {
        "id": "SiUKPrwBr86b"
      }
    },
    {
      "cell_type": "code",
      "source": [
        "def recommend_books_with_titles(user_id_input, top_n=5):\n",
        "    \"\"\"\n",
        "    Rekomendasi buku berdasarkan user_id.\n",
        "    Mengembalikan DataFrame buku rekomendasi top_n dengan judul dan penulis.\n",
        "    \"\"\"\n",
        "    user_id = np.int64(user_id_input)\n",
        "\n",
        "    # Cek apakah user ada dalam data pelatihan\n",
        "    if user_id not in user_enc.classes_:\n",
        "        print(f\"User ID '{user_id}' tidak ditemukan dalam data pelatihan.\")\n",
        "        return None\n",
        "\n",
        "    # Encode user_id\n",
        "    encoded_user_id = user_enc.transform([user_id])[0]\n",
        "\n",
        "    # Semua indeks buku dari 0 sampai num_books-1\n",
        "    book_indices = np.arange(num_books)\n",
        "\n",
        "    # Buat array user dengan nilai encoded_user_id sebanyak buku\n",
        "    user_array = np.full_like(book_indices, fill_value=encoded_user_id)\n",
        "\n",
        "    # Gabungkan user dan book indices jadi input untuk model\n",
        "    inputs = np.vstack((user_array, book_indices)).T\n",
        "\n",
        "    # Prediksi skor kecocokan buku untuk user\n",
        "    predictions = model.predict(inputs).flatten()\n",
        "\n",
        "    # Ambil indeks buku dengan skor tertinggi\n",
        "    top_indices = predictions.argsort()[::-1][:top_n]\n",
        "\n",
        "    # Mapping indeks buku ke ID asli buku di data\n",
        "    book_id_index_to_id = data['id'].sort_values().values\n",
        "    recommended_book_real_ids = book_id_index_to_id[top_indices]\n",
        "\n",
        "    print(\"recommended_book_real_ids:\", recommended_book_real_ids)\n",
        "\n",
        "    # Cek ID buku yang tidak ditemukan dalam data (seharusnya kosong)\n",
        "    missing_ids = [bid for bid in recommended_book_real_ids if bid not in data['id'].values]\n",
        "    if missing_ids:\n",
        "        print(\"Book IDs tidak ditemukan di data:\", missing_ids)\n",
        "\n",
        "    # Filter yang valid (ada dalam data)\n",
        "    valid_book_ids = [bid for bid in recommended_book_real_ids if bid in data['id'].values]\n",
        "\n",
        "    if len(valid_book_ids) < top_n:\n",
        "        print(f\"Warning: hanya {len(valid_book_ids)} buku ditemukan dari rekomendasi top-{top_n}\")\n",
        "\n",
        "    # Ambil data buku berdasarkan ID valid, urut sesuai urutan rekomendasi\n",
        "    recommended_books = data[data['id'].isin(valid_book_ids)]\n",
        "    recommended_books = recommended_books.set_index('id').loc[valid_book_ids].reset_index()\n",
        "\n",
        "    # Tampilkan hasil rekomendasi\n",
        "    print(f\"Rekomendasi Top-{len(valid_book_ids)} untuk User {user_id}:\")\n",
        "    for i, row in recommended_books.iterrows():\n",
        "        print(f\"{i+1}. {row['title']} - {row['author']}\")\n",
        "\n",
        "    return recommended_books[['id', 'title', 'author']]"
      ],
      "metadata": {
        "id": "Av-34qGrZLAE"
      },
      "execution_count": 312,
      "outputs": []
    },
    {
      "cell_type": "markdown",
      "source": [
        "Fungsi menghasilkan daftar 5 buku yang direkomendasikan untuk user dengan ID 1, lengkap dengan judul dan nama penulisnya. Prediksi model menampilkan buku dengan skor kecocokan tertinggi sebagai rekomendasi teratas."
      ],
      "metadata": {
        "id": "GAdX6aJVsDEF"
      }
    },
    {
      "cell_type": "code",
      "source": [
        "# Contoh pemanggilan fungsi\n",
        "recommended_books = recommend_books_with_titles(1)"
      ],
      "metadata": {
        "colab": {
          "base_uri": "https://localhost:8080/"
        },
        "id": "-nApgS2fanMQ",
        "outputId": "4ca5aa02-a950-479d-e1ca-7ad21db9293b"
      },
      "execution_count": 313,
      "outputs": [
        {
          "output_type": "stream",
          "name": "stdout",
          "text": [
            "\u001b[1m313/313\u001b[0m \u001b[32m━━━━━━━━━━━━━━━━━━━━\u001b[0m\u001b[37m\u001b[0m \u001b[1m1s\u001b[0m 2ms/step\n",
            "recommended_book_real_ids: [  347656 22698568   801178  6907672    16298]\n",
            "Rekomendasi Top-5 untuk User 1:\n",
            "1. Don't Waste Your Life - John Piper\n",
            "2. The Invasion of the Tearling (The Queen of the Tearling, #2) - Erika Johansen\n",
            "3. Chicken Soup for the Soul - Jack Canfield, Mark Victor Hansen\n",
            "4. The Talisman (Volume 1): The Road of Trials - Robin Furth, Stephen King, Peter Straub, Tony Shasteen, Nei Ruffino\n",
            "5. A Murder Is Announced (Miss Marple, #5) - Agatha Christie\n"
          ]
        }
      ]
    },
    {
      "cell_type": "code",
      "source": [],
      "metadata": {
        "id": "_HDsWPJBawTq"
      },
      "execution_count": null,
      "outputs": []
    }
  ]
}