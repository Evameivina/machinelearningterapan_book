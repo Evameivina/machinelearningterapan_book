{
  "nbformat": 4,
  "nbformat_minor": 0,
  "metadata": {
    "colab": {
      "provenance": []
    },
    "kernelspec": {
      "name": "python3",
      "display_name": "Python 3"
    },
    "language_info": {
      "name": "python"
    }
  },
  "cells": [
    {
      "cell_type": "markdown",
      "source": [
        "# **Dataset goodbooks-10k dari Kaggle**"
      ],
      "metadata": {
        "id": "tTOZ1fqMfHpa"
      }
    },
    {
      "cell_type": "markdown",
      "source": [
        "## IMPORT LIBRARY\n"
      ],
      "metadata": {
        "id": "IbbzbNxteman"
      }
    },
    {
      "cell_type": "code",
      "execution_count": 1,
      "metadata": {
        "id": "wmYIAkV9FHnN",
        "colab": {
          "base_uri": "https://localhost:8080/"
        },
        "outputId": "c3316a82-6e28-4d5d-842b-254ae565cb21"
      },
      "outputs": [
        {
          "output_type": "stream",
          "name": "stdout",
          "text": [
            "Requirement already satisfied: kaggle in /usr/local/lib/python3.11/dist-packages (1.7.4.5)\n",
            "Requirement already satisfied: bleach in /usr/local/lib/python3.11/dist-packages (from kaggle) (6.2.0)\n",
            "Requirement already satisfied: certifi>=14.05.14 in /usr/local/lib/python3.11/dist-packages (from kaggle) (2025.4.26)\n",
            "Requirement already satisfied: charset-normalizer in /usr/local/lib/python3.11/dist-packages (from kaggle) (3.4.2)\n",
            "Requirement already satisfied: idna in /usr/local/lib/python3.11/dist-packages (from kaggle) (3.10)\n",
            "Requirement already satisfied: protobuf in /usr/local/lib/python3.11/dist-packages (from kaggle) (5.29.5)\n",
            "Requirement already satisfied: python-dateutil>=2.5.3 in /usr/local/lib/python3.11/dist-packages (from kaggle) (2.9.0.post0)\n",
            "Requirement already satisfied: python-slugify in /usr/local/lib/python3.11/dist-packages (from kaggle) (8.0.4)\n",
            "Requirement already satisfied: requests in /usr/local/lib/python3.11/dist-packages (from kaggle) (2.32.3)\n",
            "Requirement already satisfied: setuptools>=21.0.0 in /usr/local/lib/python3.11/dist-packages (from kaggle) (75.2.0)\n",
            "Requirement already satisfied: six>=1.10 in /usr/local/lib/python3.11/dist-packages (from kaggle) (1.17.0)\n",
            "Requirement already satisfied: text-unidecode in /usr/local/lib/python3.11/dist-packages (from kaggle) (1.3)\n",
            "Requirement already satisfied: tqdm in /usr/local/lib/python3.11/dist-packages (from kaggle) (4.67.1)\n",
            "Requirement already satisfied: urllib3>=1.15.1 in /usr/local/lib/python3.11/dist-packages (from kaggle) (2.4.0)\n",
            "Requirement already satisfied: webencodings in /usr/local/lib/python3.11/dist-packages (from kaggle) (0.5.1)\n"
          ]
        }
      ],
      "source": [
        "# Install Kaggle API untuk mengunduh dataset dari Kaggle\n",
        "!pip install kaggle"
      ]
    },
    {
      "cell_type": "code",
      "source": [
        "# Import Libraries\n",
        "import os\n",
        "import pandas as pd\n",
        "import numpy as np\n",
        "import seaborn as sns\n",
        "import matplotlib.pyplot as plt\n",
        "from sklearn.feature_extraction.text import TfidfVectorizer\n",
        "from sklearn.metrics.pairwise import cosine_similarity"
      ],
      "metadata": {
        "id": "dwwvlfJsFOyx"
      },
      "execution_count": 73,
      "outputs": []
    },
    {
      "cell_type": "markdown",
      "source": [
        "***Konfigurasi API Kaggle***"
      ],
      "metadata": {
        "id": "yNzL_C7zxf56"
      }
    },
    {
      "cell_type": "code",
      "source": [
        "os.environ['KAGGLE_USERNAME'] = \"evameivinadwiana\"\n",
        "os.environ['KAGGLE_KEY'] = \"efbafcb258eb3a5f3033f21f925e06ef\""
      ],
      "metadata": {
        "id": "_JTPpsc3FpKS"
      },
      "execution_count": 5,
      "outputs": []
    },
    {
      "cell_type": "markdown",
      "source": [
        "***Download dan Ekstrak Dataset***"
      ],
      "metadata": {
        "id": "oO2bH_K7fDmD"
      }
    },
    {
      "cell_type": "code",
      "source": [
        "# Download dataset goodbooks-10k dari Kaggle\n",
        "!kaggle datasets download zygmunt/goodbooks-10k\n",
        "\n",
        "# Extract file ZIP ke folder ./goodbooks10k (overwrite jika sudah ada)\n",
        "!unzip -o goodbooks-10k.zip -d ./goodbooks10k"
      ],
      "metadata": {
        "id": "sMakuxfWFt_m",
        "colab": {
          "base_uri": "https://localhost:8080/"
        },
        "outputId": "a1dbc8aa-0961-4e5c-cfb1-ee8bfa8f1534"
      },
      "execution_count": 6,
      "outputs": [
        {
          "output_type": "stream",
          "name": "stdout",
          "text": [
            "Dataset URL: https://www.kaggle.com/datasets/zygmunt/goodbooks-10k\n",
            "License(s): CC-BY-SA-4.0\n",
            "Downloading goodbooks-10k.zip to /content\n",
            "  0% 0.00/11.6M [00:00<?, ?B/s]\n",
            "100% 11.6M/11.6M [00:00<00:00, 935MB/s]\n",
            "Archive:  goodbooks-10k.zip\n",
            "  inflating: ./goodbooks10k/book_tags.csv  \n",
            "  inflating: ./goodbooks10k/books.csv  \n",
            "  inflating: ./goodbooks10k/ratings.csv  \n",
            "  inflating: ./goodbooks10k/sample_book.xml  \n",
            "  inflating: ./goodbooks10k/tags.csv  \n",
            "  inflating: ./goodbooks10k/to_read.csv  \n"
          ]
        }
      ]
    },
    {
      "cell_type": "markdown",
      "source": [
        "## DATA UNDERSTANDING\n"
      ],
      "metadata": {
        "id": "-hayUUeuF1F6"
      }
    },
    {
      "cell_type": "markdown",
      "source": [
        "***Load dataset Goodbooks-10k***"
      ],
      "metadata": {
        "id": "rnRGx65Cfj5b"
      }
    },
    {
      "cell_type": "code",
      "source": [
        "# Load dataset goodbooks-10k\n",
        "books = pd.read_csv('./goodbooks10k/books.csv')\n",
        "book_tags = pd.read_csv('./goodbooks10k/book_tags.csv')\n",
        "ratings = pd.read_csv('./goodbooks10k/ratings.csv')\n",
        "tags = pd.read_csv('./goodbooks10k/tags.csv')\n",
        "to_read = pd.read_csv('./goodbooks10k/to_read.csv')"
      ],
      "metadata": {
        "id": "nu1xpefWFvAB"
      },
      "execution_count": 9,
      "outputs": []
    },
    {
      "cell_type": "markdown",
      "source": [
        "Lima dataset dimuat dari direktori Goodbooks-10k untuk proses eksplorasi lebih lanjut."
      ],
      "metadata": {
        "id": "msNkPzjmycSs"
      }
    },
    {
      "cell_type": "markdown",
      "source": [
        "*Ringkasan Jumlah Data*"
      ],
      "metadata": {
        "id": "Tspo0DSUfsIQ"
      }
    },
    {
      "cell_type": "code",
      "source": [
        "# Tampilkan kolom dari book_tags untuk memastikan nama kolom yang benar\n",
        "print(book_tags.columns)\n",
        "\n",
        "# Informasi ringkas jumlah data di setiap dataset\n",
        "print('Jumlah buku:', len(books))\n",
        "print('Jumlah tag buku:', len(book_tags['goodreads_book_id'].unique())) # Assuming 'goodreads_book_id' is the correct column name based on common Kaggle datasets. Adjust if necessary.\n",
        "print('Jumlah penilaian pengguna:', len(ratings))\n",
        "print('Jumlah pengguna yang memberikan rating:', len(ratings.user_id.unique()))\n",
        "print('Jumlah tag yang tersedia:', len(tags))\n",
        "print('Jumlah daftar buku yang akan dibaca:', len(to_read))"
      ],
      "metadata": {
        "id": "rOCP9X35fp7l",
        "colab": {
          "base_uri": "https://localhost:8080/"
        },
        "outputId": "c9a9281a-a1c6-4ecc-99da-ebea7940660c"
      },
      "execution_count": 10,
      "outputs": [
        {
          "output_type": "stream",
          "name": "stdout",
          "text": [
            "Index(['goodreads_book_id', 'tag_id', 'count'], dtype='object')\n",
            "Jumlah buku: 10000\n",
            "Jumlah tag buku: 10000\n",
            "Jumlah penilaian pengguna: 981756\n",
            "Jumlah pengguna yang memberikan rating: 53424\n",
            "Jumlah tag yang tersedia: 34252\n",
            "Jumlah daftar buku yang akan dibaca: 912705\n"
          ]
        }
      ]
    },
    {
      "cell_type": "markdown",
      "source": [
        "***Contoh Data Buku dan Rating***"
      ],
      "metadata": {
        "id": "eJe1bE5jf8p6"
      }
    },
    {
      "cell_type": "code",
      "source": [
        "# Menampilkan beberapa baris awal dari dataset books dan ratings\n",
        "print('\\nContoh data buku:')\n",
        "print(books.head())\n",
        "\n",
        "print('\\nContoh data rating:')\n",
        "print(ratings.head())"
      ],
      "metadata": {
        "id": "r3hKxtbPGPVT",
        "colab": {
          "base_uri": "https://localhost:8080/"
        },
        "outputId": "227050a8-9f55-40a3-c061-1ebbd252751f"
      },
      "execution_count": 11,
      "outputs": [
        {
          "output_type": "stream",
          "name": "stdout",
          "text": [
            "\n",
            "Contoh data buku:\n",
            "   id  book_id  best_book_id  work_id  books_count       isbn        isbn13  \\\n",
            "0   1  2767052       2767052  2792775          272  439023483  9.780439e+12   \n",
            "1   2        3             3  4640799          491  439554934  9.780440e+12   \n",
            "2   3    41865         41865  3212258          226  316015849  9.780316e+12   \n",
            "3   4     2657          2657  3275794          487   61120081  9.780061e+12   \n",
            "4   5     4671          4671   245494         1356  743273567  9.780743e+12   \n",
            "\n",
            "                       authors  original_publication_year  \\\n",
            "0              Suzanne Collins                     2008.0   \n",
            "1  J.K. Rowling, Mary GrandPré                     1997.0   \n",
            "2              Stephenie Meyer                     2005.0   \n",
            "3                   Harper Lee                     1960.0   \n",
            "4          F. Scott Fitzgerald                     1925.0   \n",
            "\n",
            "                             original_title  ... ratings_count  \\\n",
            "0                          The Hunger Games  ...       4780653   \n",
            "1  Harry Potter and the Philosopher's Stone  ...       4602479   \n",
            "2                                  Twilight  ...       3866839   \n",
            "3                     To Kill a Mockingbird  ...       3198671   \n",
            "4                          The Great Gatsby  ...       2683664   \n",
            "\n",
            "  work_ratings_count  work_text_reviews_count  ratings_1  ratings_2  \\\n",
            "0            4942365                   155254      66715     127936   \n",
            "1            4800065                    75867      75504     101676   \n",
            "2            3916824                    95009     456191     436802   \n",
            "3            3340896                    72586      60427     117415   \n",
            "4            2773745                    51992      86236     197621   \n",
            "\n",
            "   ratings_3  ratings_4  ratings_5  \\\n",
            "0     560092    1481305    2706317   \n",
            "1     455024    1156318    3011543   \n",
            "2     793319     875073    1355439   \n",
            "3     446835    1001952    1714267   \n",
            "4     606158     936012     947718   \n",
            "\n",
            "                                           image_url  \\\n",
            "0  https://images.gr-assets.com/books/1447303603m...   \n",
            "1  https://images.gr-assets.com/books/1474154022m...   \n",
            "2  https://images.gr-assets.com/books/1361039443m...   \n",
            "3  https://images.gr-assets.com/books/1361975680m...   \n",
            "4  https://images.gr-assets.com/books/1490528560m...   \n",
            "\n",
            "                                     small_image_url  \n",
            "0  https://images.gr-assets.com/books/1447303603s...  \n",
            "1  https://images.gr-assets.com/books/1474154022s...  \n",
            "2  https://images.gr-assets.com/books/1361039443s...  \n",
            "3  https://images.gr-assets.com/books/1361975680s...  \n",
            "4  https://images.gr-assets.com/books/1490528560s...  \n",
            "\n",
            "[5 rows x 23 columns]\n",
            "\n",
            "Contoh data rating:\n",
            "   book_id  user_id  rating\n",
            "0        1      314       5\n",
            "1        1      439       3\n",
            "2        1      588       5\n",
            "3        1     1169       4\n",
            "4        1     1185       4\n"
          ]
        }
      ]
    },
    {
      "cell_type": "markdown",
      "source": [
        "***Informasi Detail dan Statistik Deskriptif***\n",
        "\n",
        "* info() untuk melihat tipe data dan jumlah data yang tidak kosong (cek missing value).\n",
        "\n",
        "* describe() untuk ringkasan statistik kolom numerik (mean, std, min, max, dll).\n",
        "\n",
        "* head() untuk menampilkan beberapa baris pertama data sebagai contoh."
      ],
      "metadata": {
        "id": "7qZhEAClgSl2"
      }
    },
    {
      "cell_type": "code",
      "source": [
        "print(\"===== BOOKS =====\")\n",
        "books.info()\n",
        "print(\"\\nDeskripsi Statistik:\")\n",
        "print(books.describe())\n",
        "print(\"\\nContoh Data:\")\n",
        "print(books.head())"
      ],
      "metadata": {
        "id": "SDC4D-jAGjdx",
        "colab": {
          "base_uri": "https://localhost:8080/"
        },
        "outputId": "c894c985-2a1a-4ea8-c28c-688f7c50ff54"
      },
      "execution_count": 12,
      "outputs": [
        {
          "output_type": "stream",
          "name": "stdout",
          "text": [
            "===== BOOKS =====\n",
            "<class 'pandas.core.frame.DataFrame'>\n",
            "RangeIndex: 10000 entries, 0 to 9999\n",
            "Data columns (total 23 columns):\n",
            " #   Column                     Non-Null Count  Dtype  \n",
            "---  ------                     --------------  -----  \n",
            " 0   id                         10000 non-null  int64  \n",
            " 1   book_id                    10000 non-null  int64  \n",
            " 2   best_book_id               10000 non-null  int64  \n",
            " 3   work_id                    10000 non-null  int64  \n",
            " 4   books_count                10000 non-null  int64  \n",
            " 5   isbn                       9300 non-null   object \n",
            " 6   isbn13                     9415 non-null   float64\n",
            " 7   authors                    10000 non-null  object \n",
            " 8   original_publication_year  9979 non-null   float64\n",
            " 9   original_title             9415 non-null   object \n",
            " 10  title                      10000 non-null  object \n",
            " 11  language_code              8916 non-null   object \n",
            " 12  average_rating             10000 non-null  float64\n",
            " 13  ratings_count              10000 non-null  int64  \n",
            " 14  work_ratings_count         10000 non-null  int64  \n",
            " 15  work_text_reviews_count    10000 non-null  int64  \n",
            " 16  ratings_1                  10000 non-null  int64  \n",
            " 17  ratings_2                  10000 non-null  int64  \n",
            " 18  ratings_3                  10000 non-null  int64  \n",
            " 19  ratings_4                  10000 non-null  int64  \n",
            " 20  ratings_5                  10000 non-null  int64  \n",
            " 21  image_url                  10000 non-null  object \n",
            " 22  small_image_url            10000 non-null  object \n",
            "dtypes: float64(3), int64(13), object(7)\n",
            "memory usage: 1.8+ MB\n",
            "\n",
            "Deskripsi Statistik:\n",
            "                id       book_id  best_book_id       work_id   books_count  \\\n",
            "count  10000.00000  1.000000e+04  1.000000e+04  1.000000e+04  10000.000000   \n",
            "mean    5000.50000  5.264697e+06  5.471214e+06  8.646183e+06     75.712700   \n",
            "std     2886.89568  7.575462e+06  7.827330e+06  1.175106e+07    170.470728   \n",
            "min        1.00000  1.000000e+00  1.000000e+00  8.700000e+01      1.000000   \n",
            "25%     2500.75000  4.627575e+04  4.791175e+04  1.008841e+06     23.000000   \n",
            "50%     5000.50000  3.949655e+05  4.251235e+05  2.719524e+06     40.000000   \n",
            "75%     7500.25000  9.382225e+06  9.636112e+06  1.451775e+07     67.000000   \n",
            "max    10000.00000  3.328864e+07  3.553423e+07  5.639960e+07   3455.000000   \n",
            "\n",
            "             isbn13  original_publication_year  average_rating  ratings_count  \\\n",
            "count  9.415000e+03                9979.000000    10000.000000   1.000000e+04   \n",
            "mean   9.755044e+12                1981.987674        4.002191   5.400124e+04   \n",
            "std    4.428619e+11                 152.576665        0.254427   1.573700e+05   \n",
            "min    1.951703e+08               -1750.000000        2.470000   2.716000e+03   \n",
            "25%    9.780316e+12                1990.000000        3.850000   1.356875e+04   \n",
            "50%    9.780452e+12                2004.000000        4.020000   2.115550e+04   \n",
            "75%    9.780831e+12                2011.000000        4.180000   4.105350e+04   \n",
            "max    9.790008e+12                2017.000000        4.820000   4.780653e+06   \n",
            "\n",
            "       work_ratings_count  work_text_reviews_count      ratings_1  \\\n",
            "count        1.000000e+04             10000.000000   10000.000000   \n",
            "mean         5.968732e+04              2919.955300    1345.040600   \n",
            "std          1.678038e+05              6124.378132    6635.626263   \n",
            "min          5.510000e+03                 3.000000      11.000000   \n",
            "25%          1.543875e+04               694.000000     196.000000   \n",
            "50%          2.383250e+04              1402.000000     391.000000   \n",
            "75%          4.591500e+04              2744.250000     885.000000   \n",
            "max          4.942365e+06            155254.000000  456191.000000   \n",
            "\n",
            "           ratings_2      ratings_3     ratings_4     ratings_5  \n",
            "count   10000.000000   10000.000000  1.000000e+04  1.000000e+04  \n",
            "mean     3110.885000   11475.893800  1.996570e+04  2.378981e+04  \n",
            "std      9717.123578   28546.449183  5.144736e+04  7.976889e+04  \n",
            "min        30.000000     323.000000  7.500000e+02  7.540000e+02  \n",
            "25%       656.000000    3112.000000  5.405750e+03  5.334000e+03  \n",
            "50%      1163.000000    4894.000000  8.269500e+03  8.836000e+03  \n",
            "75%      2353.250000    9287.000000  1.602350e+04  1.730450e+04  \n",
            "max    436802.000000  793319.000000  1.481305e+06  3.011543e+06  \n",
            "\n",
            "Contoh Data:\n",
            "   id  book_id  best_book_id  work_id  books_count       isbn        isbn13  \\\n",
            "0   1  2767052       2767052  2792775          272  439023483  9.780439e+12   \n",
            "1   2        3             3  4640799          491  439554934  9.780440e+12   \n",
            "2   3    41865         41865  3212258          226  316015849  9.780316e+12   \n",
            "3   4     2657          2657  3275794          487   61120081  9.780061e+12   \n",
            "4   5     4671          4671   245494         1356  743273567  9.780743e+12   \n",
            "\n",
            "                       authors  original_publication_year  \\\n",
            "0              Suzanne Collins                     2008.0   \n",
            "1  J.K. Rowling, Mary GrandPré                     1997.0   \n",
            "2              Stephenie Meyer                     2005.0   \n",
            "3                   Harper Lee                     1960.0   \n",
            "4          F. Scott Fitzgerald                     1925.0   \n",
            "\n",
            "                             original_title  ... ratings_count  \\\n",
            "0                          The Hunger Games  ...       4780653   \n",
            "1  Harry Potter and the Philosopher's Stone  ...       4602479   \n",
            "2                                  Twilight  ...       3866839   \n",
            "3                     To Kill a Mockingbird  ...       3198671   \n",
            "4                          The Great Gatsby  ...       2683664   \n",
            "\n",
            "  work_ratings_count  work_text_reviews_count  ratings_1  ratings_2  \\\n",
            "0            4942365                   155254      66715     127936   \n",
            "1            4800065                    75867      75504     101676   \n",
            "2            3916824                    95009     456191     436802   \n",
            "3            3340896                    72586      60427     117415   \n",
            "4            2773745                    51992      86236     197621   \n",
            "\n",
            "   ratings_3  ratings_4  ratings_5  \\\n",
            "0     560092    1481305    2706317   \n",
            "1     455024    1156318    3011543   \n",
            "2     793319     875073    1355439   \n",
            "3     446835    1001952    1714267   \n",
            "4     606158     936012     947718   \n",
            "\n",
            "                                           image_url  \\\n",
            "0  https://images.gr-assets.com/books/1447303603m...   \n",
            "1  https://images.gr-assets.com/books/1474154022m...   \n",
            "2  https://images.gr-assets.com/books/1361039443m...   \n",
            "3  https://images.gr-assets.com/books/1361975680m...   \n",
            "4  https://images.gr-assets.com/books/1490528560m...   \n",
            "\n",
            "                                     small_image_url  \n",
            "0  https://images.gr-assets.com/books/1447303603s...  \n",
            "1  https://images.gr-assets.com/books/1474154022s...  \n",
            "2  https://images.gr-assets.com/books/1361039443s...  \n",
            "3  https://images.gr-assets.com/books/1361975680s...  \n",
            "4  https://images.gr-assets.com/books/1490528560s...  \n",
            "\n",
            "[5 rows x 23 columns]\n"
          ]
        }
      ]
    },
    {
      "cell_type": "code",
      "source": [
        "print(\"\\n===== BOOK_TAGS =====\")\n",
        "book_tags.info()\n",
        "print(\"\\nDeskripsi Statistik:\")\n",
        "print(book_tags.describe())\n",
        "print(\"\\nContoh Data:\")\n",
        "print(book_tags.head())"
      ],
      "metadata": {
        "id": "sbPqM7qZG2Cf",
        "colab": {
          "base_uri": "https://localhost:8080/"
        },
        "outputId": "c7624788-c93e-4f87-dfcc-cae7102955dd"
      },
      "execution_count": 13,
      "outputs": [
        {
          "output_type": "stream",
          "name": "stdout",
          "text": [
            "\n",
            "===== BOOK_TAGS =====\n",
            "<class 'pandas.core.frame.DataFrame'>\n",
            "RangeIndex: 999912 entries, 0 to 999911\n",
            "Data columns (total 3 columns):\n",
            " #   Column             Non-Null Count   Dtype\n",
            "---  ------             --------------   -----\n",
            " 0   goodreads_book_id  999912 non-null  int64\n",
            " 1   tag_id             999912 non-null  int64\n",
            " 2   count              999912 non-null  int64\n",
            "dtypes: int64(3)\n",
            "memory usage: 22.9 MB\n",
            "\n",
            "Deskripsi Statistik:\n",
            "       goodreads_book_id         tag_id          count\n",
            "count       9.999120e+05  999912.000000  999912.000000\n",
            "mean        5.263442e+06   16324.527073     208.869633\n",
            "std         7.574057e+06    9647.846196    3501.265173\n",
            "min         1.000000e+00       0.000000      -1.000000\n",
            "25%         4.622700e+04    8067.000000       7.000000\n",
            "50%         3.948410e+05   15808.000000      15.000000\n",
            "75%         9.378297e+06   24997.000000      40.000000\n",
            "max         3.328864e+07   34251.000000  596234.000000\n",
            "\n",
            "Contoh Data:\n",
            "   goodreads_book_id  tag_id   count\n",
            "0                  1   30574  167697\n",
            "1                  1   11305   37174\n",
            "2                  1   11557   34173\n",
            "3                  1    8717   12986\n",
            "4                  1   33114   12716\n"
          ]
        }
      ]
    },
    {
      "cell_type": "code",
      "source": [
        "print(\"\\n===== RATINGS =====\")\n",
        "ratings.info()\n",
        "print(\"\\nDeskripsi Statistik:\")\n",
        "print(ratings.describe())\n",
        "print(\"\\nContoh Data:\")\n",
        "print(ratings.head())"
      ],
      "metadata": {
        "id": "iXF15t-WG5eb",
        "colab": {
          "base_uri": "https://localhost:8080/"
        },
        "outputId": "51474374-e7dc-4872-9e6c-92830f528ccf"
      },
      "execution_count": 14,
      "outputs": [
        {
          "output_type": "stream",
          "name": "stdout",
          "text": [
            "\n",
            "===== RATINGS =====\n",
            "<class 'pandas.core.frame.DataFrame'>\n",
            "RangeIndex: 981756 entries, 0 to 981755\n",
            "Data columns (total 3 columns):\n",
            " #   Column   Non-Null Count   Dtype\n",
            "---  ------   --------------   -----\n",
            " 0   book_id  981756 non-null  int64\n",
            " 1   user_id  981756 non-null  int64\n",
            " 2   rating   981756 non-null  int64\n",
            "dtypes: int64(3)\n",
            "memory usage: 22.5 MB\n",
            "\n",
            "Deskripsi Statistik:\n",
            "             book_id        user_id         rating\n",
            "count  981756.000000  981756.000000  981756.000000\n",
            "mean     4943.275636   25616.759933       3.856534\n",
            "std      2873.207415   15228.338826       0.983941\n",
            "min         1.000000       1.000000       1.000000\n",
            "25%      2457.000000   12372.000000       3.000000\n",
            "50%      4921.000000   25077.000000       4.000000\n",
            "75%      7414.000000   38572.000000       5.000000\n",
            "max     10000.000000   53424.000000       5.000000\n",
            "\n",
            "Contoh Data:\n",
            "   book_id  user_id  rating\n",
            "0        1      314       5\n",
            "1        1      439       3\n",
            "2        1      588       5\n",
            "3        1     1169       4\n",
            "4        1     1185       4\n"
          ]
        }
      ]
    },
    {
      "cell_type": "code",
      "source": [
        "print(\"\\n===== TAGS =====\")\n",
        "tags.info()\n",
        "print(\"\\nDeskripsi Statistik:\")\n",
        "print(tags.describe())\n",
        "print(\"\\nContoh Data:\")\n",
        "print(tags.head())"
      ],
      "metadata": {
        "id": "o2nKcN0OG7Op",
        "colab": {
          "base_uri": "https://localhost:8080/"
        },
        "outputId": "3f7ce111-4f61-4ead-be67-d7af7cd1cc0a"
      },
      "execution_count": 15,
      "outputs": [
        {
          "output_type": "stream",
          "name": "stdout",
          "text": [
            "\n",
            "===== TAGS =====\n",
            "<class 'pandas.core.frame.DataFrame'>\n",
            "RangeIndex: 34252 entries, 0 to 34251\n",
            "Data columns (total 2 columns):\n",
            " #   Column    Non-Null Count  Dtype \n",
            "---  ------    --------------  ----- \n",
            " 0   tag_id    34252 non-null  int64 \n",
            " 1   tag_name  34252 non-null  object\n",
            "dtypes: int64(1), object(1)\n",
            "memory usage: 535.3+ KB\n",
            "\n",
            "Deskripsi Statistik:\n",
            "             tag_id\n",
            "count  34252.000000\n",
            "mean   17125.500000\n",
            "std     9887.845047\n",
            "min        0.000000\n",
            "25%     8562.750000\n",
            "50%    17125.500000\n",
            "75%    25688.250000\n",
            "max    34251.000000\n",
            "\n",
            "Contoh Data:\n",
            "   tag_id tag_name\n",
            "0       0        -\n",
            "1       1     --1-\n",
            "2       2    --10-\n",
            "3       3    --12-\n",
            "4       4   --122-\n"
          ]
        }
      ]
    },
    {
      "cell_type": "code",
      "source": [
        "print(\"\\n===== TO_READ =====\")\n",
        "to_read.info()\n",
        "print(\"\\nDeskripsi Statistik:\")\n",
        "print(to_read.describe())\n",
        "print(\"\\nContoh Data:\")\n",
        "print(to_read.head())"
      ],
      "metadata": {
        "id": "MtjYsy5cG9LR",
        "colab": {
          "base_uri": "https://localhost:8080/"
        },
        "outputId": "d21efcee-8849-4969-dc88-75bc34a542f3"
      },
      "execution_count": 16,
      "outputs": [
        {
          "output_type": "stream",
          "name": "stdout",
          "text": [
            "\n",
            "===== TO_READ =====\n",
            "<class 'pandas.core.frame.DataFrame'>\n",
            "RangeIndex: 912705 entries, 0 to 912704\n",
            "Data columns (total 2 columns):\n",
            " #   Column   Non-Null Count   Dtype\n",
            "---  ------   --------------   -----\n",
            " 0   user_id  912705 non-null  int64\n",
            " 1   book_id  912705 non-null  int64\n",
            "dtypes: int64(2)\n",
            "memory usage: 13.9 MB\n",
            "\n",
            "Deskripsi Statistik:\n",
            "             user_id        book_id\n",
            "count  912705.000000  912705.000000\n",
            "mean    27668.980115    2454.739538\n",
            "std     14775.096388    2626.359921\n",
            "min         1.000000       1.000000\n",
            "25%     15507.000000     360.000000\n",
            "50%     27799.000000    1381.000000\n",
            "75%     40220.000000    3843.000000\n",
            "max     53424.000000   10000.000000\n",
            "\n",
            "Contoh Data:\n",
            "   user_id  book_id\n",
            "0        1      112\n",
            "1        1      235\n",
            "2        1      533\n",
            "3        1     1198\n",
            "4        1     1874\n"
          ]
        }
      ]
    },
    {
      "cell_type": "markdown",
      "source": [
        "***Informasi Buku dan Penulis***"
      ],
      "metadata": {
        "id": "ydoy_gGrzkAV"
      }
    },
    {
      "cell_type": "code",
      "source": [
        "# Ringkasan tambahan untuk insight jumlah unik dan contoh data\n",
        "print('Jumlah buku yang mendapatkan rating: ', len(ratings.book_id.unique()))\n",
        "print('Jumlah penulis unik: ', books.authors.nunique())\n",
        "print('Contoh penulis: ', books.authors.unique()[:10])"
      ],
      "metadata": {
        "id": "UQtyiobgHAIB",
        "colab": {
          "base_uri": "https://localhost:8080/"
        },
        "outputId": "5e6802bc-b1a6-49c5-f97b-0104f338b2c0"
      },
      "execution_count": 17,
      "outputs": [
        {
          "output_type": "stream",
          "name": "stdout",
          "text": [
            "Jumlah buku yang mendapatkan rating:  10000\n",
            "Jumlah penulis unik:  4664\n",
            "Contoh penulis:  ['Suzanne Collins' 'J.K. Rowling, Mary GrandPré' 'Stephenie Meyer'\n",
            " 'Harper Lee' 'F. Scott Fitzgerald' 'John Green' 'J.R.R. Tolkien'\n",
            " 'J.D. Salinger' 'Dan Brown' 'Jane Austen']\n"
          ]
        }
      ]
    },
    {
      "cell_type": "markdown",
      "source": [
        "***Informasi Tag (Kategori Buku)***"
      ],
      "metadata": {
        "id": "MEpiIaXaz4Bs"
      }
    },
    {
      "cell_type": "code",
      "source": [
        "print(\"Informasi variabel tags (jenis kategori buku):\")\n",
        "tags.info()\n",
        "\n",
        "print(\"\\nContoh data tag:\")\n",
        "print(tags.head())\n",
        "\n",
        "print(\"\\nJumlah tag unik yang tersedia:\", tags['tag_name'].nunique())"
      ],
      "metadata": {
        "id": "obS8oKcrHQva",
        "colab": {
          "base_uri": "https://localhost:8080/"
        },
        "outputId": "0d2d8041-76a9-4fc9-d030-00b054c1652f"
      },
      "execution_count": 18,
      "outputs": [
        {
          "output_type": "stream",
          "name": "stdout",
          "text": [
            "Informasi variabel tags (jenis kategori buku):\n",
            "<class 'pandas.core.frame.DataFrame'>\n",
            "RangeIndex: 34252 entries, 0 to 34251\n",
            "Data columns (total 2 columns):\n",
            " #   Column    Non-Null Count  Dtype \n",
            "---  ------    --------------  ----- \n",
            " 0   tag_id    34252 non-null  int64 \n",
            " 1   tag_name  34252 non-null  object\n",
            "dtypes: int64(1), object(1)\n",
            "memory usage: 535.3+ KB\n",
            "\n",
            "Contoh data tag:\n",
            "   tag_id tag_name\n",
            "0       0        -\n",
            "1       1     --1-\n",
            "2       2    --10-\n",
            "3       3    --12-\n",
            "4       4   --122-\n",
            "\n",
            "Jumlah tag unik yang tersedia: 34252\n"
          ]
        }
      ]
    },
    {
      "cell_type": "code",
      "source": [
        "print('Banyak tipe tag (kategori buku):', tags['tag_name'].nunique())\n",
        "print('Tipe tag buku (kategori):')\n",
        "print(tags['tag_name'].unique()[:50])"
      ],
      "metadata": {
        "id": "ci6S09sFHkH8",
        "colab": {
          "base_uri": "https://localhost:8080/"
        },
        "outputId": "ca5e0991-c52c-4a35-c1af-1fb58eb98ea0"
      },
      "execution_count": 19,
      "outputs": [
        {
          "output_type": "stream",
          "name": "stdout",
          "text": [
            "Banyak tipe tag (kategori buku): 34252\n",
            "Tipe tag buku (kategori):\n",
            "['-' '--1-' '--10-' '--12-' '--122-' '--166-' '--17-' '--19-' '--2-'\n",
            " '--258-' '--3-' '--33-' '--4-' '--5-' '--51-' '--6-' '--62-' '--8-'\n",
            " '--99-' '--available-at-raspberrys--' '-2001--' '-calif--' '-d-c--'\n",
            " '-dean' '-england-' '-fiction' '-fictional' '-fictitious' '-football-'\n",
            " '-george' '-gr-' '-history' '-imaginary' '-italy-' '-la--' '-los'\n",
            " '-mass--' '-murder-' '-n-y--' '-non-poetry-' '-performing' '-post'\n",
            " '-psychology-' '-read' '-single' '-specific' '-television' '0'\n",
            " '0-0-0-0cant-find' '0-0-bingo']\n"
          ]
        }
      ]
    },
    {
      "cell_type": "markdown",
      "source": [
        "## EXPLORATORY DATA ANALYSIS (EDA)"
      ],
      "metadata": {
        "id": "-MGqVz5Cg26V"
      }
    },
    {
      "cell_type": "markdown",
      "source": [
        "***Ukuran Dataset***"
      ],
      "metadata": {
        "id": "MBYGMEyuhMTV"
      }
    },
    {
      "cell_type": "code",
      "source": [
        "# Ukuran dataset ratings dan books\n",
        "print(ratings.shape)\n",
        "print(books.shape)"
      ],
      "metadata": {
        "id": "xXUWlGyAHuZR",
        "colab": {
          "base_uri": "https://localhost:8080/"
        },
        "outputId": "7fa01bb6-d622-4806-d4e3-c2d0edd6f7c8"
      },
      "execution_count": 20,
      "outputs": [
        {
          "output_type": "stream",
          "name": "stdout",
          "text": [
            "(981756, 3)\n",
            "(10000, 23)\n"
          ]
        }
      ]
    },
    {
      "cell_type": "markdown",
      "source": [
        "* Dataset ratings memiliki ukuran 981.756 baris dan 3 kolom\n",
        "* Dataset books terdiri dari 10.000 baris dan 23 kolom\n"
      ],
      "metadata": {
        "id": "hZ8Mam5U0doP"
      }
    },
    {
      "cell_type": "markdown",
      "source": [
        "***Preview Data***\n",
        "Menampilkan 5 baris pertama dari masing-masing dataset."
      ],
      "metadata": {
        "id": "GwLMcSMN0lHw"
      }
    },
    {
      "cell_type": "code",
      "source": [
        "# Preview beberapa baris pertama\n",
        "ratings.head()\n",
        "books.head()"
      ],
      "metadata": {
        "id": "U5j2fj1KJGm3",
        "colab": {
          "base_uri": "https://localhost:8080/",
          "height": 377
        },
        "outputId": "43845ea0-60f1-4b7d-f6c3-2e191d169282"
      },
      "execution_count": 21,
      "outputs": [
        {
          "output_type": "execute_result",
          "data": {
            "text/plain": [
              "   id  book_id  best_book_id  work_id  books_count       isbn        isbn13  \\\n",
              "0   1  2767052       2767052  2792775          272  439023483  9.780439e+12   \n",
              "1   2        3             3  4640799          491  439554934  9.780440e+12   \n",
              "2   3    41865         41865  3212258          226  316015849  9.780316e+12   \n",
              "3   4     2657          2657  3275794          487   61120081  9.780061e+12   \n",
              "4   5     4671          4671   245494         1356  743273567  9.780743e+12   \n",
              "\n",
              "                       authors  original_publication_year  \\\n",
              "0              Suzanne Collins                     2008.0   \n",
              "1  J.K. Rowling, Mary GrandPré                     1997.0   \n",
              "2              Stephenie Meyer                     2005.0   \n",
              "3                   Harper Lee                     1960.0   \n",
              "4          F. Scott Fitzgerald                     1925.0   \n",
              "\n",
              "                             original_title  ... ratings_count  \\\n",
              "0                          The Hunger Games  ...       4780653   \n",
              "1  Harry Potter and the Philosopher's Stone  ...       4602479   \n",
              "2                                  Twilight  ...       3866839   \n",
              "3                     To Kill a Mockingbird  ...       3198671   \n",
              "4                          The Great Gatsby  ...       2683664   \n",
              "\n",
              "  work_ratings_count  work_text_reviews_count  ratings_1  ratings_2  \\\n",
              "0            4942365                   155254      66715     127936   \n",
              "1            4800065                    75867      75504     101676   \n",
              "2            3916824                    95009     456191     436802   \n",
              "3            3340896                    72586      60427     117415   \n",
              "4            2773745                    51992      86236     197621   \n",
              "\n",
              "   ratings_3  ratings_4  ratings_5  \\\n",
              "0     560092    1481305    2706317   \n",
              "1     455024    1156318    3011543   \n",
              "2     793319     875073    1355439   \n",
              "3     446835    1001952    1714267   \n",
              "4     606158     936012     947718   \n",
              "\n",
              "                                           image_url  \\\n",
              "0  https://images.gr-assets.com/books/1447303603m...   \n",
              "1  https://images.gr-assets.com/books/1474154022m...   \n",
              "2  https://images.gr-assets.com/books/1361039443m...   \n",
              "3  https://images.gr-assets.com/books/1361975680m...   \n",
              "4  https://images.gr-assets.com/books/1490528560m...   \n",
              "\n",
              "                                     small_image_url  \n",
              "0  https://images.gr-assets.com/books/1447303603s...  \n",
              "1  https://images.gr-assets.com/books/1474154022s...  \n",
              "2  https://images.gr-assets.com/books/1361039443s...  \n",
              "3  https://images.gr-assets.com/books/1361975680s...  \n",
              "4  https://images.gr-assets.com/books/1490528560s...  \n",
              "\n",
              "[5 rows x 23 columns]"
            ],
            "text/html": [
              "\n",
              "  <div id=\"df-6e81829d-fb97-4520-8bab-0128f0bbd790\" class=\"colab-df-container\">\n",
              "    <div>\n",
              "<style scoped>\n",
              "    .dataframe tbody tr th:only-of-type {\n",
              "        vertical-align: middle;\n",
              "    }\n",
              "\n",
              "    .dataframe tbody tr th {\n",
              "        vertical-align: top;\n",
              "    }\n",
              "\n",
              "    .dataframe thead th {\n",
              "        text-align: right;\n",
              "    }\n",
              "</style>\n",
              "<table border=\"1\" class=\"dataframe\">\n",
              "  <thead>\n",
              "    <tr style=\"text-align: right;\">\n",
              "      <th></th>\n",
              "      <th>id</th>\n",
              "      <th>book_id</th>\n",
              "      <th>best_book_id</th>\n",
              "      <th>work_id</th>\n",
              "      <th>books_count</th>\n",
              "      <th>isbn</th>\n",
              "      <th>isbn13</th>\n",
              "      <th>authors</th>\n",
              "      <th>original_publication_year</th>\n",
              "      <th>original_title</th>\n",
              "      <th>...</th>\n",
              "      <th>ratings_count</th>\n",
              "      <th>work_ratings_count</th>\n",
              "      <th>work_text_reviews_count</th>\n",
              "      <th>ratings_1</th>\n",
              "      <th>ratings_2</th>\n",
              "      <th>ratings_3</th>\n",
              "      <th>ratings_4</th>\n",
              "      <th>ratings_5</th>\n",
              "      <th>image_url</th>\n",
              "      <th>small_image_url</th>\n",
              "    </tr>\n",
              "  </thead>\n",
              "  <tbody>\n",
              "    <tr>\n",
              "      <th>0</th>\n",
              "      <td>1</td>\n",
              "      <td>2767052</td>\n",
              "      <td>2767052</td>\n",
              "      <td>2792775</td>\n",
              "      <td>272</td>\n",
              "      <td>439023483</td>\n",
              "      <td>9.780439e+12</td>\n",
              "      <td>Suzanne Collins</td>\n",
              "      <td>2008.0</td>\n",
              "      <td>The Hunger Games</td>\n",
              "      <td>...</td>\n",
              "      <td>4780653</td>\n",
              "      <td>4942365</td>\n",
              "      <td>155254</td>\n",
              "      <td>66715</td>\n",
              "      <td>127936</td>\n",
              "      <td>560092</td>\n",
              "      <td>1481305</td>\n",
              "      <td>2706317</td>\n",
              "      <td>https://images.gr-assets.com/books/1447303603m...</td>\n",
              "      <td>https://images.gr-assets.com/books/1447303603s...</td>\n",
              "    </tr>\n",
              "    <tr>\n",
              "      <th>1</th>\n",
              "      <td>2</td>\n",
              "      <td>3</td>\n",
              "      <td>3</td>\n",
              "      <td>4640799</td>\n",
              "      <td>491</td>\n",
              "      <td>439554934</td>\n",
              "      <td>9.780440e+12</td>\n",
              "      <td>J.K. Rowling, Mary GrandPré</td>\n",
              "      <td>1997.0</td>\n",
              "      <td>Harry Potter and the Philosopher's Stone</td>\n",
              "      <td>...</td>\n",
              "      <td>4602479</td>\n",
              "      <td>4800065</td>\n",
              "      <td>75867</td>\n",
              "      <td>75504</td>\n",
              "      <td>101676</td>\n",
              "      <td>455024</td>\n",
              "      <td>1156318</td>\n",
              "      <td>3011543</td>\n",
              "      <td>https://images.gr-assets.com/books/1474154022m...</td>\n",
              "      <td>https://images.gr-assets.com/books/1474154022s...</td>\n",
              "    </tr>\n",
              "    <tr>\n",
              "      <th>2</th>\n",
              "      <td>3</td>\n",
              "      <td>41865</td>\n",
              "      <td>41865</td>\n",
              "      <td>3212258</td>\n",
              "      <td>226</td>\n",
              "      <td>316015849</td>\n",
              "      <td>9.780316e+12</td>\n",
              "      <td>Stephenie Meyer</td>\n",
              "      <td>2005.0</td>\n",
              "      <td>Twilight</td>\n",
              "      <td>...</td>\n",
              "      <td>3866839</td>\n",
              "      <td>3916824</td>\n",
              "      <td>95009</td>\n",
              "      <td>456191</td>\n",
              "      <td>436802</td>\n",
              "      <td>793319</td>\n",
              "      <td>875073</td>\n",
              "      <td>1355439</td>\n",
              "      <td>https://images.gr-assets.com/books/1361039443m...</td>\n",
              "      <td>https://images.gr-assets.com/books/1361039443s...</td>\n",
              "    </tr>\n",
              "    <tr>\n",
              "      <th>3</th>\n",
              "      <td>4</td>\n",
              "      <td>2657</td>\n",
              "      <td>2657</td>\n",
              "      <td>3275794</td>\n",
              "      <td>487</td>\n",
              "      <td>61120081</td>\n",
              "      <td>9.780061e+12</td>\n",
              "      <td>Harper Lee</td>\n",
              "      <td>1960.0</td>\n",
              "      <td>To Kill a Mockingbird</td>\n",
              "      <td>...</td>\n",
              "      <td>3198671</td>\n",
              "      <td>3340896</td>\n",
              "      <td>72586</td>\n",
              "      <td>60427</td>\n",
              "      <td>117415</td>\n",
              "      <td>446835</td>\n",
              "      <td>1001952</td>\n",
              "      <td>1714267</td>\n",
              "      <td>https://images.gr-assets.com/books/1361975680m...</td>\n",
              "      <td>https://images.gr-assets.com/books/1361975680s...</td>\n",
              "    </tr>\n",
              "    <tr>\n",
              "      <th>4</th>\n",
              "      <td>5</td>\n",
              "      <td>4671</td>\n",
              "      <td>4671</td>\n",
              "      <td>245494</td>\n",
              "      <td>1356</td>\n",
              "      <td>743273567</td>\n",
              "      <td>9.780743e+12</td>\n",
              "      <td>F. Scott Fitzgerald</td>\n",
              "      <td>1925.0</td>\n",
              "      <td>The Great Gatsby</td>\n",
              "      <td>...</td>\n",
              "      <td>2683664</td>\n",
              "      <td>2773745</td>\n",
              "      <td>51992</td>\n",
              "      <td>86236</td>\n",
              "      <td>197621</td>\n",
              "      <td>606158</td>\n",
              "      <td>936012</td>\n",
              "      <td>947718</td>\n",
              "      <td>https://images.gr-assets.com/books/1490528560m...</td>\n",
              "      <td>https://images.gr-assets.com/books/1490528560s...</td>\n",
              "    </tr>\n",
              "  </tbody>\n",
              "</table>\n",
              "<p>5 rows × 23 columns</p>\n",
              "</div>\n",
              "    <div class=\"colab-df-buttons\">\n",
              "\n",
              "  <div class=\"colab-df-container\">\n",
              "    <button class=\"colab-df-convert\" onclick=\"convertToInteractive('df-6e81829d-fb97-4520-8bab-0128f0bbd790')\"\n",
              "            title=\"Convert this dataframe to an interactive table.\"\n",
              "            style=\"display:none;\">\n",
              "\n",
              "  <svg xmlns=\"http://www.w3.org/2000/svg\" height=\"24px\" viewBox=\"0 -960 960 960\">\n",
              "    <path d=\"M120-120v-720h720v720H120Zm60-500h600v-160H180v160Zm220 220h160v-160H400v160Zm0 220h160v-160H400v160ZM180-400h160v-160H180v160Zm440 0h160v-160H620v160ZM180-180h160v-160H180v160Zm440 0h160v-160H620v160Z\"/>\n",
              "  </svg>\n",
              "    </button>\n",
              "\n",
              "  <style>\n",
              "    .colab-df-container {\n",
              "      display:flex;\n",
              "      gap: 12px;\n",
              "    }\n",
              "\n",
              "    .colab-df-convert {\n",
              "      background-color: #E8F0FE;\n",
              "      border: none;\n",
              "      border-radius: 50%;\n",
              "      cursor: pointer;\n",
              "      display: none;\n",
              "      fill: #1967D2;\n",
              "      height: 32px;\n",
              "      padding: 0 0 0 0;\n",
              "      width: 32px;\n",
              "    }\n",
              "\n",
              "    .colab-df-convert:hover {\n",
              "      background-color: #E2EBFA;\n",
              "      box-shadow: 0px 1px 2px rgba(60, 64, 67, 0.3), 0px 1px 3px 1px rgba(60, 64, 67, 0.15);\n",
              "      fill: #174EA6;\n",
              "    }\n",
              "\n",
              "    .colab-df-buttons div {\n",
              "      margin-bottom: 4px;\n",
              "    }\n",
              "\n",
              "    [theme=dark] .colab-df-convert {\n",
              "      background-color: #3B4455;\n",
              "      fill: #D2E3FC;\n",
              "    }\n",
              "\n",
              "    [theme=dark] .colab-df-convert:hover {\n",
              "      background-color: #434B5C;\n",
              "      box-shadow: 0px 1px 3px 1px rgba(0, 0, 0, 0.15);\n",
              "      filter: drop-shadow(0px 1px 2px rgba(0, 0, 0, 0.3));\n",
              "      fill: #FFFFFF;\n",
              "    }\n",
              "  </style>\n",
              "\n",
              "    <script>\n",
              "      const buttonEl =\n",
              "        document.querySelector('#df-6e81829d-fb97-4520-8bab-0128f0bbd790 button.colab-df-convert');\n",
              "      buttonEl.style.display =\n",
              "        google.colab.kernel.accessAllowed ? 'block' : 'none';\n",
              "\n",
              "      async function convertToInteractive(key) {\n",
              "        const element = document.querySelector('#df-6e81829d-fb97-4520-8bab-0128f0bbd790');\n",
              "        const dataTable =\n",
              "          await google.colab.kernel.invokeFunction('convertToInteractive',\n",
              "                                                    [key], {});\n",
              "        if (!dataTable) return;\n",
              "\n",
              "        const docLinkHtml = 'Like what you see? Visit the ' +\n",
              "          '<a target=\"_blank\" href=https://colab.research.google.com/notebooks/data_table.ipynb>data table notebook</a>'\n",
              "          + ' to learn more about interactive tables.';\n",
              "        element.innerHTML = '';\n",
              "        dataTable['output_type'] = 'display_data';\n",
              "        await google.colab.output.renderOutput(dataTable, element);\n",
              "        const docLink = document.createElement('div');\n",
              "        docLink.innerHTML = docLinkHtml;\n",
              "        element.appendChild(docLink);\n",
              "      }\n",
              "    </script>\n",
              "  </div>\n",
              "\n",
              "\n",
              "    <div id=\"df-ab42165b-6599-4c0e-a65d-e76b98d053e3\">\n",
              "      <button class=\"colab-df-quickchart\" onclick=\"quickchart('df-ab42165b-6599-4c0e-a65d-e76b98d053e3')\"\n",
              "                title=\"Suggest charts\"\n",
              "                style=\"display:none;\">\n",
              "\n",
              "<svg xmlns=\"http://www.w3.org/2000/svg\" height=\"24px\"viewBox=\"0 0 24 24\"\n",
              "     width=\"24px\">\n",
              "    <g>\n",
              "        <path d=\"M19 3H5c-1.1 0-2 .9-2 2v14c0 1.1.9 2 2 2h14c1.1 0 2-.9 2-2V5c0-1.1-.9-2-2-2zM9 17H7v-7h2v7zm4 0h-2V7h2v10zm4 0h-2v-4h2v4z\"/>\n",
              "    </g>\n",
              "</svg>\n",
              "      </button>\n",
              "\n",
              "<style>\n",
              "  .colab-df-quickchart {\n",
              "      --bg-color: #E8F0FE;\n",
              "      --fill-color: #1967D2;\n",
              "      --hover-bg-color: #E2EBFA;\n",
              "      --hover-fill-color: #174EA6;\n",
              "      --disabled-fill-color: #AAA;\n",
              "      --disabled-bg-color: #DDD;\n",
              "  }\n",
              "\n",
              "  [theme=dark] .colab-df-quickchart {\n",
              "      --bg-color: #3B4455;\n",
              "      --fill-color: #D2E3FC;\n",
              "      --hover-bg-color: #434B5C;\n",
              "      --hover-fill-color: #FFFFFF;\n",
              "      --disabled-bg-color: #3B4455;\n",
              "      --disabled-fill-color: #666;\n",
              "  }\n",
              "\n",
              "  .colab-df-quickchart {\n",
              "    background-color: var(--bg-color);\n",
              "    border: none;\n",
              "    border-radius: 50%;\n",
              "    cursor: pointer;\n",
              "    display: none;\n",
              "    fill: var(--fill-color);\n",
              "    height: 32px;\n",
              "    padding: 0;\n",
              "    width: 32px;\n",
              "  }\n",
              "\n",
              "  .colab-df-quickchart:hover {\n",
              "    background-color: var(--hover-bg-color);\n",
              "    box-shadow: 0 1px 2px rgba(60, 64, 67, 0.3), 0 1px 3px 1px rgba(60, 64, 67, 0.15);\n",
              "    fill: var(--button-hover-fill-color);\n",
              "  }\n",
              "\n",
              "  .colab-df-quickchart-complete:disabled,\n",
              "  .colab-df-quickchart-complete:disabled:hover {\n",
              "    background-color: var(--disabled-bg-color);\n",
              "    fill: var(--disabled-fill-color);\n",
              "    box-shadow: none;\n",
              "  }\n",
              "\n",
              "  .colab-df-spinner {\n",
              "    border: 2px solid var(--fill-color);\n",
              "    border-color: transparent;\n",
              "    border-bottom-color: var(--fill-color);\n",
              "    animation:\n",
              "      spin 1s steps(1) infinite;\n",
              "  }\n",
              "\n",
              "  @keyframes spin {\n",
              "    0% {\n",
              "      border-color: transparent;\n",
              "      border-bottom-color: var(--fill-color);\n",
              "      border-left-color: var(--fill-color);\n",
              "    }\n",
              "    20% {\n",
              "      border-color: transparent;\n",
              "      border-left-color: var(--fill-color);\n",
              "      border-top-color: var(--fill-color);\n",
              "    }\n",
              "    30% {\n",
              "      border-color: transparent;\n",
              "      border-left-color: var(--fill-color);\n",
              "      border-top-color: var(--fill-color);\n",
              "      border-right-color: var(--fill-color);\n",
              "    }\n",
              "    40% {\n",
              "      border-color: transparent;\n",
              "      border-right-color: var(--fill-color);\n",
              "      border-top-color: var(--fill-color);\n",
              "    }\n",
              "    60% {\n",
              "      border-color: transparent;\n",
              "      border-right-color: var(--fill-color);\n",
              "    }\n",
              "    80% {\n",
              "      border-color: transparent;\n",
              "      border-right-color: var(--fill-color);\n",
              "      border-bottom-color: var(--fill-color);\n",
              "    }\n",
              "    90% {\n",
              "      border-color: transparent;\n",
              "      border-bottom-color: var(--fill-color);\n",
              "    }\n",
              "  }\n",
              "</style>\n",
              "\n",
              "      <script>\n",
              "        async function quickchart(key) {\n",
              "          const quickchartButtonEl =\n",
              "            document.querySelector('#' + key + ' button');\n",
              "          quickchartButtonEl.disabled = true;  // To prevent multiple clicks.\n",
              "          quickchartButtonEl.classList.add('colab-df-spinner');\n",
              "          try {\n",
              "            const charts = await google.colab.kernel.invokeFunction(\n",
              "                'suggestCharts', [key], {});\n",
              "          } catch (error) {\n",
              "            console.error('Error during call to suggestCharts:', error);\n",
              "          }\n",
              "          quickchartButtonEl.classList.remove('colab-df-spinner');\n",
              "          quickchartButtonEl.classList.add('colab-df-quickchart-complete');\n",
              "        }\n",
              "        (() => {\n",
              "          let quickchartButtonEl =\n",
              "            document.querySelector('#df-ab42165b-6599-4c0e-a65d-e76b98d053e3 button');\n",
              "          quickchartButtonEl.style.display =\n",
              "            google.colab.kernel.accessAllowed ? 'block' : 'none';\n",
              "        })();\n",
              "      </script>\n",
              "    </div>\n",
              "\n",
              "    </div>\n",
              "  </div>\n"
            ],
            "application/vnd.google.colaboratory.intrinsic+json": {
              "type": "dataframe",
              "variable_name": "books"
            }
          },
          "metadata": {},
          "execution_count": 21
        }
      ]
    },
    {
      "cell_type": "markdown",
      "source": [
        "***Deskripsi Statistik***"
      ],
      "metadata": {
        "id": "2qEaOtJGhT2D"
      }
    },
    {
      "cell_type": "code",
      "source": [
        "ratings.describe()\n",
        "books.describe()"
      ],
      "metadata": {
        "id": "LjELf1hpIZXo",
        "colab": {
          "base_uri": "https://localhost:8080/",
          "height": 320
        },
        "outputId": "cc869987-7c79-4a09-97f9-8ef2940438c7"
      },
      "execution_count": 22,
      "outputs": [
        {
          "output_type": "execute_result",
          "data": {
            "text/plain": [
              "                id       book_id  best_book_id       work_id   books_count  \\\n",
              "count  10000.00000  1.000000e+04  1.000000e+04  1.000000e+04  10000.000000   \n",
              "mean    5000.50000  5.264697e+06  5.471214e+06  8.646183e+06     75.712700   \n",
              "std     2886.89568  7.575462e+06  7.827330e+06  1.175106e+07    170.470728   \n",
              "min        1.00000  1.000000e+00  1.000000e+00  8.700000e+01      1.000000   \n",
              "25%     2500.75000  4.627575e+04  4.791175e+04  1.008841e+06     23.000000   \n",
              "50%     5000.50000  3.949655e+05  4.251235e+05  2.719524e+06     40.000000   \n",
              "75%     7500.25000  9.382225e+06  9.636112e+06  1.451775e+07     67.000000   \n",
              "max    10000.00000  3.328864e+07  3.553423e+07  5.639960e+07   3455.000000   \n",
              "\n",
              "             isbn13  original_publication_year  average_rating  ratings_count  \\\n",
              "count  9.415000e+03                9979.000000    10000.000000   1.000000e+04   \n",
              "mean   9.755044e+12                1981.987674        4.002191   5.400124e+04   \n",
              "std    4.428619e+11                 152.576665        0.254427   1.573700e+05   \n",
              "min    1.951703e+08               -1750.000000        2.470000   2.716000e+03   \n",
              "25%    9.780316e+12                1990.000000        3.850000   1.356875e+04   \n",
              "50%    9.780452e+12                2004.000000        4.020000   2.115550e+04   \n",
              "75%    9.780831e+12                2011.000000        4.180000   4.105350e+04   \n",
              "max    9.790008e+12                2017.000000        4.820000   4.780653e+06   \n",
              "\n",
              "       work_ratings_count  work_text_reviews_count      ratings_1  \\\n",
              "count        1.000000e+04             10000.000000   10000.000000   \n",
              "mean         5.968732e+04              2919.955300    1345.040600   \n",
              "std          1.678038e+05              6124.378132    6635.626263   \n",
              "min          5.510000e+03                 3.000000      11.000000   \n",
              "25%          1.543875e+04               694.000000     196.000000   \n",
              "50%          2.383250e+04              1402.000000     391.000000   \n",
              "75%          4.591500e+04              2744.250000     885.000000   \n",
              "max          4.942365e+06            155254.000000  456191.000000   \n",
              "\n",
              "           ratings_2      ratings_3     ratings_4     ratings_5  \n",
              "count   10000.000000   10000.000000  1.000000e+04  1.000000e+04  \n",
              "mean     3110.885000   11475.893800  1.996570e+04  2.378981e+04  \n",
              "std      9717.123578   28546.449183  5.144736e+04  7.976889e+04  \n",
              "min        30.000000     323.000000  7.500000e+02  7.540000e+02  \n",
              "25%       656.000000    3112.000000  5.405750e+03  5.334000e+03  \n",
              "50%      1163.000000    4894.000000  8.269500e+03  8.836000e+03  \n",
              "75%      2353.250000    9287.000000  1.602350e+04  1.730450e+04  \n",
              "max    436802.000000  793319.000000  1.481305e+06  3.011543e+06  "
            ],
            "text/html": [
              "\n",
              "  <div id=\"df-7aad8c9a-2297-49c2-a5f6-92fcb6355309\" class=\"colab-df-container\">\n",
              "    <div>\n",
              "<style scoped>\n",
              "    .dataframe tbody tr th:only-of-type {\n",
              "        vertical-align: middle;\n",
              "    }\n",
              "\n",
              "    .dataframe tbody tr th {\n",
              "        vertical-align: top;\n",
              "    }\n",
              "\n",
              "    .dataframe thead th {\n",
              "        text-align: right;\n",
              "    }\n",
              "</style>\n",
              "<table border=\"1\" class=\"dataframe\">\n",
              "  <thead>\n",
              "    <tr style=\"text-align: right;\">\n",
              "      <th></th>\n",
              "      <th>id</th>\n",
              "      <th>book_id</th>\n",
              "      <th>best_book_id</th>\n",
              "      <th>work_id</th>\n",
              "      <th>books_count</th>\n",
              "      <th>isbn13</th>\n",
              "      <th>original_publication_year</th>\n",
              "      <th>average_rating</th>\n",
              "      <th>ratings_count</th>\n",
              "      <th>work_ratings_count</th>\n",
              "      <th>work_text_reviews_count</th>\n",
              "      <th>ratings_1</th>\n",
              "      <th>ratings_2</th>\n",
              "      <th>ratings_3</th>\n",
              "      <th>ratings_4</th>\n",
              "      <th>ratings_5</th>\n",
              "    </tr>\n",
              "  </thead>\n",
              "  <tbody>\n",
              "    <tr>\n",
              "      <th>count</th>\n",
              "      <td>10000.00000</td>\n",
              "      <td>1.000000e+04</td>\n",
              "      <td>1.000000e+04</td>\n",
              "      <td>1.000000e+04</td>\n",
              "      <td>10000.000000</td>\n",
              "      <td>9.415000e+03</td>\n",
              "      <td>9979.000000</td>\n",
              "      <td>10000.000000</td>\n",
              "      <td>1.000000e+04</td>\n",
              "      <td>1.000000e+04</td>\n",
              "      <td>10000.000000</td>\n",
              "      <td>10000.000000</td>\n",
              "      <td>10000.000000</td>\n",
              "      <td>10000.000000</td>\n",
              "      <td>1.000000e+04</td>\n",
              "      <td>1.000000e+04</td>\n",
              "    </tr>\n",
              "    <tr>\n",
              "      <th>mean</th>\n",
              "      <td>5000.50000</td>\n",
              "      <td>5.264697e+06</td>\n",
              "      <td>5.471214e+06</td>\n",
              "      <td>8.646183e+06</td>\n",
              "      <td>75.712700</td>\n",
              "      <td>9.755044e+12</td>\n",
              "      <td>1981.987674</td>\n",
              "      <td>4.002191</td>\n",
              "      <td>5.400124e+04</td>\n",
              "      <td>5.968732e+04</td>\n",
              "      <td>2919.955300</td>\n",
              "      <td>1345.040600</td>\n",
              "      <td>3110.885000</td>\n",
              "      <td>11475.893800</td>\n",
              "      <td>1.996570e+04</td>\n",
              "      <td>2.378981e+04</td>\n",
              "    </tr>\n",
              "    <tr>\n",
              "      <th>std</th>\n",
              "      <td>2886.89568</td>\n",
              "      <td>7.575462e+06</td>\n",
              "      <td>7.827330e+06</td>\n",
              "      <td>1.175106e+07</td>\n",
              "      <td>170.470728</td>\n",
              "      <td>4.428619e+11</td>\n",
              "      <td>152.576665</td>\n",
              "      <td>0.254427</td>\n",
              "      <td>1.573700e+05</td>\n",
              "      <td>1.678038e+05</td>\n",
              "      <td>6124.378132</td>\n",
              "      <td>6635.626263</td>\n",
              "      <td>9717.123578</td>\n",
              "      <td>28546.449183</td>\n",
              "      <td>5.144736e+04</td>\n",
              "      <td>7.976889e+04</td>\n",
              "    </tr>\n",
              "    <tr>\n",
              "      <th>min</th>\n",
              "      <td>1.00000</td>\n",
              "      <td>1.000000e+00</td>\n",
              "      <td>1.000000e+00</td>\n",
              "      <td>8.700000e+01</td>\n",
              "      <td>1.000000</td>\n",
              "      <td>1.951703e+08</td>\n",
              "      <td>-1750.000000</td>\n",
              "      <td>2.470000</td>\n",
              "      <td>2.716000e+03</td>\n",
              "      <td>5.510000e+03</td>\n",
              "      <td>3.000000</td>\n",
              "      <td>11.000000</td>\n",
              "      <td>30.000000</td>\n",
              "      <td>323.000000</td>\n",
              "      <td>7.500000e+02</td>\n",
              "      <td>7.540000e+02</td>\n",
              "    </tr>\n",
              "    <tr>\n",
              "      <th>25%</th>\n",
              "      <td>2500.75000</td>\n",
              "      <td>4.627575e+04</td>\n",
              "      <td>4.791175e+04</td>\n",
              "      <td>1.008841e+06</td>\n",
              "      <td>23.000000</td>\n",
              "      <td>9.780316e+12</td>\n",
              "      <td>1990.000000</td>\n",
              "      <td>3.850000</td>\n",
              "      <td>1.356875e+04</td>\n",
              "      <td>1.543875e+04</td>\n",
              "      <td>694.000000</td>\n",
              "      <td>196.000000</td>\n",
              "      <td>656.000000</td>\n",
              "      <td>3112.000000</td>\n",
              "      <td>5.405750e+03</td>\n",
              "      <td>5.334000e+03</td>\n",
              "    </tr>\n",
              "    <tr>\n",
              "      <th>50%</th>\n",
              "      <td>5000.50000</td>\n",
              "      <td>3.949655e+05</td>\n",
              "      <td>4.251235e+05</td>\n",
              "      <td>2.719524e+06</td>\n",
              "      <td>40.000000</td>\n",
              "      <td>9.780452e+12</td>\n",
              "      <td>2004.000000</td>\n",
              "      <td>4.020000</td>\n",
              "      <td>2.115550e+04</td>\n",
              "      <td>2.383250e+04</td>\n",
              "      <td>1402.000000</td>\n",
              "      <td>391.000000</td>\n",
              "      <td>1163.000000</td>\n",
              "      <td>4894.000000</td>\n",
              "      <td>8.269500e+03</td>\n",
              "      <td>8.836000e+03</td>\n",
              "    </tr>\n",
              "    <tr>\n",
              "      <th>75%</th>\n",
              "      <td>7500.25000</td>\n",
              "      <td>9.382225e+06</td>\n",
              "      <td>9.636112e+06</td>\n",
              "      <td>1.451775e+07</td>\n",
              "      <td>67.000000</td>\n",
              "      <td>9.780831e+12</td>\n",
              "      <td>2011.000000</td>\n",
              "      <td>4.180000</td>\n",
              "      <td>4.105350e+04</td>\n",
              "      <td>4.591500e+04</td>\n",
              "      <td>2744.250000</td>\n",
              "      <td>885.000000</td>\n",
              "      <td>2353.250000</td>\n",
              "      <td>9287.000000</td>\n",
              "      <td>1.602350e+04</td>\n",
              "      <td>1.730450e+04</td>\n",
              "    </tr>\n",
              "    <tr>\n",
              "      <th>max</th>\n",
              "      <td>10000.00000</td>\n",
              "      <td>3.328864e+07</td>\n",
              "      <td>3.553423e+07</td>\n",
              "      <td>5.639960e+07</td>\n",
              "      <td>3455.000000</td>\n",
              "      <td>9.790008e+12</td>\n",
              "      <td>2017.000000</td>\n",
              "      <td>4.820000</td>\n",
              "      <td>4.780653e+06</td>\n",
              "      <td>4.942365e+06</td>\n",
              "      <td>155254.000000</td>\n",
              "      <td>456191.000000</td>\n",
              "      <td>436802.000000</td>\n",
              "      <td>793319.000000</td>\n",
              "      <td>1.481305e+06</td>\n",
              "      <td>3.011543e+06</td>\n",
              "    </tr>\n",
              "  </tbody>\n",
              "</table>\n",
              "</div>\n",
              "    <div class=\"colab-df-buttons\">\n",
              "\n",
              "  <div class=\"colab-df-container\">\n",
              "    <button class=\"colab-df-convert\" onclick=\"convertToInteractive('df-7aad8c9a-2297-49c2-a5f6-92fcb6355309')\"\n",
              "            title=\"Convert this dataframe to an interactive table.\"\n",
              "            style=\"display:none;\">\n",
              "\n",
              "  <svg xmlns=\"http://www.w3.org/2000/svg\" height=\"24px\" viewBox=\"0 -960 960 960\">\n",
              "    <path d=\"M120-120v-720h720v720H120Zm60-500h600v-160H180v160Zm220 220h160v-160H400v160Zm0 220h160v-160H400v160ZM180-400h160v-160H180v160Zm440 0h160v-160H620v160ZM180-180h160v-160H180v160Zm440 0h160v-160H620v160Z\"/>\n",
              "  </svg>\n",
              "    </button>\n",
              "\n",
              "  <style>\n",
              "    .colab-df-container {\n",
              "      display:flex;\n",
              "      gap: 12px;\n",
              "    }\n",
              "\n",
              "    .colab-df-convert {\n",
              "      background-color: #E8F0FE;\n",
              "      border: none;\n",
              "      border-radius: 50%;\n",
              "      cursor: pointer;\n",
              "      display: none;\n",
              "      fill: #1967D2;\n",
              "      height: 32px;\n",
              "      padding: 0 0 0 0;\n",
              "      width: 32px;\n",
              "    }\n",
              "\n",
              "    .colab-df-convert:hover {\n",
              "      background-color: #E2EBFA;\n",
              "      box-shadow: 0px 1px 2px rgba(60, 64, 67, 0.3), 0px 1px 3px 1px rgba(60, 64, 67, 0.15);\n",
              "      fill: #174EA6;\n",
              "    }\n",
              "\n",
              "    .colab-df-buttons div {\n",
              "      margin-bottom: 4px;\n",
              "    }\n",
              "\n",
              "    [theme=dark] .colab-df-convert {\n",
              "      background-color: #3B4455;\n",
              "      fill: #D2E3FC;\n",
              "    }\n",
              "\n",
              "    [theme=dark] .colab-df-convert:hover {\n",
              "      background-color: #434B5C;\n",
              "      box-shadow: 0px 1px 3px 1px rgba(0, 0, 0, 0.15);\n",
              "      filter: drop-shadow(0px 1px 2px rgba(0, 0, 0, 0.3));\n",
              "      fill: #FFFFFF;\n",
              "    }\n",
              "  </style>\n",
              "\n",
              "    <script>\n",
              "      const buttonEl =\n",
              "        document.querySelector('#df-7aad8c9a-2297-49c2-a5f6-92fcb6355309 button.colab-df-convert');\n",
              "      buttonEl.style.display =\n",
              "        google.colab.kernel.accessAllowed ? 'block' : 'none';\n",
              "\n",
              "      async function convertToInteractive(key) {\n",
              "        const element = document.querySelector('#df-7aad8c9a-2297-49c2-a5f6-92fcb6355309');\n",
              "        const dataTable =\n",
              "          await google.colab.kernel.invokeFunction('convertToInteractive',\n",
              "                                                    [key], {});\n",
              "        if (!dataTable) return;\n",
              "\n",
              "        const docLinkHtml = 'Like what you see? Visit the ' +\n",
              "          '<a target=\"_blank\" href=https://colab.research.google.com/notebooks/data_table.ipynb>data table notebook</a>'\n",
              "          + ' to learn more about interactive tables.';\n",
              "        element.innerHTML = '';\n",
              "        dataTable['output_type'] = 'display_data';\n",
              "        await google.colab.output.renderOutput(dataTable, element);\n",
              "        const docLink = document.createElement('div');\n",
              "        docLink.innerHTML = docLinkHtml;\n",
              "        element.appendChild(docLink);\n",
              "      }\n",
              "    </script>\n",
              "  </div>\n",
              "\n",
              "\n",
              "    <div id=\"df-da06437b-7712-4241-8234-cd23f766108e\">\n",
              "      <button class=\"colab-df-quickchart\" onclick=\"quickchart('df-da06437b-7712-4241-8234-cd23f766108e')\"\n",
              "                title=\"Suggest charts\"\n",
              "                style=\"display:none;\">\n",
              "\n",
              "<svg xmlns=\"http://www.w3.org/2000/svg\" height=\"24px\"viewBox=\"0 0 24 24\"\n",
              "     width=\"24px\">\n",
              "    <g>\n",
              "        <path d=\"M19 3H5c-1.1 0-2 .9-2 2v14c0 1.1.9 2 2 2h14c1.1 0 2-.9 2-2V5c0-1.1-.9-2-2-2zM9 17H7v-7h2v7zm4 0h-2V7h2v10zm4 0h-2v-4h2v4z\"/>\n",
              "    </g>\n",
              "</svg>\n",
              "      </button>\n",
              "\n",
              "<style>\n",
              "  .colab-df-quickchart {\n",
              "      --bg-color: #E8F0FE;\n",
              "      --fill-color: #1967D2;\n",
              "      --hover-bg-color: #E2EBFA;\n",
              "      --hover-fill-color: #174EA6;\n",
              "      --disabled-fill-color: #AAA;\n",
              "      --disabled-bg-color: #DDD;\n",
              "  }\n",
              "\n",
              "  [theme=dark] .colab-df-quickchart {\n",
              "      --bg-color: #3B4455;\n",
              "      --fill-color: #D2E3FC;\n",
              "      --hover-bg-color: #434B5C;\n",
              "      --hover-fill-color: #FFFFFF;\n",
              "      --disabled-bg-color: #3B4455;\n",
              "      --disabled-fill-color: #666;\n",
              "  }\n",
              "\n",
              "  .colab-df-quickchart {\n",
              "    background-color: var(--bg-color);\n",
              "    border: none;\n",
              "    border-radius: 50%;\n",
              "    cursor: pointer;\n",
              "    display: none;\n",
              "    fill: var(--fill-color);\n",
              "    height: 32px;\n",
              "    padding: 0;\n",
              "    width: 32px;\n",
              "  }\n",
              "\n",
              "  .colab-df-quickchart:hover {\n",
              "    background-color: var(--hover-bg-color);\n",
              "    box-shadow: 0 1px 2px rgba(60, 64, 67, 0.3), 0 1px 3px 1px rgba(60, 64, 67, 0.15);\n",
              "    fill: var(--button-hover-fill-color);\n",
              "  }\n",
              "\n",
              "  .colab-df-quickchart-complete:disabled,\n",
              "  .colab-df-quickchart-complete:disabled:hover {\n",
              "    background-color: var(--disabled-bg-color);\n",
              "    fill: var(--disabled-fill-color);\n",
              "    box-shadow: none;\n",
              "  }\n",
              "\n",
              "  .colab-df-spinner {\n",
              "    border: 2px solid var(--fill-color);\n",
              "    border-color: transparent;\n",
              "    border-bottom-color: var(--fill-color);\n",
              "    animation:\n",
              "      spin 1s steps(1) infinite;\n",
              "  }\n",
              "\n",
              "  @keyframes spin {\n",
              "    0% {\n",
              "      border-color: transparent;\n",
              "      border-bottom-color: var(--fill-color);\n",
              "      border-left-color: var(--fill-color);\n",
              "    }\n",
              "    20% {\n",
              "      border-color: transparent;\n",
              "      border-left-color: var(--fill-color);\n",
              "      border-top-color: var(--fill-color);\n",
              "    }\n",
              "    30% {\n",
              "      border-color: transparent;\n",
              "      border-left-color: var(--fill-color);\n",
              "      border-top-color: var(--fill-color);\n",
              "      border-right-color: var(--fill-color);\n",
              "    }\n",
              "    40% {\n",
              "      border-color: transparent;\n",
              "      border-right-color: var(--fill-color);\n",
              "      border-top-color: var(--fill-color);\n",
              "    }\n",
              "    60% {\n",
              "      border-color: transparent;\n",
              "      border-right-color: var(--fill-color);\n",
              "    }\n",
              "    80% {\n",
              "      border-color: transparent;\n",
              "      border-right-color: var(--fill-color);\n",
              "      border-bottom-color: var(--fill-color);\n",
              "    }\n",
              "    90% {\n",
              "      border-color: transparent;\n",
              "      border-bottom-color: var(--fill-color);\n",
              "    }\n",
              "  }\n",
              "</style>\n",
              "\n",
              "      <script>\n",
              "        async function quickchart(key) {\n",
              "          const quickchartButtonEl =\n",
              "            document.querySelector('#' + key + ' button');\n",
              "          quickchartButtonEl.disabled = true;  // To prevent multiple clicks.\n",
              "          quickchartButtonEl.classList.add('colab-df-spinner');\n",
              "          try {\n",
              "            const charts = await google.colab.kernel.invokeFunction(\n",
              "                'suggestCharts', [key], {});\n",
              "          } catch (error) {\n",
              "            console.error('Error during call to suggestCharts:', error);\n",
              "          }\n",
              "          quickchartButtonEl.classList.remove('colab-df-spinner');\n",
              "          quickchartButtonEl.classList.add('colab-df-quickchart-complete');\n",
              "        }\n",
              "        (() => {\n",
              "          let quickchartButtonEl =\n",
              "            document.querySelector('#df-da06437b-7712-4241-8234-cd23f766108e button');\n",
              "          quickchartButtonEl.style.display =\n",
              "            google.colab.kernel.accessAllowed ? 'block' : 'none';\n",
              "        })();\n",
              "      </script>\n",
              "    </div>\n",
              "\n",
              "    </div>\n",
              "  </div>\n"
            ],
            "application/vnd.google.colaboratory.intrinsic+json": {
              "type": "dataframe",
              "summary": "{\n  \"name\": \"books\",\n  \"rows\": 8,\n  \"fields\": [\n    {\n      \"column\": \"id\",\n      \"properties\": {\n        \"dtype\": \"number\",\n        \"std\": 3603.743586536124,\n        \"min\": 1.0,\n        \"max\": 10000.0,\n        \"num_unique_values\": 6,\n        \"samples\": [\n          10000.0,\n          5000.5,\n          7500.25\n        ],\n        \"semantic_type\": \"\",\n        \"description\": \"\"\n      }\n    },\n    {\n      \"column\": \"book_id\",\n      \"properties\": {\n        \"dtype\": \"number\",\n        \"std\": 11275451.142535165,\n        \"min\": 1.0,\n        \"max\": 33288638.0,\n        \"num_unique_values\": 8,\n        \"samples\": [\n          5264696.5132,\n          394965.5,\n          10000.0\n        ],\n        \"semantic_type\": \"\",\n        \"description\": \"\"\n      }\n    },\n    {\n      \"column\": \"best_book_id\",\n      \"properties\": {\n        \"dtype\": \"number\",\n        \"std\": 12026782.142354654,\n        \"min\": 1.0,\n        \"max\": 35534230.0,\n        \"num_unique_values\": 8,\n        \"samples\": [\n          5471213.5801,\n          425123.5,\n          10000.0\n        ],\n        \"semantic_type\": \"\",\n        \"description\": \"\"\n      }\n    },\n    {\n      \"column\": \"work_id\",\n      \"properties\": {\n        \"dtype\": \"number\",\n        \"std\": 18835953.648133516,\n        \"min\": 87.0,\n        \"max\": 56399597.0,\n        \"num_unique_values\": 8,\n        \"samples\": [\n          8646183.4246,\n          2719524.5,\n          10000.0\n        ],\n        \"semantic_type\": \"\",\n        \"description\": \"\"\n      }\n    },\n    {\n      \"column\": \"books_count\",\n      \"properties\": {\n        \"dtype\": \"number\",\n        \"std\": 3546.875373075507,\n        \"min\": 1.0,\n        \"max\": 10000.0,\n        \"num_unique_values\": 8,\n        \"samples\": [\n          75.7127,\n          40.0,\n          10000.0\n        ],\n        \"semantic_type\": \"\",\n        \"description\": \"\"\n      }\n    },\n    {\n      \"column\": \"isbn13\",\n      \"properties\": {\n        \"dtype\": \"number\",\n        \"std\": 4985697081571.246,\n        \"min\": 9415.0,\n        \"max\": 9790007672390.0,\n        \"num_unique_values\": 8,\n        \"samples\": [\n          9755044298883.463,\n          9780451528640.0,\n          9415.0\n        ],\n        \"semantic_type\": \"\",\n        \"description\": \"\"\n      }\n    },\n    {\n      \"column\": \"original_publication_year\",\n      \"properties\": {\n        \"dtype\": \"number\",\n        \"std\": 3389.677603082203,\n        \"min\": -1750.0,\n        \"max\": 9979.0,\n        \"num_unique_values\": 8,\n        \"samples\": [\n          1981.987674115643,\n          2004.0,\n          9979.0\n        ],\n        \"semantic_type\": \"\",\n        \"description\": \"\"\n      }\n    },\n    {\n      \"column\": \"average_rating\",\n      \"properties\": {\n        \"dtype\": \"number\",\n        \"std\": 3534.342386288619,\n        \"min\": 0.25442748053872877,\n        \"max\": 10000.0,\n        \"num_unique_values\": 8,\n        \"samples\": [\n          4.002191000000001,\n          4.02,\n          10000.0\n        ],\n        \"semantic_type\": \"\",\n        \"description\": \"\"\n      }\n    },\n    {\n      \"column\": \"ratings_count\",\n      \"properties\": {\n        \"dtype\": \"number\",\n        \"std\": 1675806.4649757585,\n        \"min\": 2716.0,\n        \"max\": 4780653.0,\n        \"num_unique_values\": 8,\n        \"samples\": [\n          54001.2351,\n          21155.5,\n          10000.0\n        ],\n        \"semantic_type\": \"\",\n        \"description\": \"\"\n      }\n    },\n    {\n      \"column\": \"work_ratings_count\",\n      \"properties\": {\n        \"dtype\": \"number\",\n        \"std\": 1731613.4962199288,\n        \"min\": 5510.0,\n        \"max\": 4942365.0,\n        \"num_unique_values\": 8,\n        \"samples\": [\n          59687.3216,\n          23832.5,\n          10000.0\n        ],\n        \"semantic_type\": \"\",\n        \"description\": \"\"\n      }\n    },\n    {\n      \"column\": \"work_text_reviews_count\",\n      \"properties\": {\n        \"dtype\": \"number\",\n        \"std\": 53783.10071178584,\n        \"min\": 3.0,\n        \"max\": 155254.0,\n        \"num_unique_values\": 8,\n        \"samples\": [\n          2919.9553,\n          1402.0,\n          10000.0\n        ],\n        \"semantic_type\": \"\",\n        \"description\": \"\"\n      }\n    },\n    {\n      \"column\": \"ratings_1\",\n      \"properties\": {\n        \"dtype\": \"number\",\n        \"std\": 160346.10936995537,\n        \"min\": 11.0,\n        \"max\": 456191.0,\n        \"num_unique_values\": 8,\n        \"samples\": [\n          1345.0406,\n          391.0,\n          10000.0\n        ],\n        \"semantic_type\": \"\",\n        \"description\": \"\"\n      }\n    },\n    {\n      \"column\": \"ratings_2\",\n      \"properties\": {\n        \"dtype\": \"number\",\n        \"std\": 153117.53812883256,\n        \"min\": 30.0,\n        \"max\": 436802.0,\n        \"num_unique_values\": 8,\n        \"samples\": [\n          3110.885,\n          1163.0,\n          10000.0\n        ],\n        \"semantic_type\": \"\",\n        \"description\": \"\"\n      }\n    },\n    {\n      \"column\": \"ratings_3\",\n      \"properties\": {\n        \"dtype\": \"number\",\n        \"std\": 277196.597802739,\n        \"min\": 323.0,\n        \"max\": 793319.0,\n        \"num_unique_values\": 8,\n        \"samples\": [\n          11475.8938,\n          4894.0,\n          10000.0\n        ],\n        \"semantic_type\": \"\",\n        \"description\": \"\"\n      }\n    },\n    {\n      \"column\": \"ratings_4\",\n      \"properties\": {\n        \"dtype\": \"number\",\n        \"std\": 518306.6282207819,\n        \"min\": 750.0,\n        \"max\": 1481305.0,\n        \"num_unique_values\": 8,\n        \"samples\": [\n          19965.6966,\n          8269.5,\n          10000.0\n        ],\n        \"semantic_type\": \"\",\n        \"description\": \"\"\n      }\n    },\n    {\n      \"column\": \"ratings_5\",\n      \"properties\": {\n        \"dtype\": \"number\",\n        \"std\": 1057675.0155383227,\n        \"min\": 754.0,\n        \"max\": 3011543.0,\n        \"num_unique_values\": 8,\n        \"samples\": [\n          23789.8056,\n          8836.0,\n          10000.0\n        ],\n        \"semantic_type\": \"\",\n        \"description\": \"\"\n      }\n    }\n  ]\n}"
            }
          },
          "metadata": {},
          "execution_count": 22
        }
      ]
    },
    {
      "cell_type": "markdown",
      "source": [
        "***Jumlah Unik Entitas***"
      ],
      "metadata": {
        "id": "u49oqOUshZI_"
      }
    },
    {
      "cell_type": "code",
      "source": [
        "print('Jumlah user_id (pengguna): ', len(ratings.user_id.unique()))\n",
        "print('Jumlah book_id (buku): ', len(ratings.book_id.unique()))\n",
        "print('Jumlah data rating: ', len(ratings))"
      ],
      "metadata": {
        "id": "XfmsuB0xJMwA",
        "colab": {
          "base_uri": "https://localhost:8080/"
        },
        "outputId": "686a978e-48e1-4295-e4f4-88c8c35fc590"
      },
      "execution_count": 23,
      "outputs": [
        {
          "output_type": "stream",
          "name": "stdout",
          "text": [
            "Jumlah user_id (pengguna):  53424\n",
            "Jumlah book_id (buku):  10000\n",
            "Jumlah data rating:  981756\n"
          ]
        }
      ]
    },
    {
      "cell_type": "markdown",
      "source": [
        "## DATA PREPROCESSING\n",
        "\n"
      ],
      "metadata": {
        "id": "46drHp3GJb5v"
      }
    },
    {
      "cell_type": "markdown",
      "source": [
        "***Menampilkan Ukuran Dataset***"
      ],
      "metadata": {
        "id": "I5SMCec21yro"
      }
    },
    {
      "cell_type": "code",
      "source": [
        "# Menampilkan ukuran dataset utama\n",
        "print(\"books shape:\", books.shape)\n",
        "print(\"to_read shape:\", to_read.shape)\n",
        "print(\"ratings shape:\", ratings.shape)"
      ],
      "metadata": {
        "id": "MXN4LNJWQ5FP",
        "colab": {
          "base_uri": "https://localhost:8080/"
        },
        "outputId": "6b6082f7-23a8-4b0e-9cb1-7d56848ed938"
      },
      "execution_count": 24,
      "outputs": [
        {
          "output_type": "stream",
          "name": "stdout",
          "text": [
            "books shape: (10000, 23)\n",
            "to_read shape: (912705, 2)\n",
            "ratings shape: (981756, 3)\n"
          ]
        }
      ]
    },
    {
      "cell_type": "markdown",
      "source": [
        "***Menggabungkan dan Menghitung Seluruh book_id Unik***"
      ],
      "metadata": {
        "id": "zMMTx_p313Ny"
      }
    },
    {
      "cell_type": "code",
      "source": [
        "# Menggabungkan seluruh book_id pada kategori Buku\n",
        "books_all = np.concatenate((\n",
        "    books.book_id.unique(),\n",
        "    ratings.book_id.unique(),\n",
        "    book_tags.goodreads_book_id.unique(),\n",
        "    to_read.book_id.unique()\n",
        "))\n",
        "\n",
        "# Mengurutkan dan menghapus duplikat\n",
        "books_all = np.sort(np.unique(books_all))\n",
        "print('Jumlah seluruh buku unik berdasarkan book_id:', len(books_all))"
      ],
      "metadata": {
        "id": "Eg1AtWWOJpnx",
        "colab": {
          "base_uri": "https://localhost:8080/"
        },
        "outputId": "f95ae4da-ac9d-4c2a-c3bb-c9f9b449dca1"
      },
      "execution_count": 27,
      "outputs": [
        {
          "output_type": "stream",
          "name": "stdout",
          "text": [
            "Jumlah seluruh buku unik berdasarkan book_id: 19188\n"
          ]
        }
      ]
    },
    {
      "cell_type": "markdown",
      "source": [
        "***Menggabungkan dan Menghitung user_id Unik***"
      ],
      "metadata": {
        "id": "W1Jq0E2Kj-23"
      }
    },
    {
      "cell_type": "code",
      "source": [
        "# Menggabungkan seluruh user_id pada kategori Pengguna\n",
        "user_all = np.concatenate((\n",
        "    ratings.user_id.unique(),\n",
        "))\n",
        "\n",
        "# Menghapus duplikat dan mengurutkan\n",
        "user_all = np.sort(np.unique(user_all))\n",
        "print('Jumlah seluruh pengguna unik berdasarkan user_id:', len(user_all))"
      ],
      "metadata": {
        "id": "VvGfLRTYLHEF",
        "colab": {
          "base_uri": "https://localhost:8080/"
        },
        "outputId": "e1f29bbf-4957-4e65-9e1a-5bcc62818702"
      },
      "execution_count": 28,
      "outputs": [
        {
          "output_type": "stream",
          "name": "stdout",
          "text": [
            "Jumlah seluruh pengguna unik berdasarkan user_id: 53424\n"
          ]
        }
      ]
    },
    {
      "cell_type": "markdown",
      "source": [
        "***Menyamakan tipe data book_id agar konsisten untuk proses merge.***"
      ],
      "metadata": {
        "id": "bDjSCliBkRNW"
      }
    },
    {
      "cell_type": "code",
      "source": [
        "# Ubah tipe data book_id menjadi integer agar konsisten dan siap digabungkan\n",
        "books['book_id'] = books['book_id'].astype(int)\n",
        "book_tags_renamed = book_tags.rename(columns={'goodreads_book_id': 'book_id'})\n",
        "book_tags_renamed['book_id'] = book_tags_renamed['book_id'].astype(int)\n",
        "to_read['book_id'] = to_read['book_id'].astype(int)\n",
        "ratings['book_id'] = ratings['book_id'].astype(int)"
      ],
      "metadata": {
        "id": "PLefKdTiNW5M"
      },
      "execution_count": 29,
      "outputs": []
    },
    {
      "cell_type": "markdown",
      "source": [
        "***Menggabungkan Ratings dan Metadata Buku***"
      ],
      "metadata": {
        "id": "1uY1Ktt3kgGV"
      }
    },
    {
      "cell_type": "code",
      "source": [
        "# Gabungkan data ratings dengan metadata buku berdasarkan book_id\n",
        "books_ratings = pd.merge(ratings, books, on='book_id', how='left')\n",
        "print(f\"books_ratings shape: {books_ratings.shape}\")"
      ],
      "metadata": {
        "id": "UzXurWs4kbqZ",
        "colab": {
          "base_uri": "https://localhost:8080/"
        },
        "outputId": "cb5125f0-2bf5-49a9-d972-88ea3ddc11a8"
      },
      "execution_count": 35,
      "outputs": [
        {
          "output_type": "stream",
          "name": "stdout",
          "text": [
            "books_ratings shape: (981756, 25)\n"
          ]
        }
      ]
    },
    {
      "cell_type": "markdown",
      "source": [
        "***Menambahkan Tag ID*** Menggabungkan tag dari book_tags ke data ratings+books"
      ],
      "metadata": {
        "id": "5uLeSYQGkkbI"
      }
    },
    {
      "cell_type": "code",
      "source": [
        "book_tags_small = book_tags_renamed[['book_id', 'tag_id']]\n",
        "\n",
        "# Gabungkan data books_ratings dengan tag buku\n",
        "books_ratings_with_tags = pd.merge(books_ratings, book_tags_small, on='book_id', how='left')\n",
        "print(f\"books_ratings_with_tags shape: {books_ratings_with_tags.shape}\")"
      ],
      "metadata": {
        "id": "0UVzatGEkb1k",
        "colab": {
          "base_uri": "https://localhost:8080/"
        },
        "outputId": "1ba1eb8f-7adc-456f-b6c4-33faba41ed97"
      },
      "execution_count": 36,
      "outputs": [
        {
          "output_type": "stream",
          "name": "stdout",
          "text": [
            "books_ratings_with_tags shape: (8872155, 26)\n"
          ]
        }
      ]
    },
    {
      "cell_type": "code",
      "source": [
        "to_read_small = to_read[['user_id', 'book_id']]\n",
        "\n",
        "# Gabungkan dan cari jumlah buku unik dari semua dataset untuk validasi data\n",
        "unique_books_all = np.unique(np.concatenate([\n",
        "    books['book_id'].unique(),\n",
        "    book_tags_renamed['book_id'].unique(),\n",
        "    to_read['book_id'].unique(),\n",
        "    ratings['book_id'].unique()\n",
        "]))\n",
        "print(f\"Jumlah buku unik dari semua dataset: {len(unique_books_all)}\")"
      ],
      "metadata": {
        "id": "GnP0me-tknHi",
        "colab": {
          "base_uri": "https://localhost:8080/"
        },
        "outputId": "d839959c-7a0c-4300-9403-0df0562ed020"
      },
      "execution_count": 37,
      "outputs": [
        {
          "output_type": "stream",
          "name": "stdout",
          "text": [
            "Jumlah buku unik dari semua dataset: 19188\n"
          ]
        }
      ]
    },
    {
      "cell_type": "markdown",
      "source": [
        "***Menghitung Jumlah Tag Unik per Buku***"
      ],
      "metadata": {
        "id": "k1k8rfm9kuNJ"
      }
    },
    {
      "cell_type": "code",
      "source": [
        "# Hitung jumlah tag unik per buku\n",
        "tag_count_per_book = book_tags_renamed.groupby('book_id')['tag_id'].nunique().reset_index()\n",
        "tag_count_per_book.rename(columns={'tag_id': 'tag_count'}, inplace=True)\n",
        "print(tag_count_per_book.head())"
      ],
      "metadata": {
        "id": "keeIHY1mP4Yz",
        "colab": {
          "base_uri": "https://localhost:8080/"
        },
        "outputId": "26ee45c6-f738-4676-a6af-be3939bce94b"
      },
      "execution_count": 38,
      "outputs": [
        {
          "output_type": "stream",
          "name": "stdout",
          "text": [
            "   book_id  tag_count\n",
            "0        1        100\n",
            "1        2        100\n",
            "2        3         99\n",
            "3        5        100\n",
            "4        6        100\n"
          ]
        }
      ]
    },
    {
      "cell_type": "markdown",
      "source": [
        "***Menambahkan Informasi Jumlah Tag ke Dataset Ratings***"
      ],
      "metadata": {
        "id": "h_6DMStkk0Ox"
      }
    },
    {
      "cell_type": "code",
      "source": [
        "# Gabungkan data rating buku dengan jumlah tag tiap buku\n",
        "books_ratings_with_tagcount = pd.merge(books_ratings, tag_count_per_book, on='book_id', how='left')\n",
        "print(books_ratings_with_tagcount.shape)\n",
        "print(books_ratings_with_tagcount.head())"
      ],
      "metadata": {
        "id": "Lwat0aI9kxl-",
        "colab": {
          "base_uri": "https://localhost:8080/"
        },
        "outputId": "cbaa8348-b8ae-4440-aa3e-401025b6568c"
      },
      "execution_count": 39,
      "outputs": [
        {
          "output_type": "stream",
          "name": "stdout",
          "text": [
            "(981756, 26)\n",
            "   book_id  user_id  rating    id  best_book_id     work_id  books_count  \\\n",
            "0        1      314       5  27.0           1.0  41335427.0        275.0   \n",
            "1        1      439       3  27.0           1.0  41335427.0        275.0   \n",
            "2        1      588       5  27.0           1.0  41335427.0        275.0   \n",
            "3        1     1169       4  27.0           1.0  41335427.0        275.0   \n",
            "4        1     1185       4  27.0           1.0  41335427.0        275.0   \n",
            "\n",
            "        isbn        isbn13                      authors  ...  \\\n",
            "0  439785960  9.780440e+12  J.K. Rowling, Mary GrandPré  ...   \n",
            "1  439785960  9.780440e+12  J.K. Rowling, Mary GrandPré  ...   \n",
            "2  439785960  9.780440e+12  J.K. Rowling, Mary GrandPré  ...   \n",
            "3  439785960  9.780440e+12  J.K. Rowling, Mary GrandPré  ...   \n",
            "4  439785960  9.780440e+12  J.K. Rowling, Mary GrandPré  ...   \n",
            "\n",
            "   work_ratings_count work_text_reviews_count ratings_1 ratings_2  ratings_3  \\\n",
            "0           1785676.0                 27520.0    7308.0   21516.0   136333.0   \n",
            "1           1785676.0                 27520.0    7308.0   21516.0   136333.0   \n",
            "2           1785676.0                 27520.0    7308.0   21516.0   136333.0   \n",
            "3           1785676.0                 27520.0    7308.0   21516.0   136333.0   \n",
            "4           1785676.0                 27520.0    7308.0   21516.0   136333.0   \n",
            "\n",
            "   ratings_4  ratings_5                                          image_url  \\\n",
            "0   459028.0  1161491.0  https://images.gr-assets.com/books/1361039191m...   \n",
            "1   459028.0  1161491.0  https://images.gr-assets.com/books/1361039191m...   \n",
            "2   459028.0  1161491.0  https://images.gr-assets.com/books/1361039191m...   \n",
            "3   459028.0  1161491.0  https://images.gr-assets.com/books/1361039191m...   \n",
            "4   459028.0  1161491.0  https://images.gr-assets.com/books/1361039191m...   \n",
            "\n",
            "                                     small_image_url  tag_count  \n",
            "0  https://images.gr-assets.com/books/1361039191s...      100.0  \n",
            "1  https://images.gr-assets.com/books/1361039191s...      100.0  \n",
            "2  https://images.gr-assets.com/books/1361039191s...      100.0  \n",
            "3  https://images.gr-assets.com/books/1361039191s...      100.0  \n",
            "4  https://images.gr-assets.com/books/1361039191s...      100.0  \n",
            "\n",
            "[5 rows x 26 columns]\n"
          ]
        }
      ]
    },
    {
      "cell_type": "markdown",
      "source": [
        "***Menghitung Jumlah User yang Ingin Membaca Buku***"
      ],
      "metadata": {
        "id": "mdmVODtsk6nt"
      }
    },
    {
      "cell_type": "code",
      "source": [
        "# Hitung jumlah user yang ingin membaca tiap buku (to_read_count)\n",
        "to_read_count = to_read.groupby('book_id')['user_id'].nunique().reset_index()\n",
        "to_read_count.rename(columns={'user_id': 'to_read_count'}, inplace=True)\n",
        "print(to_read_count.head())"
      ],
      "metadata": {
        "id": "R9JimpPeQ4QO",
        "colab": {
          "base_uri": "https://localhost:8080/"
        },
        "outputId": "e09019ab-aa9b-4f27-9382-7add296d6153"
      },
      "execution_count": 40,
      "outputs": [
        {
          "output_type": "stream",
          "name": "stdout",
          "text": [
            "   book_id  to_read_count\n",
            "0        1            973\n",
            "1        2            400\n",
            "2        3            287\n",
            "3        4           1478\n",
            "4        5           1293\n"
          ]
        }
      ]
    },
    {
      "cell_type": "markdown",
      "source": [
        "***Finalisasi Dataset dengan Menyatukan Semua Komponen & Menangani Missing Values***"
      ],
      "metadata": {
        "id": "eGkIpw6m2sLU"
      }
    },
    {
      "cell_type": "code",
      "source": [
        "# Gabungkan data rating dan tag_count dengan to_read_count berdasarkan 'book_id'\n",
        "books_ratings_full = pd.merge(books_ratings_with_tagcount, to_read_count, on='book_id', how='left')\n",
        "\n",
        "# Isi missing values pada 'to_read_count' dengan 0 dan ubah tipe data jadi integer\n",
        "books_ratings_full['to_read_count'] = books_ratings_full['to_read_count'].fillna(0).astype(int)\n",
        "\n",
        "# Cek missing values pada kolom penting\n",
        "cols_needed = ['book_id', 'user_id', 'rating', 'tag_count', 'to_read_count']\n",
        "books_subset = books_ratings_full[cols_needed]\n",
        "print(\"Missing values sebelum imputasi 'tag_count':\")\n",
        "print(books_subset.isnull().sum())"
      ],
      "metadata": {
        "id": "xwfi5jnUk_Ga",
        "colab": {
          "base_uri": "https://localhost:8080/"
        },
        "outputId": "a6d0d39c-140a-4b40-d220-c97876b6edeb"
      },
      "execution_count": 47,
      "outputs": [
        {
          "output_type": "stream",
          "name": "stdout",
          "text": [
            "Missing values sebelum imputasi 'tag_count':\n",
            "book_id               0\n",
            "user_id               0\n",
            "rating                0\n",
            "tag_count        902055\n",
            "to_read_count         0\n",
            "dtype: int64\n"
          ]
        }
      ]
    },
    {
      "cell_type": "code",
      "source": [
        "# Isi missing values di kolom 'tag_count' dengan median untuk menghindari bias yang terlalu ekstrem\n",
        "median_tag_count = books_ratings_full['tag_count'].median()\n",
        "books_ratings_full['tag_count'] = books_ratings_full['tag_count'].fillna(median_tag_count)\n",
        "\n",
        "# Ambil subset kolom penting setelah imputasi\n",
        "books_clean = books_ratings_full[cols_needed].copy()\n",
        "\n",
        "# Pastikan tidak ada missing values lagi\n",
        "print(\"\\nMissing values setelah imputasi dan pembersihan:\")\n",
        "print(books_clean.isnull().sum())"
      ],
      "metadata": {
        "id": "K6nsyjoCS4Av",
        "colab": {
          "base_uri": "https://localhost:8080/"
        },
        "outputId": "07552988-3179-4d74-ff8f-55b07d197550"
      },
      "execution_count": 48,
      "outputs": [
        {
          "output_type": "stream",
          "name": "stdout",
          "text": [
            "\n",
            "Missing values setelah imputasi dan pembersihan:\n",
            "book_id          0\n",
            "user_id          0\n",
            "rating           0\n",
            "tag_count        0\n",
            "to_read_count    0\n",
            "dtype: int64\n"
          ]
        }
      ]
    },
    {
      "cell_type": "code",
      "source": [
        "# Drop baris yang masih mengandung missing values (jika ada)\n",
        "books_clean.dropna(inplace=True)\n",
        "\n",
        "# Tampilkan contoh data yang sudah bersih dan siap pakai\n",
        "print(\"\\nContoh data bersih siap untuk modeling:\")\n",
        "print(books_clean.head())"
      ],
      "metadata": {
        "colab": {
          "base_uri": "https://localhost:8080/"
        },
        "id": "A4n-gXSKffNG",
        "outputId": "96d654a9-2c44-43c9-f955-7a960c334085"
      },
      "execution_count": 49,
      "outputs": [
        {
          "output_type": "stream",
          "name": "stdout",
          "text": [
            "\n",
            "Contoh data bersih siap untuk modeling:\n",
            "   book_id  user_id  rating  tag_count  to_read_count\n",
            "0        1      314       5      100.0            973\n",
            "1        1      439       3      100.0            973\n",
            "2        1      588       5      100.0            973\n",
            "3        1     1169       4      100.0            973\n",
            "4        1     1185       4      100.0            973\n"
          ]
        }
      ]
    },
    {
      "cell_type": "markdown",
      "source": [
        "Melakukan validasi data rating, memastikan hanya data dengan metadata buku lengkap yang dipakai agar tidak ada data rusak."
      ],
      "metadata": {
        "id": "gzdK8uYql3Nt"
      }
    },
    {
      "cell_type": "code",
      "source": [
        "# Mengecek book_id yang ada di ratings tapi tidak ada di books (metadata buku)\n",
        "missing_books = books_ratings[~books_ratings['book_id'].isin(books['book_id'])]\n",
        "print(missing_books['book_id'].value_counts())\n",
        "\n",
        "missing_count = ratings[~ratings['book_id'].isin(books['book_id'])]['book_id'].nunique()\n",
        "print(f\"Jumlah book_id yang tidak ditemukan di metadata books: {missing_count}\")\n",
        "\n",
        "# Filter ratings hanya yang ada metadata bukunya\n",
        "rating_filtered = ratings[ratings['book_id'].isin(books['book_id'])]\n",
        "books_ratings_full = pd.merge(rating_filtered, books, on='book_id', how='left')"
      ],
      "metadata": {
        "id": "CVvH8IyJVXjz",
        "colab": {
          "base_uri": "https://localhost:8080/"
        },
        "outputId": "eb92ad1a-d02d-49d6-d5d5-025671e72536"
      },
      "execution_count": 55,
      "outputs": [
        {
          "output_type": "stream",
          "name": "stdout",
          "text": [
            "book_id\n",
            "9977    100\n",
            "9976    100\n",
            "9966    100\n",
            "9964    100\n",
            "53      100\n",
            "       ... \n",
            "9315     36\n",
            "1935     34\n",
            "9486     24\n",
            "9345     11\n",
            "7803      8\n",
            "Name: count, Length: 9188, dtype: int64\n",
            "Jumlah book_id yang tidak ditemukan di metadata books: 9188\n"
          ]
        }
      ]
    },
    {
      "cell_type": "markdown",
      "source": [
        "***Membuat grafik distribusi rating untuk mengetahui sebaran rating dalam dataset.***"
      ],
      "metadata": {
        "id": "NcZVwyXQmCC3"
      }
    },
    {
      "cell_type": "code",
      "source": [
        "# Visualisasi distribusi rating buku\n",
        "sns.histplot(ratings['rating'], bins=5, kde=True)\n",
        "plt.title('Distribusi Rating Buku')\n",
        "plt.xlabel('Rating')\n",
        "plt.ylabel('Jumlah')\n",
        "plt.show()"
      ],
      "metadata": {
        "id": "YjKEAN1StauV",
        "colab": {
          "base_uri": "https://localhost:8080/",
          "height": 472
        },
        "outputId": "df593e44-1b4f-490f-d8f1-d695b1421415"
      },
      "execution_count": 58,
      "outputs": [
        {
          "output_type": "display_data",
          "data": {
            "text/plain": [
              "<Figure size 640x480 with 1 Axes>"
            ],
            "image/png": "[encoded data removed]"
          },
          "metadata": {}
        }
      ]
    },
    {
      "cell_type": "code",
      "source": [
        "# Visualisasi distribusi jumlah rating per user\n",
        "user_rating_counts = ratings['user_id'].value_counts()\n",
        "sns.histplot(user_rating_counts, bins=100)\n",
        "plt.title('Distribusi Rating per Pengguna')\n",
        "plt.xlim(0, 100)  # Fokus pada pengguna dengan rating sampai 100 kali\n",
        "plt.show()"
      ],
      "metadata": {
        "id": "W3eRisoxtfki",
        "colab": {
          "base_uri": "https://localhost:8080/",
          "height": 472
        },
        "outputId": "3f97d364-d399-40ca-97ed-aab4e56274c9"
      },
      "execution_count": 59,
      "outputs": [
        {
          "output_type": "display_data",
          "data": {
            "text/plain": [
              "<Figure size 640x480 with 1 Axes>"
            ],
            "image/png": "[encoded data removed]"
          },
          "metadata": {}
        }
      ]
    },
    {
      "cell_type": "code",
      "source": [
        "# Mengatasi missing value pada dataset books\n",
        "books.fillna({'language_code': books['language_code'].mode()[0]}, inplace=True)"
      ],
      "metadata": {
        "id": "OTwEdeWDuOzQ"
      },
      "execution_count": 60,
      "outputs": []
    },
    {
      "cell_type": "markdown",
      "source": [
        "## DATA PREPARATION"
      ],
      "metadata": {
        "id": "zFZg-wP2xPaN"
      }
    },
    {
      "cell_type": "markdown",
      "source": [
        "Membaca dataset dari file CSV ke dalam DataFrame bernama *books.*"
      ],
      "metadata": {
        "id": "tFjp3QEPmsV0"
      }
    },
    {
      "cell_type": "code",
      "source": [
        "books = pd.read_csv('./goodbooks10k/books.csv')"
      ],
      "metadata": {
        "id": "JtWAahVwukS6"
      },
      "execution_count": 61,
      "outputs": []
    },
    {
      "cell_type": "markdown",
      "source": [
        "Mengecek nama kolom dan beberapa data teratas untuk memahami struktur data."
      ],
      "metadata": {
        "id": "SR1fl6M2mv22"
      }
    },
    {
      "cell_type": "code",
      "source": [
        "print(books.columns)\n",
        "print(books.head())"
      ],
      "metadata": {
        "id": "C3yOs8mY2TmP",
        "colab": {
          "base_uri": "https://localhost:8080/"
        },
        "outputId": "ff3ed64c-f34a-4244-9813-337bfaf4e4ff"
      },
      "execution_count": 62,
      "outputs": [
        {
          "output_type": "stream",
          "name": "stdout",
          "text": [
            "Index(['id', 'book_id', 'best_book_id', 'work_id', 'books_count', 'isbn',\n",
            "       'isbn13', 'authors', 'original_publication_year', 'original_title',\n",
            "       'title', 'language_code', 'average_rating', 'ratings_count',\n",
            "       'work_ratings_count', 'work_text_reviews_count', 'ratings_1',\n",
            "       'ratings_2', 'ratings_3', 'ratings_4', 'ratings_5', 'image_url',\n",
            "       'small_image_url'],\n",
            "      dtype='object')\n",
            "   id  book_id  best_book_id  work_id  books_count       isbn        isbn13  \\\n",
            "0   1  2767052       2767052  2792775          272  439023483  9.780439e+12   \n",
            "1   2        3             3  4640799          491  439554934  9.780440e+12   \n",
            "2   3    41865         41865  3212258          226  316015849  9.780316e+12   \n",
            "3   4     2657          2657  3275794          487   61120081  9.780061e+12   \n",
            "4   5     4671          4671   245494         1356  743273567  9.780743e+12   \n",
            "\n",
            "                       authors  original_publication_year  \\\n",
            "0              Suzanne Collins                     2008.0   \n",
            "1  J.K. Rowling, Mary GrandPré                     1997.0   \n",
            "2              Stephenie Meyer                     2005.0   \n",
            "3                   Harper Lee                     1960.0   \n",
            "4          F. Scott Fitzgerald                     1925.0   \n",
            "\n",
            "                             original_title  ... ratings_count  \\\n",
            "0                          The Hunger Games  ...       4780653   \n",
            "1  Harry Potter and the Philosopher's Stone  ...       4602479   \n",
            "2                                  Twilight  ...       3866839   \n",
            "3                     To Kill a Mockingbird  ...       3198671   \n",
            "4                          The Great Gatsby  ...       2683664   \n",
            "\n",
            "  work_ratings_count  work_text_reviews_count  ratings_1  ratings_2  \\\n",
            "0            4942365                   155254      66715     127936   \n",
            "1            4800065                    75867      75504     101676   \n",
            "2            3916824                    95009     456191     436802   \n",
            "3            3340896                    72586      60427     117415   \n",
            "4            2773745                    51992      86236     197621   \n",
            "\n",
            "   ratings_3  ratings_4  ratings_5  \\\n",
            "0     560092    1481305    2706317   \n",
            "1     455024    1156318    3011543   \n",
            "2     793319     875073    1355439   \n",
            "3     446835    1001952    1714267   \n",
            "4     606158     936012     947718   \n",
            "\n",
            "                                           image_url  \\\n",
            "0  https://images.gr-assets.com/books/1447303603m...   \n",
            "1  https://images.gr-assets.com/books/1474154022m...   \n",
            "2  https://images.gr-assets.com/books/1361039443m...   \n",
            "3  https://images.gr-assets.com/books/1361975680m...   \n",
            "4  https://images.gr-assets.com/books/1490528560m...   \n",
            "\n",
            "                                     small_image_url  \n",
            "0  https://images.gr-assets.com/books/1447303603s...  \n",
            "1  https://images.gr-assets.com/books/1474154022s...  \n",
            "2  https://images.gr-assets.com/books/1361039443s...  \n",
            "3  https://images.gr-assets.com/books/1361975680s...  \n",
            "4  https://images.gr-assets.com/books/1490528560s...  \n",
            "\n",
            "[5 rows x 23 columns]\n"
          ]
        }
      ]
    },
    {
      "cell_type": "markdown",
      "source": [
        "Menyaring kolom-kolom penting saja dari dataset, lalu membuat salinan ke book_new agar data asli tidak berubah."
      ],
      "metadata": {
        "id": "xZZ10UhEm1Ny"
      }
    },
    {
      "cell_type": "code",
      "source": [
        "book_new = books[['book_id', 'title', 'authors', 'original_publication_year', 'average_rating', 'ratings_count']].copy()"
      ],
      "metadata": {
        "id": "ohkhm4MKm3Ia"
      },
      "execution_count": 63,
      "outputs": []
    },
    {
      "cell_type": "markdown",
      "source": [
        "Mengganti nama kolom menjadi lebih ringkas dan mudah digunakan."
      ],
      "metadata": {
        "id": "0rbQrQ12m7WA"
      }
    },
    {
      "cell_type": "code",
      "source": [
        "book_new.columns = ['id', 'title', 'author', 'year', 'avg_rating', 'num_ratings']"
      ],
      "metadata": {
        "id": "QK5Qz6MF2Tps"
      },
      "execution_count": 64,
      "outputs": []
    },
    {
      "cell_type": "markdown",
      "source": [
        "Menampilkan 10 data awal dan 5 data acak untuk melihat distribusi dan isi data."
      ],
      "metadata": {
        "id": "qqlAS86mm___"
      }
    },
    {
      "cell_type": "code",
      "source": [
        "print(book_new.head(10))\n",
        "print(book_new.sample(5))"
      ],
      "metadata": {
        "id": "yE46OvQs3ALz",
        "colab": {
          "base_uri": "https://localhost:8080/"
        },
        "outputId": "7b17510c-aefa-47bd-9b94-d7b12cd1e04b"
      },
      "execution_count": 65,
      "outputs": [
        {
          "output_type": "stream",
          "name": "stdout",
          "text": [
            "         id                                              title  \\\n",
            "0   2767052            The Hunger Games (The Hunger Games, #1)   \n",
            "1         3  Harry Potter and the Sorcerer's Stone (Harry P...   \n",
            "2     41865                            Twilight (Twilight, #1)   \n",
            "3      2657                              To Kill a Mockingbird   \n",
            "4      4671                                   The Great Gatsby   \n",
            "5  11870085                             The Fault in Our Stars   \n",
            "6      5907                                         The Hobbit   \n",
            "7      5107                             The Catcher in the Rye   \n",
            "8       960              Angels & Demons  (Robert Langdon, #1)   \n",
            "9      1885                                Pride and Prejudice   \n",
            "\n",
            "                        author    year  avg_rating  num_ratings  \n",
            "0              Suzanne Collins  2008.0        4.34      4780653  \n",
            "1  J.K. Rowling, Mary GrandPré  1997.0        4.44      4602479  \n",
            "2              Stephenie Meyer  2005.0        3.57      3866839  \n",
            "3                   Harper Lee  1960.0        4.25      3198671  \n",
            "4          F. Scott Fitzgerald  1925.0        3.89      2683664  \n",
            "5                   John Green  2012.0        4.26      2346404  \n",
            "6               J.R.R. Tolkien  1937.0        4.25      2071616  \n",
            "7                J.D. Salinger  1951.0        3.79      2044241  \n",
            "8                    Dan Brown  2000.0        3.85      2001311  \n",
            "9                  Jane Austen  1813.0        4.24      2035490  \n",
            "           id                                              title  \\\n",
            "9433   153175            King of Foxes (Conclave of Shadows, #2)   \n",
            "5287  9265891                   The Lost Gate (Mither Mages, #1)   \n",
            "4154  8163722  Earth (The Book): A Visitor's Guide to the Hum...   \n",
            "9192   697210                Lost & Found (Rocky Pelligrino, #1)   \n",
            "1546     6976                                  The Mermaid Chair   \n",
            "\n",
            "                                                 author    year  avg_rating  \\\n",
            "9433                                   Raymond E. Feist  2003.0        3.95   \n",
            "5287                                   Orson Scott Card  2011.0        3.82   \n",
            "4154  Jon Stewart, Rory Albanese, Kevin Bleyer, Rich...  2010.0        3.91   \n",
            "9192                                 Jacqueline Sheehan  2007.0        3.71   \n",
            "1546                                      Sue Monk Kidd  2004.0        3.10   \n",
            "\n",
            "      num_ratings  \n",
            "9433        10684  \n",
            "5287        18235  \n",
            "4154        23240  \n",
            "9192         9474  \n",
            "1546        62760  \n"
          ]
        }
      ]
    },
    {
      "cell_type": "markdown",
      "source": [
        "Mengecek nilai kosong (missing values) di setiap kolom\n"
      ],
      "metadata": {
        "id": "J81gEfSlnL00"
      }
    },
    {
      "cell_type": "code",
      "source": [
        "print(book_new.isnull().sum())"
      ],
      "metadata": {
        "id": "my_AGDJ-3n9Z",
        "colab": {
          "base_uri": "https://localhost:8080/"
        },
        "outputId": "2ce3c360-2c5f-4f7c-f0aa-7347f7202e73"
      },
      "execution_count": 66,
      "outputs": [
        {
          "output_type": "stream",
          "name": "stdout",
          "text": [
            "id              0\n",
            "title           0\n",
            "author          0\n",
            "year           21\n",
            "avg_rating      0\n",
            "num_ratings     0\n",
            "dtype: int64\n"
          ]
        }
      ]
    },
    {
      "cell_type": "markdown",
      "source": [
        "Menangani nilai kosong pada kolom year dengan mengisinya menggunakan nilai median. Ini adalah pendekatan umum untuk data numerik yang kemungkinan skewed."
      ],
      "metadata": {
        "id": "ZKVog3b3nNvD"
      }
    },
    {
      "cell_type": "code",
      "source": [
        "median_year = book_new['year'].median()\n",
        "book_new['year'] = book_new['year'].fillna(median_year)"
      ],
      "metadata": {
        "id": "X1N343dcnJkz"
      },
      "execution_count": 67,
      "outputs": []
    },
    {
      "cell_type": "markdown",
      "source": [
        "Mengecek ulang apakah masih ada nilai kosong setelah pengisian."
      ],
      "metadata": {
        "id": "7M-HfXtQnR_k"
      }
    },
    {
      "cell_type": "code",
      "source": [
        "print(book_new.isnull().sum())"
      ],
      "metadata": {
        "id": "ExO6CQYrnPzk",
        "colab": {
          "base_uri": "https://localhost:8080/"
        },
        "outputId": "327bfb13-e5e5-4c4d-ad4e-46685b6bce4d"
      },
      "execution_count": 68,
      "outputs": [
        {
          "output_type": "stream",
          "name": "stdout",
          "text": [
            "id             0\n",
            "title          0\n",
            "author         0\n",
            "year           0\n",
            "avg_rating     0\n",
            "num_ratings    0\n",
            "dtype: int64\n"
          ]
        }
      ]
    },
    {
      "cell_type": "markdown",
      "source": [
        "## MODELLING & RESULTS"
      ],
      "metadata": {
        "id": "r1XuYtTgx8a7"
      }
    },
    {
      "cell_type": "markdown",
      "source": [
        "***Content Based Filtering***"
      ],
      "metadata": {
        "id": "Ruuv5j5Z1QtQ"
      }
    },
    {
      "cell_type": "markdown",
      "source": [
        "Menyiapkan dataset buku agar hanya berisi informasi penting yang diperlukan untuk membangun sistem rekomendasi berbasis konten (content-based filtering)."
      ],
      "metadata": {
        "id": "2AZlwyYm4K-K"
      }
    },
    {
      "cell_type": "code",
      "source": [
        "# === Data Preparation for Content-Based Filtering ===\n",
        "# Menyaring kolom-kolom penting saja dari dataset, lalu membuat salinan ke book_new agar data asli tidak berubah.\n",
        "book_new = books[['book_id', 'title', 'authors', 'original_publication_year', 'average_rating', 'ratings_count']].copy()\n",
        "\n",
        "# Mengganti nama kolom menjadi lebih ringkas dan mudah digunakan.\n",
        "book_new.columns = ['id', 'title', 'author', 'year', 'avg_rating', 'num_ratings']"
      ],
      "metadata": {
        "id": "3NVUXucXiiBt"
      },
      "execution_count": 70,
      "outputs": []
    },
    {
      "cell_type": "markdown",
      "source": [
        "Mengatasi missing value pada kolom year agar proses analisis dan pemodelan tidak terganggu, serta menyiapkan dataframe akhir untuk digunakan pada tahap berikutnya."
      ],
      "metadata": {
        "id": "C6I803kw4WLY"
      }
    },
    {
      "cell_type": "code",
      "source": [
        "# Menangani nilai kosong pada kolom year dengan mengisinya menggunakan nilai median.\n",
        "median_year = book_new['year'].median()\n",
        "book_new['year'] = book_new['year'].fillna(median_year)\n",
        "\n",
        "# Assign the prepared dataframe to the variable 'data' which is used later\n",
        "data = book_new\n",
        "\n",
        "# Print head to verify the data\n",
        "print(\"Prepared 'data' dataframe head:\")\n",
        "print(data.head())"
      ],
      "metadata": {
        "id": "3lY0r6Dm_F8W",
        "colab": {
          "base_uri": "https://localhost:8080/"
        },
        "outputId": "f06247ed-9f5a-4812-9137-dfecfa306ac9"
      },
      "execution_count": 71,
      "outputs": [
        {
          "output_type": "stream",
          "name": "stdout",
          "text": [
            "Prepared 'data' dataframe head:\n",
            "        id                                              title  \\\n",
            "0  2767052            The Hunger Games (The Hunger Games, #1)   \n",
            "1        3  Harry Potter and the Sorcerer's Stone (Harry P...   \n",
            "2    41865                            Twilight (Twilight, #1)   \n",
            "3     2657                              To Kill a Mockingbird   \n",
            "4     4671                                   The Great Gatsby   \n",
            "\n",
            "                        author    year  avg_rating  num_ratings  \n",
            "0              Suzanne Collins  2008.0        4.34      4780653  \n",
            "1  J.K. Rowling, Mary GrandPré  1997.0        4.44      4602479  \n",
            "2              Stephenie Meyer  2005.0        3.57      3866839  \n",
            "3                   Harper Lee  1960.0        4.25      3198671  \n",
            "4          F. Scott Fitzgerald  1925.0        3.89      2683664  \n"
          ]
        }
      ]
    },
    {
      "cell_type": "markdown",
      "source": [
        "Membangun model content-based filtering dengan memanfaatkan informasi teks dari judul dan penulis buku menggunakan metode TF-IDF (Term Frequency-Inverse Document Frequency). Model ini akan mengukur kemiripan antar buku berdasarkan konten teks untuk keperluan rekomendasi.\n",
        "\n"
      ],
      "metadata": {
        "id": "Szibzec54yza"
      }
    },
    {
      "cell_type": "code",
      "source": [
        "# === Content Based Filtering ===\n",
        "# Buat TF-IDF Vectorizer dengan stop words bahasa Inggris\n",
        "tfidf = TfidfVectorizer(stop_words='english')\n",
        "\n",
        "# Gabungkan kolom 'title' dan 'author' menjadi kolom baru 'combined'\n",
        "# Ensure 'combined' column exists\n",
        "if 'combined' not in data.columns:\n",
        "    data['combined'] = data['title'].fillna('') + ' ' + data['author'].fillna('') # Handle potential NaNs\n",
        "\n",
        "# Fit dan transform data 'combined' (judul + author)\n",
        "tfidf_matrix = tfidf.fit_transform(data['combined'])\n",
        "\n",
        "# Buat DataFrame dari tfidf_matrix untuk visualisasi (optional)\n",
        "tfidf_df = pd.DataFrame.sparse.from_spmatrix(\n",
        "    tfidf_matrix,\n",
        "    index=data['title'],\n",
        "    columns=tfidf.get_feature_names_out()\n",
        ")\n",
        "\n",
        "# Filter kolom yang ada nilai TF-IDF > 0 minimal di satu baris (kata yang relevan)\n",
        "tfidf_nonzero = tfidf_df.loc[:, (tfidf_df > 0).any()]\n",
        "\n",
        "print(\"\\nTF-IDF Non-Zero Matrix Head:\")\n",
        "print(tfidf_nonzero.head())"
      ],
      "metadata": {
        "colab": {
          "base_uri": "https://localhost:8080/"
        },
        "id": "iJhVC77eiwm2",
        "outputId": "32f9c181-db2b-43c9-f1dd-d7bea357c0e6"
      },
      "execution_count": 121,
      "outputs": [
        {
          "output_type": "stream",
          "name": "stdout",
          "text": [
            "\n",
            "TF-IDF Non-Zero Matrix Head:\n",
            "                                                    000  01  02  03  04  05  \\\n",
            "title                                                                         \n",
            "The Hunger Games (The Hunger Games, #1)               0   0   0   0   0   0   \n",
            "Harry Potter and the Sorcerer's Stone (Harry Po...    0   0   0   0   0   0   \n",
            "Twilight (Twilight, #1)                               0   0   0   0   0   0   \n",
            "To Kill a Mockingbird                                 0   0   0   0   0   0   \n",
            "The Great Gatsby                                      0   0   0   0   0   0   \n",
            "\n",
            "                                                    06  07  08  09  ...  桜坂洋  \\\n",
            "title                                                               ...        \n",
            "The Hunger Games (The Hunger Games, #1)              0   0   0   0  ...    0   \n",
            "Harry Potter and the Sorcerer's Stone (Harry Po...   0   0   0   0  ...    0   \n",
            "Twilight (Twilight, #1)                              0   0   0   0  ...    0   \n",
            "To Kill a Mockingbird                                0   0   0   0  ...    0   \n",
            "The Great Gatsby                                     0   0   0   0  ...    0   \n",
            "\n",
            "                                                    樋口  武内  田中メカ  直子  石田  \\\n",
            "title                                                                      \n",
            "The Hunger Games (The Hunger Games, #1)              0   0     0   0   0   \n",
            "Harry Potter and the Sorcerer's Stone (Harry Po...   0   0     0   0   0   \n",
            "Twilight (Twilight, #1)                              0   0     0   0   0   \n",
            "To Kill a Mockingbird                                0   0     0   0   0   \n",
            "The Great Gatsby                                     0   0     0   0   0   \n",
            "\n",
            "                                                    神尾葉子  美少女戦士セーラームーン新装版  義博  \\\n",
            "title                                                                           \n",
            "The Hunger Games (The Hunger Games, #1)                0                0   0   \n",
            "Harry Potter and the Sorcerer's Stone (Harry Po...     0                0   0   \n",
            "Twilight (Twilight, #1)                                0                0   0   \n",
            "To Kill a Mockingbird                                  0                0   0   \n",
            "The Great Gatsby                                       0                0   0   \n",
            "\n",
            "                                                    신경숙  \n",
            "title                                                    \n",
            "The Hunger Games (The Hunger Games, #1)               0  \n",
            "Harry Potter and the Sorcerer's Stone (Harry Po...    0  \n",
            "Twilight (Twilight, #1)                               0  \n",
            "To Kill a Mockingbird                                 0  \n",
            "The Great Gatsby                                      0  \n",
            "\n",
            "[5 rows x 14240 columns]\n"
          ]
        }
      ]
    },
    {
      "cell_type": "markdown",
      "source": [
        "Menghitung kemiripan antar buku berdasarkan representasi TF-IDF dari teks gabungan (judul + penulis) menggunakan cosine similarity dan membuat fungsi rekomendasi yang mengembalikan daftar buku paling mirip."
      ],
      "metadata": {
        "id": "uKVeYPF-ovko"
      }
    },
    {
      "cell_type": "code",
      "source": [
        "# Hitung cosine similarity matrix dari tfidf_matrix\n",
        "cosine_sim = cosine_similarity(tfidf_matrix, tfidf_matrix)\n",
        "\n",
        "# Ubah menjadi DataFrame dengan index dan kolom berupa judul buku\n",
        "cosine_sim_df = pd.DataFrame(cosine_sim, index=data['title'], columns=data['title'])\n",
        "\n",
        "print(cosine_sim_df.sample(5).sample(5, axis=1))  # lihat sample similarity\n",
        "\n",
        "# Fungsi ini menerima title dan mengembalikan daftar buku paling mirip berdasarkan konten (judul + penulis) menggunakan nilai cosine similarity tertinggi.\n",
        "def recommend_books(title, cosine_sim=cosine_sim_df, data=data, top_n=10):\n",
        "    # Cek apakah buku ada di dataset dan di cosine_sim index\n",
        "    if title not in data['title'].values:\n",
        "        return f\"Buku '{title}' tidak ditemukan dalam data.\"\n",
        "\n",
        "    if title not in cosine_sim.index:\n",
        "         return f\"Buku '{title}' tidak ditemukan dalam cosine similarity index.\"\n",
        "\n",
        "    # Ambil skor similarity buku tersebut dengan buku lain\n",
        "    sim_scores = cosine_sim[title]\n",
        "\n",
        "    # Urutkan skor similarity secara menurun, kecuali dirinya sendiri (nilai max = 1)\n",
        "    # Use .drop(title, errors='ignore') to handle cases where title might not be in the index (though unlikely here)\n",
        "    sim_scores = sim_scores.drop(title, errors='ignore').sort_values(ascending=False)\n",
        "\n",
        "\n",
        "    # Ambil top n buku yang paling mirip\n",
        "    top_books_titles = sim_scores.head(top_n).index\n",
        "\n",
        "    # Ambil data buku tersebut dari the main data DataFrame\n",
        "    # Ensure the comparison is correct, comparing titles\n",
        "    recommended = data[data['title'].isin(top_books_titles)][['title', 'author', 'year', 'avg_rating']].copy()\n",
        "\n",
        "    return recommended.reset_index(drop=True)\n",
        "\n",
        "print(data['title'].head(20))"
      ],
      "metadata": {
        "id": "W7o04gn8BSaO",
        "colab": {
          "base_uri": "https://localhost:8080/"
        },
        "outputId": "42fcf939-1ced-49e1-d595-b988e06fa035"
      },
      "execution_count": 122,
      "outputs": [
        {
          "output_type": "stream",
          "name": "stdout",
          "text": [
            "title                                               Queen of Fire (Raven's Shadow, #3)  \\\n",
            "title                                                                                    \n",
            "Captive Prince: Volume Two (Captive Prince, #2)                                    0.0   \n",
            "The Language Instinct: How the Mind Creates Lan...                                 0.0   \n",
            "Beyond Belief: My Secret Life Inside Scientolog...                                 0.0   \n",
            "Firestarter                                                                        0.0   \n",
            "The One I Left Behind                                                              0.0   \n",
            "\n",
            "title                                               The Rose and the Thorn (The Riyria Chronicles, #2)  \\\n",
            "title                                                                                                    \n",
            "Captive Prince: Volume Two (Captive Prince, #2)                                                   0.0    \n",
            "The Language Instinct: How the Mind Creates Lan...                                                0.0    \n",
            "Beyond Belief: My Secret Life Inside Scientolog...                                                0.0    \n",
            "Firestarter                                                                                       0.0    \n",
            "The One I Left Behind                                                                             0.0    \n",
            "\n",
            "title                                               King (King, #1)  \\\n",
            "title                                                                 \n",
            "Captive Prince: Volume Two (Captive Prince, #2)            0.000000   \n",
            "The Language Instinct: How the Mind Creates Lan...         0.000000   \n",
            "Beyond Belief: My Secret Life Inside Scientolog...         0.000000   \n",
            "Firestarter                                                0.319103   \n",
            "The One I Left Behind                                      0.000000   \n",
            "\n",
            "title                                               Eon (The Way, #1)  \\\n",
            "title                                                                   \n",
            "Captive Prince: Volume Two (Captive Prince, #2)                   0.0   \n",
            "The Language Instinct: How the Mind Creates Lan...                0.0   \n",
            "Beyond Belief: My Secret Life Inside Scientolog...                0.0   \n",
            "Firestarter                                                       0.0   \n",
            "The One I Left Behind                                             0.0   \n",
            "\n",
            "title                                               Jar City (Inspector Erlendur, #3)  \n",
            "title                                                                                  \n",
            "Captive Prince: Volume Two (Captive Prince, #2)                                   0.0  \n",
            "The Language Instinct: How the Mind Creates Lan...                                0.0  \n",
            "Beyond Belief: My Secret Life Inside Scientolog...                                0.0  \n",
            "Firestarter                                                                       0.0  \n",
            "The One I Left Behind                                                             0.0  \n",
            "0               The Hunger Games (The Hunger Games, #1)\n",
            "1     Harry Potter and the Sorcerer's Stone (Harry P...\n",
            "2                               Twilight (Twilight, #1)\n",
            "3                                 To Kill a Mockingbird\n",
            "4                                      The Great Gatsby\n",
            "5                                The Fault in Our Stars\n",
            "6                                            The Hobbit\n",
            "7                                The Catcher in the Rye\n",
            "8                 Angels & Demons  (Robert Langdon, #1)\n",
            "9                                   Pride and Prejudice\n",
            "10                                      The Kite Runner\n",
            "11                            Divergent (Divergent, #1)\n",
            "12                                                 1984\n",
            "13                                          Animal Farm\n",
            "14                            The Diary of a Young Girl\n",
            "15     The Girl with the Dragon Tattoo (Millennium, #1)\n",
            "16                 Catching Fire (The Hunger Games, #2)\n",
            "17    Harry Potter and the Prisoner of Azkaban (Harr...\n",
            "18    The Fellowship of the Ring (The Lord of the Ri...\n",
            "19                    Mockingjay (The Hunger Games, #3)\n",
            "Name: title, dtype: object\n"
          ]
        }
      ]
    },
    {
      "cell_type": "markdown",
      "source": [
        "Merekomendasikan buku-buku yang paling mirip berdasarkan konten (judul dan penulis) dari sebuah buku input menggunakan matriks cosine similarity."
      ],
      "metadata": {
        "id": "f_mBUFue5C_4"
      }
    },
    {
      "cell_type": "code",
      "source": [
        "def recommend_books(title, cosine_sim=cosine_sim_df, data=data, top_n=10):\n",
        "    # Cek apakah buku ada di dataset\n",
        "    if title not in cosine_sim.index:\n",
        "        return f\"Buku '{title}' tidak ditemukan dalam data.\"\n",
        "\n",
        "    # Ambil skor similarity buku tersebut dengan buku lain\n",
        "    sim_scores = cosine_sim[title]\n",
        "\n",
        "    # Urutkan skor similarity secara menurun, kecuali dirinya sendiri (nilai max = 1)\n",
        "    sim_scores = sim_scores.drop(title).sort_values(ascending=False)\n",
        "\n",
        "    # Ambil top n buku yang paling mirip\n",
        "    top_books = sim_scores.head(top_n).index\n",
        "\n",
        "    # Ambil data buku tersebut\n",
        "    recommended = data[data['title'].isin(top_books)][['title', 'author', 'year', 'avg_rating']]\n",
        "\n",
        "    return recommended.reset_index(drop=True)"
      ],
      "metadata": {
        "id": "9IesiCDQBVwi"
      },
      "execution_count": 76,
      "outputs": []
    },
    {
      "cell_type": "code",
      "source": [
        "print(data['title'].head(20))"
      ],
      "metadata": {
        "id": "EwQAsLNDCacA",
        "colab": {
          "base_uri": "https://localhost:8080/"
        },
        "outputId": "1fd12c70-4c51-45dd-ca14-f1e238e79de8"
      },
      "execution_count": 77,
      "outputs": [
        {
          "output_type": "stream",
          "name": "stdout",
          "text": [
            "0               The Hunger Games (The Hunger Games, #1)\n",
            "1     Harry Potter and the Sorcerer's Stone (Harry P...\n",
            "2                               Twilight (Twilight, #1)\n",
            "3                                 To Kill a Mockingbird\n",
            "4                                      The Great Gatsby\n",
            "5                                The Fault in Our Stars\n",
            "6                                            The Hobbit\n",
            "7                                The Catcher in the Rye\n",
            "8                 Angels & Demons  (Robert Langdon, #1)\n",
            "9                                   Pride and Prejudice\n",
            "10                                      The Kite Runner\n",
            "11                            Divergent (Divergent, #1)\n",
            "12                                                 1984\n",
            "13                                          Animal Farm\n",
            "14                            The Diary of a Young Girl\n",
            "15     The Girl with the Dragon Tattoo (Millennium, #1)\n",
            "16                 Catching Fire (The Hunger Games, #2)\n",
            "17    Harry Potter and the Prisoner of Azkaban (Harr...\n",
            "18    The Fellowship of the Ring (The Lord of the Ri...\n",
            "19                    Mockingjay (The Hunger Games, #3)\n",
            "Name: title, dtype: object\n"
          ]
        }
      ]
    },
    {
      "cell_type": "markdown",
      "source": [
        "*Menampilkan 10 buku paling mirip dengan The Hunger Games berdasarkan konten.*"
      ],
      "metadata": {
        "id": "j5L2AId9pBFg"
      }
    },
    {
      "cell_type": "code",
      "source": [
        "print(recommend_books('The Hunger Games (The Hunger Games, #1)'))"
      ],
      "metadata": {
        "id": "jGFwvNCsBZke",
        "colab": {
          "base_uri": "https://localhost:8080/"
        },
        "outputId": "bb0a2ab5-399d-4d05-cda3-3b780cd228ac"
      },
      "execution_count": 78,
      "outputs": [
        {
          "output_type": "stream",
          "name": "stdout",
          "text": [
            "                                               title            author  \\\n",
            "0               Catching Fire (The Hunger Games, #2)   Suzanne Collins   \n",
            "1                  Mockingjay (The Hunger Games, #3)   Suzanne Collins   \n",
            "2  The Hunger Games Trilogy Boxset (The Hunger Ga...   Suzanne Collins   \n",
            "3  The Hunger Games: Official Illustrated Movie C...         Kate Egan   \n",
            "4                     The Hunger Games Tribute Guide       Emily Seife   \n",
            "5                                  Hunger (Gone, #2)    Michael  Grant   \n",
            "6   A Hunger Like No Other (Immortals After Dark #2)      Kresley Cole   \n",
            "7                    Nemesis Games (The Expanse, #5)  James S.A. Corey   \n",
            "8                  The Quillan Games (Pendragon, #7)      D.J. MacHale   \n",
            "9  The World of the Hunger Games (Hunger Games Tr...         Kate Egan   \n",
            "\n",
            "     year  avg_rating  \n",
            "0  2009.0        4.30  \n",
            "1  2010.0        4.03  \n",
            "2  2010.0        4.49  \n",
            "3  2012.0        4.51  \n",
            "4  2012.0        4.40  \n",
            "5  2009.0        4.02  \n",
            "6  2006.0        4.21  \n",
            "7  2015.0        4.37  \n",
            "8  2005.0        4.19  \n",
            "9  2012.0        4.48  \n"
          ]
        }
      ]
    },
    {
      "cell_type": "markdown",
      "source": [
        "emberikan rekomendasi buku yang relevan berdasarkan tiga metode pencarian: judul buku, penulis, dan tahun terbit."
      ],
      "metadata": {
        "id": "cW3_v84C5ZR4"
      }
    },
    {
      "cell_type": "code",
      "source": [
        "def get_recommendations(method, value, top_n=5):\n",
        "    if method == 'title':\n",
        "        book_title = value\n",
        "        if book_title not in data['title'].values:\n",
        "            print(f\"Buku '{book_title}' tidak ditemukan dalam data.\")\n",
        "            return\n",
        "\n",
        "        if book_title not in cosine_sim_df.index:\n",
        "            print(f\"Buku '{book_title}' tidak ditemukan di cosine_sim_df index.\")\n",
        "            return\n",
        "\n",
        "        sim_scores = cosine_sim_df.loc[book_title]\n",
        "        closest_titles = sim_scores.nlargest(top_n + 1).index.drop(book_title)\n",
        "        recommendations = data[data['title'].isin(closest_titles)].head(top_n).reset_index(drop=True)\n",
        "\n",
        "        print(\"Rekomendasi Berdasarkan Judul Buku:\")\n",
        "        for i, row in recommendations.iterrows():\n",
        "            print(f\"{i+1}. {row['title']} - {row['author']}\")\n",
        "        print()\n",
        "\n",
        "    elif method == 'author':\n",
        "        author_books = data[data['author'].str.contains(value, case=False, na=False)]\n",
        "        if author_books.empty:\n",
        "            print(f\"Tidak ditemukan buku oleh penulis '{value}'.\")\n",
        "            return\n",
        "\n",
        "        top_books = author_books.sort_values(by='avg_rating', ascending=False).head(top_n).reset_index(drop=True)\n",
        "        print(f\"Rekomendasi Buku oleh Penulis '{value}':\")\n",
        "        for i, row in top_books.iterrows():\n",
        "            print(f\"{i+1}. {row['title']} - {row['author']} (Rating: {row['avg_rating']})\")\n",
        "        print()\n",
        "\n",
        "    elif method == 'year':\n",
        "        year_books = data[data['year'] == value]\n",
        "        if year_books.empty:\n",
        "            print(f\"Tidak ada buku ditemukan dari tahun {value}.\")\n",
        "            return\n",
        "\n",
        "        top_books = year_books.sort_values(by='avg_rating', ascending=False).head(top_n).reset_index(drop=True)\n",
        "        print(f\"Rekomendasi Buku dari Tahun {value}:\")\n",
        "        for i, row in top_books.iterrows():\n",
        "            print(f\"{i+1}. {row['title']} - {row['author']} (Rating: {row['avg_rating']})\")\n",
        "        print()  # Memberi jarak antar output\n",
        "\n",
        "    else:\n",
        "        print(\"Metode tidak dikenal. Gunakan 'title', 'author', atau 'year'.\")"
      ],
      "metadata": {
        "id": "U8aFZYp-B9tG"
      },
      "execution_count": 80,
      "outputs": []
    },
    {
      "cell_type": "code",
      "source": [
        "# Rekomendasi berdasarkan judul\n",
        "get_recommendations(method='title', value='The Hunger Games (The Hunger Games, #1)', top_n=5)\n",
        "\n",
        "# Rekomendasi berdasarkan penulis\n",
        "get_recommendations(method='author', value='Suzanne Collins', top_n=5)\n",
        "\n",
        "# Rekomendasi berdasarkan tahun\n",
        "get_recommendations(method='year', value=2008, top_n=5)"
      ],
      "metadata": {
        "id": "hxiG8zgWDV9X",
        "colab": {
          "base_uri": "https://localhost:8080/"
        },
        "outputId": "6d6ca15d-3599-4934-9de9-4732bd0cbce4"
      },
      "execution_count": 81,
      "outputs": [
        {
          "output_type": "stream",
          "name": "stdout",
          "text": [
            "Rekomendasi Berdasarkan Judul Buku:\n",
            "1. Catching Fire (The Hunger Games, #2) - Suzanne Collins\n",
            "2. Mockingjay (The Hunger Games, #3) - Suzanne Collins\n",
            "3. The Hunger Games Trilogy Boxset (The Hunger Games, #1-3) - Suzanne Collins\n",
            "4. The Hunger Games Tribute Guide - Emily Seife\n",
            "5. The World of the Hunger Games (Hunger Games Trilogy) - Kate Egan\n",
            "\n",
            "Rekomendasi Buku oleh Penulis 'Suzanne Collins':\n",
            "1. The Hunger Games Trilogy Boxset (The Hunger Games, #1-3) - Suzanne Collins (Rating: 4.49)\n",
            "2. The Hunger Games (The Hunger Games, #1) - Suzanne Collins (Rating: 4.34)\n",
            "3. Catching Fire (The Hunger Games, #2) - Suzanne Collins (Rating: 4.3)\n",
            "4. Gregor and the Code of Claw (Underland Chronicles, #5) - Suzanne Collins (Rating: 4.25)\n",
            "5. Gregor and the Marks of Secret (Underland Chronicles, #4) - Suzanne Collins (Rating: 4.21)\n",
            "\n",
            "Rekomendasi Buku dari Tahun 2008:\n",
            "1. Acheron (Dark-Hunter #14) - Sherrilyn Kenyon (Rating: 4.59)\n",
            "2. Percy Jackson and the Olympians (Percy Jackson and the Olympians, #1-3) - Rick Riordan (Rating: 4.58)\n",
            "3. NARUTO -ナルト- 巻ノ四十三 - Masashi Kishimoto (Rating: 4.57)\n",
            "4. Father Mine (Black Dagger Brotherhood, #6.5) - J.R. Ward (Rating: 4.51)\n",
            "5. Fireproof - Eric Wilson (Rating: 4.47)\n",
            "\n"
          ]
        }
      ]
    },
    {
      "cell_type": "markdown",
      "source": [
        "***Uji dengan judul yang kurang populer***"
      ],
      "metadata": {
        "id": "lvWl6KDEj5YA"
      }
    },
    {
      "cell_type": "code",
      "source": [
        "get_recommendations(method='title', value='The Quillan Games (Pendragon, #7)', top_n=5)"
      ],
      "metadata": {
        "id": "EdJsLu4KcS9p",
        "colab": {
          "base_uri": "https://localhost:8080/"
        },
        "outputId": "02f7d0c2-e0a7-4216-f64f-24d4c127ff66"
      },
      "execution_count": 84,
      "outputs": [
        {
          "output_type": "stream",
          "name": "stdout",
          "text": [
            "Rekomendasi Berdasarkan Judul Buku:\n",
            "1. The Merchant of Death (Pendragon, #1) - D.J. MacHale\n",
            "2. The Never War (Pendragon, #3) - D.J. MacHale\n",
            "3. The Rivers of Zadaa (Pendragon, #6) - D.J. MacHale\n",
            "4. Black Water (Pendragon, #5) - D.J. MacHale\n",
            "5. Raven Rise (Pendragon, #9) - D.J. MacHale\n",
            "\n"
          ]
        }
      ]
    },
    {
      "cell_type": "markdown",
      "source": [
        "***Uji dengan penulis yang banyak karya***"
      ],
      "metadata": {
        "id": "RbcTikbhkEJu"
      }
    },
    {
      "cell_type": "code",
      "source": [
        "get_recommendations(method='author', value='Rick Riordan', top_n=5)"
      ],
      "metadata": {
        "colab": {
          "base_uri": "https://localhost:8080/"
        },
        "id": "m3O1RbMVj9xo",
        "outputId": "c925bb4b-d4bd-453c-e112-4bcc75f47f49"
      },
      "execution_count": 85,
      "outputs": [
        {
          "output_type": "stream",
          "name": "stdout",
          "text": [
            "Rekomendasi Buku oleh Penulis 'Rick Riordan':\n",
            "1. Percy Jackson and the Olympians (Percy Jackson and the Olympians, #1-3) - Rick Riordan (Rating: 4.58)\n",
            "2. Percy Jackson and the Olympians Boxed Set (Percy Jackson and the Olympians, #1-5) - Rick Riordan, Tk (Rating: 4.57)\n",
            "3. The House of Hades (The Heroes of Olympus, #4) - Rick Riordan (Rating: 4.54)\n",
            "4. Percy Jackson's Greek Gods (A Percy Jackson and the Olympians Guide) - Rick Riordan, John Rocco (Rating: 4.51)\n",
            "5. The Last Olympian (Percy Jackson and the Olympians, #5) - Rick Riordan (Rating: 4.5)\n",
            "\n"
          ]
        }
      ]
    },
    {
      "cell_type": "code",
      "source": [
        "get_recommendations(method='year', value=1900, top_n=5)"
      ],
      "metadata": {
        "colab": {
          "base_uri": "https://localhost:8080/"
        },
        "id": "rbFMFV1XkI5f",
        "outputId": "bd68b5a8-8318-4f07-c1f1-db273708f979"
      },
      "execution_count": 87,
      "outputs": [
        {
          "output_type": "stream",
          "name": "stdout",
          "text": [
            "Rekomendasi Buku dari Tahun 1900:\n",
            "1. Selected Stories - Anton Chekhov, Richard Pevear, Larissa Volokhonsky (Rating: 4.36)\n",
            "2. Up from Slavery - Booker T. Washington, Ishmael Reed (Rating: 4.09)\n",
            "3. The Wonderful Wizard of Oz (Oz, #1) - L. Frank Baum, W.W. Denslow (Rating: 3.98)\n",
            "4. The Three Sisters - Anton Chekhov (Rating: 3.76)\n",
            "5. Sister Carrie - Theodore Dreiser (Rating: 3.72)\n",
            "\n"
          ]
        }
      ]
    },
    {
      "cell_type": "code",
      "source": [
        "get_recommendations(method='year', value=2025, top_n=5)"
      ],
      "metadata": {
        "colab": {
          "base_uri": "https://localhost:8080/"
        },
        "id": "vTIpyyqkki1p",
        "outputId": "2db93928-3d1c-4a77-ab1f-0e58672cc0a7"
      },
      "execution_count": 88,
      "outputs": [
        {
          "output_type": "stream",
          "name": "stdout",
          "text": [
            "Tidak ada buku ditemukan dari tahun 2025.\n"
          ]
        }
      ]
    },
    {
      "cell_type": "markdown",
      "source": [
        "***Menampilkan contoh output rekomendasi buku (content-based filtering)***"
      ],
      "metadata": {
        "id": "hp4HHRRs6GvE"
      }
    },
    {
      "cell_type": "code",
      "source": [
        "print(\"\\nCONTOH OUTPUT TOP-N REKOMENDASI CONTENT-BASED FILTERING\")\n",
        "print(\"=\" * 70)\n",
        "\n",
        "if 'title' in data.columns and not data.empty:\n",
        "    if len(data) > 5:\n",
        "        test_title = data['title'].iloc[5]\n",
        "        print(f\"Testing Content-Based dengan buku: '{test_title}'\")\n",
        "\n",
        "        content_recommendations = recommend_books(test_title, top_n=5)\n",
        "\n",
        "        if content_recommendations is not None and not content_recommendations.empty:\n",
        "            print(f\"\\n CONTENT-BASED RECOMMENDATIONS FOR: '{test_title}'\")\n",
        "            print(\"=\" * 70)\n",
        "            for i, row in content_recommendations.iterrows():\n",
        "                print(f\"{i}. {row['title']}\")\n",
        "                print(f\"   Author: {row.get('author', 'Unknown')}\")\n",
        "                print(f\"   Rating: {row.get('avg_rating', 'N/A')}\")\n",
        "                print(\"-\" * 50)\n",
        "        else:\n",
        "            print(f\"No content-based recommendations available for '{test_title}'.\")\n",
        "    else:\n",
        "        print(\"Data does not have enough rows to select index 5.\")\n",
        "else:\n",
        "    print(\"Data DataFrame is empty or missing the 'title' column.\")"
      ],
      "metadata": {
        "colab": {
          "base_uri": "https://localhost:8080/"
        },
        "id": "UT9untMwkvp2",
        "outputId": "e320a711-f631-447e-893d-051d9fae8fc2"
      },
      "execution_count": 96,
      "outputs": [
        {
          "output_type": "stream",
          "name": "stdout",
          "text": [
            "\n",
            "CONTOH OUTPUT TOP-N REKOMENDASI CONTENT-BASED FILTERING\n",
            "======================================================================\n",
            "Testing Content-Based dengan buku: 'The Fault in Our Stars'\n",
            "\n",
            " CONTENT-BASED RECOMMENDATIONS FOR: 'The Fault in Our Stars'\n",
            "======================================================================\n",
            "0. Looking for Alaska\n",
            "   Author: John Green\n",
            "   Rating: 4.09\n",
            "--------------------------------------------------\n",
            "1. Paper Towns\n",
            "   Author: John Green\n",
            "   Rating: 3.88\n",
            "--------------------------------------------------\n",
            "2. Full Dark, No Stars\n",
            "   Author: Stephen King\n",
            "   Rating: 4.03\n",
            "--------------------------------------------------\n",
            "3. The City and the Stars\n",
            "   Author: Arthur C. Clarke\n",
            "   Rating: 4.08\n",
            "--------------------------------------------------\n",
            "4. Agent to the Stars\n",
            "   Author: John Scalzi\n",
            "   Rating: 3.91\n",
            "--------------------------------------------------\n"
          ]
        }
      ]
    },
    {
      "cell_type": "markdown",
      "source": [
        "## EVALUATION"
      ],
      "metadata": {
        "id": "-hFFbHWHnJBy"
      }
    },
    {
      "cell_type": "markdown",
      "source": [
        "***Evaluasi precision pada content-based filtering***"
      ],
      "metadata": {
        "id": "tjGSAcg8nRs8"
      }
    },
    {
      "cell_type": "markdown",
      "source": [
        "Mengukur performa sistem rekomendasi berbasis konten (content-based filtering) menggunakan metrik evaluasi Precision, Recall, dan F1-Score pada top-k rekomendasi."
      ],
      "metadata": {
        "id": "gmJLtEfC6nZi"
      }
    },
    {
      "cell_type": "code",
      "source": [
        "def evaluate_cbf_metrics_at_k(cosine_sim_df, data, k=5, sample_size=30):\n",
        "    print(f\"Evaluating Content-Based Filtering dengan Precision, Recall, dan F1-Score @ {k}\")\n",
        "\n",
        "    if data.empty:\n",
        "        print(\"Data kosong, tidak bisa evaluasi.\")\n",
        "        return None, None, None\n",
        "\n",
        "    if 'author' not in data.columns:\n",
        "        print(\"Kolom 'author' tidak ditemukan di data, evaluasi tidak bisa dilakukan.\")\n",
        "        return None, None, None\n",
        "\n",
        "    sample_books = data.sample(n=min(sample_size, len(data)), random_state=42)\n",
        "    precisions, recalls, f1_scores = [], [], []\n",
        "\n",
        "    for _, book_row in sample_books.iterrows():\n",
        "        book_title = book_row['title']\n",
        "        book_author = book_row['author']\n",
        "\n",
        "        # Ambil rekomendasi top-k\n",
        "        recs = recommend_books(book_title, cosine_sim_df, data, top_n=k) # Corrected\n",
        "\n",
        "        if recs is not None and not recs.empty:\n",
        "            relevant_count = sum(recs['author'] == book_author)\n",
        "            precision = relevant_count / k\n",
        "\n",
        "            # Recall: berapa proporsi buku relevan yang berhasil direkomendasikan\n",
        "            total_relevant = sum(data['author'] == book_author) - 1\n",
        "            recall = relevant_count / total_relevant if total_relevant > 0 else 0\n",
        "\n",
        "            # F1-score: harmonic mean precision & recall\n",
        "            if precision + recall > 0:\n",
        "                f1 = 2 * (precision * recall) / (precision + recall)\n",
        "            else:\n",
        "                f1 = 0\n",
        "\n",
        "            precisions.append(precision)\n",
        "            recalls.append(recall)\n",
        "            f1_scores.append(f1)\n",
        "\n",
        "    if precisions:\n",
        "        avg_precision = np.mean(precisions)\n",
        "        avg_recall = np.mean(recalls)\n",
        "        avg_f1 = np.mean(f1_scores)\n",
        "\n",
        "        print(f\"Average Precision@{k}: {avg_precision:.4f}\")\n",
        "        print(f\"Average Recall@{k}: {avg_recall:.4f}\")\n",
        "        print(f\"Average F1-Score@{k}: {avg_f1:.4f}\")\n",
        "        print(f\"Evaluasi dilakukan pada {len(precisions)} buku sampel\\n\")\n",
        "        return avg_precision, avg_recall, avg_f1\n",
        "    else:\n",
        "        print(\"Tidak ada data untuk evaluasi.\")\n",
        "        return None, None, None\n",
        "\n",
        "\n",
        "# Contoh panggil dan bandingkan hasil untuk k=3,5,10,20\n",
        "for k_value in [3, 5, 10, 20]:\n",
        "\n",
        "    p, r, f1 = evaluate_cbf_metrics_at_k(cosine_sim_df, data, k=k_value, sample_size=30)\n",
        "    print(f\"Hasil evaluasi Precision@{k_value}: {p}\")"
      ],
      "metadata": {
        "colab": {
          "base_uri": "https://localhost:8080/"
        },
        "id": "jlDk0ghUqpGw",
        "outputId": "bf1cd427-e4e9-4ee1-f27f-92d8827aa59a"
      },
      "execution_count": 124,
      "outputs": [
        {
          "output_type": "stream",
          "name": "stdout",
          "text": [
            "Evaluating Content-Based Filtering dengan Precision, Recall, dan F1-Score @ 3\n",
            "Average Precision@3: 0.5778\n",
            "Average Recall@3: 0.3245\n",
            "Average F1-Score@3: 0.3438\n",
            "Evaluasi dilakukan pada 30 buku sampel\n",
            "\n",
            "Hasil evaluasi Precision@3: 0.5777777777777777\n",
            "Evaluating Content-Based Filtering dengan Precision, Recall, dan F1-Score @ 5\n",
            "Average Precision@5: 0.5200\n",
            "Average Recall@5: 0.4196\n",
            "Average F1-Score@5: 0.3846\n",
            "Evaluasi dilakukan pada 30 buku sampel\n",
            "\n",
            "Hasil evaluasi Precision@5: 0.52\n",
            "Evaluating Content-Based Filtering dengan Precision, Recall, dan F1-Score @ 10\n",
            "Average Precision@10: 0.4167\n",
            "Average Recall@10: 0.5177\n",
            "Average F1-Score@10: 0.3814\n",
            "Evaluasi dilakukan pada 30 buku sampel\n",
            "\n",
            "Hasil evaluasi Precision@10: 0.4166666666666667\n",
            "Evaluating Content-Based Filtering dengan Precision, Recall, dan F1-Score @ 20\n",
            "Average Precision@20: 0.3133\n",
            "Average Recall@20: 0.6246\n",
            "Average F1-Score@20: 0.3540\n",
            "Evaluasi dilakukan pada 30 buku sampel\n",
            "\n",
            "Hasil evaluasi Precision@20: 0.31333333333333335\n"
          ]
        }
      ]
    },
    {
      "cell_type": "markdown",
      "source": [
        "Mengambil sampel buku dari dataset, kemudian untuk setiap buku menghitung seberapa banyak rekomendasi yang diberikan sesuai dengan penulis asli buku tersebut (sebagai indikator relevansi). Precision mengukur proporsi rekomendasi yang relevan dari keseluruhan rekomendasi top-k, Recall mengukur proporsi rekomendasi relevan dari seluruh buku relevan yang ada, dan F1-Score merupakan rata-rata harmonik dari Precision dan Recall. Evaluasi ini membantu menilai kualitas dan akurasi rekomendasi pada berbagai nilai k (jumlah rekomendasi yang diberikan)."
      ],
      "metadata": {
        "id": "oypmrm9n6uTk"
      }
    },
    {
      "cell_type": "code",
      "source": [],
      "metadata": {
        "id": "Ni3sHYVOvT3c"
      },
      "execution_count": null,
      "outputs": []
    }
  ]
}