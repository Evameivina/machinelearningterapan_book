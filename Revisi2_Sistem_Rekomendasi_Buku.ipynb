{
  "nbformat": 4,
  "nbformat_minor": 0,
  "metadata": {
    "colab": {
      "provenance": []
    },
    "kernelspec": {
      "name": "python3",
      "display_name": "Python 3"
    },
    "language_info": {
      "name": "python"
    }
  },
  "cells": [
    {
      "cell_type": "markdown",
      "source": [
        "# **Dataset goodbooks-10k dari Kaggle**"
      ],
      "metadata": {
        "id": "tTOZ1fqMfHpa"
      }
    },
    {
      "cell_type": "markdown",
      "source": [
        "## Import Library"
      ],
      "metadata": {
        "id": "n75TvbMJPDTI"
      }
    },
    {
      "cell_type": "code",
      "execution_count": 1,
      "metadata": {
        "colab": {
          "base_uri": "https://localhost:8080/"
        },
        "id": "wmYIAkV9FHnN",
        "outputId": "3a56dba8-eeed-4349-98ea-c337ed1091be"
      },
      "outputs": [
        {
          "output_type": "stream",
          "name": "stdout",
          "text": [
            "Requirement already satisfied: kaggle in /usr/local/lib/python3.11/dist-packages (1.7.4.5)\n",
            "Requirement already satisfied: bleach in /usr/local/lib/python3.11/dist-packages (from kaggle) (6.2.0)\n",
            "Requirement already satisfied: certifi>=14.05.14 in /usr/local/lib/python3.11/dist-packages (from kaggle) (2025.4.26)\n",
            "Requirement already satisfied: charset-normalizer in /usr/local/lib/python3.11/dist-packages (from kaggle) (3.4.2)\n",
            "Requirement already satisfied: idna in /usr/local/lib/python3.11/dist-packages (from kaggle) (3.10)\n",
            "Requirement already satisfied: protobuf in /usr/local/lib/python3.11/dist-packages (from kaggle) (5.29.5)\n",
            "Requirement already satisfied: python-dateutil>=2.5.3 in /usr/local/lib/python3.11/dist-packages (from kaggle) (2.9.0.post0)\n",
            "Requirement already satisfied: python-slugify in /usr/local/lib/python3.11/dist-packages (from kaggle) (8.0.4)\n",
            "Requirement already satisfied: requests in /usr/local/lib/python3.11/dist-packages (from kaggle) (2.32.3)\n",
            "Requirement already satisfied: setuptools>=21.0.0 in /usr/local/lib/python3.11/dist-packages (from kaggle) (75.2.0)\n",
            "Requirement already satisfied: six>=1.10 in /usr/local/lib/python3.11/dist-packages (from kaggle) (1.17.0)\n",
            "Requirement already satisfied: text-unidecode in /usr/local/lib/python3.11/dist-packages (from kaggle) (1.3)\n",
            "Requirement already satisfied: tqdm in /usr/local/lib/python3.11/dist-packages (from kaggle) (4.67.1)\n",
            "Requirement already satisfied: urllib3>=1.15.1 in /usr/local/lib/python3.11/dist-packages (from kaggle) (2.4.0)\n",
            "Requirement already satisfied: webencodings in /usr/local/lib/python3.11/dist-packages (from kaggle) (0.5.1)\n"
          ]
        }
      ],
      "source": [
        "# Install Kaggle API untuk mengunduh dataset dari Kaggle\n",
        "!pip install kaggle"
      ]
    },
    {
      "cell_type": "markdown",
      "source": [
        "*Mengimpor library yang dibutuhkan untuk analisis data dan pembuatan model rekomendasi*"
      ],
      "metadata": {
        "id": "KZnXqvzTRrcm"
      }
    },
    {
      "cell_type": "code",
      "source": [
        "import os\n",
        "import pandas as pd\n",
        "import matplotlib.pyplot as plt\n",
        "import seaborn as sns\n",
        "import numpy as np\n",
        "from sklearn.metrics.pairwise import cosine_similarity\n",
        "from sklearn.feature_extraction.text import TfidfVectorizer\n",
        "from sklearn.preprocessing import LabelEncoder\n",
        "from sklearn.preprocessing import MinMaxScaler\n",
        "from scipy.sparse import csr_matrix, hstack"
      ],
      "metadata": {
        "id": "yUIusgLmPfGq"
      },
      "execution_count": 64,
      "outputs": []
    },
    {
      "cell_type": "markdown",
      "source": [
        "*Set Environment Variables untuk API Kaggle*"
      ],
      "metadata": {
        "id": "b3brq8uTSvgv"
      }
    },
    {
      "cell_type": "code",
      "source": [
        "os.environ['KAGGLE_USERNAME'] = \"evameivinadwiana\"\n",
        "os.environ['KAGGLE_KEY'] = \"efbafcb258eb3a5f3033f21f925e06ef\""
      ],
      "metadata": {
        "id": "_JTPpsc3FpKS"
      },
      "execution_count": 4,
      "outputs": []
    },
    {
      "cell_type": "markdown",
      "source": [
        "Menetapkan Kaggle API berupa username dan API key sebagai environment variables agar dapat mengakses dan mengunduh dataset dari Kaggle secara otomatis."
      ],
      "metadata": {
        "id": "2E-xPTu6S2D4"
      }
    },
    {
      "cell_type": "markdown",
      "source": [
        "*Download Dataset dan Extract Dataset ZIP dari Kaggle*"
      ],
      "metadata": {
        "id": "IJTC3mvtTE7W"
      }
    },
    {
      "cell_type": "code",
      "source": [
        "# Download dataset goodbooks-10k dari Kaggle\n",
        "!kaggle datasets download zygmunt/goodbooks-10k\n",
        "\n",
        "# Extract file ZIP ke folder ./goodbooks10k (overwrite jika sudah ada)\n",
        "!unzip -o goodbooks-10k.zip -d ./goodbooks10k"
      ],
      "metadata": {
        "colab": {
          "base_uri": "https://localhost:8080/"
        },
        "id": "sMakuxfWFt_m",
        "outputId": "81f3b65f-d4ad-49a2-8b25-679c4e64e786"
      },
      "execution_count": 5,
      "outputs": [
        {
          "output_type": "stream",
          "name": "stdout",
          "text": [
            "Dataset URL: https://www.kaggle.com/datasets/zygmunt/goodbooks-10k\n",
            "License(s): CC-BY-SA-4.0\n",
            "Downloading goodbooks-10k.zip to /content\n",
            "  0% 0.00/11.6M [00:00<?, ?B/s]\n",
            "100% 11.6M/11.6M [00:00<00:00, 975MB/s]\n",
            "Archive:  goodbooks-10k.zip\n",
            "  inflating: ./goodbooks10k/book_tags.csv  \n",
            "  inflating: ./goodbooks10k/books.csv  \n",
            "  inflating: ./goodbooks10k/ratings.csv  \n",
            "  inflating: ./goodbooks10k/sample_book.xml  \n",
            "  inflating: ./goodbooks10k/tags.csv  \n",
            "  inflating: ./goodbooks10k/to_read.csv  \n"
          ]
        }
      ]
    },
    {
      "cell_type": "markdown",
      "source": [
        "# **Data Understanding**\n"
      ],
      "metadata": {
        "id": "-hayUUeuF1F6"
      }
    },
    {
      "cell_type": "markdown",
      "source": [
        "### **Memuat Dataset**"
      ],
      "metadata": {
        "id": "7m4PTXrIUUVJ"
      }
    },
    {
      "cell_type": "markdown",
      "source": [
        "Memuat beberapa file CSV dari dataset Goodbooks-10k yang sudah diunduh dan diekstrak"
      ],
      "metadata": {
        "id": "V1vJRyM6T8og"
      }
    },
    {
      "cell_type": "code",
      "source": [
        "# Load dataset goodbooks-10k\n",
        "books = pd.read_csv('./goodbooks10k/books.csv')\n",
        "book_tags = pd.read_csv('./goodbooks10k/book_tags.csv')\n",
        "ratings = pd.read_csv('./goodbooks10k/ratings.csv')\n",
        "tags = pd.read_csv('./goodbooks10k/tags.csv')\n",
        "to_read = pd.read_csv('./goodbooks10k/to_read.csv')"
      ],
      "metadata": {
        "id": "nu1xpefWFvAB"
      },
      "execution_count": 9,
      "outputs": []
    },
    {
      "cell_type": "markdown",
      "source": [
        "### **Memastikan Struktur Data**"
      ],
      "metadata": {
        "id": "ky3vXYvNUYWN"
      }
    },
    {
      "cell_type": "markdown",
      "source": [
        "Memeriksa nama kolom di *book_tags* untuk memastikan struktur data sudah benar:"
      ],
      "metadata": {
        "id": "kJVPrUphUFWI"
      }
    },
    {
      "cell_type": "code",
      "source": [
        "# Tampilkan kolom dari book_tags untuk memastikan nama kolom yang benar\n",
        "print(book_tags.columns)"
      ],
      "metadata": {
        "colab": {
          "base_uri": "https://localhost:8080/"
        },
        "id": "rOCP9X35fp7l",
        "outputId": "2397a60d-44d5-4279-f57c-ad6a872656d4"
      },
      "execution_count": 54,
      "outputs": [
        {
          "output_type": "stream",
          "name": "stdout",
          "text": [
            "Index(['goodreads_book_id', 'tag_id', 'count'], dtype='object')\n"
          ]
        }
      ]
    },
    {
      "cell_type": "markdown",
      "source": [
        "### **Statistik Ringkas Dataset**"
      ],
      "metadata": {
        "id": "ko5pUx3QUe0T"
      }
    },
    {
      "cell_type": "markdown",
      "source": [
        "Menampilkan jumlah data untuk setiap dataset utama"
      ],
      "metadata": {
        "id": "8O6K54fpUjPn"
      }
    },
    {
      "cell_type": "code",
      "source": [
        "# Informasi ringkas jumlah data di setiap dataset\n",
        "print('Jumlah buku:', len(books))\n",
        "print('Jumlah tag buku:', len(book_tags['goodreads_book_id'].unique())) # Assuming 'goodreads_book_id' is the correct column name based on common Kaggle datasets. Adjust if necessary.\n",
        "print('Jumlah penilaian pengguna:', len(ratings))\n",
        "print('Jumlah pengguna yang memberikan rating:', len(ratings.user_id.unique()))\n",
        "print('Jumlah tag yang tersedia:', len(tags))\n",
        "print('Jumlah daftar buku yang akan dibaca:', len(to_read))"
      ],
      "metadata": {
        "colab": {
          "base_uri": "https://localhost:8080/"
        },
        "id": "H4bP0iiHUNSP",
        "outputId": "dcc52714-2625-48f7-c0be-83c69f427f66"
      },
      "execution_count": 55,
      "outputs": [
        {
          "output_type": "stream",
          "name": "stdout",
          "text": [
            "Jumlah buku: 10000\n",
            "Jumlah tag buku: 10000\n",
            "Jumlah penilaian pengguna: 981756\n",
            "Jumlah pengguna yang memberikan rating: 53424\n",
            "Jumlah tag yang tersedia: 34252\n",
            "Jumlah daftar buku yang akan dibaca: 912705\n"
          ]
        }
      ]
    },
    {
      "cell_type": "markdown",
      "source": [
        "Melihat 5 baris pertama dari setiap dataset untuk mendapatkan gambaran isi data"
      ],
      "metadata": {
        "id": "xTaUWuYzUmbf"
      }
    },
    {
      "cell_type": "code",
      "source": [
        "print(books.head())\n",
        "print(book_tags.head())\n",
        "print(ratings.head())\n",
        "print(tags.head())\n",
        "print(to_read.head())"
      ],
      "metadata": {
        "colab": {
          "base_uri": "https://localhost:8080/"
        },
        "id": "jXXxUUKfThOu",
        "outputId": "24d258b3-50f6-42b7-d09f-4edbf6f9d944"
      },
      "execution_count": 52,
      "outputs": [
        {
          "output_type": "stream",
          "name": "stdout",
          "text": [
            "   id  book_id  best_book_id  work_id  books_count       isbn        isbn13  \\\n",
            "0   1  2767052       2767052  2792775          272  439023483  9.780439e+12   \n",
            "1   2        3             3  4640799          491  439554934  9.780440e+12   \n",
            "2   3    41865         41865  3212258          226  316015849  9.780316e+12   \n",
            "3   4     2657          2657  3275794          487   61120081  9.780061e+12   \n",
            "4   5     4671          4671   245494         1356  743273567  9.780743e+12   \n",
            "\n",
            "                       authors  original_publication_year  \\\n",
            "0              Suzanne Collins                     2008.0   \n",
            "1  J.K. Rowling, Mary GrandPré                     1997.0   \n",
            "2              Stephenie Meyer                     2005.0   \n",
            "3                   Harper Lee                     1960.0   \n",
            "4          F. Scott Fitzgerald                     1925.0   \n",
            "\n",
            "                             original_title  ... ratings_count  \\\n",
            "0                          The Hunger Games  ...       4780653   \n",
            "1  Harry Potter and the Philosopher's Stone  ...       4602479   \n",
            "2                                  Twilight  ...       3866839   \n",
            "3                     To Kill a Mockingbird  ...       3198671   \n",
            "4                          The Great Gatsby  ...       2683664   \n",
            "\n",
            "  work_ratings_count  work_text_reviews_count  ratings_1  ratings_2  \\\n",
            "0            4942365                   155254      66715     127936   \n",
            "1            4800065                    75867      75504     101676   \n",
            "2            3916824                    95009     456191     436802   \n",
            "3            3340896                    72586      60427     117415   \n",
            "4            2773745                    51992      86236     197621   \n",
            "\n",
            "   ratings_3  ratings_4  ratings_5  \\\n",
            "0     560092    1481305    2706317   \n",
            "1     455024    1156318    3011543   \n",
            "2     793319     875073    1355439   \n",
            "3     446835    1001952    1714267   \n",
            "4     606158     936012     947718   \n",
            "\n",
            "                                           image_url  \\\n",
            "0  https://images.gr-assets.com/books/1447303603m...   \n",
            "1  https://images.gr-assets.com/books/1474154022m...   \n",
            "2  https://images.gr-assets.com/books/1361039443m...   \n",
            "3  https://images.gr-assets.com/books/1361975680m...   \n",
            "4  https://images.gr-assets.com/books/1490528560m...   \n",
            "\n",
            "                                     small_image_url  \n",
            "0  https://images.gr-assets.com/books/1447303603s...  \n",
            "1  https://images.gr-assets.com/books/1474154022s...  \n",
            "2  https://images.gr-assets.com/books/1361039443s...  \n",
            "3  https://images.gr-assets.com/books/1361975680s...  \n",
            "4  https://images.gr-assets.com/books/1490528560s...  \n",
            "\n",
            "[5 rows x 23 columns]\n",
            "   goodreads_book_id  tag_id   count\n",
            "0                  1   30574  167697\n",
            "1                  1   11305   37174\n",
            "2                  1   11557   34173\n",
            "3                  1    8717   12986\n",
            "4                  1   33114   12716\n",
            "   book_id  user_id  rating\n",
            "0        1      314       5\n",
            "1        1      439       3\n",
            "2        1      588       5\n",
            "3        1     1169       4\n",
            "4        1     1185       4\n",
            "   tag_id tag_name\n",
            "0       0        -\n",
            "1       1     --1-\n",
            "2       2    --10-\n",
            "3       3    --12-\n",
            "4       4   --122-\n",
            "   user_id  book_id\n",
            "0        1      112\n",
            "1        1      235\n",
            "2        1      533\n",
            "3        1     1198\n",
            "4        1     1874\n"
          ]
        }
      ]
    },
    {
      "cell_type": "markdown",
      "source": [
        "Memeriksa apakah ada data yang kosong di setiap dataset untuk memastikan data bersih dan siap diproses"
      ],
      "metadata": {
        "id": "CCMNbwl_UsTa"
      }
    },
    {
      "cell_type": "code",
      "source": [
        "print(books.isnull().sum())\n",
        "print(book_tags.isnull().sum())\n",
        "print(ratings.isnull().sum())\n",
        "print(tags.isnull().sum())\n",
        "print(to_read.isnull().sum())"
      ],
      "metadata": {
        "colab": {
          "base_uri": "https://localhost:8080/"
        },
        "id": "H4TROBUZTkF4",
        "outputId": "b1c69fdc-aa4f-492a-b8e3-79f8ae7acfbd"
      },
      "execution_count": 53,
      "outputs": [
        {
          "output_type": "stream",
          "name": "stdout",
          "text": [
            "id                              0\n",
            "book_id                         0\n",
            "best_book_id                    0\n",
            "work_id                         0\n",
            "books_count                     0\n",
            "isbn                          700\n",
            "isbn13                        585\n",
            "authors                         0\n",
            "original_publication_year       0\n",
            "original_title                585\n",
            "title                           0\n",
            "language_code                1084\n",
            "average_rating                  0\n",
            "ratings_count                   0\n",
            "work_ratings_count              0\n",
            "work_text_reviews_count         0\n",
            "ratings_1                       0\n",
            "ratings_2                       0\n",
            "ratings_3                       0\n",
            "ratings_4                       0\n",
            "ratings_5                       0\n",
            "image_url                       0\n",
            "small_image_url                 0\n",
            "dtype: int64\n",
            "goodreads_book_id    0\n",
            "tag_id               0\n",
            "count                0\n",
            "dtype: int64\n",
            "book_id    0\n",
            "user_id    0\n",
            "rating     0\n",
            "dtype: int64\n",
            "tag_id      0\n",
            "tag_name    0\n",
            "dtype: int64\n",
            "user_id    0\n",
            "book_id    0\n",
            "dtype: int64\n"
          ]
        }
      ]
    },
    {
      "cell_type": "markdown",
      "source": [
        "## **Univariate Exploratory Data Analysis**"
      ],
      "metadata": {
        "id": "-MGqVz5Cg26V"
      }
    },
    {
      "cell_type": "markdown",
      "source": [
        "**Dataset Overview**"
      ],
      "metadata": {
        "id": "rvhMxDqZVznp"
      }
    },
    {
      "cell_type": "code",
      "source": [
        "print(\"Dataset Dimensions:\")\n",
        "print(f\"Ratings: {ratings.shape}\")\n",
        "print(f\"Books: {books.shape}\")"
      ],
      "metadata": {
        "colab": {
          "base_uri": "https://localhost:8080/"
        },
        "id": "xXUWlGyAHuZR",
        "outputId": "f38e0d45-e915-43c6-d2e3-767af161ba14"
      },
      "execution_count": 56,
      "outputs": [
        {
          "output_type": "stream",
          "name": "stdout",
          "text": [
            "Dataset Dimensions:\n",
            "Ratings: (981756, 3)\n",
            "Books: (10000, 23)\n"
          ]
        }
      ]
    },
    {
      "cell_type": "markdown",
      "source": [
        "**Eksplorasi Dataset**"
      ],
      "metadata": {
        "id": "qfOsFqf2WMxK"
      }
    },
    {
      "cell_type": "code",
      "source": [
        "print(\"\\n[Dataset: BOOKS]\")\n",
        "print(\"-\" * 50)\n",
        "\n",
        "# Menampilkan struktur data dan tipe tiap kolom\n",
        "print(\"Struktur dan Tipe Data:\")\n",
        "books_structure = books.info()\n",
        "\n",
        "# Menampilkan 5 data teratas sebagai sampel\n",
        "print(\"\\nContoh Data (5 baris pertama):\")\n",
        "print(books.head())\n",
        "\n",
        "# Menampilkan ringkasan statistik numerik\n",
        "print(\"\\nStatistik Deskriptif:\")\n",
        "print(books.describe())\n",
        "\n",
        "# Menampilkan informasi nilai yang hilang (jika ada)\n",
        "print(\"\\nNilai yang Hilang:\")\n",
        "missing_data = books.isnull().sum()\n",
        "missing_data = missing_data[missing_data > 0]\n",
        "if not missing_data.empty:\n",
        "    print(missing_data)\n",
        "else:\n",
        "    print(\"Tidak ditemukan nilai kosong pada dataset.\")"
      ],
      "metadata": {
        "colab": {
          "base_uri": "https://localhost:8080/"
        },
        "id": "mKjbHvgUBzUD",
        "outputId": "63d6b9fd-1e6e-47b2-f135-d984b53842e8"
      },
      "execution_count": 59,
      "outputs": [
        {
          "output_type": "stream",
          "name": "stdout",
          "text": [
            "\n",
            "[Dataset: BOOKS]\n",
            "--------------------------------------------------\n",
            "Struktur dan Tipe Data:\n",
            "<class 'pandas.core.frame.DataFrame'>\n",
            "RangeIndex: 10000 entries, 0 to 9999\n",
            "Data columns (total 23 columns):\n",
            " #   Column                     Non-Null Count  Dtype  \n",
            "---  ------                     --------------  -----  \n",
            " 0   id                         10000 non-null  int64  \n",
            " 1   book_id                    10000 non-null  int64  \n",
            " 2   best_book_id               10000 non-null  int64  \n",
            " 3   work_id                    10000 non-null  int64  \n",
            " 4   books_count                10000 non-null  int64  \n",
            " 5   isbn                       9300 non-null   object \n",
            " 6   isbn13                     9415 non-null   float64\n",
            " 7   authors                    10000 non-null  object \n",
            " 8   original_publication_year  10000 non-null  float64\n",
            " 9   original_title             9415 non-null   object \n",
            " 10  title                      10000 non-null  object \n",
            " 11  language_code              8916 non-null   object \n",
            " 12  average_rating             10000 non-null  float64\n",
            " 13  ratings_count              10000 non-null  int64  \n",
            " 14  work_ratings_count         10000 non-null  int64  \n",
            " 15  work_text_reviews_count    10000 non-null  int64  \n",
            " 16  ratings_1                  10000 non-null  int64  \n",
            " 17  ratings_2                  10000 non-null  int64  \n",
            " 18  ratings_3                  10000 non-null  int64  \n",
            " 19  ratings_4                  10000 non-null  int64  \n",
            " 20  ratings_5                  10000 non-null  int64  \n",
            " 21  image_url                  10000 non-null  object \n",
            " 22  small_image_url            10000 non-null  object \n",
            "dtypes: float64(3), int64(13), object(7)\n",
            "memory usage: 1.8+ MB\n",
            "\n",
            "Contoh Data (5 baris pertama):\n",
            "   id  book_id  best_book_id  work_id  books_count       isbn        isbn13  \\\n",
            "0   1  2767052       2767052  2792775          272  439023483  9.780439e+12   \n",
            "1   2        3             3  4640799          491  439554934  9.780440e+12   \n",
            "2   3    41865         41865  3212258          226  316015849  9.780316e+12   \n",
            "3   4     2657          2657  3275794          487   61120081  9.780061e+12   \n",
            "4   5     4671          4671   245494         1356  743273567  9.780743e+12   \n",
            "\n",
            "                       authors  original_publication_year  \\\n",
            "0              Suzanne Collins                     2008.0   \n",
            "1  J.K. Rowling, Mary GrandPré                     1997.0   \n",
            "2              Stephenie Meyer                     2005.0   \n",
            "3                   Harper Lee                     1960.0   \n",
            "4          F. Scott Fitzgerald                     1925.0   \n",
            "\n",
            "                             original_title  ... ratings_count  \\\n",
            "0                          The Hunger Games  ...       4780653   \n",
            "1  Harry Potter and the Philosopher's Stone  ...       4602479   \n",
            "2                                  Twilight  ...       3866839   \n",
            "3                     To Kill a Mockingbird  ...       3198671   \n",
            "4                          The Great Gatsby  ...       2683664   \n",
            "\n",
            "  work_ratings_count  work_text_reviews_count  ratings_1  ratings_2  \\\n",
            "0            4942365                   155254      66715     127936   \n",
            "1            4800065                    75867      75504     101676   \n",
            "2            3916824                    95009     456191     436802   \n",
            "3            3340896                    72586      60427     117415   \n",
            "4            2773745                    51992      86236     197621   \n",
            "\n",
            "   ratings_3  ratings_4  ratings_5  \\\n",
            "0     560092    1481305    2706317   \n",
            "1     455024    1156318    3011543   \n",
            "2     793319     875073    1355439   \n",
            "3     446835    1001952    1714267   \n",
            "4     606158     936012     947718   \n",
            "\n",
            "                                           image_url  \\\n",
            "0  https://images.gr-assets.com/books/1447303603m...   \n",
            "1  https://images.gr-assets.com/books/1474154022m...   \n",
            "2  https://images.gr-assets.com/books/1361039443m...   \n",
            "3  https://images.gr-assets.com/books/1361975680m...   \n",
            "4  https://images.gr-assets.com/books/1490528560m...   \n",
            "\n",
            "                                     small_image_url  \n",
            "0  https://images.gr-assets.com/books/1447303603s...  \n",
            "1  https://images.gr-assets.com/books/1474154022s...  \n",
            "2  https://images.gr-assets.com/books/1361039443s...  \n",
            "3  https://images.gr-assets.com/books/1361975680s...  \n",
            "4  https://images.gr-assets.com/books/1490528560s...  \n",
            "\n",
            "[5 rows x 23 columns]\n",
            "\n",
            "Statistik Deskriptif:\n",
            "                id       book_id  best_book_id       work_id   books_count  \\\n",
            "count  10000.00000  1.000000e+04  1.000000e+04  1.000000e+04  10000.000000   \n",
            "mean    5000.50000  5.264697e+06  5.471214e+06  8.646183e+06     75.712700   \n",
            "std     2886.89568  7.575462e+06  7.827330e+06  1.175106e+07    170.470728   \n",
            "min        1.00000  1.000000e+00  1.000000e+00  8.700000e+01      1.000000   \n",
            "25%     2500.75000  4.627575e+04  4.791175e+04  1.008841e+06     23.000000   \n",
            "50%     5000.50000  3.949655e+05  4.251235e+05  2.719524e+06     40.000000   \n",
            "75%     7500.25000  9.382225e+06  9.636112e+06  1.451775e+07     67.000000   \n",
            "max    10000.00000  3.328864e+07  3.553423e+07  5.639960e+07   3455.000000   \n",
            "\n",
            "             isbn13  original_publication_year  average_rating  ratings_count  \\\n",
            "count  9.415000e+03               10000.000000    10000.000000   1.000000e+04   \n",
            "mean   9.755044e+12                1981.987674        4.002191   5.400124e+04   \n",
            "std    4.428619e+11                 152.416359        0.254427   1.573700e+05   \n",
            "min    1.951703e+08               -1750.000000        2.470000   2.716000e+03   \n",
            "25%    9.780316e+12                1990.000000        3.850000   1.356875e+04   \n",
            "50%    9.780452e+12                2004.000000        4.020000   2.115550e+04   \n",
            "75%    9.780831e+12                2011.000000        4.180000   4.105350e+04   \n",
            "max    9.790008e+12                2017.000000        4.820000   4.780653e+06   \n",
            "\n",
            "       work_ratings_count  work_text_reviews_count      ratings_1  \\\n",
            "count        1.000000e+04             10000.000000   10000.000000   \n",
            "mean         5.968732e+04              2919.955300    1345.040600   \n",
            "std          1.678038e+05              6124.378132    6635.626263   \n",
            "min          5.510000e+03                 3.000000      11.000000   \n",
            "25%          1.543875e+04               694.000000     196.000000   \n",
            "50%          2.383250e+04              1402.000000     391.000000   \n",
            "75%          4.591500e+04              2744.250000     885.000000   \n",
            "max          4.942365e+06            155254.000000  456191.000000   \n",
            "\n",
            "           ratings_2      ratings_3     ratings_4     ratings_5  \n",
            "count   10000.000000   10000.000000  1.000000e+04  1.000000e+04  \n",
            "mean     3110.885000   11475.893800  1.996570e+04  2.378981e+04  \n",
            "std      9717.123578   28546.449183  5.144736e+04  7.976889e+04  \n",
            "min        30.000000     323.000000  7.500000e+02  7.540000e+02  \n",
            "25%       656.000000    3112.000000  5.405750e+03  5.334000e+03  \n",
            "50%      1163.000000    4894.000000  8.269500e+03  8.836000e+03  \n",
            "75%      2353.250000    9287.000000  1.602350e+04  1.730450e+04  \n",
            "max    436802.000000  793319.000000  1.481305e+06  3.011543e+06  \n",
            "\n",
            "Nilai yang Hilang:\n",
            "isbn               700\n",
            "isbn13             585\n",
            "original_title     585\n",
            "language_code     1084\n",
            "dtype: int64\n"
          ]
        }
      ]
    },
    {
      "cell_type": "code",
      "source": [
        "print(\"\\n[Analisis Dataset: BOOK_TAGS]\")\n",
        "print(\"-\" * 50)\n",
        "\n",
        "# Menampilkan informasi struktur dataset\n",
        "print(\"Detail Struktur Dataset:\")\n",
        "book_tags_structure = book_tags.info()\n",
        "\n",
        "# Menampilkan beberapa data awal sebagai representasi\n",
        "print(\"\\nCuplikan Awal Data:\")\n",
        "print(book_tags.head())\n",
        "\n",
        "# Menampilkan ringkasan statistik numerik\n",
        "print(\"\\nRingkasan Statistik:\")\n",
        "print(book_tags.describe())\n",
        "\n",
        "# Menampilkan informasi nilai kosong (jika ada)\n",
        "print(\"\\nCek Data Kosong:\")\n",
        "missing_entries = book_tags.isnull().sum()\n",
        "null_summary = missing_entries[missing_entries > 0]\n",
        "if not null_summary.empty:\n",
        "    print(null_summary)\n",
        "else:\n",
        "    print(\"Seluruh kolom telah terisi dengan lengkap.\")"
      ],
      "metadata": {
        "id": "mOxEzq9hAjYG",
        "colab": {
          "base_uri": "https://localhost:8080/"
        },
        "outputId": "d96f7d12-c06f-4775-d6f8-f87b389ddee2"
      },
      "execution_count": 60,
      "outputs": [
        {
          "output_type": "stream",
          "name": "stdout",
          "text": [
            "\n",
            "[Analisis Dataset: BOOK_TAGS]\n",
            "--------------------------------------------------\n",
            "Detail Struktur Dataset:\n",
            "<class 'pandas.core.frame.DataFrame'>\n",
            "RangeIndex: 999912 entries, 0 to 999911\n",
            "Data columns (total 3 columns):\n",
            " #   Column             Non-Null Count   Dtype\n",
            "---  ------             --------------   -----\n",
            " 0   goodreads_book_id  999912 non-null  int64\n",
            " 1   tag_id             999912 non-null  int64\n",
            " 2   count              999912 non-null  int64\n",
            "dtypes: int64(3)\n",
            "memory usage: 22.9 MB\n",
            "\n",
            "Cuplikan Awal Data:\n",
            "   goodreads_book_id  tag_id   count\n",
            "0                  1   30574  167697\n",
            "1                  1   11305   37174\n",
            "2                  1   11557   34173\n",
            "3                  1    8717   12986\n",
            "4                  1   33114   12716\n",
            "\n",
            "Ringkasan Statistik:\n",
            "       goodreads_book_id         tag_id          count\n",
            "count       9.999120e+05  999912.000000  999912.000000\n",
            "mean        5.263442e+06   16324.527073     208.869633\n",
            "std         7.574057e+06    9647.846196    3501.265173\n",
            "min         1.000000e+00       0.000000      -1.000000\n",
            "25%         4.622700e+04    8067.000000       7.000000\n",
            "50%         3.948410e+05   15808.000000      15.000000\n",
            "75%         9.378297e+06   24997.000000      40.000000\n",
            "max         3.328864e+07   34251.000000  596234.000000\n",
            "\n",
            "Cek Data Kosong:\n",
            "Seluruh kolom telah terisi dengan lengkap.\n"
          ]
        }
      ]
    },
    {
      "cell_type": "code",
      "source": [
        "print(\"\\n[Eksplorasi Awal: DATASET RATINGS]\")\n",
        "print(\"-\" * 50)\n",
        "\n",
        "# Menampilkan struktur data dan tipe setiap kolom\n",
        "print(\"Struktur Kolom dan Tipe Data:\")\n",
        "ratings.info()\n",
        "\n",
        "# Menampilkan lima baris pertama dari dataset\n",
        "print(\"\\nContoh Data:\")\n",
        "print(ratings.head())\n",
        "\n",
        "# Menyajikan statistik ringkasan untuk kolom numerik\n",
        "print(\"\\nStatistik Umum:\")\n",
        "print(ratings.describe())\n",
        "\n",
        "# Mengecek apakah ada data yang hilang\n",
        "print(\"\\nPemeriksaan Nilai Kosong:\")\n",
        "missing_data = ratings.isnull().sum()\n",
        "missing_filtered = missing_data[missing_data > 0]\n",
        "if not missing_filtered.empty:\n",
        "    print(missing_filtered)\n",
        "else:\n",
        "    print(\"Tidak ditemukan nilai kosong dalam dataset.\")"
      ],
      "metadata": {
        "id": "Qm-9NXWgAjal",
        "colab": {
          "base_uri": "https://localhost:8080/"
        },
        "outputId": "b7e88f7b-1567-4190-8e78-449d66133d26"
      },
      "execution_count": 61,
      "outputs": [
        {
          "output_type": "stream",
          "name": "stdout",
          "text": [
            "\n",
            "[Eksplorasi Awal: DATASET RATINGS]\n",
            "--------------------------------------------------\n",
            "Struktur Kolom dan Tipe Data:\n",
            "<class 'pandas.core.frame.DataFrame'>\n",
            "RangeIndex: 981756 entries, 0 to 981755\n",
            "Data columns (total 3 columns):\n",
            " #   Column   Non-Null Count   Dtype\n",
            "---  ------   --------------   -----\n",
            " 0   book_id  981756 non-null  int64\n",
            " 1   user_id  981756 non-null  int64\n",
            " 2   rating   981756 non-null  int64\n",
            "dtypes: int64(3)\n",
            "memory usage: 22.5 MB\n",
            "\n",
            "Contoh Data:\n",
            "   book_id  user_id  rating\n",
            "0        1      314       5\n",
            "1        1      439       3\n",
            "2        1      588       5\n",
            "3        1     1169       4\n",
            "4        1     1185       4\n",
            "\n",
            "Statistik Umum:\n",
            "             book_id        user_id         rating\n",
            "count  981756.000000  981756.000000  981756.000000\n",
            "mean     4943.275636   25616.759933       3.856534\n",
            "std      2873.207415   15228.338826       0.983941\n",
            "min         1.000000       1.000000       1.000000\n",
            "25%      2457.000000   12372.000000       3.000000\n",
            "50%      4921.000000   25077.000000       4.000000\n",
            "75%      7414.000000   38572.000000       5.000000\n",
            "max     10000.000000   53424.000000       5.000000\n",
            "\n",
            "Pemeriksaan Nilai Kosong:\n",
            "Tidak ditemukan nilai kosong dalam dataset.\n"
          ]
        }
      ]
    },
    {
      "cell_type": "code",
      "source": [
        "print(\"\\n[Analisis Dataset: TAGS]\")\n",
        "print(\"-\" * 50)\n",
        "\n",
        "# Menampilkan struktur kolom dan tipe datanya\n",
        "print(\"Detail Struktur Data:\")\n",
        "tags.info()\n",
        "\n",
        "# Menampilkan data contoh awal\n",
        "print(\"\\nCuplikan Data:\")\n",
        "print(tags.head())\n",
        "\n",
        "# Menampilkan ringkasan statistik numerik\n",
        "print(\"\\nRingkasan Statistik:\")\n",
        "print(tags.describe())\n",
        "\n",
        "# Menampilkan kolom yang memiliki nilai kosong\n",
        "print(\"\\nCek Data Kosong:\")\n",
        "missing_info = tags.isnull().sum()\n",
        "missing_found = missing_info[missing_info > 0]\n",
        "if not missing_found.empty:\n",
        "    print(missing_found)\n",
        "else:\n",
        "    print(\"Semua kolom telah terisi dengan baik.\")"
      ],
      "metadata": {
        "id": "Bn9m77D6AjeM",
        "colab": {
          "base_uri": "https://localhost:8080/"
        },
        "outputId": "88a845d5-0437-4112-99cd-5f32f78929b0"
      },
      "execution_count": 62,
      "outputs": [
        {
          "output_type": "stream",
          "name": "stdout",
          "text": [
            "\n",
            "[Analisis Dataset: TAGS]\n",
            "--------------------------------------------------\n",
            "Detail Struktur Data:\n",
            "<class 'pandas.core.frame.DataFrame'>\n",
            "RangeIndex: 34252 entries, 0 to 34251\n",
            "Data columns (total 2 columns):\n",
            " #   Column    Non-Null Count  Dtype \n",
            "---  ------    --------------  ----- \n",
            " 0   tag_id    34252 non-null  int64 \n",
            " 1   tag_name  34252 non-null  object\n",
            "dtypes: int64(1), object(1)\n",
            "memory usage: 535.3+ KB\n",
            "\n",
            "Cuplikan Data:\n",
            "   tag_id tag_name\n",
            "0       0        -\n",
            "1       1     --1-\n",
            "2       2    --10-\n",
            "3       3    --12-\n",
            "4       4   --122-\n",
            "\n",
            "Ringkasan Statistik:\n",
            "             tag_id\n",
            "count  34252.000000\n",
            "mean   17125.500000\n",
            "std     9887.845047\n",
            "min        0.000000\n",
            "25%     8562.750000\n",
            "50%    17125.500000\n",
            "75%    25688.250000\n",
            "max    34251.000000\n",
            "\n",
            "Cek Data Kosong:\n",
            "Semua kolom telah terisi dengan baik.\n"
          ]
        }
      ]
    },
    {
      "cell_type": "code",
      "source": [
        "print(\"\\n[Review Dataset: TO_READ]\")\n",
        "print(\"-\" * 40)\n",
        "\n",
        "# Menampilkan info struktur dataset\n",
        "print(\"Detail Informasi Dataset:\")\n",
        "to_read.info()\n",
        "\n",
        "# Menampilkan beberapa baris data pertama\n",
        "print(\"\\nData Sampel:\")\n",
        "print(to_read.head())\n",
        "\n",
        "# Menampilkan statistik deskriptif untuk kolom numerik\n",
        "print(\"\\nStatistik Ringkas:\")\n",
        "print(to_read.describe())\n",
        "\n",
        "# Mengecek dan menampilkan kolom yang mengandung nilai kosong\n",
        "print(\"\\nPemeriksaan Data Kosong:\")\n",
        "missing_entries = to_read.isnull().sum()\n",
        "missing_cols = missing_entries[missing_entries > 0]\n",
        "if not missing_cols.empty:\n",
        "    print(missing_cols)\n",
        "else:\n",
        "    print(\"Tidak ditemukan nilai kosong pada dataset ini.\")"
      ],
      "metadata": {
        "colab": {
          "base_uri": "https://localhost:8080/"
        },
        "id": "LZRmGNuqGetl",
        "outputId": "e0e2c9eb-7398-40e2-bc96-dd3e3d5162d4"
      },
      "execution_count": 63,
      "outputs": [
        {
          "output_type": "stream",
          "name": "stdout",
          "text": [
            "\n",
            "[Review Dataset: TO_READ]\n",
            "----------------------------------------\n",
            "Detail Informasi Dataset:\n",
            "<class 'pandas.core.frame.DataFrame'>\n",
            "RangeIndex: 912705 entries, 0 to 912704\n",
            "Data columns (total 2 columns):\n",
            " #   Column   Non-Null Count   Dtype\n",
            "---  ------   --------------   -----\n",
            " 0   user_id  912705 non-null  int64\n",
            " 1   book_id  912705 non-null  int64\n",
            "dtypes: int64(2)\n",
            "memory usage: 13.9 MB\n",
            "\n",
            "Data Sampel:\n",
            "   user_id  book_id\n",
            "0        1      112\n",
            "1        1      235\n",
            "2        1      533\n",
            "3        1     1198\n",
            "4        1     1874\n",
            "\n",
            "Statistik Ringkas:\n",
            "             user_id        book_id\n",
            "count  912705.000000  912705.000000\n",
            "mean    27668.980115    2454.739538\n",
            "std     14775.096388    2626.359921\n",
            "min         1.000000       1.000000\n",
            "25%     15507.000000     360.000000\n",
            "50%     27799.000000    1381.000000\n",
            "75%     40220.000000    3843.000000\n",
            "max     53424.000000   10000.000000\n",
            "\n",
            "Pemeriksaan Data Kosong:\n",
            "Tidak ditemukan nilai kosong pada dataset ini.\n"
          ]
        }
      ]
    },
    {
      "cell_type": "markdown",
      "source": [
        "*Memvisualisasikan 10 penulis dengan jumlah buku terbanyak pada dataset books.*"
      ],
      "metadata": {
        "id": "PqtVFweQYWwy"
      }
    },
    {
      "cell_type": "code",
      "source": [
        "plt.style.use('default')\n",
        "sns.set_palette(\"husl\")\n",
        "fig_size = (12, 6)\n",
        "plt.figure(figsize=fig_size)\n",
        "\n",
        "top_authors = books['authors'].value_counts().head(10)\n",
        "\n",
        "plt.subplot(1, 2, 1)\n",
        "top_authors.plot(kind='bar', color='skyblue')\n",
        "plt.title('Top 10 Penulis dengan Buku Terbanyak')\n",
        "plt.xlabel('Penulis')\n",
        "plt.ylabel('Jumlah Buku')\n",
        "plt.xticks(rotation=45)"
      ],
      "metadata": {
        "colab": {
          "base_uri": "https://localhost:8080/",
          "height": 830
        },
        "id": "Z4BBcJ1LHT1s",
        "outputId": "f7e6036d-c3d5-4aa2-edc4-52e58d50f450"
      },
      "execution_count": 19,
      "outputs": [
        {
          "output_type": "execute_result",
          "data": {
            "text/plain": [
              "(array([0, 1, 2, 3, 4, 5, 6, 7, 8, 9]),\n",
              " [Text(0, 0, 'Stephen King'),\n",
              "  Text(1, 0, 'Nora Roberts'),\n",
              "  Text(2, 0, 'Dean Koontz'),\n",
              "  Text(3, 0, 'Terry Pratchett'),\n",
              "  Text(4, 0, 'Agatha Christie'),\n",
              "  Text(5, 0, 'Meg Cabot'),\n",
              "  Text(6, 0, 'James Patterson'),\n",
              "  Text(7, 0, 'David Baldacci'),\n",
              "  Text(8, 0, 'John Grisham'),\n",
              "  Text(9, 0, 'J.D. Robb')])"
            ]
          },
          "metadata": {},
          "execution_count": 19
        },
        {
          "output_type": "display_data",
          "data": {
            "text/plain": [
              "<Figure size 1200x600 with 1 Axes>"
            ],
            "image/png": "[encoded data removed]"
          },
          "metadata": {}
        }
      ]
    },
    {
      "cell_type": "markdown",
      "source": [
        "Dari diagram batang yang dihasilkan, terlihat bahwa Stephen King menempati posisi teratas sebagai penulis dengan jumlah buku terbanyak dalam dataset ini. Posisi kedua diduduki oleh Nora Roberts, diikuti oleh Dean Koontz yang berada di peringkat ketiga. Ketiga penulis ini menjadi yang paling dominan, mencerminkan kontribusi mereka yang signifikan terhadap koleksi buku yang tercatat dalam dataset."
      ],
      "metadata": {
        "id": "kH8snjcbYdd4"
      }
    },
    {
      "cell_type": "markdown",
      "source": [
        "*Menampilkan 10 buku dengan rating rata-rata tertinggi dari dataset*"
      ],
      "metadata": {
        "id": "GsmFyOtmZA5s"
      }
    },
    {
      "cell_type": "code",
      "source": [
        "top_rated = books.sort_values(by='average_rating', ascending=False).head(10)\n",
        "\n",
        "plt.figure(figsize=(12, 6))\n",
        "sns.barplot(data=top_rated, x='average_rating', y='title', palette='husl')\n",
        "plt.title('10 Buku dengan Rating Tertinggi')\n",
        "plt.xlabel('Rating')\n",
        "plt.ylabel('Judul Buku')\n",
        "plt.tight_layout()\n",
        "plt.show()"
      ],
      "metadata": {
        "colab": {
          "base_uri": "https://localhost:8080/",
          "height": 436
        },
        "id": "BG8xI4RPKpUI",
        "outputId": "8b02d63e-e21c-4bcf-c965-785228d9e4c3"
      },
      "execution_count": 20,
      "outputs": [
        {
          "output_type": "stream",
          "name": "stderr",
          "text": [
            "<ipython-input-20-642cb17680bc>:4: FutureWarning: \n",
            "\n",
            "Passing `palette` without assigning `hue` is deprecated and will be removed in v0.14.0. Assign the `y` variable to `hue` and set `legend=False` for the same effect.\n",
            "\n",
            "  sns.barplot(data=top_rated, x='average_rating', y='title', palette='husl')\n"
          ]
        },
        {
          "output_type": "display_data",
          "data": {
            "text/plain": [
              "<Figure size 1200x600 with 1 Axes>"
            ],
            "image/png": "[encoded data removed]"
          },
          "metadata": {}
        }
      ]
    },
    {
      "cell_type": "markdown",
      "source": [
        "Buku-buku tersebut diurutkan berdasarkan nilai *average_rating* secara menurun, sehingga buku dengan rating tertinggi muncul di bagian paling atas grafik. Dari visualisasi ini, buku dengan rating tertinggi adalah The Complete Calvin and Hobbes, yang menduduki posisi pertama."
      ],
      "metadata": {
        "id": "O0YE23VFZGnE"
      }
    },
    {
      "cell_type": "markdown",
      "source": [
        "*Menggabungkan dua dataset, yaitu book_tags dan tags, berdasarkan kolom tag_id menggunakan fungsi pd.merge()*"
      ],
      "metadata": {
        "id": "Xoo4a6qcZQ-a"
      }
    },
    {
      "cell_type": "code",
      "source": [
        "merged_tags = pd.merge(book_tags, tags, on='tag_id')\n",
        "top_tags = merged_tags.groupby('tag_name')['count'].sum().sort_values(ascending=False).head(10)\n",
        "\n",
        "plt.figure(figsize=(12, 6))\n",
        "top_tags.plot(kind='bar', color='mediumpurple')\n",
        "plt.title('10 Tag Buku Paling Populer')\n",
        "plt.xlabel('Tag')\n",
        "plt.ylabel('Jumlah Penggunaan')\n",
        "plt.xticks(rotation=45)\n",
        "plt.tight_layout()\n",
        "plt.show()"
      ],
      "metadata": {
        "colab": {
          "base_uri": "https://localhost:8080/",
          "height": 627
        },
        "id": "Vv5yBkUNIYmY",
        "outputId": "a84bd4e4-6c35-4e0a-e3e5-505c0bf09f6b"
      },
      "execution_count": 21,
      "outputs": [
        {
          "output_type": "display_data",
          "data": {
            "text/plain": [
              "<Figure size 1200x600 with 1 Axes>"
            ],
            "image/png": "[encoded data removed]"
          },
          "metadata": {}
        }
      ]
    },
    {
      "cell_type": "markdown",
      "source": [
        "Dari diagram batang tersebut, terlihat 10 tag buku paling populer berdasarkan frekuensi penggunaannya dalam dataset. Tag dengan jumlah penggunaan tertinggi adalah \"to-read\", yang menunjukkan bahwa banyak buku diberi label ini sebagai daftar bacaan yang ingin dibaca oleh pengguna."
      ],
      "metadata": {
        "id": "svU25N9pZiho"
      }
    },
    {
      "cell_type": "markdown",
      "source": [
        "*Distribusi Rating Pengguna*\n"
      ],
      "metadata": {
        "id": "bG32t9riZp3C"
      }
    },
    {
      "cell_type": "code",
      "source": [
        "plt.figure(figsize=(8, 4))\n",
        "sns.countplot(data=ratings, x='rating', palette='husl')\n",
        "plt.title('Distribusi Rating yang Diberikan Pengguna')\n",
        "plt.xlabel('Rating')\n",
        "plt.ylabel('Jumlah')\n",
        "plt.tight_layout()\n",
        "plt.show()"
      ],
      "metadata": {
        "colab": {
          "base_uri": "https://localhost:8080/",
          "height": 514
        },
        "id": "51CIGuRcI4Ct",
        "outputId": "26d9382f-ba09-4bab-b27a-58c3cbaf7a1a"
      },
      "execution_count": 22,
      "outputs": [
        {
          "output_type": "stream",
          "name": "stderr",
          "text": [
            "<ipython-input-22-1f8bbca5b772>:2: FutureWarning: \n",
            "\n",
            "Passing `palette` without assigning `hue` is deprecated and will be removed in v0.14.0. Assign the `x` variable to `hue` and set `legend=False` for the same effect.\n",
            "\n",
            "  sns.countplot(data=ratings, x='rating', palette='husl')\n"
          ]
        },
        {
          "output_type": "display_data",
          "data": {
            "text/plain": [
              "<Figure size 800x400 with 1 Axes>"
            ],
            "image/png": "[encoded data removed]"
          },
          "metadata": {}
        }
      ]
    },
    {
      "cell_type": "markdown",
      "source": [
        "Dari diagram distribusi rating ini, dapat dilihat bahwa rating dengan frekuensi tertinggi adalah rating 4. Artinya, mayoritas pengguna memberikan penilaian 4 pada buku-buku dalam dataset, menunjukkan bahwa secara umum buku-buku tersebut mendapat respon positif dengan rating yang cenderung tinggi."
      ],
      "metadata": {
        "id": "nlb-UGnRZ2vF"
      }
    },
    {
      "cell_type": "markdown",
      "source": [
        "*Menampilkan 10 buku yang paling sering dimasukkan ke dalam daftar \"To-Read\" oleh pengguna*"
      ],
      "metadata": {
        "id": "oNvNHPgVZ86_"
      }
    },
    {
      "cell_type": "code",
      "source": [
        "to_read_count = to_read['book_id'].value_counts().head(10)\n",
        "top_to_read_books = books[books['book_id'].isin(to_read_count.index)][['book_id', 'title']]\n",
        "top_to_read_books['to_read_count'] = top_to_read_books['book_id'].map(to_read_count)\n",
        "\n",
        "plt.figure(figsize=(12, 6))\n",
        "sns.barplot(data=top_to_read_books, x='to_read_count', y='title', palette='Blues_d')\n",
        "plt.title('10 Buku Paling Banyak Masuk Daftar \"To-Read\"')\n",
        "plt.xlabel('Jumlah To-Read')\n",
        "plt.ylabel('Judul Buku')\n",
        "plt.tight_layout()\n",
        "plt.show()"
      ],
      "metadata": {
        "colab": {
          "base_uri": "https://localhost:8080/",
          "height": 436
        },
        "id": "x39mt9CwMKai",
        "outputId": "a3f84603-a17a-4e75-941e-010bb2af2289"
      },
      "execution_count": 23,
      "outputs": [
        {
          "output_type": "stream",
          "name": "stderr",
          "text": [
            "<ipython-input-23-e1d6e5969e4a>:6: FutureWarning: \n",
            "\n",
            "Passing `palette` without assigning `hue` is deprecated and will be removed in v0.14.0. Assign the `y` variable to `hue` and set `legend=False` for the same effect.\n",
            "\n",
            "  sns.barplot(data=top_to_read_books, x='to_read_count', y='title', palette='Blues_d')\n"
          ]
        },
        {
          "output_type": "display_data",
          "data": {
            "text/plain": [
              "<Figure size 1200x600 with 1 Axes>"
            ],
            "image/png": "[encoded data removed]"
          },
          "metadata": {}
        }
      ]
    },
    {
      "cell_type": "markdown",
      "source": [
        "Diagram batang ini menampilkan 10 buku yang paling sering dimasukkan ke dalam daftar *To-Read* oleh pengguna. Buku-buku tersebut diurutkan berdasarkan frekuensi kemunculannya dalam daftar tersebut, dengan buku *The Hitchhiker's Guide to the Galaxy* menempati posisi teratas sebagai buku yang paling banyak dimasukkan."
      ],
      "metadata": {
        "id": "d1PW8_-faK_6"
      }
    },
    {
      "cell_type": "markdown",
      "source": [
        "*Analisis Kualitas Data pada Dataset Buku*\n"
      ],
      "metadata": {
        "id": "o_elh8IyadLZ"
      }
    },
    {
      "cell_type": "code",
      "source": [
        "datasets = {\n",
        "    \"Books\": books,\n",
        "    \"Book Tags\": book_tags,\n",
        "    \"Ratings\": ratings,\n",
        "    \"Tags\": tags,\n",
        "    \"To Read\": to_read\n",
        "}\n",
        "\n",
        "def assess_data_quality(df, name):\n",
        "    print(f\"\\n{name}:\")\n",
        "\n",
        "    total_cells = df.shape[0] * df.shape[1]\n",
        "    missing_cells = df.isnull().sum().sum()\n",
        "    missing_percent = (missing_cells / total_cells) * 100\n",
        "\n",
        "    duplicate_rows = df.duplicated().sum()\n",
        "\n",
        "    print(f\"- Total Records     : {df.shape[0]}\")\n",
        "    print(f\"- Total Columns     : {df.shape[1]}\")\n",
        "    print(f\"- Missing Values    : {missing_cells}/{total_cells} ({missing_percent:.2f}%)\")\n",
        "    print(f\"- Duplicate Rows    : {duplicate_rows}\")\n",
        "\n",
        "    numeric_cols = df.select_dtypes(include=[np.number]).columns\n",
        "    if len(numeric_cols) > 0:\n",
        "        print(f\"- Numeric Columns   : {len(numeric_cols)}\")\n",
        "        for col in numeric_cols:\n",
        "            Q1 = df[col].quantile(0.25)\n",
        "            Q3 = df[col].quantile(0.75)\n",
        "            IQR = Q3 - Q1\n",
        "            outliers = df[(df[col] < Q1 - 1.5*IQR) | (df[col] > Q3 + 1.5*IQR)][col].count()\n",
        "            if outliers > 0:\n",
        "                print(f\"  - {col}: {outliers} potential outliers\")\n",
        "\n",
        "for name, df in datasets.items():\n",
        "    assess_data_quality(df, name)"
      ],
      "metadata": {
        "colab": {
          "base_uri": "https://localhost:8080/"
        },
        "id": "nxRhOsNYM83n",
        "outputId": "dba4615d-fb7b-482f-9e85-1494ca8cc4f4"
      },
      "execution_count": 26,
      "outputs": [
        {
          "output_type": "stream",
          "name": "stdout",
          "text": [
            "\n",
            "Books:\n",
            "- Total Records     : 10000\n",
            "- Total Columns     : 23\n",
            "- Missing Values    : 2975/230000 (1.29%)\n",
            "- Duplicate Rows    : 0\n",
            "- Numeric Columns   : 16\n",
            "  - book_id: 345 potential outliers\n",
            "  - best_book_id: 357 potential outliers\n",
            "  - work_id: 601 potential outliers\n",
            "  - books_count: 844 potential outliers\n",
            "  - isbn13: 556 potential outliers\n",
            "  - original_publication_year: 1031 potential outliers\n",
            "  - average_rating: 158 potential outliers\n",
            "  - ratings_count: 1163 potential outliers\n",
            "  - work_ratings_count: 1143 potential outliers\n",
            "  - work_text_reviews_count: 1005 potential outliers\n",
            "  - ratings_1: 1140 potential outliers\n",
            "  - ratings_2: 1156 potential outliers\n",
            "  - ratings_3: 1149 potential outliers\n",
            "  - ratings_4: 1131 potential outliers\n",
            "  - ratings_5: 1158 potential outliers\n",
            "\n",
            "Book Tags:\n",
            "- Total Records     : 999912\n",
            "- Total Columns     : 3\n",
            "- Missing Values    : 0/2999736 (0.00%)\n",
            "- Duplicate Rows    : 6\n",
            "- Numeric Columns   : 3\n",
            "  - goodreads_book_id: 34500 potential outliers\n",
            "  - count: 131269 potential outliers\n",
            "\n",
            "Ratings:\n",
            "- Total Records     : 981756\n",
            "- Total Columns     : 3\n",
            "- Missing Values    : 0/2945268 (0.00%)\n",
            "- Duplicate Rows    : 1644\n",
            "- Numeric Columns   : 3\n",
            "\n",
            "Tags:\n",
            "- Total Records     : 34252\n",
            "- Total Columns     : 2\n",
            "- Missing Values    : 0/68504 (0.00%)\n",
            "- Duplicate Rows    : 0\n",
            "- Numeric Columns   : 1\n",
            "\n",
            "To Read:\n",
            "- Total Records     : 912705\n",
            "- Total Columns     : 2\n",
            "- Missing Values    : 0/1825410 (0.00%)\n",
            "- Duplicate Rows    : 0\n",
            "- Numeric Columns   : 2\n",
            "  - book_id: 22577 potential outliers\n"
          ]
        }
      ]
    },
    {
      "cell_type": "markdown",
      "source": [
        "# **Data Preparation**"
      ],
      "metadata": {
        "id": "GLSV0LN6OkcO"
      }
    },
    {
      "cell_type": "markdown",
      "source": [
        "Dilakukan pembersihan data dengan mengisi nilai kosong pada  *original_publication_year* menggunakan rata-rata dan *language_code* menggunakan modus. Kolom *isbn* dan *isbn13* yang banyak missing dihapus, serta data duplikat dihapus.\n",
        "\n",
        "*Fitur authors* dan *language_code* diubah menjadi angka dengan *LabelEncoder*, dan fitur numerik dinormalisasi dengan *MinMaxScaler*.\n",
        "\n",
        "Fitur numerik digabungkan dengan representasi *TF-IDF* dari judul buku untuk membentuk matriks fitur gabungan.\n",
        "\n",
        "Matriks ini digunakan untuk menghitung *similarity matrix* berbasis cosine similarity guna analisis dan rekomendasi buku."
      ],
      "metadata": {
        "id": "pC6n6w3iblbs"
      }
    },
    {
      "cell_type": "code",
      "source": [
        "print(f\"- books null:\\n{books.isnull().sum()}\")\n",
        "print(f\"- ratings null:\\n{ratings.isnull().sum()}\")"
      ],
      "metadata": {
        "colab": {
          "base_uri": "https://localhost:8080/"
        },
        "id": "hX6s1WRGPTDj",
        "outputId": "6ab833b9-ff32-4e75-fa1f-8b971bf7c65c"
      },
      "execution_count": 27,
      "outputs": [
        {
          "output_type": "stream",
          "name": "stdout",
          "text": [
            "- books null:\n",
            "id                              0\n",
            "book_id                         0\n",
            "best_book_id                    0\n",
            "work_id                         0\n",
            "books_count                     0\n",
            "isbn                          700\n",
            "isbn13                        585\n",
            "authors                         0\n",
            "original_publication_year      21\n",
            "original_title                585\n",
            "title                           0\n",
            "language_code                1084\n",
            "average_rating                  0\n",
            "ratings_count                   0\n",
            "work_ratings_count              0\n",
            "work_text_reviews_count         0\n",
            "ratings_1                       0\n",
            "ratings_2                       0\n",
            "ratings_3                       0\n",
            "ratings_4                       0\n",
            "ratings_5                       0\n",
            "image_url                       0\n",
            "small_image_url                 0\n",
            "dtype: int64\n",
            "- ratings null:\n",
            "book_id    0\n",
            "user_id    0\n",
            "rating     0\n",
            "dtype: int64\n"
          ]
        }
      ]
    },
    {
      "cell_type": "code",
      "source": [
        "books['original_publication_year'] = books['original_publication_year'].fillna(books['original_publication_year'].mean())"
      ],
      "metadata": {
        "id": "r5EjqwkxVMNe"
      },
      "execution_count": 28,
      "outputs": []
    },
    {
      "cell_type": "code",
      "source": [
        "books_clean = books.drop(columns=['isbn', 'isbn13'])"
      ],
      "metadata": {
        "id": "8IVt6v2eVMQ7"
      },
      "execution_count": 29,
      "outputs": []
    },
    {
      "cell_type": "code",
      "source": [
        "books_clean = books_clean.drop_duplicates()\n",
        "ratings_clean = ratings.drop_duplicates()"
      ],
      "metadata": {
        "id": "VnslV1TEVMUO"
      },
      "execution_count": 30,
      "outputs": []
    },
    {
      "cell_type": "code",
      "source": [
        "books_clean['language_code'] = books_clean['language_code'].fillna(books_clean['language_code'].mode()[0])"
      ],
      "metadata": {
        "id": "7ORBxfeW70S0"
      },
      "execution_count": 35,
      "outputs": []
    },
    {
      "cell_type": "code",
      "source": [
        "le_author = LabelEncoder()\n",
        "le_language = LabelEncoder()\n",
        "\n",
        "books_clean['author_encoded'] = le_author.fit_transform(books_clean['authors'])\n",
        "books_clean['language_encoded'] = le_language.fit_transform(books_clean['language_code'])"
      ],
      "metadata": {
        "id": "NQZ1XsL173x6"
      },
      "execution_count": 36,
      "outputs": []
    },
    {
      "cell_type": "code",
      "source": [
        "scaler = MinMaxScaler()\n",
        "numerical_cols = ['average_rating', 'ratings_count', 'original_publication_year']\n",
        "books_clean[numerical_cols] = scaler.fit_transform(books_clean[numerical_cols])"
      ],
      "metadata": {
        "id": "mBT-OD_S73z0"
      },
      "execution_count": 37,
      "outputs": []
    },
    {
      "cell_type": "code",
      "source": [
        "content_features_num = books_clean[\n",
        "    ['average_rating', 'ratings_count', 'original_publication_year', 'author_encoded', 'language_encoded']\n",
        "]"
      ],
      "metadata": {
        "id": "2pYaJWkG9mjN"
      },
      "execution_count": 38,
      "outputs": []
    },
    {
      "cell_type": "code",
      "source": [
        "tfidf = TfidfVectorizer(stop_words='english', max_features=500)\n",
        "title_tfidf = tfidf.fit_transform(books_clean['title'].fillna(''))"
      ],
      "metadata": {
        "id": "Nb25uUucLntP"
      },
      "execution_count": 42,
      "outputs": []
    },
    {
      "cell_type": "code",
      "source": [
        "numerical_sparse = csr_matrix(content_features_num.values)\n",
        "feature_matrix = hstack([numerical_sparse, title_tfidf])\n",
        "\n",
        "print(f\"Content feature matrix shape: {feature_matrix.shape}\")"
      ],
      "metadata": {
        "colab": {
          "base_uri": "https://localhost:8080/"
        },
        "id": "NAwPS7mrLnwn",
        "outputId": "de0251d0-5818-4b95-9a25-3f587c56c14c"
      },
      "execution_count": 43,
      "outputs": [
        {
          "output_type": "stream",
          "name": "stdout",
          "text": [
            "Content feature matrix shape: (10000, 505)\n"
          ]
        }
      ]
    },
    {
      "cell_type": "code",
      "source": [
        "print(\"Computing cosine similarity matrix...\")\n",
        "similarity_matrix = cosine_similarity(feature_matrix, dense_output=False)  # buat memory efisien\n",
        "print(f\"Similarity matrix shape: {similarity_matrix.shape}\")"
      ],
      "metadata": {
        "colab": {
          "base_uri": "https://localhost:8080/"
        },
        "id": "xf-jeaiBLxid",
        "outputId": "6f80d7f9-fe63-4fce-d777-646ff895990a"
      },
      "execution_count": 46,
      "outputs": [
        {
          "output_type": "stream",
          "name": "stdout",
          "text": [
            "Computing cosine similarity matrix...\n",
            "Similarity matrix shape: (10000, 10000)\n"
          ]
        }
      ]
    },
    {
      "cell_type": "markdown",
      "source": [
        "# Modelling & Results"
      ],
      "metadata": {
        "id": "W8PwQ45U8ji3"
      }
    },
    {
      "cell_type": "markdown",
      "source": [
        "### Content Base Filtering"
      ],
      "metadata": {
        "id": "PNLW-0z-8sqH"
      }
    },
    {
      "cell_type": "markdown",
      "source": [
        "Mencari dan menampilkan rekomendasi buku mirip berdasarkan judul buku input menggunakan metode content-based filtering dengan matriks kemiripan."
      ],
      "metadata": {
        "id": "d_vvrGP3gAPN"
      }
    },
    {
      "cell_type": "code",
      "source": [
        "# Fungsi untuk mendapatkan rekomendasi buku berdasarkan judul buku menggunakan content-based filtering\n",
        "def get_book_recommendations(book_title, n=5, show=True):\n",
        "    try:\n",
        "        # Cek apakah kolom 'title' ada di dataframe\n",
        "        if 'title' not in books_clean.columns:\n",
        "            print(\"Kolom 'title' tidak ditemukan.\")\n",
        "            return None\n",
        "\n",
        "        # Cari indeks buku yang judulnya sama dengan book_title\n",
        "        idx_list = books_clean.index[books_clean['title'] == book_title].tolist()\n",
        "        if not idx_list:\n",
        "            print(f\"'{book_title}' tidak ditemukan.\")\n",
        "            return None\n",
        "        idx = idx_list[0]\n",
        "\n",
        "        # Ambil skor kemiripan (similarity) dari matriks similarity untuk buku tersebut\n",
        "        sim_scores = similarity_matrix[idx].toarray().flatten()\n",
        "        sim_scores = list(enumerate(sim_scores))\n",
        "\n",
        "        # Urutkan skor kemiripan secara descending dan ambil n teratas selain buku itu sendiri\n",
        "        sim_scores = sorted(sim_scores, key=lambda x: x[1], reverse=True)\n",
        "        sim_scores = [x for x in sim_scores if x[0] != idx][:n]\n",
        "\n",
        "        # Ambil indeks buku-buku yang direkomendasikan\n",
        "        top_idx = [i for i, _ in sim_scores]\n",
        "\n",
        "        # Ambil data buku rekomendasi berdasarkan indeks, termasuk judul dan penulis\n",
        "        recommendations = books_clean.loc[top_idx, ['title', 'authors']].copy()\n",
        "        # Tambahkan kolom skor kemiripan ke dataframe rekomendasi\n",
        "        recommendations['Similarity_Score'] = [s for _, s in sim_scores]\n",
        "\n",
        "        # Jika kolom lain ada di dataset, tambahkan juga ke rekomendasi\n",
        "        for col in ['average_rating', 'ratings_count', 'original_publication_year']:\n",
        "            if col in books_clean.columns:\n",
        "                recommendations[col] = books_clean.loc[top_idx, col].values\n",
        "\n",
        "        # Jika parameter show True, tampilkan hasil rekomendasi secara rapi\n",
        "        if show:\n",
        "            print(f\"\\nCONTENT-BASED RECOMMENDATIONS FOR BOOK: '{book_title}'\")\n",
        "            print(\"=\" * 70)\n",
        "            for i, (_, row) in enumerate(recommendations.iterrows(), 1):\n",
        "                print(f\"{i}. {row['title']} by {row['authors']} (Similarity: {row['Similarity_Score']:.3f})\")\n",
        "                if 'average_rating' in row:\n",
        "                    print(f\"   Average Rating: {row['average_rating']:.2f}\")\n",
        "                if 'ratings_count' in row:\n",
        "                    print(f\"   Ratings Count: {row['ratings_count']}\")\n",
        "                if 'original_publication_year' in row:\n",
        "                    print(f\"   Publication Year: {int(row['original_publication_year'])}\")\n",
        "                print(\"-\" * 50)\n",
        "\n",
        "        # Kembalikan dataframe rekomendasi\n",
        "        return recommendations\n",
        "\n",
        "    except Exception as e:\n",
        "        # Tangani error dengan mencetak pesan error dan kembalikan None\n",
        "        print(f\"Error: {e}\")\n",
        "        return None"
      ],
      "metadata": {
        "id": "aNObouzx73Nv"
      },
      "execution_count": 76,
      "outputs": []
    },
    {
      "cell_type": "markdown",
      "source": [
        "Menampilkan 10 judul buku secara acak dari dataframe books_clean dan menampilkannya dalam bentuk array."
      ],
      "metadata": {
        "id": "fCUAFTO5ggoJ"
      }
    },
    {
      "cell_type": "code",
      "source": [
        "print(books_clean['title'].sample(10, random_state=42).values)"
      ],
      "metadata": {
        "colab": {
          "base_uri": "https://localhost:8080/"
        },
        "id": "Q5KvinI6e_JM",
        "outputId": "10522881-b46f-4235-dc7e-6483031ca943"
      },
      "execution_count": 71,
      "outputs": [
        {
          "output_type": "stream",
          "name": "stdout",
          "text": [
            "['Scion of Ikshvaku (RamChandra, #1)' 'Canada' 'The Man in the Brown Suit'\n",
            " 'Twilight and Philosophy: Vampires, Vegetarians, and the Pursuit of Immortality'\n",
            " 'Saga, Vol. 5 (Saga, #5)' 'Asterix the Gaul (Asterix, #1)'\n",
            " 'Tuck Everlasting' 'Domes of Fire (The Tamuli, #1)'\n",
            " 'When We Were Orphans' 'Fall of Giants (The Century Trilogy, #1)']\n"
          ]
        }
      ]
    },
    {
      "cell_type": "markdown",
      "source": [
        "Memeriksa keberadaan sebuah judul buku dalam data, menampilkan ukuran matriks kemiripan yang digunakan, lalu memberikan dan menampilkan 5 rekomendasi buku yang paling mirip berdasarkan skor kemiripan, lengkap dengan detail seperti pengarang, rating, jumlah rating, dan tahun terbit jika tersedia."
      ],
      "metadata": {
        "id": "rVHCMDyAho2j"
      }
    },
    {
      "cell_type": "code",
      "source": [
        "judul_cari = 'Scion of Ikshvaku (RamChandra, #1)'\n",
        "print(f\"Ada judul '{judul_cari}' di data?\", judul_cari in books_clean['title'].values)\n",
        "\n",
        "print(\"Shape similarity_matrix:\", similarity_matrix.shape)\n",
        "\n",
        "idx = books_clean.index[books_clean['title'] == judul_cari][0]\n",
        "print(\"Tipe similarity_matrix[idx]:\", type(similarity_matrix[idx]))\n",
        "\n",
        "get_book_recommendations(judul_cari, n=5, show=True)"
      ],
      "metadata": {
        "colab": {
          "base_uri": "https://localhost:8080/",
          "height": 973
        },
        "id": "WkYPZvUKfCg-",
        "outputId": "08137e18-593c-49f9-a2c1-6ef5a4fedee3"
      },
      "execution_count": 73,
      "outputs": [
        {
          "output_type": "stream",
          "name": "stdout",
          "text": [
            "Ada judul 'Scion of Ikshvaku (RamChandra, #1)' di data? True\n",
            "Shape similarity_matrix: (10000, 10000)\n",
            "Tipe similarity_matrix[idx]: <class 'scipy.sparse._csr.csr_matrix'>\n",
            "\n",
            "CONTENT-BASED RECOMMENDATIONS FOR BOOK: 'Scion of Ikshvaku (RamChandra, #1)'\n",
            "======================================================================\n",
            "1. The Hungry Tide by Amitav Ghosh (Similarity: 1.000)\n",
            "   Average Rating: 0.61\n",
            "   Ratings Count: 0.001466323226949204\n",
            "   Publication Year: 0\n",
            "--------------------------------------------------\n",
            "2. The Virgin Cure by Ami McKay (Similarity: 1.000)\n",
            "   Average Rating: 0.54\n",
            "   Ratings Count: 0.001448114531438987\n",
            "   Publication Year: 0\n",
            "--------------------------------------------------\n",
            "3. Inescapable (The Premonition, #1) by Amy A. Bartol (Similarity: 1.000)\n",
            "   Average Rating: 0.67\n",
            "   Ratings Count: 0.004664146890174567\n",
            "   Publication Year: 0\n",
            "--------------------------------------------------\n",
            "4. Samarkand by Amin Maalouf, Russell Harris (Similarity: 1.000)\n",
            "   Average Rating: 0.74\n",
            "   Ratings Count: 0.0010221984927804616\n",
            "   Publication Year: 0\n",
            "--------------------------------------------------\n",
            "5. Diagnostic and Statistical Manual of Mental Disorders DSM-IV-TR by American Psychiatric Association (Similarity: 1.000)\n",
            "   Average Rating: 0.60\n",
            "   Ratings Count: 0.001548367004420527\n",
            "   Publication Year: 0\n",
            "--------------------------------------------------\n"
          ]
        },
        {
          "output_type": "execute_result",
          "data": {
            "text/plain": [
              "                                                  title  \\\n",
              "8014                                    The Hungry Tide   \n",
              "9969                                    The Virgin Cure   \n",
              "5222                  Inescapable (The Premonition, #1)   \n",
              "7326                                          Samarkand   \n",
              "8410  Diagnostic and Statistical Manual of Mental Di...   \n",
              "\n",
              "                               authors  Similarity_Score  average_rating  \\\n",
              "8014                      Amitav Ghosh          1.000000        0.612766   \n",
              "9969                         Ami McKay          0.999999        0.540426   \n",
              "5222                     Amy A. Bartol          0.999999        0.672340   \n",
              "7326      Amin Maalouf, Russell Harris          0.999999        0.736170   \n",
              "8410  American Psychiatric Association          0.999999        0.595745   \n",
              "\n",
              "      ratings_count  original_publication_year  \n",
              "8014       0.001466                   0.996549  \n",
              "9969       0.001448                   0.998407  \n",
              "5222       0.004664                   0.998938  \n",
              "7326       0.001022                   0.992302  \n",
              "8410       0.001548                   0.982745  "
            ],
            "text/html": [
              "\n",
              "  <div id=\"df-741c768c-d176-488e-8718-ed2452be6893\" class=\"colab-df-container\">\n",
              "    <div>\n",
              "<style scoped>\n",
              "    .dataframe tbody tr th:only-of-type {\n",
              "        vertical-align: middle;\n",
              "    }\n",
              "\n",
              "    .dataframe tbody tr th {\n",
              "        vertical-align: top;\n",
              "    }\n",
              "\n",
              "    .dataframe thead th {\n",
              "        text-align: right;\n",
              "    }\n",
              "</style>\n",
              "<table border=\"1\" class=\"dataframe\">\n",
              "  <thead>\n",
              "    <tr style=\"text-align: right;\">\n",
              "      <th></th>\n",
              "      <th>title</th>\n",
              "      <th>authors</th>\n",
              "      <th>Similarity_Score</th>\n",
              "      <th>average_rating</th>\n",
              "      <th>ratings_count</th>\n",
              "      <th>original_publication_year</th>\n",
              "    </tr>\n",
              "  </thead>\n",
              "  <tbody>\n",
              "    <tr>\n",
              "      <th>8014</th>\n",
              "      <td>The Hungry Tide</td>\n",
              "      <td>Amitav Ghosh</td>\n",
              "      <td>1.000000</td>\n",
              "      <td>0.612766</td>\n",
              "      <td>0.001466</td>\n",
              "      <td>0.996549</td>\n",
              "    </tr>\n",
              "    <tr>\n",
              "      <th>9969</th>\n",
              "      <td>The Virgin Cure</td>\n",
              "      <td>Ami McKay</td>\n",
              "      <td>0.999999</td>\n",
              "      <td>0.540426</td>\n",
              "      <td>0.001448</td>\n",
              "      <td>0.998407</td>\n",
              "    </tr>\n",
              "    <tr>\n",
              "      <th>5222</th>\n",
              "      <td>Inescapable (The Premonition, #1)</td>\n",
              "      <td>Amy A. Bartol</td>\n",
              "      <td>0.999999</td>\n",
              "      <td>0.672340</td>\n",
              "      <td>0.004664</td>\n",
              "      <td>0.998938</td>\n",
              "    </tr>\n",
              "    <tr>\n",
              "      <th>7326</th>\n",
              "      <td>Samarkand</td>\n",
              "      <td>Amin Maalouf, Russell Harris</td>\n",
              "      <td>0.999999</td>\n",
              "      <td>0.736170</td>\n",
              "      <td>0.001022</td>\n",
              "      <td>0.992302</td>\n",
              "    </tr>\n",
              "    <tr>\n",
              "      <th>8410</th>\n",
              "      <td>Diagnostic and Statistical Manual of Mental Di...</td>\n",
              "      <td>American Psychiatric Association</td>\n",
              "      <td>0.999999</td>\n",
              "      <td>0.595745</td>\n",
              "      <td>0.001548</td>\n",
              "      <td>0.982745</td>\n",
              "    </tr>\n",
              "  </tbody>\n",
              "</table>\n",
              "</div>\n",
              "    <div class=\"colab-df-buttons\">\n",
              "\n",
              "  <div class=\"colab-df-container\">\n",
              "    <button class=\"colab-df-convert\" onclick=\"convertToInteractive('df-741c768c-d176-488e-8718-ed2452be6893')\"\n",
              "            title=\"Convert this dataframe to an interactive table.\"\n",
              "            style=\"display:none;\">\n",
              "\n",
              "  <svg xmlns=\"http://www.w3.org/2000/svg\" height=\"24px\" viewBox=\"0 -960 960 960\">\n",
              "    <path d=\"M120-120v-720h720v720H120Zm60-500h600v-160H180v160Zm220 220h160v-160H400v160Zm0 220h160v-160H400v160ZM180-400h160v-160H180v160Zm440 0h160v-160H620v160ZM180-180h160v-160H180v160Zm440 0h160v-160H620v160Z\"/>\n",
              "  </svg>\n",
              "    </button>\n",
              "\n",
              "  <style>\n",
              "    .colab-df-container {\n",
              "      display:flex;\n",
              "      gap: 12px;\n",
              "    }\n",
              "\n",
              "    .colab-df-convert {\n",
              "      background-color: #E8F0FE;\n",
              "      border: none;\n",
              "      border-radius: 50%;\n",
              "      cursor: pointer;\n",
              "      display: none;\n",
              "      fill: #1967D2;\n",
              "      height: 32px;\n",
              "      padding: 0 0 0 0;\n",
              "      width: 32px;\n",
              "    }\n",
              "\n",
              "    .colab-df-convert:hover {\n",
              "      background-color: #E2EBFA;\n",
              "      box-shadow: 0px 1px 2px rgba(60, 64, 67, 0.3), 0px 1px 3px 1px rgba(60, 64, 67, 0.15);\n",
              "      fill: #174EA6;\n",
              "    }\n",
              "\n",
              "    .colab-df-buttons div {\n",
              "      margin-bottom: 4px;\n",
              "    }\n",
              "\n",
              "    [theme=dark] .colab-df-convert {\n",
              "      background-color: #3B4455;\n",
              "      fill: #D2E3FC;\n",
              "    }\n",
              "\n",
              "    [theme=dark] .colab-df-convert:hover {\n",
              "      background-color: #434B5C;\n",
              "      box-shadow: 0px 1px 3px 1px rgba(0, 0, 0, 0.15);\n",
              "      filter: drop-shadow(0px 1px 2px rgba(0, 0, 0, 0.3));\n",
              "      fill: #FFFFFF;\n",
              "    }\n",
              "  </style>\n",
              "\n",
              "    <script>\n",
              "      const buttonEl =\n",
              "        document.querySelector('#df-741c768c-d176-488e-8718-ed2452be6893 button.colab-df-convert');\n",
              "      buttonEl.style.display =\n",
              "        google.colab.kernel.accessAllowed ? 'block' : 'none';\n",
              "\n",
              "      async function convertToInteractive(key) {\n",
              "        const element = document.querySelector('#df-741c768c-d176-488e-8718-ed2452be6893');\n",
              "        const dataTable =\n",
              "          await google.colab.kernel.invokeFunction('convertToInteractive',\n",
              "                                                    [key], {});\n",
              "        if (!dataTable) return;\n",
              "\n",
              "        const docLinkHtml = 'Like what you see? Visit the ' +\n",
              "          '<a target=\"_blank\" href=https://colab.research.google.com/notebooks/data_table.ipynb>data table notebook</a>'\n",
              "          + ' to learn more about interactive tables.';\n",
              "        element.innerHTML = '';\n",
              "        dataTable['output_type'] = 'display_data';\n",
              "        await google.colab.output.renderOutput(dataTable, element);\n",
              "        const docLink = document.createElement('div');\n",
              "        docLink.innerHTML = docLinkHtml;\n",
              "        element.appendChild(docLink);\n",
              "      }\n",
              "    </script>\n",
              "  </div>\n",
              "\n",
              "\n",
              "    <div id=\"df-11fabc1d-9c6e-49c7-bb96-71c99c10ba52\">\n",
              "      <button class=\"colab-df-quickchart\" onclick=\"quickchart('df-11fabc1d-9c6e-49c7-bb96-71c99c10ba52')\"\n",
              "                title=\"Suggest charts\"\n",
              "                style=\"display:none;\">\n",
              "\n",
              "<svg xmlns=\"http://www.w3.org/2000/svg\" height=\"24px\"viewBox=\"0 0 24 24\"\n",
              "     width=\"24px\">\n",
              "    <g>\n",
              "        <path d=\"M19 3H5c-1.1 0-2 .9-2 2v14c0 1.1.9 2 2 2h14c1.1 0 2-.9 2-2V5c0-1.1-.9-2-2-2zM9 17H7v-7h2v7zm4 0h-2V7h2v10zm4 0h-2v-4h2v4z\"/>\n",
              "    </g>\n",
              "</svg>\n",
              "      </button>\n",
              "\n",
              "<style>\n",
              "  .colab-df-quickchart {\n",
              "      --bg-color: #E8F0FE;\n",
              "      --fill-color: #1967D2;\n",
              "      --hover-bg-color: #E2EBFA;\n",
              "      --hover-fill-color: #174EA6;\n",
              "      --disabled-fill-color: #AAA;\n",
              "      --disabled-bg-color: #DDD;\n",
              "  }\n",
              "\n",
              "  [theme=dark] .colab-df-quickchart {\n",
              "      --bg-color: #3B4455;\n",
              "      --fill-color: #D2E3FC;\n",
              "      --hover-bg-color: #434B5C;\n",
              "      --hover-fill-color: #FFFFFF;\n",
              "      --disabled-bg-color: #3B4455;\n",
              "      --disabled-fill-color: #666;\n",
              "  }\n",
              "\n",
              "  .colab-df-quickchart {\n",
              "    background-color: var(--bg-color);\n",
              "    border: none;\n",
              "    border-radius: 50%;\n",
              "    cursor: pointer;\n",
              "    display: none;\n",
              "    fill: var(--fill-color);\n",
              "    height: 32px;\n",
              "    padding: 0;\n",
              "    width: 32px;\n",
              "  }\n",
              "\n",
              "  .colab-df-quickchart:hover {\n",
              "    background-color: var(--hover-bg-color);\n",
              "    box-shadow: 0 1px 2px rgba(60, 64, 67, 0.3), 0 1px 3px 1px rgba(60, 64, 67, 0.15);\n",
              "    fill: var(--button-hover-fill-color);\n",
              "  }\n",
              "\n",
              "  .colab-df-quickchart-complete:disabled,\n",
              "  .colab-df-quickchart-complete:disabled:hover {\n",
              "    background-color: var(--disabled-bg-color);\n",
              "    fill: var(--disabled-fill-color);\n",
              "    box-shadow: none;\n",
              "  }\n",
              "\n",
              "  .colab-df-spinner {\n",
              "    border: 2px solid var(--fill-color);\n",
              "    border-color: transparent;\n",
              "    border-bottom-color: var(--fill-color);\n",
              "    animation:\n",
              "      spin 1s steps(1) infinite;\n",
              "  }\n",
              "\n",
              "  @keyframes spin {\n",
              "    0% {\n",
              "      border-color: transparent;\n",
              "      border-bottom-color: var(--fill-color);\n",
              "      border-left-color: var(--fill-color);\n",
              "    }\n",
              "    20% {\n",
              "      border-color: transparent;\n",
              "      border-left-color: var(--fill-color);\n",
              "      border-top-color: var(--fill-color);\n",
              "    }\n",
              "    30% {\n",
              "      border-color: transparent;\n",
              "      border-left-color: var(--fill-color);\n",
              "      border-top-color: var(--fill-color);\n",
              "      border-right-color: var(--fill-color);\n",
              "    }\n",
              "    40% {\n",
              "      border-color: transparent;\n",
              "      border-right-color: var(--fill-color);\n",
              "      border-top-color: var(--fill-color);\n",
              "    }\n",
              "    60% {\n",
              "      border-color: transparent;\n",
              "      border-right-color: var(--fill-color);\n",
              "    }\n",
              "    80% {\n",
              "      border-color: transparent;\n",
              "      border-right-color: var(--fill-color);\n",
              "      border-bottom-color: var(--fill-color);\n",
              "    }\n",
              "    90% {\n",
              "      border-color: transparent;\n",
              "      border-bottom-color: var(--fill-color);\n",
              "    }\n",
              "  }\n",
              "</style>\n",
              "\n",
              "      <script>\n",
              "        async function quickchart(key) {\n",
              "          const quickchartButtonEl =\n",
              "            document.querySelector('#' + key + ' button');\n",
              "          quickchartButtonEl.disabled = true;  // To prevent multiple clicks.\n",
              "          quickchartButtonEl.classList.add('colab-df-spinner');\n",
              "          try {\n",
              "            const charts = await google.colab.kernel.invokeFunction(\n",
              "                'suggestCharts', [key], {});\n",
              "          } catch (error) {\n",
              "            console.error('Error during call to suggestCharts:', error);\n",
              "          }\n",
              "          quickchartButtonEl.classList.remove('colab-df-spinner');\n",
              "          quickchartButtonEl.classList.add('colab-df-quickchart-complete');\n",
              "        }\n",
              "        (() => {\n",
              "          let quickchartButtonEl =\n",
              "            document.querySelector('#df-11fabc1d-9c6e-49c7-bb96-71c99c10ba52 button');\n",
              "          quickchartButtonEl.style.display =\n",
              "            google.colab.kernel.accessAllowed ? 'block' : 'none';\n",
              "        })();\n",
              "      </script>\n",
              "    </div>\n",
              "\n",
              "    </div>\n",
              "  </div>\n"
            ],
            "application/vnd.google.colaboratory.intrinsic+json": {
              "type": "dataframe",
              "summary": "{\n  \"name\": \"get_book_recommendations(judul_cari, n=5, show=True)\",\n  \"rows\": 5,\n  \"fields\": [\n    {\n      \"column\": \"title\",\n      \"properties\": {\n        \"dtype\": \"string\",\n        \"num_unique_values\": 5,\n        \"samples\": [\n          \"The Virgin Cure\",\n          \"Diagnostic and Statistical Manual of Mental Disorders DSM-IV-TR\",\n          \"Inescapable (The Premonition, #1)\"\n        ],\n        \"semantic_type\": \"\",\n        \"description\": \"\"\n      }\n    },\n    {\n      \"column\": \"authors\",\n      \"properties\": {\n        \"dtype\": \"string\",\n        \"num_unique_values\": 5,\n        \"samples\": [\n          \"Ami McKay\",\n          \"American Psychiatric Association\",\n          \"Amy A. Bartol\"\n        ],\n        \"semantic_type\": \"\",\n        \"description\": \"\"\n      }\n    },\n    {\n      \"column\": \"Similarity_Score\",\n      \"properties\": {\n        \"dtype\": \"number\",\n        \"std\": 2.8153474596923615e-07,\n        \"min\": 0.9999991378994901,\n        \"max\": 0.9999998511170124,\n        \"num_unique_values\": 5,\n        \"samples\": [\n          0.9999994814240137,\n          0.9999991378994901,\n          0.999999406697836\n        ],\n        \"semantic_type\": \"\",\n        \"description\": \"\"\n      }\n    },\n    {\n      \"column\": \"average_rating\",\n      \"properties\": {\n        \"dtype\": \"number\",\n        \"std\": 0.0750795564169167,\n        \"min\": 0.5404255319148936,\n        \"max\": 0.7361702127659575,\n        \"num_unique_values\": 5,\n        \"samples\": [\n          0.5404255319148936,\n          0.5957446808510638,\n          0.6723404255319148\n        ],\n        \"semantic_type\": \"\",\n        \"description\": \"\"\n      }\n    },\n    {\n      \"column\": \"ratings_count\",\n      \"properties\": {\n        \"dtype\": \"number\",\n        \"std\": 0.0014868327173853616,\n        \"min\": 0.0010221984927804616,\n        \"max\": 0.004664146890174567,\n        \"num_unique_values\": 5,\n        \"samples\": [\n          0.001448114531438987,\n          0.001548367004420527,\n          0.004664146890174567\n        ],\n        \"semantic_type\": \"\",\n        \"description\": \"\"\n      }\n    },\n    {\n      \"column\": \"original_publication_year\",\n      \"properties\": {\n        \"dtype\": \"number\",\n        \"std\": 0.006701566616684411,\n        \"min\": 0.9827448898327582,\n        \"max\": 0.9989381470666314,\n        \"num_unique_values\": 5,\n        \"samples\": [\n          0.998407220599947,\n          0.9827448898327582,\n          0.9989381470666314\n        ],\n        \"semantic_type\": \"\",\n        \"description\": \"\"\n      }\n    }\n  ]\n}"
            }
          },
          "metadata": {},
          "execution_count": 73
        }
      ]
    },
    {
      "cell_type": "markdown",
      "source": [
        "Mengukur seberapa baik sistem rekomendasi content-based dalam memberikan rekomendasi yang relevan berdasarkan penulis buku. Dengan mengambil sampel acak dari data buku, fungsi ini menghasilkan rekomendasi untuk setiap buku sampel dan menghitung Precision@k, yaitu proporsi rekomendasi yang memiliki penulis sama dengan buku yang dicari. Hasil evaluasi berupa rata-rata Precision@k dari seluruh sampel, yang menunjukkan tingkat akurasi sistem rekomendasi pada data tersebut."
      ],
      "metadata": {
        "id": "XP_2Uu3EiHds"
      }
    },
    {
      "cell_type": "code",
      "source": [
        "def evaluate_content_based_precision_at_k(k=5, sample_size=30):\n",
        "    print(f\"Evaluating Content-Based Filtering dengan Precision@{k}\")\n",
        "\n",
        "    if 'books_clean' not in globals():\n",
        "        print(\"Dataframe 'books_clean' tidak ditemukan.\")\n",
        "        return None\n",
        "\n",
        "    current_sample_size = min(sample_size, len(books_clean))\n",
        "    if current_sample_size == 0:\n",
        "        print(\"Tidak ada buku untuk dievaluasi.\")\n",
        "        return None\n",
        "\n",
        "    sample_books = books_clean.sample(current_sample_size, random_state=42)\n",
        "    precisions = []\n",
        "\n",
        "    for _, book_row in sample_books.iterrows():\n",
        "        book_title = book_row['title']\n",
        "        book_author = book_row['authors']\n",
        "\n",
        "        recommendations = get_book_recommendations(book_title, n=k, show=False)\n",
        "        if recommendations is not None and not recommendations.empty:\n",
        "\n",
        "            relevant_items = sum(recommendations['authors'] == book_author)\n",
        "            precision = relevant_items / k\n",
        "            precisions.append(precision)\n",
        "\n",
        "    if precisions:\n",
        "        avg_precision = np.mean(precisions)\n",
        "        print(f\"Average Precision@{k}: {avg_precision:.4f}\")\n",
        "        print(f\"Evaluated on {len(precisions)} samples\")\n",
        "        print(f\"Precision range: {min(precisions):.4f} - {max(precisions):.4f}\")\n",
        "        return avg_precision\n",
        "    else:\n",
        "        print(\"Could not evaluate Precision@K\")\n",
        "        return None"
      ],
      "metadata": {
        "id": "iF7wNfZe73Sx"
      },
      "execution_count": 74,
      "outputs": []
    },
    {
      "cell_type": "markdown",
      "source": [
        "# EVALUATION\n"
      ],
      "metadata": {
        "id": "WQe0Zb7SDYnB"
      }
    },
    {
      "cell_type": "markdown",
      "source": [
        "Untuk evaluasi pada bagian content-based dengan menggunakan Metrik Precision@"
      ],
      "metadata": {
        "id": "r3afNVMAi4CU"
      }
    },
    {
      "cell_type": "code",
      "source": [
        "cbf_precision = evaluate_content_based_precision_at_k(k=5, sample_size=30)\n",
        "print(f\"Precision@5 dari content-based filtering: {cbf_precision}\")"
      ],
      "metadata": {
        "colab": {
          "base_uri": "https://localhost:8080/"
        },
        "id": "uomm6ZwFAg6R",
        "outputId": "3938892d-c4cb-4b9b-da21-6f16114a893f"
      },
      "execution_count": 77,
      "outputs": [
        {
          "output_type": "stream",
          "name": "stdout",
          "text": [
            "Evaluating Content-Based Filtering dengan Precision@5\n",
            "Average Precision@5: 0.2333\n",
            "Evaluated on 30 samples\n",
            "Precision range: 0.0000 - 1.0000\n",
            "Precision@5 dari content-based filtering: 0.23333333333333334\n"
          ]
        }
      ]
    },
    {
      "cell_type": "code",
      "source": [],
      "metadata": {
        "id": "ProlGZrlNkCh"
      },
      "execution_count": 51,
      "outputs": []
    }
  ]
}